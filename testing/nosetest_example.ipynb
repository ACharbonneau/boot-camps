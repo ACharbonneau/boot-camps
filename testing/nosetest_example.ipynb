{
 "metadata": {
  "name": "nosetest_example"
 },
 "nbformat": 3,
 "nbformat_minor": 0,
 "worksheets": [
  {
   "cells": [
    {
     "cell_type": "markdown",
     "metadata": {},
     "source": [
      "Testing in Python with Nose\n",
      "===========================\n",
      "\n",
      "Prepared by Alex Viana  \n",
      "GitHub: acviana  \n",
      "Twitter: AlexVianaPro  "
     ]
    },
    {
     "cell_type": "markdown",
     "metadata": {},
     "source": [
      "Set up\n",
      "------"
     ]
    },
    {
     "cell_type": "markdown",
     "metadata": {},
     "source": [
      "This notebook makes uses of an IPython extention (\"a %magic\") that allows you to run the `nosetests` command line utility from within the IPython notebook in order to introduce basic testing concepts. In practice you will want to run nosetests from the command line and write both your code and test in seperate Python modules using a text editor.  \n",
      "\n",
      "To enable nosetests in the IPython notebook for the purposes of this lesson you wil need to exit do the following:\n",
      "\n",
      "1. Open a shell terminal and `cd` into the directory this notebook is in.\n",
      "2. Run: `git clone https://github.com/taavi/ipython_nose.git` . This clones a git repository from GitHub containing the code we need to run nosestest within the IPython notebook.\n",
      "3. Start the IPython notebook by running `ipython notebook --pylab=inline` and select this notebook.\n",
      "\n",
      "Then execute the nest two cells. The first one cd's into the subdirectory of the git repository we just cloned. The second one loads the ipython_nose extention."
     ]
    },
    {
     "cell_type": "code",
     "collapsed": false,
     "input": [
      "%cd ipython_nose/"
     ],
     "language": "python",
     "metadata": {},
     "outputs": [
      {
       "output_type": "stream",
       "stream": "stdout",
       "text": [
        "/home/acv/Projects/swc/notebooks/ipython_nose\n"
       ]
      }
     ],
     "prompt_number": 1
    },
    {
     "cell_type": "code",
     "collapsed": false,
     "input": [
      "%load_ext ipython_nose"
     ],
     "language": "python",
     "metadata": {},
     "outputs": [],
     "prompt_number": 2
    },
    {
     "cell_type": "markdown",
     "metadata": {},
     "source": [
      "Now you should be all set to go!"
     ]
    },
    {
     "cell_type": "markdown",
     "metadata": {},
     "source": [
      "FizzBuzz\n",
      "--------\n",
      "\n",
      "Today we are going to create a function that solves a classic programming test called \"fizzbuzz\". The fizzbuzz function should have the following behavior. \n",
      "\n",
      "1. When given an integer divisible by 3, return \"fizz\"\n",
      "2. When given an integer divisible by 5, return \"buzz\"\n",
      "3. When given an integer divisible by both 3and 5, return \"fizzbuzz\"\n",
      "4. For all other integers, return the integer.\n",
      "\n",
      "Not too hard right? Even if you're not totally sure how to impliment the Python the math should make sense to you. Muliples of 3 return \"fizz\", multiples of 5 return \"buzz\", and multiples of 15 return \"fizzbuzz\". Everything else just gets returned."
     ]
    },
    {
     "cell_type": "markdown",
     "metadata": {},
     "source": [
      "Test-Driven Development\n",
      "-----------------------\n",
      "\n",
      "Your first inclination is probably to start right coding our fizzbuzz function right away! For such a simple function that can be tempting but the goal of this lesson isn't to teach you to write fizzbuzz, it's to teach you to test fizzbuzz. So your first step is just to creat a placeholder for fizzbuzz like this:"
     ]
    },
    {
     "cell_type": "code",
     "collapsed": false,
     "input": [
      "def fizzbuzz(x):\n",
      "    '''\n",
      "    My solution \n",
      "    '''\n",
      "    pass"
     ],
     "language": "python",
     "metadata": {},
     "outputs": [],
     "prompt_number": 1
    },
    {
     "cell_type": "markdown",
     "metadata": {},
     "source": [
      "Our first step isn't to create the function but rather write a series of tests that define the normal behavoir for our function. This way, we can seperate the problem of writing our code and checking if it works. This process of creating a test first and then writing code that meets the conditions of the test is called \"Test-Driven Develoment\""
     ]
    },
    {
     "cell_type": "markdown",
     "metadata": {},
     "source": [
      "The Python `assert` Statement\n",
      "-----------------------------\n",
      "\n",
      "Our tests are going to make use of a built-in Python function called `assert`. `assert` asserts that a given condition is true. If it is the code proceeds onto the next statement. If it's not it halts with a special kind of error called an `AssertError` followed by a little message. Here are some examples. Run them and see what happens."
     ]
    },
    {
     "cell_type": "code",
     "collapsed": false,
     "input": [
      "assert 1 == 1, 'This should be fine.'"
     ],
     "language": "python",
     "metadata": {},
     "outputs": [],
     "prompt_number": 2
    },
    {
     "cell_type": "code",
     "collapsed": false,
     "input": [
      "assert 1 == 2, \"1 isn't the same as 2! Are you nuts?!?\""
     ],
     "language": "python",
     "metadata": {},
     "outputs": [
      {
       "ename": "AssertionError",
       "evalue": "1 isn't the same as 2! Are you nuts?!?",
       "output_type": "pyerr",
       "traceback": [
        "\u001b[1;31m---------------------------------------------------------------------------\u001b[0m\n\u001b[1;31mAssertionError\u001b[0m                            Traceback (most recent call last)",
        "\u001b[1;32m<ipython-input-3-b0784e0b265b>\u001b[0m in \u001b[0;36m<module>\u001b[1;34m()\u001b[0m\n\u001b[1;32m----> 1\u001b[1;33m \u001b[1;32massert\u001b[0m \u001b[1;36m1\u001b[0m \u001b[1;33m==\u001b[0m \u001b[1;36m2\u001b[0m\u001b[1;33m,\u001b[0m \u001b[1;34m\"1 isn't the same as 2! Are you nuts?!?\"\u001b[0m\u001b[1;33m\u001b[0m\u001b[0m\n\u001b[0m",
        "\u001b[1;31mAssertionError\u001b[0m: 1 isn't the same as 2! Are you nuts?!?"
       ]
      }
     ],
     "prompt_number": 3
    },
    {
     "cell_type": "code",
     "collapsed": false,
     "input": [
      "names = ['john', 'jack', 'jill', 'sally']\n",
      "for name in names:\n",
      "    assert name[0] == 'j', name + ' does not being with \"j\".'"
     ],
     "language": "python",
     "metadata": {},
     "outputs": [
      {
       "ename": "AssertionError",
       "evalue": "sally does not being with \"j\".",
       "output_type": "pyerr",
       "traceback": [
        "\u001b[1;31m---------------------------------------------------------------------------\u001b[0m\n\u001b[1;31mAssertionError\u001b[0m                            Traceback (most recent call last)",
        "\u001b[1;32m<ipython-input-7-239a121608ab>\u001b[0m in \u001b[0;36m<module>\u001b[1;34m()\u001b[0m\n\u001b[0;32m      1\u001b[0m \u001b[0mnames\u001b[0m \u001b[1;33m=\u001b[0m \u001b[1;33m[\u001b[0m\u001b[1;34m'john'\u001b[0m\u001b[1;33m,\u001b[0m \u001b[1;34m'jack'\u001b[0m\u001b[1;33m,\u001b[0m \u001b[1;34m'jill'\u001b[0m\u001b[1;33m,\u001b[0m \u001b[1;34m'sally'\u001b[0m\u001b[1;33m]\u001b[0m\u001b[1;33m\u001b[0m\u001b[0m\n\u001b[0;32m      2\u001b[0m \u001b[1;32mfor\u001b[0m \u001b[0mname\u001b[0m \u001b[1;32min\u001b[0m \u001b[0mnames\u001b[0m\u001b[1;33m:\u001b[0m\u001b[1;33m\u001b[0m\u001b[0m\n\u001b[1;32m----> 3\u001b[1;33m     \u001b[1;32massert\u001b[0m \u001b[0mname\u001b[0m\u001b[1;33m[\u001b[0m\u001b[1;36m0\u001b[0m\u001b[1;33m]\u001b[0m \u001b[1;33m==\u001b[0m \u001b[1;34m'j'\u001b[0m\u001b[1;33m,\u001b[0m \u001b[0mname\u001b[0m \u001b[1;33m+\u001b[0m \u001b[1;34m' does not being with \"j\".'\u001b[0m\u001b[1;33m\u001b[0m\u001b[0m\n\u001b[0m",
        "\u001b[1;31mAssertionError\u001b[0m: sally does not being with \"j\"."
       ]
      }
     ],
     "prompt_number": 7
    },
    {
     "cell_type": "markdown",
     "metadata": {},
     "source": [
      "Building Tests with `assert`\n",
      "----------------------------\n",
      "\n",
      "Ok, so let's take this one step further. `assert` statments are going to be central to our tests but we are going to have to wrap them up in functions and then have nose collect them and execute them. Let's write our first test function. "
     ]
    },
    {
     "cell_type": "code",
     "collapsed": false,
     "input": [
      "def test_fizzbuzz_3():\n",
      "    '''\n",
      "    Tests the fizzbuzz function against a case where the integer is divible by 3.\n",
      "    '''\n",
      "    output = FizzBuzz(3)\n",
      "    assert output == \"fizz\", \"Expected fizz, didn't get it.\""
     ],
     "language": "python",
     "metadata": {},
     "outputs": []
    },
    {
     "cell_type": "markdown",
     "metadata": {},
     "source": [
      "Let's step through this line-by-line. The function name starst with \"test\" because nosetests is going to look for function that being with variations of the word test (it does this using regular expressions). The underscore three at the end of the function name reminds me I'm testing against numbers divisible by three. \n",
      "\n",
      "Next, we actually call our function `fizbuzz`. This might seem strange, we're calling a function we haven't even written yet! But we don't have to have the written the code for _how_ the function is goingto do something to know _how_ we want our function to behave. So all we are doing is explicately and precisely defining the behavior of our fizzbuzz function.  \n",
      "\n",
      "It this case want it to take an integer as an arguemtn (in this case 3), and return something that we catch as the variable `output`. Finally, using our new tool the `assert` statement we test to make sure the variable `fizzbuzz` returned when given \"3\" as an arguemnt is the one we want, namely the string \"fizz\".  \n",
      "\n",
      "Take some time to think about this and once it makes sense write 2 more tests that will test for the 5 and 15. "
     ]
    },
    {
     "cell_type": "code",
     "collapsed": false,
     "input": [
      "#Define your functions here"
     ],
     "language": "python",
     "metadata": {},
     "outputs": [],
     "prompt_number": 8
    },
    {
     "cell_type": "markdown",
     "metadata": {},
     "source": [
      "Runinng Our Tests\n",
      "-----------------\n",
      "\n",
      "There are lots of ways you can define your functions to still test the same properties. Here is what I got."
     ]
    },
    {
     "cell_type": "code",
     "collapsed": false,
     "input": [
      "def test_FizzBuzz_3():\n",
      "    output = FizzBuzz(3)\n",
      "    assert output == \"fizz\", \"Expected fizz, didn't get it.\"\n",
      "    \n",
      "def test_FizzBuzz_5():\n",
      "    output = FizzBuzz(5)\n",
      "    assert output == \"buzz\", \"Expected buzz, didn't get it.\"\n",
      "    \n",
      "def test_FizzBuzz_5_3():\n",
      "    output = FizzBuzz(15)\n",
      "    assert output == \"fizzbuzz\", \"Expected fizzbuzz, didn't get it.\"\n",
      "\n",
      "def test_FizzBuzz_str():\n",
      "    output = FizzBuzz('herp derp')\n",
      "    assert output==\"gimme an int\", \"Expected a nice exception\"\n",
      "    \n",
      "print [FizzBuzz(x) for x in range(20)]\n"
     ],
     "language": "python",
     "metadata": {},
     "outputs": [
      {
       "output_type": "stream",
       "stream": "stdout",
       "text": [
        "['fizzbuzz', 1, 2, 'fizz', 4, 'buzz', 'fizz', 7, 8, 'fizz', 'buzz', 11, 'fizz', 13, 14, 'fizzbuzz', 16, 17, 'fizz', 19]\n"
       ]
      }
     ],
     "prompt_number": 34
    },
    {
     "cell_type": "markdown",
     "metadata": {},
     "source": [
      "OK, with all our tests writte we are now ready to run our fist set of test! Execute the code below to run our tests using the IPython magic `%nose` function we downloaded with our git command. Think about what you might expect to happen."
     ]
    },
    {
     "cell_type": "code",
     "collapsed": false,
     "input": [
      "%nose"
     ],
     "language": "python",
     "metadata": {},
     "outputs": [
      {
       "output_type": "stream",
       "stream": "stderr",
       "text": [
        "ERROR: Line magic function `%nose` not found."
       ]
      }
     ],
     "prompt_number": 9
    },
    {
     "cell_type": "markdown",
     "metadata": {},
     "source": [
      "Congradulations, you failed! But failure is what we want. We haven't written `fizzbuzz` yet, so if our empty function passed our test we haven't written a very useful set of tests. But since we wrote quality tests we can now proceed to write our code with confidence. If someone asks us how we know our code works we can tell them exactly why and prove it! "
     ]
    },
    {
     "cell_type": "markdown",
     "metadata": {},
     "source": [
      "Writing `fizzbuzz`\n",
      "------------------\n",
      "\n",
      "So go ahead and try to write `fizzbuzz`. Hint, if you haven't heard for the modulo divion operator in Python (`%`), you might find it useful. "
     ]
    },
    {
     "cell_type": "code",
     "collapsed": false,
     "input": [
      "#Define your code here."
     ],
     "language": "python",
     "metadata": {},
     "outputs": [],
     "prompt_number": 10
    },
    {
     "cell_type": "markdown",
     "metadata": {},
     "source": [
      "How did you do? Better yet, don't tell me, scroll back up and run `%nose` youself and see how you did. If you passed all the tests you're done. If not, look at the messages our handy `assert` statements gave us and figure out what needs to be changd. Here is what I got:"
     ]
    },
    {
     "cell_type": "code",
     "collapsed": false,
     "input": [
      "def FizzBuzz(x):\n",
      "    assert type(x) == int, \"gimmie an int!\"\n",
      "    if x % 15 == 0:\n",
      "        return \"fizzbuzz\"\n",
      "    if x % 3 == 0:\n",
      "        return \"fizz\"\n",
      "    if x % 5 == 0:\n",
      "        return \"buzz\"\n",
      "    return x"
     ],
     "language": "python",
     "metadata": {},
     "outputs": [],
     "prompt_number": 30
    },
    {
     "cell_type": "markdown",
     "metadata": {},
     "source": [
      "One More Thing\n",
      "--------------\n",
      "\n",
      "Cool, we wrote `fizzbuzz` nice job. You can now pass one of the most common basic programming tests and you can say you know a little but about TDD. But let's just try one more thing before we're done. Execute the next cell and see what happens."
     ]
    },
    {
     "cell_type": "code",
     "collapsed": false,
     "input": [
      "FizzBuzz('fail!')"
     ],
     "language": "python",
     "metadata": {},
     "outputs": [
      {
       "ename": "NameError",
       "evalue": "name 'FizzBuzz' is not defined",
       "output_type": "pyerr",
       "traceback": [
        "\u001b[1;31m---------------------------------------------------------------------------\u001b[0m\n\u001b[1;31mNameError\u001b[0m                                 Traceback (most recent call last)",
        "\u001b[1;32m<ipython-input-11-3d3c24d5d6fb>\u001b[0m in \u001b[0;36m<module>\u001b[1;34m()\u001b[0m\n\u001b[1;32m----> 1\u001b[1;33m \u001b[0mFizzBuzz\u001b[0m\u001b[1;33m(\u001b[0m\u001b[1;34m'fail!'\u001b[0m\u001b[1;33m)\u001b[0m\u001b[1;33m\u001b[0m\u001b[0m\n\u001b[0m",
        "\u001b[1;31mNameError\u001b[0m: name 'FizzBuzz' is not defined"
       ]
      }
     ],
     "prompt_number": 11
    },
    {
     "cell_type": "markdown",
     "metadata": {},
     "source": [
      "What! Inconceivable! How is this possible? What about all our glorious tests? "
     ]
    }
   ],
   "metadata": {}
  }
 ]
}