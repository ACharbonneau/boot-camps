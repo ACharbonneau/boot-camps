{
 "metadata": {
  "name": "git-for-scientists"
 },
 "nbformat": 3,
 "nbformat_minor": 0,
 "worksheets": [
  {
   "cells": [
    {
     "cell_type": "markdown",
     "metadata": {
      "slideshow": {
       "slide_type": "skip"
      }
     },
     "source": [
      "With help from Fernando Perez, Karthik Ram, Matthew Brett and illustrations from Scott Chacon's pro-git book"
     ]
    },
    {
     "cell_type": "markdown",
     "metadata": {
      "slideshow": {
       "slide_type": "slide"
      }
     },
     "source": [
      "# Git for scientists "
     ]
    },
    {
     "cell_type": "markdown",
     "metadata": {
      "slideshow": {
       "slide_type": "slide"
      }
     },
     "source": [
      "## Who uses a version control system?"
     ]
    },
    {
     "cell_type": "markdown",
     "metadata": {
      "slideshow": {
       "slide_type": "fragment"
      }
     },
     "source": [
      "## We all do"
     ]
    },
    {
     "cell_type": "markdown",
     "metadata": {
      "slideshow": {
       "slide_type": "slide"
      }
     },
     "source": [
      "<img src=\"https://raw.github.com/karthikram/git_intro/master/img/vcs_for_science.png\" width=\"50%\">"
     ]
    },
    {
     "cell_type": "markdown",
     "metadata": {
      "slideshow": {
       "slide_type": "slide"
      }
     },
     "source": [
      "### Using a proper version control system promotes: \n"
     ]
    },
    {
     "cell_type": "markdown",
     "metadata": {
      "slideshow": {
       "slide_type": "fragment"
      }
     },
     "source": [
      "- Reproducibility : logging of every step"
     ]
    },
    {
     "cell_type": "markdown",
     "metadata": {
      "slideshow": {
       "slide_type": "fragment"
      }
     },
     "source": [
      "- Peace of mind : a robust backup system \n"
     ]
    },
    {
     "cell_type": "markdown",
     "metadata": {
      "slideshow": {
       "slide_type": "fragment"
      }
     },
     "source": [
      "- Flexibility : zero-cost branching\n"
     ]
    },
    {
     "cell_type": "markdown",
     "metadata": {
      "slideshow": {
       "slide_type": "fragment"
      }
     },
     "source": [
      "- Collaboration : synchronization across multiple computers/people"
     ]
    },
    {
     "cell_type": "markdown",
     "metadata": {
      "slideshow": {
       "slide_type": "slide"
      }
     },
     "source": [
      "## This is preferable to a system like Dropbox, because it gives you fine-grained control over *what* and *when* you want to version "
     ]
    },
    {
     "cell_type": "markdown",
     "metadata": {
      "slideshow": {
       "slide_type": "slide"
      }
     },
     "source": [
      "<img src=\"http://git-scm.com/figures/18333fig0105-tn.png\" width=\"50%\">"
     ]
    },
    {
     "cell_type": "markdown",
     "metadata": {
      "slideshow": {
       "slide_type": "slide"
      }
     },
     "source": [
      "### You can use version control for:"
     ]
    },
    {
     "cell_type": "markdown",
     "metadata": {
      "slideshow": {
       "slide_type": "fragment"
      }
     },
     "source": [
      "- Documents: papers/grants"
     ]
    },
    {
     "cell_type": "markdown",
     "metadata": {
      "slideshow": {
       "slide_type": "fragment"
      }
     },
     "source": [
      "- Analysis code "
     ]
    },
    {
     "cell_type": "markdown",
     "metadata": {
      "slideshow": {
       "slide_type": "fragment"
      }
     },
     "source": [
      "- Tabular and text data"
     ]
    },
    {
     "cell_type": "markdown",
     "metadata": {
      "slideshow": {
       "slide_type": "fragment"
      }
     },
     "source": [
      "- Teaching"
     ]
    },
    {
     "cell_type": "markdown",
     "metadata": {
      "slideshow": {
       "slide_type": "slide"
      }
     },
     "source": [
      "## Introducing `git`\n"
     ]
    },
    {
     "cell_type": "markdown",
     "metadata": {
      "slideshow": {
       "slide_type": "fragment"
      }
     },
     "source": [
      "Try typing `git` at the terminal"
     ]
    },
    {
     "cell_type": "markdown",
     "metadata": {
      "slideshow": {
       "slide_type": "fragment"
      }
     },
     "source": [
      "The first time you start to use git, you will need to configure your author information:\n",
      "\n",
      "`$ git config --global user.name 'Ariel Rokem'`\n",
      "\n",
      "`$ git config --global user.email arokem@stanford.edu`\n"
     ]
    },
    {
     "cell_type": "markdown",
     "metadata": {
      "slideshow": {
       "slide_type": "fragment"
      }
     },
     "source": [
      "You will want to make sure that your editor is configured: \n",
      "\n",
      "`$ git config --global core.editor nano`  # To use nano as your editor\n",
      "\n",
      "`$ git config --global core.editor emacs` # To use emacs as an editor \n",
      "\n",
      "TextWrangler, SublimeText and TextMate are not good editors for this. If you know how to use vi, you can use that"
     ]
    },
    {
     "cell_type": "markdown",
     "metadata": {
      "slideshow": {
       "slide_type": "fragment"
      }
     },
     "source": [
      "For `subl`, you will also need to run: `ln -s \"/Applications/Sublime Text 2.app/Contents/SharedSupport/bin/subl\" /usr/bin/subl` to make this available"
     ]
    },
    {
     "cell_type": "markdown",
     "metadata": {
      "slideshow": {
       "slide_type": "slide"
      }
     },
     "source": [
      "While we're at it, let's configure it to use colors, which is helpful:\n",
      "    \n",
      "`$ git config --global color.ui \"auto\"`\n"
     ]
    },
    {
     "cell_type": "markdown",
     "metadata": {
      "slideshow": {
       "slide_type": "slide"
      }
     },
     "source": [
      "To see all the items in your configuration: \n",
      "\n",
      "`$ git config --global --list`\n",
      "    \n",
      "    "
     ]
    },
    {
     "cell_type": "markdown",
     "metadata": {
      "slideshow": {
       "slide_type": "slide"
      }
     },
     "source": [
      "Git keeps snap-shots of your work over time"
     ]
    },
    {
     "cell_type": "markdown",
     "metadata": {
      "slideshow": {
       "slide_type": "subslide"
      }
     },
     "source": [
      "<img src=\"http://git-scm.com/figures/18333fig0105-tn.png\" width=\"50%\">"
     ]
    },
    {
     "cell_type": "markdown",
     "metadata": {
      "slideshow": {
       "slide_type": "slide"
      }
     },
     "source": [
      "Five levels of git usage: "
     ]
    },
    {
     "cell_type": "markdown",
     "metadata": {
      "slideshow": {
       "slide_type": "fragment"
      }
     },
     "source": [
      "- Local - linear"
     ]
    },
    {
     "cell_type": "markdown",
     "metadata": {
      "slideshow": {
       "slide_type": "fragment"
      }
     },
     "source": [
      "- Local - branching"
     ]
    },
    {
     "cell_type": "markdown",
     "metadata": {
      "slideshow": {
       "slide_type": "fragment"
      }
     },
     "source": [
      "- Remote - single user"
     ]
    },
    {
     "cell_type": "markdown",
     "metadata": {
      "slideshow": {
       "slide_type": "fragment"
      }
     },
     "source": [
      "- Remote - small team"
     ]
    },
    {
     "cell_type": "markdown",
     "metadata": {
      "slideshow": {
       "slide_type": "fragment"
      }
     },
     "source": [
      "- Remote - collaboration"
     ]
    },
    {
     "cell_type": "markdown",
     "metadata": {
      "slideshow": {
       "slide_type": "slide"
      }
     },
     "source": [
      "# Local and linear use"
     ]
    },
    {
     "cell_type": "markdown",
     "metadata": {
      "slideshow": {
       "slide_type": "fragment"
      }
     },
     "source": [
      "<img src=\"http://git-scm.com/figures/18333fig0105-tn.png\" width=\"50%\">"
     ]
    },
    {
     "cell_type": "markdown",
     "metadata": {
      "slideshow": {
       "slide_type": "slide"
      }
     },
     "source": [
      "Make a directory"
     ]
    },
    {
     "cell_type": "markdown",
     "metadata": {
      "slideshow": {
       "slide_type": "fragment"
      }
     },
     "source": [
      "`$ mkdir science`\n",
      "\n",
      "`$ cd science`\n",
      "\n"
     ]
    },
    {
     "cell_type": "markdown",
     "metadata": {
      "slideshow": {
       "slide_type": "fragment"
      }
     },
     "source": [
      "Initialize a git **repository**, a set of files and directories that are associated with each other and tracked together"
     ]
    },
    {
     "cell_type": "markdown",
     "metadata": {
      "slideshow": {
       "slide_type": "fragment"
      }
     },
     "source": [
      "`$ git init`\n",
      "\n",
      "or \n",
      "\n",
      "`$ git init science`"
     ]
    },
    {
     "cell_type": "markdown",
     "metadata": {
      "slideshow": {
       "slide_type": "slide"
      }
     },
     "source": [
      "What is in here? "
     ]
    },
    {
     "cell_type": "markdown",
     "metadata": {
      "slideshow": {
       "slide_type": "fragment"
      }
     },
     "source": [
      "`$ ls -a`"
     ]
    },
    {
     "cell_type": "markdown",
     "metadata": {
      "slideshow": {
       "slide_type": "fragment"
      }
     },
     "source": [
      "`./    ../   .git/`"
     ]
    },
    {
     "cell_type": "markdown",
     "metadata": {
      "slideshow": {
       "slide_type": "fragment"
      }
     },
     "source": [
      "The repository stores its information in the `.git` directory."
     ]
    },
    {
     "cell_type": "markdown",
     "metadata": {
      "slideshow": {
       "slide_type": "slide"
      }
     },
     "source": [
      "To check what is going on\n",
      "\n",
      "`$ git status`"
     ]
    },
    {
     "cell_type": "markdown",
     "metadata": {
      "slideshow": {
       "slide_type": "fragment"
      }
     },
     "source": [
      "    # On branch master\n",
      "    #\n",
      "    # Initial commit\n",
      "    #\n",
      "    nothing to commit (create/copy files and use \"git add\" to track)"
     ]
    },
    {
     "cell_type": "markdown",
     "metadata": {
      "slideshow": {
       "slide_type": "slide"
      }
     },
     "source": [
      "Let's make a file with some text:\n",
      "\n"
     ]
    },
    {
     "cell_type": "markdown",
     "metadata": {
      "slideshow": {
       "slide_type": "fragment"
      }
     },
     "source": [
      "`$ echo \"Cogito ergo sum\" > cogito.txt`"
     ]
    },
    {
     "cell_type": "markdown",
     "metadata": {
      "slideshow": {
       "slide_type": "fragment"
      }
     },
     "source": [
      "`$ git status`\n",
      "\n",
      "    # On branch master\n",
      "    #\n",
      "    # Initial commit\n",
      "    #\n",
      "    # Untracked files:\n",
      "    #   (use \"git add <file>...\" to include in what will be committed)\n",
      "    #\n",
      "    #\tcogito.txt\n",
      "    nothing added to commit but untracked files present (use \"git add\" to track)"
     ]
    },
    {
     "cell_type": "markdown",
     "metadata": {
      "slideshow": {
       "slide_type": "fragment"
      }
     },
     "source": [
      "Files need to be explicitely added to the repository to be tracked by git:  "
     ]
    },
    {
     "cell_type": "markdown",
     "metadata": {
      "slideshow": {
       "slide_type": "fragment"
      }
     },
     "source": [
      "`$ git add cogito.txt`\n"
     ]
    },
    {
     "cell_type": "markdown",
     "metadata": {
      "slideshow": {
       "slide_type": "fragment"
      }
     },
     "source": [
      "`$ git status`\n",
      "    \n",
      "    # On branch master\n",
      "    #\n",
      "    # Initial commit\n",
      "    #\n",
      "    # Changes to be committed:\n",
      "    #   (use \"git rm --cached <file>...\" to unstage)\n",
      "    #\n",
      "    #\tnew file:   cogito.txt\n",
      "    #\n"
     ]
    },
    {
     "cell_type": "markdown",
     "metadata": {
      "slideshow": {
       "slide_type": "slide"
      }
     },
     "source": [
      "This might be a good point to save a snap-shot of the current state of our repository"
     ]
    },
    {
     "cell_type": "markdown",
     "metadata": {
      "slideshow": {
       "slide_type": "fragment"
      }
     },
     "source": [
      "Type: \n",
      "\n",
      "`$ git commit`"
     ]
    },
    {
     "cell_type": "markdown",
     "metadata": {
      "slideshow": {
       "slide_type": "fragment"
      }
     },
     "source": [
      "This should open a text editor with the following content:"
     ]
    },
    {
     "cell_type": "markdown",
     "metadata": {
      "slideshow": {
       "slide_type": "fragment"
      }
     },
     "source": [
      "    # Please enter the commit message for your changes. Lines starting\n",
      "    # with '#' will be ignored, and an empty message aborts the commit.\n",
      "    #\n",
      "    # Author:    arokem <arokem@gmail.com>\n",
      "    #\n",
      "    # On branch master\n",
      "    #\n",
      "    # Initial commit\n",
      "    #\n",
      "    # Changes to be committed:\n",
      "    #   (use \"git rm --cached <file>...\" to unstage)\n",
      "    #\n",
      "    #       new file:   cogito.txt\n",
      "    #\n"
     ]
    },
    {
     "cell_type": "markdown",
     "metadata": {
      "slideshow": {
       "slide_type": "slide"
      }
     },
     "source": [
      "Enter an informative **commit message** above this:"
     ]
    },
    {
     "cell_type": "markdown",
     "metadata": {
      "slideshow": {
       "slide_type": "fragment"
      }
     },
     "source": [
      "    Initial commit of the cogito.\n",
      "    # Please enter the commit message for your changes. Lines starting\n",
      "    # with '#' will be ignored, and an empty message aborts the commit.\n",
      "    #\n",
      "    # Author:    arokem <arokem@gmail.com>\n",
      "    #\n",
      "    # On branch master\n",
      "    #\n",
      "    # Initial commit\n",
      "    #\n",
      "    # Changes to be committed:\n",
      "    #   (use \"git rm --cached <file>...\" to unstage)\n",
      "    #\n",
      "    #       new file:   cogito.txt\n",
      "    #\n"
     ]
    },
    {
     "cell_type": "markdown",
     "metadata": {
      "slideshow": {
       "slide_type": "fragment"
      }
     },
     "source": [
      "Save and exit the commit message file"
     ]
    },
    {
     "cell_type": "markdown",
     "metadata": {
      "slideshow": {
       "slide_type": "slide"
      }
     },
     "source": [
      "Something like this should appear in your terminal:"
     ]
    },
    {
     "cell_type": "markdown",
     "metadata": {
      "slideshow": {
       "slide_type": "fragment"
      }
     },
     "source": [
      "    $ git commit\n",
      "    [master (root-commit) dbedc93] Initial commit of the cogito.\n",
      "     Author: arokem <arokem@gmail.com>\n",
      "     1 file changed, 1 insertion(+)\n",
      "     create mode 100644 cogito.txt\n"
     ]
    },
    {
     "cell_type": "markdown",
     "metadata": {
      "slideshow": {
       "slide_type": "slide"
      }
     },
     "source": [
      "To see the history of the repo, you can always type:\n",
      "    \n",
      "    $ git log"
     ]
    },
    {
     "cell_type": "markdown",
     "metadata": {
      "slideshow": {
       "slide_type": "fragment"
      }
     },
     "source": [
      "    commit dbedc93842554629a0bc441b38dc4b6824355aee\n",
      "    Author: arokem <arokem@gmail.com>\n",
      "    Date:   Sun Apr 28 12:12:12 2013 -0700\n",
      "    \n",
      "        Initial commit of the cogito.\n"
     ]
    },
    {
     "cell_type": "markdown",
     "metadata": {
      "slideshow": {
       "slide_type": "slide"
      }
     },
     "source": [
      "Let's make some changes to the file"
     ]
    },
    {
     "cell_type": "markdown",
     "metadata": {
      "slideshow": {
       "slide_type": "fragment"
      }
     },
     "source": [
      "    $echo \"Edo ergo sum\" >> cogito.txt \n",
      "    "
     ]
    },
    {
     "cell_type": "markdown",
     "metadata": {
      "slideshow": {
       "slide_type": "fragment"
      }
     },
     "source": [
      "What has changed? \n",
      "\n",
      "    $git diff"
     ]
    },
    {
     "cell_type": "markdown",
     "metadata": {
      "slideshow": {
       "slide_type": "fragment"
      }
     },
     "source": [
      "    diff --git a/cogito.txt b/cogito.txt\n",
      "    index 01c7cba..9084743 100644\n",
      "    --- a/cogito.txt\n",
      "    +++ b/cogito.txt\n",
      "    @@ -1 +1,2 @@\n",
      "     Cogito ergo sum\n",
      "    +Edo ergo sum\n"
     ]
    },
    {
     "cell_type": "markdown",
     "metadata": {
      "slideshow": {
       "slide_type": "slide"
      }
     },
     "source": [
      "    $ git status"
     ]
    },
    {
     "cell_type": "markdown",
     "metadata": {
      "slideshow": {
       "slide_type": "fragment"
      }
     },
     "source": [
      "    # On branch master\n",
      "    # Changes not staged for commit:\n",
      "    #   (use \"git add <file>...\" to update what will be committed)\n",
      "    #   (use \"git checkout -- <file>...\" to discard changes in working directory)\n",
      "    #\n",
      "    #\tmodified:   cogito.txt\n",
      "    #\n",
      "    no changes added to commit (use \"git add\" and/or \"git commit -a\")"
     ]
    },
    {
     "cell_type": "markdown",
     "metadata": {
      "slideshow": {
       "slide_type": "slide"
      }
     },
     "source": [
      "    $ git commit "
     ]
    },
    {
     "cell_type": "markdown",
     "metadata": {
      "slideshow": {
       "slide_type": "fragment"
      }
     },
     "source": [
      "    # On branch master\n",
      "    # Changes not staged for commit:\n",
      "    #   (use \"git add <file>...\" to update what will be committed)\n",
      "    #   (use \"git checkout -- <file>...\" to discard changes in working directory)\n",
      "    #\n",
      "    #\tmodified:   cogito.txt\n",
      "    #\n",
      "    no changes added to commit (use \"git add\" and/or \"git commit -a\")"
     ]
    },
    {
     "cell_type": "markdown",
     "metadata": {
      "slideshow": {
       "slide_type": "slide"
      }
     },
     "source": [
      "We could run: \n",
      "    \n",
      "    $ git add cogito.txt \n",
      "    \n",
      "Followed by: \n",
      "    \n",
      "    $ git commit       "
     ]
    },
    {
     "cell_type": "markdown",
     "metadata": {
      "slideshow": {
       "slide_type": "fragment"
      }
     },
     "source": [
      "A shortcut is given by: \n",
      "\n",
      "    $ git commit -a"
     ]
    },
    {
     "cell_type": "markdown",
     "metadata": {
      "slideshow": {
       "slide_type": "slide"
      }
     },
     "source": [
      "After doing that:\n",
      "    \n",
      "    $ git status\n",
      "    "
     ]
    },
    {
     "cell_type": "markdown",
     "metadata": {
      "slideshow": {
       "slide_type": "fragment"
      }
     },
     "source": [
      "    # On branch master\n",
      "    nothing to commit (working directory clean)"
     ]
    },
    {
     "cell_type": "markdown",
     "metadata": {
      "slideshow": {
       "slide_type": "fragment"
      }
     },
     "source": [
      "    $ git log"
     ]
    },
    {
     "cell_type": "markdown",
     "metadata": {
      "slideshow": {
       "slide_type": "fragment"
      }
     },
     "source": [
      "    commit 48143556b5a8b86aecb78d06ed749ab2b1c37248\n",
      "    Author: arokem <arokem@gmail.com>\n",
      "    Date:   Sun Apr 28 12:32:01 2013 -0700\n",
      "\n",
      "        Man's gotta eat.\n",
      "\n",
      "    commit dbedc93842554629a0bc441b38dc4b6824355aee\n",
      "    Author: arokem <arokem@gmail.com>\n",
      "    Date:   Sun Apr 28 12:12:12 2013 -0700\n",
      "\n",
      "        Initial commit of the cogito."
     ]
    },
    {
     "cell_type": "markdown",
     "metadata": {
      "slideshow": {
       "slide_type": "slide"
      }
     },
     "source": [
      "## The cycle of git virtue: work, commit, work commit "
     ]
    },
    {
     "cell_type": "markdown",
     "metadata": {
      "slideshow": {
       "slide_type": "slide"
      }
     },
     "source": [
      "`git` commands we've seen so far: "
     ]
    },
    {
     "cell_type": "markdown",
     "metadata": {
      "slideshow": {
       "slide_type": "fragment"
      }
     },
     "source": [
      "- `git init`"
     ]
    },
    {
     "cell_type": "markdown",
     "metadata": {
      "slideshow": {
       "slide_type": "fragment"
      }
     },
     "source": [
      "- `git status`"
     ]
    },
    {
     "cell_type": "markdown",
     "metadata": {
      "slideshow": {
       "slide_type": "fragment"
      }
     },
     "source": [
      "- `git add`"
     ]
    },
    {
     "cell_type": "markdown",
     "metadata": {
      "slideshow": {
       "slide_type": "fragment"
      }
     },
     "source": [
      "- `git commit` "
     ]
    },
    {
     "cell_type": "markdown",
     "metadata": {
      "slideshow": {
       "slide_type": "fragment"
      }
     },
     "source": [
      "- `git log`"
     ]
    },
    {
     "cell_type": "markdown",
     "metadata": {
      "slideshow": {
       "slide_type": "fragment"
      }
     },
     "source": [
      "- `git diff`"
     ]
    },
    {
     "cell_type": "markdown",
     "metadata": {
      "slideshow": {
       "slide_type": "slide"
      }
     },
     "source": [
      "## Before moving on: the anatomy of a commit\n",
      "\n",
      "<img src=\"https://raw.github.com/fperez/reprosw/master/fig/commit_anatomy.png\">\n"
     ]
    },
    {
     "cell_type": "markdown",
     "metadata": {},
     "source": [
      "Now we can understand that a *repository* is simply a group of *linked* commits\n",
      "\n",
      "<img src=\"https://raw.github.com/fperez/reprosw/master/fig/threecommits.png\" >\n"
     ]
    },
    {
     "cell_type": "markdown",
     "metadata": {
      "slideshow": {
       "slide_type": "slide"
      }
     },
     "source": [
      "## Exercise: \n",
      "\n",
      "- Make changes to the file we already have\n",
      "- Add another file and make some changes to it. \n",
      "- Make commits as you go along\n",
      "- Remove this second file (Take a look at `git help rm`)"
     ]
    },
    {
     "cell_type": "markdown",
     "metadata": {
      "slideshow": {
       "slide_type": "slide"
      }
     },
     "source": [
      "# Next stage\n",
      "## Local and branching\n"
     ]
    },
    {
     "cell_type": "markdown",
     "metadata": {
      "slideshow": {
       "slide_type": "slide"
      }
     },
     "source": [
      "What is a branch?  Simply a *label for the 'current' commit in a sequence of ongoing commits*:\n",
      "\n",
      "<img src=\"https://raw.github.com/fperez/reprosw/master/fig/masterbranch.png\" >"
     ]
    },
    {
     "cell_type": "markdown",
     "metadata": {
      "slideshow": {
       "slide_type": "slide"
      }
     },
     "source": [
      "Let's make another branch that we will call `testing`:"
     ]
    },
    {
     "cell_type": "markdown",
     "metadata": {
      "slideshow": {
       "slide_type": "fragment"
      }
     },
     "source": [
      "`$ git branch testing`"
     ]
    },
    {
     "cell_type": "markdown",
     "metadata": {
      "slideshow": {
       "slide_type": "fragment"
      }
     },
     "source": [
      "We can switch over to this other branch by checking it out:"
     ]
    },
    {
     "cell_type": "markdown",
     "metadata": {},
     "source": [
      "`$ git checkout testing`"
     ]
    },
    {
     "cell_type": "markdown",
     "metadata": {
      "slideshow": {
       "slide_type": "slide"
      }
     },
     "source": [
      "There can be multiple branches alive at any point in time; the working directory is the state of a special pointer called HEAD.  \n",
      "\n",
      "In this example there are two branches, *master* and *testing*, and *testing* is the currently active branch since it's what HEAD points to:\n",
      "\n",
      "<img src=\"https://raw.github.com/fperez/reprosw/master/fig/HEAD_testing.png\" >"
     ]
    },
    {
     "cell_type": "markdown",
     "metadata": {
      "slideshow": {
       "slide_type": "slide"
      }
     },
     "source": [
      "Let's see what git has done. If we type:"
     ]
    },
    {
     "cell_type": "markdown",
     "metadata": {
      "slideshow": {
       "slide_type": "fragment"
      }
     },
     "source": [
      "    $less .git/HEAD"
     ]
    },
    {
     "cell_type": "markdown",
     "metadata": {
      "slideshow": {
       "slide_type": "fragment"
      }
     },
     "source": [
      "    ref: refs/heads/testing"
     ]
    },
    {
     "cell_type": "markdown",
     "metadata": {
      "slideshow": {
       "slide_type": "fragment"
      }
     },
     "source": [
      "    $less .git/refs/heads/testing "
     ]
    },
    {
     "cell_type": "markdown",
     "metadata": {
      "slideshow": {
       "slide_type": "fragment"
      }
     },
     "source": [
      "    48143556b5a8b86aecb78d06ed749ab2b1c37248\n"
     ]
    },
    {
     "cell_type": "markdown",
     "metadata": {
      "slideshow": {
       "slide_type": "fragment"
      }
     },
     "source": [
      "<img src=\"https://raw.github.com/fperez/reprosw/master/fig/commit_anatomy.png\">\n"
     ]
    },
    {
     "cell_type": "markdown",
     "metadata": {
      "slideshow": {
       "slide_type": "slide"
      }
     },
     "source": [
      "Once new commits are made on a branch, HEAD and the branch label move with the new commits:\n",
      "    \n",
      "<img src=\"https://raw.github.com/fperez/reprosw/master/fig/branchcommit.png\" >"
     ]
    },
    {
     "cell_type": "markdown",
     "metadata": {
      "slideshow": {
       "slide_type": "slide"
      }
     },
     "source": [
      "    $ echo \"dx/dy=(x2-x1)/(y2-y1)\" > geometry.txt\n",
      "\n",
      "    $ git add geometry.txt\n",
      "    \n",
      "    $ git status\n"
     ]
    },
    {
     "cell_type": "markdown",
     "metadata": {
      "slideshow": {
       "slide_type": "fragment"
      }
     },
     "source": [
      "    # On branch testing\n",
      "    # Changes to be committed:\n",
      "    #   (use \"git reset HEAD <file>...\" to unstage)\n",
      "    #\n",
      "    #\tnew file:   geometry.txt\n",
      "    #\n"
     ]
    },
    {
     "cell_type": "markdown",
     "metadata": {
      "slideshow": {
       "slide_type": "slide"
      }
     },
     "source": [
      "    $ git commit \n",
      "    \n",
      "    [testing 0c00437] Another kind of science\n",
      "     Author: arokem <arokem@gmail.com>\n",
      "     1 file changed, 1 insertion(+)\n",
      "     create mode 100644 geometry.txt\n"
     ]
    },
    {
     "cell_type": "markdown",
     "metadata": {},
     "source": [
      "    $ git log\n",
      "\n",
      "    commit 0c004374d232b0c49068f7c4b31226710fc2599f\n",
      "    Author: arokem <arokem@gmail.com>\n",
      "    Date:   Sun Apr 28 13:24:59 2013 -0700\n",
      "\n",
      "        Another kind of science\n",
      "\n",
      "    commit 48143556b5a8b86aecb78d06ed749ab2b1c37248\n",
      "    Author: arokem <arokem@gmail.com>\n",
      "    Date:   Sun Apr 28 12:32:01 2013 -0700\n",
      "\n",
      "        Man's gotta eat.\n",
      "\n",
      "    commit dbedc93842554629a0bc441b38dc4b6824355aee\n",
      "    Author: arokem <arokem@gmail.com>\n",
      "    Date:   Sun Apr 28 12:12:12 2013 -0700\n",
      "\n",
      "        Initial commit of the cogito."
     ]
    },
    {
     "cell_type": "markdown",
     "metadata": {},
     "source": [
      "\n",
      "<img src=\"https://raw.github.com/fperez/reprosw/master/fig/branchcommit.png\" >"
     ]
    },
    {
     "cell_type": "markdown",
     "metadata": {},
     "source": [
      "If we continue to work on both branches, the history could diverge:\n",
      "\n",
      "<!-- offline: \n",
      "![](files/fig/mergescenario.png)\n",
      "-->\n",
      "\n",
      "<img src=\"https://raw.github.com/fperez/reprosw/master/fig/mergescenario.png\" >"
     ]
    },
    {
     "cell_type": "markdown",
     "metadata": {
      "slideshow": {
       "slide_type": "slide"
      }
     },
     "source": [
      "    $git checkout master\n",
      "        Switched to branch 'master'"
     ]
    },
    {
     "cell_type": "markdown",
     "metadata": {
      "slideshow": {
       "slide_type": "slide"
      }
     },
     "source": [
      "Note that this changes the files on your disk! "
     ]
    },
    {
     "cell_type": "markdown",
     "metadata": {
      "slideshow": {
       "slide_type": "fragment"
      }
     },
     "source": [
      "    $ ls\n",
      "    cogito.txt"
     ]
    },
    {
     "cell_type": "markdown",
     "metadata": {
      "slideshow": {
       "slide_type": "slide"
      }
     },
     "source": [
      "If we do some more work here: \n",
      "    \n",
      "    $ echo \"Non pane solo\" >> cogito.txt "
     ]
    },
    {
     "cell_type": "markdown",
     "metadata": {
      "slideshow": {
       "slide_type": "fragment"
      }
     },
     "source": [
      "This also works: \n",
      "    \n",
      "    $ git commit cogito.txt\n",
      "    [master 61da4a4] Not on bread alone\n",
      "     Author: arokem <arokem@gmail.com>\n",
      "     1 file changed, 1 insertion(+)"
     ]
    },
    {
     "cell_type": "markdown",
     "metadata": {},
     "source": [
      "$ git log\n",
      "\n",
      "    commit 61da4a4963c00b2a51b4503d3eb13894a4bcac41\n",
      "    Author: arokem <arokem@gmail.com>\n",
      "    Date:   Sun Apr 28 13:40:11 2013 -0700\n",
      "\n",
      "        Not on bread alone\n",
      "\n",
      "    commit 48143556b5a8b86aecb78d06ed749ab2b1c37248\n",
      "    Author: arokem <arokem@gmail.com>\n",
      "    Date:   Sun Apr 28 12:32:01 2013 -0700\n",
      "        \n",
      "        Man's gotta eat.\n",
      "\n",
      "    commit dbedc93842554629a0bc441b38dc4b6824355aee\n",
      "    Author: arokem <arokem@gmail.com>\n",
      "    Date:   Sun Apr 28 12:12:12 2013 -0700\n",
      "    \n",
      "        Initial commit of the cogito."
     ]
    },
    {
     "cell_type": "markdown",
     "metadata": {},
     "source": [
      "This is our current situation \n",
      "<!-- offline: \n",
      "![](files/fig/mergescenario.png)\n",
      "-->\n",
      "\n",
      "<img src=\"https://raw.github.com/fperez/reprosw/master/fig/mergescenario.png\" >"
     ]
    },
    {
     "cell_type": "markdown",
     "metadata": {},
     "source": [
      "But based on this graph structure, git can compute the necessary information to merge the divergent branches back:\n",
      "    \n",
      "<!-- offline: \n",
      "![](files/fig/mergeaftermath.png)\n",
      "-->\n",
      "\n",
      "<img src=\"https://raw.github.com/fperez/reprosw/master/fig/mergeaftermath.png\" >"
     ]
    },
    {
     "cell_type": "markdown",
     "metadata": {
      "slideshow": {
       "slide_type": "slide"
      }
     },
     "source": [
      "    $git merge testing\n",
      "    \n",
      "    Merge made by the 'recursive' strategy.\n",
      "     geometry.txt |    1 +\n",
      "     1 file changed, 1 insertion(+)\n",
      "     create mode 100644 geometry.txt\n"
     ]
    },
    {
     "cell_type": "markdown",
     "metadata": {
      "slideshow": {
       "slide_type": "slide"
      }
     },
     "source": [
      "$ git log --graph\n",
      "\n",
      "\n",
      "    *   commit 7c8adb5345ce035ca436b779472e38d56a2c3fcf\n",
      "    |\\  Merge: 61da4a4 0c00437\n",
      "    | | Author: arokem <arokem@gmail.com>\n",
      "    | | Date:   Sun Apr 28 13:43:41 2013 -0700\n",
      "    | | \n",
      "    | |     Merge branch 'testing'\n",
      "    | |   \n",
      "    | * commit 0c004374d232b0c49068f7c4b31226710fc2599f\n",
      "    | | Author: arokem <arokem@gmail.com>\n",
      "    | | Date:   Sun Apr 28 13:24:59 2013 -0700\n",
      "    | | \n",
      "    | |     Another kind of science\n",
      "    | |   \n",
      "    * | commit 61da4a4963c00b2a51b4503d3eb13894a4bcac41\n",
      "    |/  Author: arokem <arokem@gmail.com>\n",
      "    |   Date:   Sun Apr 28 13:40:11 2013 -0700\n",
      "    |   \n",
      "    |       Not on bread alone\n",
      "    |  \n",
      "    * commit 48143556b5a8b86aecb78d06ed749ab2b1c37248\n",
      "    | Author: arokem <arokem@gmail.com>\n",
      "    | Date:   Sun Apr 28 12:32:01 2013 -0700\n",
      "    | \n",
      "    |     Man's gotta eat.\n",
      "    |  \n",
      "    * commit dbedc93842554629a0bc441b38dc4b6824355aee\n",
      "      Author: arokem <arokem@gmail.com>\n",
      "      Date:   Sun Apr 28 12:12:12 2013 -0700\n",
      "  \n",
      "          Initial commit of the cogito.\n"
     ]
    },
    {
     "cell_type": "markdown",
     "metadata": {
      "slideshow": {
       "slide_type": "slide"
      }
     },
     "source": [
      "Note: I have my `bash` terminal configured to give me information about what branch `HEAD` is currently pointing to \n",
      "\n",
      "You can get that too, by putting the following in your `~/.bash_profile` file: \n",
      "    \n",
      "    # Set the prompt to show the current git branch:                              \n",
      "    function parse_git_branch {\n",
      "      ref=$(git symbolic-ref HEAD 2> /dev/null) || return\n",
      "      echo \"(\"${ref#refs/heads/}\")\"\n",
      "    }\n",
      " \n",
      "    PS1=\"\\h:\\W$RED \\$(parse_git_branch)$NO_COLOR $\"\n",
      " \n",
      "    PS2=\">\"\n",
      "    \n",
      "Conveniently available here: http://is.gd/git_aware\n",
      "    \n",
      "    "
     ]
    },
    {
     "cell_type": "markdown",
     "metadata": {
      "slideshow": {
       "slide_type": "slide"
      }
     },
     "source": [
      "## We've now seen: "
     ]
    },
    {
     "cell_type": "markdown",
     "metadata": {
      "slideshow": {
       "slide_type": "fragment"
      }
     },
     "source": [
      "- `git branch`"
     ]
    },
    {
     "cell_type": "markdown",
     "metadata": {
      "slideshow": {
       "slide_type": "fragment"
      }
     },
     "source": [
      "- `git checkout`"
     ]
    },
    {
     "cell_type": "markdown",
     "metadata": {
      "slideshow": {
       "slide_type": "fragment"
      }
     },
     "source": [
      "- `git merge`"
     ]
    },
    {
     "cell_type": "markdown",
     "metadata": {
      "slideshow": {
       "slide_type": "slide"
      }
     },
     "source": [
      "## Exercise - play around with branches a bit: \n",
      "\n",
      "Make a different branch, make some changes and merge your changes into `master`\n"
     ]
    },
    {
     "cell_type": "markdown",
     "metadata": {
      "slideshow": {
       "slide_type": "fragment"
      }
     },
     "source": [
      "## What happens if you edit the same content on two different branches? "
     ]
    },
    {
     "cell_type": "markdown",
     "metadata": {
      "slideshow": {
       "slide_type": "slide"
      }
     },
     "source": [
      "## Merge conflicts"
     ]
    },
    {
     "cell_type": "markdown",
     "metadata": {
      "slideshow": {
       "slide_type": "fragment"
      }
     },
     "source": [
      "$ git checkout -b nap"
     ]
    },
    {
     "cell_type": "markdown",
     "metadata": {
      "slideshow": {
       "slide_type": "slide"
      }
     },
     "source": [
      "## After a little bit of editing:"
     ]
    },
    {
     "cell_type": "markdown",
     "metadata": {
      "slideshow": {
       "slide_type": "fragment"
      }
     },
     "source": [
      "    $ git diff\n",
      "    diff --git a/cogito.txt b/cogito.txt\n",
      "    index d2fb549..48cd2cc 100644\n",
      "    --- a/cogito.txt\n",
      "    +++ b/cogito.txt\n",
      "    @@ -1,3 +1,3 @@\n",
      "     Cogito ergo sum\n",
      "    -Edo ergo sum\n",
      "    +Edo ergo dormio\n",
      "     Non pane solo"
     ]
    },
    {
     "cell_type": "markdown",
     "metadata": {
      "slideshow": {
       "slide_type": "slide"
      }
     },
     "source": [
      "    $ git commit cogito.txt\n",
      "\n",
      "    [nap 200d2ac] I need a nap\n",
      "     Author: arokem <arokem@gmail.com>\n",
      "     1 file changed, 1 insertion(+), 1 deletion(-)"
     ]
    },
    {
     "cell_type": "markdown",
     "metadata": {
      "slideshow": {
       "slide_type": "slide"
      }
     },
     "source": [
      "    $ git log\n",
      "            \n",
      "    commit 200d2ac38dbd8f6266a7c2b1fca422ab9c18e920\n",
      "    Author: arokem <arokem@gmail.com>\n",
      "    Date:   Sun Apr 28 14:02:23 2013 -0700\n",
      "\n",
      "        I need a nap\n",
      "\n",
      "    commit 7c8adb5345ce035ca436b779472e38d56a2c3fcf\n",
      "    Merge: 61da4a4 0c00437\n",
      "    Author: arokem <arokem@gmail.com>\n",
      "    Date:   Sun Apr 28 13:43:41 2013 -0700\n",
      "\n",
      "        Merge branch 'testing'"
     ]
    },
    {
     "cell_type": "markdown",
     "metadata": {
      "slideshow": {
       "slide_type": "slide"
      }
     },
     "source": [
      "## Meanwhile, on master:\n",
      "\n",
      "    $ git log -p\n",
      "\n",
      "        commit 54dfe80854b4fc8311974f194292ec286207284e\n",
      "        Author: arokem <arokem@gmail.com>\n",
      "        Date:   Sun Apr 28 14:03:33 2013 -0700\n",
      "\n",
      "            Work will set you free.\n",
      "\n",
      "        diff --git a/cogito.txt b/cogito.txt\n",
      "        index d2fb549..e30514f 100644\n",
      "        --- a/cogito.txt\n",
      "        +++ b/cogito.txt\n",
      "        @@ -1,3 +1,3 @@\n",
      "         Cogito ergo sum\n",
      "        -Edo ergo sum\n",
      "        +Edo ergo laboro\n",
      "         Non pane solo\n",
      "\n",
      "        commit 7c8adb5345ce035ca436b779472e38d56a2c3fcf\n",
      "        Merge: 61da4a4 0c00437\n",
      "        Author: arokem <arokem@gmail.com>\n",
      "        Date:   Sun Apr 28 13:43:41 2013 -0700\n",
      "\n",
      "        Merge branch 'testing'\n"
     ]
    },
    {
     "cell_type": "markdown",
     "metadata": {
      "slideshow": {
       "slide_type": "slide"
      }
     },
     "source": [
      "    $ git merge nap\n",
      "    \n",
      "    Auto-merging cogito.txt\n",
      "    CONFLICT (content): Merge conflict in cogito.txt\n",
      "    Automatic merge failed; fix conflicts and then commit the result."
     ]
    },
    {
     "cell_type": "markdown",
     "metadata": {
      "slideshow": {
       "slide_type": "slide"
      }
     },
     "source": [
      "## When I open the file I see the following:\n",
      "\n",
      "    Cogito ergo sum\n",
      "    <<<<<<< HEAD\n",
      "    Edo ergo laboro\n",
      "    =======\n",
      "    Edo ergo dormio\n",
      "    >>>>>>> nap\n",
      "    Non pane solo\n"
     ]
    },
    {
     "cell_type": "markdown",
     "metadata": {
      "slideshow": {
       "slide_type": "slide"
      }
     },
     "source": [
      "## I Edit this to: \n",
      "\n",
      "    Cogito ergo sum\n",
      "    Edo ergo laboro\n",
      "    Non pane solo\n"
     ]
    },
    {
     "cell_type": "markdown",
     "metadata": {
      "slideshow": {
       "slide_type": "fragment"
      }
     },
     "source": [
      "    $ git add cogito.txt\n",
      "    \n",
      "    $ git commit "
     ]
    },
    {
     "cell_type": "markdown",
     "metadata": {
      "slideshow": {
       "slide_type": "slide"
      }
     },
     "source": [
      "# The commit message will automatically open as: \n",
      "\n",
      "    Merge branch 'nap'\n",
      "\n",
      "    Conflicts:\n",
      "            cogito.txt\n",
      "    #\n",
      "    # It looks like you may be committing a merge.\n",
      "    # If this is not correct, please remove the file\n",
      "    #       .git/MERGE_HEAD\n",
      "    # and try again.\n",
      "\n",
      "\n",
      "    # Please enter the commit message for your changes. Lines starting\n",
      "    # with '#' will be ignored, and an empty message aborts the commit.\n",
      "    #\n",
      "    # Author:    arokem <arokem@gmail.com>\n",
      "    #\n",
      "    # On branch master"
     ]
    },
    {
     "cell_type": "markdown",
     "metadata": {},
     "source": [
      "$ git log --graph\n",
      "\n",
      "    *   commit ad3cd0eff8454f92e3251e831fc9541225374cdc\n",
      "    |\\  Merge: 54dfe80 200d2ac\n",
      "    | | Author: arokem <arokem@gmail.com>\n",
      "    | | Date:   Sun Apr 28 14:09:09 2013 -0700\n",
      "    | | \n",
      "    | |     Merge branch 'nap'\n",
      "    | |     \n",
      "    | |     Conflicts:\n",
      "    | |             cogito.txt\n",
      "    | |   \n",
      "    | * commit 200d2ac38dbd8f6266a7c2b1fca422ab9c18e920\n",
      "    | | Author: arokem <arokem@gmail.com>\n",
      "    | | Date:   Sun Apr 28 14:02:23 2013 -0700\n",
      "    | | \n",
      "    | |     I need a nap\n",
      "    | |   \n",
      "    * | commit 54dfe80854b4fc8311974f194292ec286207284e\n",
      "    |/  Author: arokem <arokem@gmail.com>\n",
      "    |   Date:   Sun Apr 28 14:03:33 2013 -0700\n",
      "    |   \n",
      "    |       Work will set you free.\n",
      "    |    "
     ]
    },
    {
     "cell_type": "markdown",
     "metadata": {
      "slideshow": {
       "slide_type": "slide"
      }
     },
     "source": [
      "# The cycle of virtue extends: branch, work, commit, merge, branch, work, commit, merge "
     ]
    },
    {
     "cell_type": "markdown",
     "metadata": {
      "slideshow": {
       "slide_type": "fragment"
      }
     },
     "source": [
      "## Once you have merged your branches, you can run `git branch -d`\n"
     ]
    },
    {
     "cell_type": "markdown",
     "metadata": {
      "slideshow": {
       "slide_type": "fragment"
      }
     },
     "source": [
      "    $ git branch -a\n",
      "        \n",
      "        * master\n",
      "          nap\n",
      "          testing\n"
     ]
    },
    {
     "cell_type": "markdown",
     "metadata": {
      "slideshow": {
       "slide_type": "fragment"
      }
     },
     "source": [
      "    $git br -d nap\n",
      "        \n",
      "        Deleted branch nap (was 200d2ac)."
     ]
    },
    {
     "cell_type": "markdown",
     "metadata": {
      "slideshow": {
       "slide_type": "fragment"
      }
     },
     "source": [
      "    $git branch -a\n",
      "    \n",
      "        * master\n",
      "          testing"
     ]
    },
    {
     "cell_type": "markdown",
     "metadata": {
      "slideshow": {
       "slide_type": "fragment"
      }
     },
     "source": [
      "## Suggestion: never work on `master`"
     ]
    },
    {
     "cell_type": "code",
     "collapsed": false,
     "input": [],
     "language": "python",
     "metadata": {},
     "outputs": []
    }
   ],
   "metadata": {}
  }
 ]
}