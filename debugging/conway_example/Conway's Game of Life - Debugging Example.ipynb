{
 "metadata": {
  "name": "Conway's Game of Life - Debugging Example"
 },
 "nbformat": 3,
 "nbformat_minor": 0,
 "worksheets": [
  {
   "cells": [
    {
     "cell_type": "markdown",
     "metadata": {},
     "source": [
      "In this example, we will bring together everything we learned about debugging to fix a script that runs Conway's game of life. Before we do that, however, let's answer the most obvious question here...\n",
      "\n",
      "##What is Conway's game of life?\n",
      "\n",
      "Basically, it's a discrete two-dimensional grid where every cell can be \"alive\" or \"dead\". Starting with a set of cells marked \"alive\", we can \"evolve\" the cells to the next generation by following these simple rules:\n",
      "\n",
      " * Any living cell with fewer than two neighbors dies (underpopulation)\n",
      " * Any living cell with more than three neighbors dies (overpopulation)\n",
      " * Any empty cell with three neighbors becomes a living cell (reproduction)   \n",
      "\n",
      "There are a lot of cool things you can do with this, and, for that, I defer to the [wiki](http://en.wikipedia.org/wiki/Conway's_Game_of_Life). Let's get on with debugging.\n",
      "\n",
      "The code below is intended to be an implementation of Conway's game of life, but it's pretty terrible."
     ]
    },
    {
     "cell_type": "code",
     "collapsed": false,
     "input": [
      "from math import sqrt\n",
      "\n",
      "def conway(population, \n",
      "    generations = 100):\n",
      "    for i in range(genrations): population = evolve(population)\n",
      "    return popluation\n",
      "\n",
      "def evolve(population):\n",
      "    activeCells = population | set(neighbor for p in population for neighbor in neighbors(p)))\n",
      "    newPopulation = set()\n",
      "    for cell in activeCells:\n",
      "        count = sum(neighbor in population for neighbor in neighbors(cell))\n",
      "        if count == 3 or (count == 2 and cell in population): newPopluation.add(cell)\n",
      "    return newPopulation\n",
      "\n",
      "def neighbors(cell):\n",
      "    x, y = cell\n",
      "    return [(x, y), (x+1, y), (x-1, y), (x, y+1), (x, y-1), (x+1, y+1), (x+1, y-1), (x-1, y+1), (x-1, y-1)]\n",
      "\n",
      "glider = set([(0, 0), (1, 0), (2, 0), (0, 1), (1, 2)])\n",
      "print conway(glider)"
     ],
     "language": "python",
     "metadata": {},
     "outputs": [
      {
       "ename": "SyntaxError",
       "evalue": "invalid syntax (<ipython-input-1-b85922c2373c>, line 9)",
       "output_type": "pyerr",
       "traceback": [
        "\u001b[1;36m  File \u001b[1;32m\"<ipython-input-1-b85922c2373c>\"\u001b[1;36m, line \u001b[1;32m9\u001b[0m\n\u001b[1;33m    activeCells = population | set(neighbor for p in population for neighbor in neighbors(p)))\u001b[0m\n\u001b[1;37m                                                                                             ^\u001b[0m\n\u001b[1;31mSyntaxError\u001b[0m\u001b[1;31m:\u001b[0m invalid syntax\n"
       ]
      }
     ],
     "prompt_number": 1
    },
    {
     "cell_type": "markdown",
     "metadata": {},
     "source": [
      "##Step 1: Linting\n",
      "\n",
      "Let's start by running it through `pyflakes` and fixing the blatant typos. Running \"`pyflakes conway_pre_linted.py`\" gives:"
     ]
    },
    {
     "cell_type": "raw",
     "metadata": {},
     "source": [
      "conway_pre_linted.py:9: invalid syntax\n",
      "    activeCells = population | set(neighbor for p in population for neighbor in neighbors(p)))"
     ]
    },
    {
     "cell_type": "markdown",
     "metadata": {},
     "source": [
      "Upon fixing the error, it then gives:"
     ]
    },
    {
     "cell_type": "raw",
     "metadata": {},
     "source": [
      "conway_pre_linted.py:1: 'sqrt' imported but unused\n",
      "conway_pre_linted.py:5: undefined name 'genrations'\n",
      "conway_pre_linted.py:6: undefined name 'popluation'\n",
      "conway_pre_linted.py:13: undefined name 'newPopluation'"
     ]
    },
    {
     "cell_type": "markdown",
     "metadata": {},
     "source": [
      "It caught an unused import and some typos. In this little example, `pyflakes` saved us from having to run the script multiple times to find each error; imagine how useful that is in larger code! If we fix the code, it should now run."
     ]
    },
    {
     "cell_type": "code",
     "collapsed": false,
     "input": [
      "def conway(population, \n",
      "    generations = 100):\n",
      "    for i in range(generations): population = evolve(population)\n",
      "    return population\n",
      "\n",
      "def evolve(population):\n",
      "    activeCells = population | set(neighbor for p in population for neighbor in neighbors(p))\n",
      "    newPopulation = set()\n",
      "    for cell in activeCells:\n",
      "        count = sum(neighbor in population for neighbor in neighbors(cell))\n",
      "        if count == 3 or (count == 2 and cell in population): newPopulation.add(cell)\n",
      "    return newPopulation\n",
      "\n",
      "def neighbors(cell):\n",
      "    x, y = cell\n",
      "    return [(x, y), (x+1, y), (x-1, y), (x, y+1), (x, y-1), (x+1, y+1), (x+1, y-1), (x-1, y+1), (x-1, y-1)]\n",
      "\n",
      "glider = set([(0, 0), (1, 0), (2, 0), (0, 1), (1, 2)])\n",
      "print conway(glider)"
     ],
     "language": "python",
     "metadata": {},
     "outputs": [
      {
       "output_type": "stream",
       "stream": "stdout",
       "text": [
        "set([(1, 2), (2, 0), (0, 0), (1, -1), (2, 1)])\n"
       ]
      }
     ],
     "prompt_number": 2
    },
    {
     "cell_type": "markdown",
     "metadata": {},
     "source": [
      "##Step 2: Formatting\n",
      "\n",
      "Now that we have running code, let's clean it up. Running \"`pep8 conway_pre_formatted.py`\","
     ]
    },
    {
     "cell_type": "raw",
     "metadata": {},
     "source": [
      "conway_pre_formatted.py:3:23: W291 trailing whitespace\n",
      "conway_pre_formatted.py:3:1: E302 expected 2 blank lines, found 1\n",
      "conway_pre_formatted.py:4:5: E128 continuation line under-indented for visual indent\n",
      "conway_pre_formatted.py:4:5: E125 continuation line does not distinguish itself from next logical line\n",
      "conway_pre_formatted.py:5:31: E701 multiple statements on one line (colon)\n",
      "conway_pre_formatted.py:8:1: E302 expected 2 blank lines, found 1\n",
      "conway_pre_formatted.py:9:80: E501 line too long (93 > 79 characters)\n",
      "conway_pre_formatted.py:13:80: E501 line too long (85 > 79 characters)\n",
      "conway_pre_formatted.py:13:61: E701 multiple statements on one line (colon)\n",
      "conway_pre_formatted.py:16:1: E302 expected 2 blank lines, found 1\n",
      "conway_pre_formatted.py:18:80: E501 line too long (107 > 79 characters)\n",
      "conway_pre_formatted.py:18:23: E225 missing whitespace around operator\n",
      "[ ... ]"
     ]
    },
    {
     "cell_type": "markdown",
     "metadata": {},
     "source": [
      "Wow, that's a lot of issues! I recommend going through each one and figuring out why it deviates from the PEP8 standard. It's obnoxious, but it'll help you write better code the first time around. \n",
      "\n",
      "Even with all of these issues, there are still some things that `pep8` isn't telling us.\n",
      "\n",
      " * Most importantly, where are the comments!? _Always_ comment code!\n",
      " * Some variables are in `camelCase`. That's bad. Rewrite as `snake_case`.\n",
      " * Never compress `if` statements to one line. Don't be afraid of whitespace.\n",
      "\n",
      "Fixing all of these issues results in much more readable code."
     ]
    },
    {
     "cell_type": "code",
     "collapsed": false,
     "input": [
      "def conway(population, generations=100):\n",
      "    \"\"\"Runs Conway's game of life on an initial population.\"\"\"\n",
      "    for i in range(generations):\n",
      "        population = evolve(population)\n",
      "    return population\n",
      "\n",
      "\n",
      "def evolve(population):\n",
      "    \"\"\"Evolves the population by one generation.\"\"\"\n",
      "    # Get a unique set of discrete cells that need to be checked\n",
      "    active_cells = population | set(neighbor for p in population\n",
      "                                    for neighbor in neighbors(p))\n",
      "    # For each cell in the set, test if it lives or dies\n",
      "    new_population = set()\n",
      "    for cell in active_cells:\n",
      "        count = sum(neighbor in population for neighbor in neighbors(cell))\n",
      "        if count == 3 or (count == 2 and cell in population):\n",
      "            new_population.add(cell)\n",
      "    # Return the new surviving population\n",
      "    return new_population\n",
      "\n",
      "\n",
      "def neighbors(cell):\n",
      "    x, y = cell\n",
      "    return [(x, y), (x + 1, y), (x - 1, y), (x, y + 1), (x, y - 1),\n",
      "            (x + 1, y + 1), (x + 1, y - 1), (x - 1, y + 1), (x - 1, y - 1)]\n",
      "\n",
      "glider = set([(0, 0), (1, 0), (2, 0), (0, 1), (1, 2)])\n",
      "print conway(glider)"
     ],
     "language": "python",
     "metadata": {},
     "outputs": []
    },
    {
     "cell_type": "markdown",
     "metadata": {},
     "source": [
      "##Step 3: Deep-rooted debugging\n",
      "\n",
      "According to successful implementations of Conway's game of life, our given initial population should cause the living cells to \"glide\" across the grid over many generations. However, it's not doing that. What's going on?\n",
      "\n",
      "Using `pdb`, we can follow the state of every variable as the code runs. This is difficult to show through IPython, so I'll leave it up to you. Set some traces in `conway_pre_debugged.py` and see if you can find the bug. Once you find it (or give up), keep reading.\n",
      "\n",
      "######**SPOILER:** The issue is that I accidentally defined `(x, y)` as a neighbor. Removing that fixes the code, and the glider glides.\n",
      "\n",
      "##Step 4: Speed and profiling\n",
      "\n",
      "This code is now functional and follows PEP8 standards, but maybe it could be faster. For a baseline, let's time the current script over 100,000 generations. Running \"`time python conway_pre_profiled.py`\" results in"
     ]
    },
    {
     "cell_type": "raw",
     "metadata": {},
     "source": [
      "real\t0m5.095s\n",
      "user\t0m5.072s\n",
      "sys\t 0m0.004s"
     ]
    },
    {
     "cell_type": "markdown",
     "metadata": {},
     "source": [
      "To break down the locations of the speed constraints, we can run \"`python -m cProfile -s time conway_pre_profiled.py`\""
     ]
    },
    {
     "cell_type": "raw",
     "metadata": {},
     "source": [
      "   ncalls  tottime  percall  cumtime  percall filename:lineno(function)\n",
      " 19800000    2.596    0.000    2.596    0.000 conway_pre_profiled.py:16(<genexpr>)\n",
      "   100000    2.100    0.000    8.607    0.000 conway_pre_profiled.py:8(evolve)\n",
      "  2200000    1.878    0.000    4.474    0.000 {sum}\n",
      "  2700000    1.521    0.000    1.521    0.000 conway_pre_profiled.py:23(neighbors)\n",
      "  4100000    0.469    0.000    0.747    0.000 conway_pre_profiled.py:11(<genexpr>)\n",
      "        1    0.088    0.088    8.697    8.697 conway_pre_profiled.py:1(conway)\n",
      "   500000    0.044    0.000    0.044    0.000 {method 'add' of 'set' objects}\n",
      "        1    0.001    0.001    0.001    0.001 {range}\n",
      "        1    0.000    0.000    8.697    8.697 conway_pre_profiled.py:1(<module>)\n",
      "        1    0.000    0.000    0.000    0.000 {method 'disable' of '_lsprof.Profiler' objects}"
     ]
    },
    {
     "cell_type": "markdown",
     "metadata": {},
     "source": [
      "Whoa, what's going on here? We're evolving 100 thousand times, yet some `<genexpr>` thing is getting called ~20 _million_ times. In practice, you'd scour the internet to find out what this thing is. In this case, however, I can just tell you that it comes from using what's called a _generator expression_. If we replace it with a _list comprehension_, those calls will go away. (more [here](http://stackoverflow.com/questions/47789/generator-expressions-vs-list-comprehension)). Doing so results in a new profile"
     ]
    },
    {
     "cell_type": "raw",
     "metadata": {},
     "source": [
      "   ncalls  tottime  percall  cumtime  percall filename:lineno(function)\n",
      "   100000    3.619    0.000    5.572    0.000 conway_final.py:8(evolve)\n",
      "  2700000    1.453    0.000    1.453    0.000 conway_final.py:23(neighbors)\n",
      "  2200000    0.461    0.000    0.461    0.000 {sum}\n",
      "        1    0.085    0.085    5.658    5.658 conway_final.py:1(conway)\n",
      "   500000    0.038    0.000    0.038    0.000 {method 'add' of 'set' objects}\n",
      "        1    0.001    0.001    0.001    0.001 {range}\n",
      "        1    0.000    0.000    5.658    5.658 conway_final.py:1(<module>)\n",
      "        1    0.000    0.000    0.000    0.000 {method 'disable' of '_lsprof.Profiler' objects}"
     ]
    },
    {
     "cell_type": "markdown",
     "metadata": {},
     "source": [
      "and a slightly faster overall time.\n",
      "\n",
      "##Closing thoughts\n",
      "\n",
      "This notebook just showcased linting, coding styles, finding bugs, and improving code speed. I know this all seems like a lot of work, but it will make you produce much better code (and, as you get better, your debugging time will decrease rapidly). Stick with it!"
     ]
    }
   ],
   "metadata": {}
  }
 ]
}