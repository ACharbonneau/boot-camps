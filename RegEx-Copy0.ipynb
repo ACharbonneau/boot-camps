{
 "metadata": {
  "name": "RegEx-Copy0"
 },
 "nbformat": 3,
 "nbformat_minor": 0,
 "worksheets": [
  {
   "cells": [
    {
     "cell_type": "markdown",
     "metadata": {},
     "source": [
      "Import the regular expression module"
     ]
    },
    {
     "cell_type": "code",
     "collapsed": false,
     "input": [
      "import re"
     ],
     "language": "python",
     "metadata": {},
     "outputs": [],
     "prompt_number": 16
    },
    {
     "cell_type": "markdown",
     "metadata": {},
     "source": [
      "Open your file of interest"
     ]
    },
    {
     "cell_type": "code",
     "collapsed": false,
     "input": [
      "struct=open(\"./regex/structureoutput.txt\").readlines()"
     ],
     "language": "python",
     "metadata": {},
     "outputs": [],
     "prompt_number": 35
    },
    {
     "cell_type": "markdown",
     "metadata": {},
     "source": [
      "I like to take a look to make sure I opened the right thing"
     ]
    },
    {
     "cell_type": "code",
     "collapsed": false,
     "input": [
      "struct[:10]"
     ],
     "language": "python",
     "metadata": {},
     "outputs": [
      {
       "output_type": "pyout",
       "prompt_number": 36,
       "text": [
        "['----------------------------------------------------\\n',\n",
        " 'STRUCTURE by Pritchard, Stephens and Donnelly (2000)\\n',\n",
        " '     and Falush, Stephens and Pritchard (2003)\\n',\n",
        " '       Code by Pritchard, Falush and Hubisz\\n',\n",
        " '             Version 2.3.1 (Febrauary 2009)\\n',\n",
        " '----------------------------------------------------\\n',\n",
        " 'Command line arguments:   /home/ebm447/fastPhase/structure -K 2 -i /home/ebm447/eig/struct3k.inp -N 1464 -L 1814 -o struct_out_2a \\n',\n",
        " 'Input File:    /home/ebm447/eig/struct3k.inp\\n',\n",
        " '\\n',\n",
        " 'Run parameters:\\n']"
       ]
      }
     ],
     "prompt_number": 36
    },
    {
     "cell_type": "markdown",
     "metadata": {},
     "source": [
      "decide what you are searching for in this set of strings (this is where regexpal can be quite handy!)"
     ]
    },
    {
     "cell_type": "code",
     "collapsed": false,
     "input": [
      "sestr=\"\\f\\d\\d\""
     ],
     "language": "python",
     "metadata": {},
     "outputs": [],
     "prompt_number": 37
    },
    {
     "cell_type": "code",
     "collapsed": false,
     "input": [
      "print(sestr)"
     ],
     "language": "python",
     "metadata": {},
     "outputs": [
      {
       "output_type": "stream",
       "stream": "stdout",
       "text": [
        "\f",
        "\n",
        "\n",
        "\n",
        "\\d\\d\n"
       ]
      }
     ],
     "prompt_number": 38
    },
    {
     "cell_type": "markdown",
     "metadata": {},
     "source": [
      "Using raw fotmatted string in python is often useful for regular expression searches."
     ]
    },
    {
     "cell_type": "code",
     "collapsed": false,
     "input": [
      "sestr=r\"\\f\\d\\d\""
     ],
     "language": "python",
     "metadata": {},
     "outputs": [],
     "prompt_number": 23
    },
    {
     "cell_type": "code",
     "collapsed": false,
     "input": [
      "print(sestr)"
     ],
     "language": "python",
     "metadata": {},
     "outputs": [
      {
       "output_type": "stream",
       "stream": "stdout",
       "text": [
        "\f",
        "\n",
        "\n",
        "\n",
        "\\d\\d\n"
       ]
      }
     ],
     "prompt_number": 39
    },
    {
     "cell_type": "markdown",
     "metadata": {},
     "source": [
      "Important! when doing a regular expression search in python: search term first: THEN place you are looking.\n",
      "This is a really common mistake, that is hard to notice."
     ]
    },
    {
     "cell_type": "code",
     "collapsed": false,
     "input": [
      "fi[10]"
     ],
     "language": "python",
     "metadata": {},
     "outputs": [
      {
       "output_type": "pyout",
       "prompt_number": 40,
       "text": [
        "'   1464 individuals\\n'"
       ]
      }
     ],
     "prompt_number": 40
    },
    {
     "cell_type": "code",
     "collapsed": false,
     "input": [
      "item=re.search(r\".+(\\n)\",fi[10])\n",
      "item.group(0)"
     ],
     "language": "python",
     "metadata": {},
     "outputs": [
      {
       "output_type": "pyout",
       "prompt_number": 41,
       "text": [
        "'   1464 individuals\\n'"
       ]
      }
     ],
     "prompt_number": 41
    },
    {
     "cell_type": "code",
     "collapsed": false,
     "input": [
      "item.group(1)"
     ],
     "language": "python",
     "metadata": {},
     "outputs": [
      {
       "output_type": "pyout",
       "prompt_number": 42,
       "text": [
        "'\\n'"
       ]
      }
     ],
     "prompt_number": 42
    },
    {
     "cell_type": "code",
     "collapsed": false,
     "input": [
      "struct[21]"
     ],
     "language": "python",
     "metadata": {},
     "outputs": [
      {
       "output_type": "pyout",
       "prompt_number": 98,
       "text": [
        "'100:     0.009  0.991              90\\n'"
       ]
      }
     ],
     "prompt_number": 98
    },
    {
     "cell_type": "code",
     "collapsed": false,
     "input": [
      "match=re.search(r\"\\d\\d\\d:\\s .+\",struct[21])\n",
      "print(match)"
     ],
     "language": "python",
     "metadata": {},
     "outputs": [
      {
       "output_type": "stream",
       "stream": "stdout",
       "text": [
        "<_sre.SRE_Match object at 0x19fdaa0>\n"
       ]
      }
     ],
     "prompt_number": 95
    },
    {
     "cell_type": "code",
     "collapsed": false,
     "input": [
      "match.group(0)"
     ],
     "language": "python",
     "metadata": {},
     "outputs": [
      {
       "output_type": "pyout",
       "prompt_number": 100,
       "text": [
        "'100:     0.009  0.991              90'"
       ]
      }
     ],
     "prompt_number": 100
    },
    {
     "cell_type": "code",
     "collapsed": false,
     "input": [
      "match.group(1)"
     ],
     "language": "python",
     "metadata": {},
     "outputs": [
      {
       "ename": "IndexError",
       "evalue": "no such group",
       "output_type": "pyerr",
       "traceback": [
        "\u001b[0;31m---------------------------------------------------------------------------\u001b[0m\n\u001b[0;31mIndexError\u001b[0m                                Traceback (most recent call last)",
        "\u001b[0;32m<ipython-input-101-0abdbac90d58>\u001b[0m in \u001b[0;36m<module>\u001b[0;34m()\u001b[0m\n\u001b[0;32m----> 1\u001b[0;31m \u001b[0mmatch\u001b[0m\u001b[0;34m.\u001b[0m\u001b[0mgroup\u001b[0m\u001b[0;34m(\u001b[0m\u001b[0;36m1\u001b[0m\u001b[0;34m)\u001b[0m\u001b[0;34m\u001b[0m\u001b[0m\n\u001b[0m",
        "\u001b[0;31mIndexError\u001b[0m: no such group"
       ]
      }
     ],
     "prompt_number": 101
    },
    {
     "cell_type": "code",
     "collapsed": false,
     "input": [
      "match2=re.search(r\"(\\d\\d\\d):\\s+(\\d+\\.\\d+)\\s+(\\d+\\.\\d+).+\",struct[21])"
     ],
     "language": "python",
     "metadata": {},
     "outputs": [],
     "prompt_number": 102
    },
    {
     "cell_type": "code",
     "collapsed": false,
     "input": [
      "match2"
     ],
     "language": "python",
     "metadata": {},
     "outputs": [
      {
       "output_type": "pyout",
       "prompt_number": 103,
       "text": [
        "<_sre.SRE_Match at 0x1978570>"
       ]
      }
     ],
     "prompt_number": 103
    },
    {
     "cell_type": "code",
     "collapsed": false,
     "input": [
      "match2.group(0)"
     ],
     "language": "python",
     "metadata": {},
     "outputs": [
      {
       "output_type": "pyout",
       "prompt_number": 107,
       "text": [
        "'100:     0.009  0.991              90'"
       ]
      }
     ],
     "prompt_number": 107
    },
    {
     "cell_type": "code",
     "collapsed": false,
     "input": [
      "print(match2.group(1))\n",
      "print(match2.group(2))\n",
      "print(match2.group(3))"
     ],
     "language": "python",
     "metadata": {},
     "outputs": [
      {
       "output_type": "stream",
       "stream": "stdout",
       "text": [
        "100\n",
        "0.009\n",
        "0.991\n"
       ]
      }
     ],
     "prompt_number": 110
    },
    {
     "cell_type": "code",
     "collapsed": false,
     "input": [
      "for lin in struct:\n",
      "    if re.search(r\"(\\d\\d\\d):\\s+(\\d+\\.\\d+)\\s+(\\d+\\.\\d+).+\",lin):\n",
      "        "
     ],
     "language": "python",
     "metadata": {},
     "outputs": [
      {
       "ename": "SyntaxError",
       "evalue": "unexpected EOF while parsing (<ipython-input-43-d86509ad2a48>, line 1)",
       "output_type": "pyerr",
       "traceback": [
        "\u001b[0;36m  File \u001b[0;32m\"<ipython-input-43-d86509ad2a48>\"\u001b[0;36m, line \u001b[0;32m1\u001b[0m\n\u001b[0;31m    for lin in struct:\u001b[0m\n\u001b[0m                      ^\u001b[0m\n\u001b[0;31mSyntaxError\u001b[0m\u001b[0;31m:\u001b[0m unexpected EOF while parsing\n"
       ]
      }
     ],
     "prompt_number": 43
    },
    {
     "cell_type": "code",
     "collapsed": false,
     "input": [
      "def show_groups(pattern, text):\n",
      "  m = re.search(pattern, text)\n",
      "  if m is None:\n",
      "    print 'NO MATCH'\n",
      "    return\n",
      "  for i in range(1, 1 + len(m.groups())):\n",
      "    print '%2d: %s' % (i, m.groups(i))\n",
      "\n",
      "\n",
      "show_groups(r\"(\\d\\d\\d):\\s+(\\d+\\.\\d+)\\s+(\\d+\\.\\d+).+\", lin)\n",
      "\u0000"
     ],
     "language": "python",
     "metadata": {},
     "outputs": [
      {
       "ename": "TypeError",
       "evalue": "compile() expected string without null bytes",
       "output_type": "pyerr",
       "traceback": [
        "\u001b[0;31mTypeError\u001b[0m\u001b[0;31m:\u001b[0m compile() expected string without null bytes\n"
       ]
      }
     ],
     "prompt_number": 114
    },
    {
     "cell_type": "code",
     "collapsed": false,
     "input": [],
     "language": "python",
     "metadata": {},
     "outputs": []
    }
   ],
   "metadata": {}
  }
 ]
}