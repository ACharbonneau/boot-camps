{
 "metadata": {
  "name": "numpy"
 },
 "nbformat": 3,
 "nbformat_minor": 0,
 "worksheets": [
  {
   "cells": [
    {
     "cell_type": "markdown",
     "metadata": {},
     "source": [
      "# Introduction to Numpy and Matplotlib\n",
      "[Numpy](http://numpy.scipy.org/) is the fundamental library for scientific computing in Python. It contains list like objects that work like arrays, matrices, and data tables. This is how scientists typically expect data to behave. Numpy also provides linear algebra, Fourier transforms, random number generation, and tools for integrating C/C++ and Fortran code.\n",
      "\n",
      "[Matplotlib](http://matplotlib.org/) is the reigning library for 2D (with budding support for 3D) scientific plotting in Python. It produces publication quality figures in a variety of hardcopy formats and interactive environments across platforms.  Between Numpy and Matplotlib, much of MATLAB's functionality can be replaced with Python.\n",
      "\n",
      "If you primarily want to work with tables of data, [Pandas](pandas), which depends on Numpy, is probably the module that you want to start with."
     ]
    },
    {
     "cell_type": "markdown",
     "metadata": {},
     "source": [
      "## Why Numpy?\n",
      "\n",
      "Python was never designed originally for scientific computing, and contains many high-level abstractions necessary to enable its enormously flexible object-oriented interface.  In Python, storing most integers requires more than just 4-8 bytes.  It also requires at least a couple pointers per-integer.  Performing a calculation on two numbers requires one or two bytecode operations, each of which can take dozens of CPU instructions for each pass through the Python eval loop.  And when it comes to looping and index operations of Python lists the situation is even more dire.\n",
      "\n",
      "### A basic example\n",
      "\n",
      "`Z = A + B * C`\n",
      "\n",
      "In pure Python:"
     ]
    },
    {
     "cell_type": "code",
     "collapsed": false,
     "input": [
      "A = range(1000000)\n",
      "B = range(1000000)\n",
      "C = range(1000000)"
     ],
     "language": "python",
     "metadata": {},
     "outputs": [],
     "prompt_number": 19
    },
    {
     "cell_type": "code",
     "collapsed": false,
     "input": [
      "%%timeit Z = []\n",
      "for idx in xrange(len(A)):\n",
      "    Z.append(A[idx] + B[idx] * C[idx])\n",
      "\n",
      "# print Z  # DON'T DO THIS!  It will print all 10000 array items"
     ],
     "language": "python",
     "metadata": {},
     "outputs": [
      {
       "output_type": "stream",
       "stream": "stdout",
       "text": [
        "1 loops, best of 3: 243 ms per loop\n"
       ]
      }
     ],
     "prompt_number": 20
    },
    {
     "cell_type": "code",
     "collapsed": false,
     "input": [
      "import numpy as np\n",
      "\n",
      "A = np.arange(1000000)\n",
      "B = np.arange(1000000)\n",
      "C = np.arange(1000000)"
     ],
     "language": "python",
     "metadata": {},
     "outputs": [],
     "prompt_number": 21
    },
    {
     "cell_type": "code",
     "collapsed": false,
     "input": [
      "%%timeit\n",
      "Z = A + B * C"
     ],
     "language": "python",
     "metadata": {},
     "outputs": [
      {
       "output_type": "stream",
       "stream": "stdout",
       "text": [
        "100 loops, best of 3: 4.75 ms per loop\n"
       ]
      }
     ],
     "prompt_number": 22
    },
    {
     "cell_type": "code",
     "collapsed": false,
     "input": [
      "Z = A + B * C\n",
      "print Z"
     ],
     "language": "python",
     "metadata": {},
     "outputs": [
      {
       "output_type": "stream",
       "stream": "stdout",
       "text": [
        "[           0            2            6 ..., 999995000006 999997000002\n",
        " 999999000000]\n"
       ]
      }
     ],
     "prompt_number": 23
    },
    {
     "cell_type": "markdown",
     "metadata": {},
     "source": [
      "In addition to just *looking* simpler, the Numpy version is significantly faster. The for loop disappears completely and is replaced by vectorized array operations."
     ]
    },
    {
     "cell_type": "markdown",
     "metadata": {},
     "source": [
      "## Memory Usage\n",
      "3 x 1000000 lists of Python ints: ~96 MB\n",
      "\n",
      "3 x 1000000 Numpy arrays of 64-bit ints: ~32 MB"
     ]
    },
    {
     "cell_type": "markdown",
     "metadata": {},
     "source": [
      "## Numpy Array Basics\n",
      "#### Creating a Numpy array"
     ]
    },
    {
     "cell_type": "code",
     "collapsed": false,
     "input": [
      "import numpy as np\n",
      "\n",
      "example_array = np.array([[1, 2, 3], [4, 5, 6], [7, 8, 9]])\n",
      "example_array"
     ],
     "language": "python",
     "metadata": {},
     "outputs": [
      {
       "output_type": "pyout",
       "prompt_number": 23,
       "text": [
        "array([[1, 2, 3],\n",
        "       [4, 5, 6],\n",
        "       [7, 8, 9]])"
       ]
      }
     ],
     "prompt_number": 23
    },
    {
     "cell_type": "markdown",
     "metadata": {},
     "source": [
      "#### Indexing an array"
     ]
    },
    {
     "cell_type": "code",
     "collapsed": false,
     "input": [
      "example_array[1, 1]"
     ],
     "language": "python",
     "metadata": {},
     "outputs": [
      {
       "output_type": "pyout",
       "prompt_number": 24,
       "text": [
        "5"
       ]
      }
     ],
     "prompt_number": 24
    },
    {
     "cell_type": "markdown",
     "metadata": {},
     "source": [
      "#### Slicing an array"
     ]
    },
    {
     "cell_type": "code",
     "collapsed": false,
     "input": [
      "example_array[:, 0]"
     ],
     "language": "python",
     "metadata": {},
     "outputs": [
      {
       "output_type": "pyout",
       "prompt_number": 25,
       "text": [
        "array([1, 4, 7])"
       ]
      }
     ],
     "prompt_number": 25
    },
    {
     "cell_type": "code",
     "collapsed": false,
     "input": [
      "example_array[1, :]"
     ],
     "language": "python",
     "metadata": {},
     "outputs": [
      {
       "output_type": "pyout",
       "prompt_number": 26,
       "text": [
        "array([4, 5, 6])"
       ]
      }
     ],
     "prompt_number": 26
    },
    {
     "cell_type": "code",
     "collapsed": false,
     "input": [
      "example_array[1:3, 1:3]"
     ],
     "language": "python",
     "metadata": {},
     "outputs": [
      {
       "output_type": "pyout",
       "prompt_number": 27,
       "text": [
        "array([[5, 6],\n",
        "       [8, 9]])"
       ]
      }
     ],
     "prompt_number": 27
    },
    {
     "cell_type": "markdown",
     "metadata": {},
     "source": [
      "#### Subsetting an array"
     ]
    },
    {
     "cell_type": "code",
     "collapsed": false,
     "input": [
      "array1 = np.array([1, 1, 1, 2, 2, 2, 1])\n",
      "array2 = np.array([1, 2, 3, 4, 5, 6, 7])\n",
      "array2[array1==1]"
     ],
     "language": "python",
     "metadata": {},
     "outputs": [
      {
       "output_type": "pyout",
       "prompt_number": 28,
       "text": [
        "array([1, 2, 3, 7])"
       ]
      }
     ],
     "prompt_number": 28
    },
    {
     "cell_type": "code",
     "collapsed": false,
     "input": [
      "array3 = np.array(['a', 'a', 'a', 'b', 'b', 'b', 'b'])\n",
      "array2[(array1==1) & (array3=='a')]"
     ],
     "language": "python",
     "metadata": {},
     "outputs": [
      {
       "output_type": "pyout",
       "prompt_number": 29,
       "text": [
        "array([1, 2, 3])"
       ]
      }
     ],
     "prompt_number": 29
    },
    {
     "cell_type": "markdown",
     "metadata": {},
     "source": [
      "## Math\n",
      "### Arrays\n",
      "Math on arrays is vectorized and behaves exactly like most scientists would expect"
     ]
    },
    {
     "cell_type": "code",
     "collapsed": false,
     "input": [
      "array1 = np.array([1, 1, 1, 2, 2, 2, 1])\n",
      "array2 = np.array([1, 2, 3, 4, 5, 6, 7])\n",
      "\n",
      "array1 * 2 + 1"
     ],
     "language": "python",
     "metadata": {},
     "outputs": [
      {
       "output_type": "pyout",
       "prompt_number": 30,
       "text": [
        "array([3, 3, 3, 5, 5, 5, 3])"
       ]
      }
     ],
     "prompt_number": 30
    },
    {
     "cell_type": "code",
     "collapsed": false,
     "input": [
      "array1 * array2"
     ],
     "language": "python",
     "metadata": {},
     "outputs": [
      {
       "output_type": "pyout",
       "prompt_number": 31,
       "text": [
        "array([ 1,  2,  3,  8, 10, 12,  7])"
       ]
      }
     ],
     "prompt_number": 31
    },
    {
     "cell_type": "markdown",
     "metadata": {},
     "source": [
      "### Linear algebra (matrices)\n",
      "Linear algebra is done using a different data structure called a matrix."
     ]
    },
    {
     "cell_type": "code",
     "collapsed": false,
     "input": [
      "matrix1 = np.matrix([[1, 2, 3], [4, 5, 6]])\n",
      "matrix2 = np.matrix([1, 2, 3])\n",
      "matrix1 * matrix2.transpose()"
     ],
     "language": "python",
     "metadata": {},
     "outputs": [
      {
       "output_type": "pyout",
       "prompt_number": 32,
       "text": [
        "matrix([[14],\n",
        "        [32]])"
       ]
      }
     ],
     "prompt_number": 32
    },
    {
     "cell_type": "markdown",
     "metadata": {},
     "source": [
      "## Importing and Exporting Data\n",
      "The numpy function genfromtxt is a powerful way to import text data.\n",
      "It can use different delimiters, skip header rows, control the type of imported data, give columns of data names, and a number of other useful goodies. See the [documentation](http://docs.scipy.org/doc/numpy/reference/generated/numpy.genfromtxt.html) for a full list of features of run help(np.genfromtxt) from the Python shell (after importing the module of course)."
     ]
    },
    {
     "cell_type": "markdown",
     "metadata": {},
     "source": [
      "### Basic Import and Export\n",
      "#### Import\n",
      "Basic imports using Numpy will treat all data as floats.\n",
      "If we're doing a basic import we'll typically want to skip the header row (since it's generally not composed of numbers."
     ]
    },
    {
     "cell_type": "code",
     "collapsed": false,
     "input": [
      "data = np.genfromtxt('./data/examp_data.txt', delimiter=',', skip_header=1)\n",
      "data"
     ],
     "language": "python",
     "metadata": {},
     "outputs": [
      {
       "ename": "IOError",
       "evalue": "./data/examp_data.txt not found.",
       "output_type": "pyerr",
       "traceback": [
        "<span class=\"ansired\">---------------------------------------------------------------------------</span>\n<span class=\"ansired\">IOError</span>                                   Traceback (most recent call last)",
        "<span class=\"ansigreen\">/bray/sc1/root/home/embray/Documents/SC/notebooks/&lt;ipython-input-33-653598e47e0d&gt;</span> in <span class=\"ansicyan\">&lt;module&gt;</span><span class=\"ansiblue\">()</span>\n<span class=\"ansigreen\">----&gt; 1</span><span class=\"ansiyellow\"> </span>data <span class=\"ansiyellow\">=</span> np<span class=\"ansiyellow\">.</span>genfromtxt<span class=\"ansiyellow\">(</span><span class=\"ansiblue\">&apos;./data/examp_data.txt&apos;</span><span class=\"ansiyellow\">,</span> delimiter<span class=\"ansiyellow\">=</span><span class=\"ansiblue\">&apos;,&apos;</span><span class=\"ansiyellow\">,</span> skip_header<span class=\"ansiyellow\">=</span><span class=\"ansicyan\">1</span><span class=\"ansiyellow\">)</span><span class=\"ansiyellow\"></span>\n<span class=\"ansigreen\">      2</span> data<span class=\"ansiyellow\"></span>\n",
        "<span class=\"ansigreen\">/bray/sc1/root/lib/python2.7/site-packages/numpy/lib/npyio.pyc</span> in <span class=\"ansicyan\">genfromtxt</span><span class=\"ansiblue\">(fname, dtype, comments, delimiter, skiprows, skip_header, skip_footer, converters, missing, missing_values, filling_values, usecols, names, excludelist, deletechars, replace_space, autostrip, case_sensitive, defaultfmt, unpack, usemask, loose, invalid_raise)</span>\n<span class=\"ansigreen\">   1270</span>     <span class=\"ansigreen\">try</span><span class=\"ansiyellow\">:</span><span class=\"ansiyellow\"></span>\n<span class=\"ansigreen\">   1271</span>         <span class=\"ansigreen\">if</span> isinstance<span class=\"ansiyellow\">(</span>fname<span class=\"ansiyellow\">,</span> basestring<span class=\"ansiyellow\">)</span><span class=\"ansiyellow\">:</span><span class=\"ansiyellow\"></span>\n<span class=\"ansigreen\">-&gt; 1272</span><span class=\"ansiyellow\">             </span>fhd <span class=\"ansiyellow\">=</span> iter<span class=\"ansiyellow\">(</span>np<span class=\"ansiyellow\">.</span>lib<span class=\"ansiyellow\">.</span>_datasource<span class=\"ansiyellow\">.</span>open<span class=\"ansiyellow\">(</span>fname<span class=\"ansiyellow\">,</span> <span class=\"ansiblue\">&apos;rbU&apos;</span><span class=\"ansiyellow\">)</span><span class=\"ansiyellow\">)</span><span class=\"ansiyellow\"></span>\n<span class=\"ansigreen\">   1273</span>             own_fhd <span class=\"ansiyellow\">=</span> True<span class=\"ansiyellow\"></span>\n<span class=\"ansigreen\">   1274</span>         <span class=\"ansigreen\">else</span><span class=\"ansiyellow\">:</span><span class=\"ansiyellow\"></span>\n",
        "<span class=\"ansigreen\">/bray/sc1/root/lib/python2.7/site-packages/numpy/lib/_datasource.pyc</span> in <span class=\"ansicyan\">open</span><span class=\"ansiblue\">(path, mode, destpath)</span>\n<span class=\"ansigreen\">    143</span> <span class=\"ansiyellow\"></span>\n<span class=\"ansigreen\">    144</span>     ds <span class=\"ansiyellow\">=</span> DataSource<span class=\"ansiyellow\">(</span>destpath<span class=\"ansiyellow\">)</span><span class=\"ansiyellow\"></span>\n<span class=\"ansigreen\">--&gt; 145</span><span class=\"ansiyellow\">     </span><span class=\"ansigreen\">return</span> ds<span class=\"ansiyellow\">.</span>open<span class=\"ansiyellow\">(</span>path<span class=\"ansiyellow\">,</span> mode<span class=\"ansiyellow\">)</span><span class=\"ansiyellow\"></span>\n<span class=\"ansigreen\">    146</span> <span class=\"ansiyellow\"></span>\n<span class=\"ansigreen\">    147</span> <span class=\"ansiyellow\"></span>\n",
        "<span class=\"ansigreen\">/bray/sc1/root/lib/python2.7/site-packages/numpy/lib/_datasource.pyc</span> in <span class=\"ansicyan\">open</span><span class=\"ansiblue\">(self, path, mode)</span>\n<span class=\"ansigreen\">    477</span>             <span class=\"ansigreen\">return</span> _file_openers<span class=\"ansiyellow\">[</span>ext<span class=\"ansiyellow\">]</span><span class=\"ansiyellow\">(</span>found<span class=\"ansiyellow\">,</span> mode<span class=\"ansiyellow\">=</span>mode<span class=\"ansiyellow\">)</span><span class=\"ansiyellow\"></span>\n<span class=\"ansigreen\">    478</span>         <span class=\"ansigreen\">else</span><span class=\"ansiyellow\">:</span><span class=\"ansiyellow\"></span>\n<span class=\"ansigreen\">--&gt; 479</span><span class=\"ansiyellow\">             </span><span class=\"ansigreen\">raise</span> IOError<span class=\"ansiyellow\">(</span><span class=\"ansiblue\">&quot;%s not found.&quot;</span> <span class=\"ansiyellow\">%</span> path<span class=\"ansiyellow\">)</span><span class=\"ansiyellow\"></span>\n<span class=\"ansigreen\">    480</span> <span class=\"ansiyellow\"></span>\n<span class=\"ansigreen\">    481</span> <span class=\"ansiyellow\"></span>\n",
        "<span class=\"ansired\">IOError</span>: ./data/examp_data.txt not found."
       ]
      }
     ],
     "prompt_number": 33
    },
    {
     "cell_type": "markdown",
     "metadata": {},
     "source": [
      "#### Export"
     ]
    },
    {
     "cell_type": "code",
     "collapsed": true,
     "input": [
      "np.savetxt('./data/examp_output.txt', data, delimiter=',')"
     ],
     "language": "python",
     "metadata": {},
     "outputs": [],
     "prompt_number": "&nbsp;"
    },
    {
     "cell_type": "markdown",
     "metadata": {},
     "source": [
      "### Importing Data Tables\n",
      "Lots of scientific data comes in the form of tables, with one row per observation, and one column per thing observed.\n",
      "Often the different columns to have different types (including text).\n",
      "The best way to work with this type of data is in a Structured Array."
     ]
    },
    {
     "cell_type": "markdown",
     "metadata": {},
     "source": [
      "#### Import\n",
      "To do this we let Numpy automatically detect the data types in each column using the optional argument ``dtype=None``.\n",
      "We can also use an existing header row as the names for the columns using the optional arugment ``Names=True``."
     ]
    },
    {
     "cell_type": "code",
     "collapsed": false,
     "input": [
      "data = np.genfromtxt('./data/examp_data_species_mass.txt', dtype=None, names=True, delimiter=',')\n",
      "data"
     ],
     "language": "python",
     "metadata": {},
     "outputs": [],
     "prompt_number": "&nbsp;"
    },
    {
     "cell_type": "markdown",
     "metadata": {},
     "source": [
      "#### Export\n",
      "The easiest way to export a structured array is to treat it like a list of lists and export it using the csv module using a function like this."
     ]
    },
    {
     "cell_type": "code",
     "collapsed": true,
     "input": [
      "def export_to_csv(data, filename):\n",
      "    outputfile = open(filename, 'wb')\n",
      "    datawriter = csv.writer(outputfile)\n",
      "    datawriter.writerows(data)\n",
      "    outputfile.close()"
     ],
     "language": "python",
     "metadata": {},
     "outputs": [],
     "prompt_number": "&nbsp;"
    },
    {
     "cell_type": "markdown",
     "metadata": {},
     "source": [
      "Structured Arrays\n",
      "-----------------\n",
      "If we import data into a Structured Array we can do a lot of things that we often want to do with scientific data."
     ]
    },
    {
     "cell_type": "markdown",
     "metadata": {},
     "source": [
      "#### Selecting columns by name"
     ]
    },
    {
     "cell_type": "code",
     "collapsed": false,
     "input": [
      "data = np.genfromtxt('./data/examp_data_species_mass.txt', dtype=None, names=True, delimiter=',')\n",
      "print data\n",
      "data['species']"
     ],
     "language": "python",
     "metadata": {},
     "outputs": [],
     "prompt_number": "&nbsp;"
    },
    {
     "cell_type": "markdown",
     "metadata": {},
     "source": [
      "#### Subset columns based on the values in other columns"
     ]
    },
    {
     "cell_type": "code",
     "collapsed": false,
     "input": [
      "data['mass'][data['species'] == 'DM']"
     ],
     "language": "python",
     "metadata": {},
     "outputs": [],
     "prompt_number": "&nbsp;"
    },
    {
     "cell_type": "code",
     "collapsed": false,
     "input": [
      "data['mass'][(data['species'] == 'DM') & (data['site'] == 1)]"
     ],
     "language": "python",
     "metadata": {},
     "outputs": [],
     "prompt_number": "&nbsp;"
    },
    {
     "cell_type": "markdown",
     "metadata": {},
     "source": [
      "## Random number generation\n",
      "#### Random uniform (0 to 1)"
     ]
    },
    {
     "cell_type": "code",
     "collapsed": false,
     "input": [
      "np.random.rand(3, 5)"
     ],
     "language": "python",
     "metadata": {},
     "outputs": [],
     "prompt_number": "&nbsp;"
    },
    {
     "cell_type": "markdown",
     "metadata": {},
     "source": [
      "#### Random normal (mean=0, stdev=1)"
     ]
    },
    {
     "cell_type": "code",
     "collapsed": false,
     "input": [
      "np.random.randn(4, 2)"
     ],
     "language": "python",
     "metadata": {},
     "outputs": [],
     "prompt_number": "&nbsp;"
    },
    {
     "cell_type": "markdown",
     "metadata": {},
     "source": [
      "#### Random integers"
     ]
    },
    {
     "cell_type": "code",
     "collapsed": false,
     "input": [
      "min = 10\n",
      "max = 20\n",
      "np.random.randint(min, max, [10, 2])"
     ],
     "language": "python",
     "metadata": {},
     "outputs": [],
     "prompt_number": "&nbsp;"
    }
   ],
   "metadata": {}
  }
 ]
}