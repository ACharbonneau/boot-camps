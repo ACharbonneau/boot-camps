{
 "metadata": {
  "name": "RegEx"
 },
 "nbformat": 3,
 "nbformat_minor": 0,
 "worksheets": [
  {
   "cells": [
    {
     "cell_type": "markdown",
     "metadata": {},
     "source": [
      "Import the regular expression module"
     ]
    },
    {
     "cell_type": "code",
     "collapsed": false,
     "input": [
      "import re"
     ],
     "language": "python",
     "metadata": {},
     "outputs": [],
     "prompt_number": 1
    },
    {
     "cell_type": "markdown",
     "metadata": {},
     "source": [
      "Open your file of interest"
     ]
    },
    {
     "cell_type": "code",
     "collapsed": false,
     "input": [
      "fi=open(\"structureoutput.txt\").readlines()"
     ],
     "language": "python",
     "metadata": {},
     "outputs": [],
     "prompt_number": 2
    },
    {
     "cell_type": "markdown",
     "metadata": {},
     "source": [
      "I like to take a look to make sure I opened the right thing"
     ]
    },
    {
     "cell_type": "code",
     "collapsed": false,
     "input": [
      "fi[:10]"
     ],
     "language": "python",
     "metadata": {},
     "outputs": [
      {
       "output_type": "pyout",
       "prompt_number": 4,
       "text": [
        "['\\n',\n",
        " '\\n',\n",
        " '----------------------------------------------------\\n',\n",
        " 'STRUCTURE by Pritchard, Stephens and Donnelly (2000)\\n',\n",
        " '     and Falush, Stephens and Pritchard (2003)\\n',\n",
        " '       Code by Pritchard, Falush and Hubisz\\n',\n",
        " '             Version 2.3.1 (Febrauary 2009)\\n',\n",
        " '----------------------------------------------------\\n',\n",
        " '\\n',\n",
        " '\\n']"
       ]
      }
     ],
     "prompt_number": 4
    },
    {
     "cell_type": "markdown",
     "metadata": {},
     "source": [
      "decide what you are searching for in this set of strings (this is where regexpal can be quite handy!)"
     ]
    },
    {
     "cell_type": "code",
     "collapsed": false,
     "input": [
      "sestr=\"\\f\\d\\d\""
     ],
     "language": "python",
     "metadata": {},
     "outputs": [],
     "prompt_number": 9
    },
    {
     "cell_type": "code",
     "collapsed": false,
     "input": [
      "print(sestr)"
     ],
     "language": "python",
     "metadata": {},
     "outputs": [
      {
       "output_type": "stream",
       "stream": "stdout",
       "text": [
        "\f",
        "\\d\\d\n"
       ]
      }
     ],
     "prompt_number": 10
    },
    {
     "cell_type": "markdown",
     "metadata": {},
     "source": [
      "Using raw fromatted string is python is often useful for regular expression searches."
     ]
    },
    {
     "cell_type": "code",
     "collapsed": false,
     "input": [
      "sestr=r\"\\f\\d\\d\""
     ],
     "language": "python",
     "metadata": {},
     "outputs": [],
     "prompt_number": 11
    },
    {
     "cell_type": "code",
     "collapsed": false,
     "input": [
      "print(sestr)"
     ],
     "language": "python",
     "metadata": {},
     "outputs": [
      {
       "output_type": "stream",
       "stream": "stdout",
       "text": [
        "\\f\\d\\d\n"
       ]
      }
     ],
     "prompt_number": 12
    },
    {
     "cell_type": "markdown",
     "metadata": {},
     "source": [
      "Important! when doing a regular expression search in python: search term first: THEN place you are looking.\n",
      "This is a really common mistake, that is hard to notice."
     ]
    },
    {
     "cell_type": "code",
     "collapsed": false,
     "input": [
      "item=re.search(r\"\\n\",fi[10])\n",
      "item(1)"
     ],
     "language": "python",
     "metadata": {},
     "outputs": [
      {
       "ename": "TypeError",
       "evalue": "'_sre.SRE_Match' object is not callable",
       "output_type": "pyerr",
       "traceback": [
        "\u001b[0;31m---------------------------------------------------------------------------\u001b[0m\n\u001b[0;31mTypeError\u001b[0m                                 Traceback (most recent call last)",
        "\u001b[0;32m<ipython-input-30-ab4cc19f0c43>\u001b[0m in \u001b[0;36m<module>\u001b[0;34m()\u001b[0m\n\u001b[1;32m      1\u001b[0m \u001b[0mitem\u001b[0m\u001b[0;34m=\u001b[0m\u001b[0mre\u001b[0m\u001b[0;34m.\u001b[0m\u001b[0msearch\u001b[0m\u001b[0;34m(\u001b[0m\u001b[0;34mr\"\\n\"\u001b[0m\u001b[0;34m,\u001b[0m\u001b[0mfi\u001b[0m\u001b[0;34m[\u001b[0m\u001b[0;36m10\u001b[0m\u001b[0;34m]\u001b[0m\u001b[0;34m)\u001b[0m\u001b[0;34m\u001b[0m\u001b[0m\n\u001b[0;32m----> 2\u001b[0;31m \u001b[0mitem\u001b[0m\u001b[0;34m(\u001b[0m\u001b[0;36m1\u001b[0m\u001b[0;34m)\u001b[0m\u001b[0;34m\u001b[0m\u001b[0m\n\u001b[0m",
        "\u001b[0;31mTypeError\u001b[0m: '_sre.SRE_Match' object is not callable"
       ]
      }
     ],
     "prompt_number": 30
    },
    {
     "cell_type": "code",
     "collapsed": false,
     "input": [
      "fi[10]"
     ],
     "language": "python",
     "metadata": {},
     "outputs": [
      {
       "output_type": "pyout",
       "prompt_number": 22,
       "text": [
        "'\\n'"
       ]
      }
     ],
     "prompt_number": 22
    },
    {
     "cell_type": "code",
     "collapsed": false,
     "input": [],
     "language": "python",
     "metadata": {},
     "outputs": []
    }
   ],
   "metadata": {}
  }
 ]
}