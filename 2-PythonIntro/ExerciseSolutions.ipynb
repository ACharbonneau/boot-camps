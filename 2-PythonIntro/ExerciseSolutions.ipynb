{
 "metadata": {
  "name": "ExerciseSolutions"
 },
 "nbformat": 3,
 "nbformat_minor": 0,
 "worksheets": [
  {
   "cells": [
    {
     "cell_type": "markdown",
     "metadata": {},
     "source": [
      "# Exercise 1\n",
      "1. Calculate the mean of the numbers 2, 3, and 10.\n",
      "2. Calculate the hypotenuse of a triangle with sides 6 and 8."
     ]
    },
    {
     "cell_type": "code",
     "collapsed": true,
     "input": [
      "# Mean\n",
      "numbers = [2, 3, 10]\n",
      "mean = sum(numbers) / float(len(numbers))\n",
      "print 'mean of %s: %s' % (numbers, mean)\n",
      "\n",
      "# Hypotenuse\n",
      "x = 6\n",
      "y = 8\n",
      "print 'hypotenuse', (x**2 + y**2) ** 0.5\n",
      "# Alternatively\n",
      "\n",
      "import math\n",
      "print 'hypotenuse', math.sqrt(x**2 + y**2)"
     ],
     "language": "python",
     "metadata": {},
     "outputs": [
      {
       "output_type": "stream",
       "stream": "stdout",
       "text": [
        "mean of [2, 3, 10]: 5.0\n",
        "hypotenuse 10.0\n",
        "hypotenuse 10.0\n"
       ]
      }
     ],
     "prompt_number": 1
    },
    {
     "cell_type": "markdown",
     "metadata": {},
     "source": [
      "# Exercise 2\n",
      "1. Make a list with 5 things in it.\n",
      "2. Print the 4th thing in the list.\n",
      "3. Print the sublist containing the 3rd, 4th, and 5th things in the list."
     ]
    },
    {
     "cell_type": "code",
     "collapsed": true,
     "input": [
      "mylist = [1, 2, 4, 5, 'a']\n",
      "print mylist[3]\n",
      "print mylist[2:5]"
     ],
     "language": "python",
     "metadata": {},
     "outputs": [
      {
       "output_type": "stream",
       "stream": "stdout",
       "text": [
        "5\n",
        "[4, 5, 'a']\n"
       ]
      }
     ],
     "prompt_number": 5
    },
    {
     "cell_type": "markdown",
     "metadata": {},
     "source": [
      "# Exercise 3\n",
      "1. Make a dictionary and experiment using different types as keys. Can containers be keys?"
     ]
    },
    {
     "cell_type": "code",
     "collapsed": true,
     "input": [
      "mydict = {'a': 1, 'b': 2, ('a', 'b'): 3}\n",
      "print mydict['a']\n",
      "print mydict['b']\n",
      "print mydict[('a', 'b')]"
     ],
     "language": "python",
     "metadata": {},
     "outputs": [
      {
       "output_type": "stream",
       "stream": "stdout",
       "text": [
        "1\n",
        "2\n",
        "3\n"
       ]
      }
     ],
     "prompt_number": 6
    },
    {
     "cell_type": "markdown",
     "metadata": {},
     "source": [
      "# Exercises 4\n",
      "1. Write an if statement that prints whether x is even or odd"
     ]
    },
    {
     "cell_type": "code",
     "collapsed": true,
     "input": [
      "x = 5\n",
      "if x % 2 == 0:\n",
      "    print 'x is even'\n",
      "else:\n",
      "    print 'x is odd'"
     ],
     "language": "python",
     "metadata": {},
     "outputs": [
      {
       "output_type": "stream",
       "stream": "stdout",
       "text": [
        "x is odd\n"
       ]
      }
     ],
     "prompt_number": 7
    },
    {
     "cell_type": "markdown",
     "metadata": {},
     "source": [
      "# Exercises 5\n",
      "1. Using a loop, calculate the factorial of 42 (the product of all integers up to and including 42)."
     ]
    },
    {
     "cell_type": "code",
     "collapsed": true,
     "input": [
      "total = 1\n",
      "for x in range(1, 43):\n",
      "    total *= x\n",
      "print '42! = %d' % total"
     ],
     "language": "python",
     "metadata": {},
     "outputs": [
      {
       "output_type": "stream",
       "stream": "stdout",
       "text": [
        "42! = 1405006117752879898543142606244511569936384000000000\n"
       ]
      }
     ],
     "prompt_number": 8
    },
    {
     "cell_type": "markdown",
     "metadata": {},
     "source": [
      "# Exercises 6\n",
      "1. Create a function that returns the factorial of a given number."
     ]
    },
    {
     "cell_type": "code",
     "collapsed": true,
     "input": [
      "def fact(n):\n",
      "    total = 1\n",
      "    for x in range(1, n + 1):\n",
      "        total *= x\n",
      "    return total\n",
      "    \n",
      "print '3! =', fact(3)\n",
      "print '42! =', fact(42)"
     ],
     "language": "python",
     "metadata": {},
     "outputs": [
      {
       "output_type": "stream",
       "stream": "stdout",
       "text": [
        "3! = 6\n",
        "42! = 1405006117752879898543142606244511569936384000000000\n"
       ]
      }
     ],
     "prompt_number": 10
    },
    {
     "cell_type": "markdown",
     "metadata": {},
     "source": [
      "# Exercise 7\n",
      "1. Read the file 'big_animals.txt' and print each line on which more than 10 moose were sighted.\n",
      "2. Turn the code for #1 into a function and use it on the files 'merida_animals.txt' and 'fergus_animals.txt'."
     ]
    },
    {
     "cell_type": "code",
     "collapsed": true,
     "input": [
      "with open('big_animals.txt') as f:\n",
      "    for line in f:\n",
      "        date, timestamp, species, sightings = line.split()\n",
      "        sightings = int(sightings)\n",
      "        if species == 'Moose' and sightings > 10:\n",
      "            print line\n",
      "            \n",
      "            \n",
      "def top_sightings(filename, species, n):\n",
      "    \"\"\"Print dates on which there were more than n sightings of a given species.\"\"\"\n",
      "    \n",
      "    print 'top %s sightings in %s' % (n, filename)\n",
      "    \n",
      "    with open(filename) as f:\n",
      "        for line in f:\n",
      "            fields = line.split()\n",
      "            sightings = int(fields[3])\n",
      "            if fields[2].lower() == species.lower() and sightings > n:\n",
      "                print line\n",
      "                \n",
      "\n",
      "top_sightings('merida_animals.txt', 'Moose', 10)\n",
      "top_sightings('fergus_animals.txt', 'Moose', 10)"
     ],
     "language": "python",
     "metadata": {},
     "outputs": [
      {
       "output_type": "stream",
       "stream": "stdout",
       "text": [
        "2011-04-22 15:30 Moose 37\n",
        "\n",
        "2011-05-02 03:32 Moose 14\n",
        "\n",
        "2011-05-05 07:00 Moose 20\n",
        "\n",
        "2011-05-06 19:40 Moose 31\n",
        "\n",
        "2011-05-08 01:36 Moose 19\n",
        "\n",
        "2011-05-08 09:39 Moose 35\n",
        "\n",
        "2011-05-08 10:38 Moose 11\n",
        "\n",
        "2011-05-10 11:03 Moose 15\n",
        "\n",
        "2011-05-14 15:41 Moose 12\n",
        "\n",
        "2011-05-22 14:07 Moose 30\n",
        "\n",
        "2011-05-30 12:15 Moose 11\n",
        "\n",
        "2011-05-30 19:20 Moose 25\n",
        "\n",
        "top 10 sightings in merida_animals.txt\n",
        "2011-04-24 02:13 Moose 36\n",
        "\n",
        "2011-05-02 05:21 Moose 25\n",
        "\n",
        "2011-05-04 20:11 Moose 40\n",
        "\n",
        "2011-05-14 01:17 Moose 29\n",
        "\n",
        "2011-05-15 03:13 Moose 33\n",
        "\n",
        "2011-05-20 22:01 Moose 12\n",
        "\n",
        "2011-05-23 11:51 Moose 20\n",
        "\n",
        "2011-06-03 19:30 Moose 20\n",
        "\n",
        "2011-06-04 05:52 Moose 37\n",
        "\n",
        "2011-06-08 04:39 Moose 24\n",
        "\n",
        "top 10 sightings in fergus_animals.txt\n",
        "2011-05-03 13:39 Moose 16\n",
        "\n",
        "2011-05-06 15:18 Moose 29\n",
        "\n",
        "2011-05-06 13:32 Moose 20\n",
        "\n",
        "2011-05-10 18:28 Moose 28\n",
        "\n",
        "2011-05-21 10:16 Moose 32\n",
        "\n",
        "2011-05-29 01:20 Moose 29\n",
        "\n",
        "2011-06-01 21:17 Moose 27\n",
        "\n",
        "2011-06-01 14:04 Moose 17\n",
        "\n",
        "2011-06-03 14:57 Moose 33\n",
        "\n",
        "2011-06-04 17:48 Moose 11\n",
        "\n",
        "2011-06-06 09:57 Moose 12\n",
        "\n",
        "2011-06-07 09:33 Moose 40\n",
        "\n",
        "2011-06-15 08:11 Moose 19\n",
        "\n",
        "2011-06-17 05:30 Moose 21\n",
        "\n",
        "2011-06-17 20:37 Moose 42\n",
        "\n"
       ]
      }
     ],
     "prompt_number": 17
    },
    {
     "cell_type": "code",
     "collapsed": false,
     "input": [],
     "language": "python",
     "metadata": {},
     "outputs": []
    }
   ],
   "metadata": {}
  }
 ]
}