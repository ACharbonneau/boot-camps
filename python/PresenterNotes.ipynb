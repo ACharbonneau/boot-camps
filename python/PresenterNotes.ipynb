{
 "metadata": {
  "name": "PresenterNotes"
 },
 "nbformat": 3,
 "nbformat_minor": 0,
 "worksheets": [
  {
   "cells": [
    {
     "cell_type": "markdown",
     "metadata": {},
     "source": [
      "# Math\n",
      "`+ - * / ** %`"
     ]
    },
    {
     "cell_type": "code",
     "collapsed": false,
     "input": [
      "2 + 5"
     ],
     "language": "python",
     "metadata": {},
     "outputs": [
      {
       "output_type": "pyout",
       "prompt_number": 15,
       "text": [
        "7"
       ]
      }
     ],
     "prompt_number": 15
    },
    {
     "cell_type": "code",
     "collapsed": false,
     "input": [
      "2 - 4"
     ],
     "language": "python",
     "metadata": {},
     "outputs": [
      {
       "output_type": "pyout",
       "prompt_number": 16,
       "text": [
        "-2"
       ]
      }
     ],
     "prompt_number": 16
    },
    {
     "cell_type": "code",
     "collapsed": false,
     "input": [
      "4 * 5"
     ],
     "language": "python",
     "metadata": {},
     "outputs": [
      {
       "output_type": "pyout",
       "prompt_number": 17,
       "text": [
        "20"
       ]
      }
     ],
     "prompt_number": 17
    },
    {
     "cell_type": "code",
     "collapsed": false,
     "input": [
      "6 / 3"
     ],
     "language": "python",
     "metadata": {},
     "outputs": [
      {
       "output_type": "pyout",
       "prompt_number": 18,
       "text": [
        "2"
       ]
      }
     ],
     "prompt_number": 18
    },
    {
     "cell_type": "code",
     "collapsed": false,
     "input": [
      "4 ** 2"
     ],
     "language": "python",
     "metadata": {},
     "outputs": [
      {
       "output_type": "pyout",
       "prompt_number": 19,
       "text": [
        "16"
       ]
      }
     ],
     "prompt_number": 19
    },
    {
     "cell_type": "code",
     "collapsed": false,
     "input": [
      "4 ** 0.5"
     ],
     "language": "python",
     "metadata": {},
     "outputs": [
      {
       "output_type": "pyout",
       "prompt_number": 20,
       "text": [
        "2.0"
       ]
      }
     ],
     "prompt_number": 20
    },
    {
     "cell_type": "code",
     "collapsed": false,
     "input": [
      "20 % 9"
     ],
     "language": "python",
     "metadata": {},
     "outputs": [
      {
       "output_type": "pyout",
       "prompt_number": 21,
       "text": [
        "2"
       ]
      }
     ],
     "prompt_number": 21
    },
    {
     "cell_type": "code",
     "collapsed": false,
     "input": [
      "2 + 3 * 4"
     ],
     "language": "python",
     "metadata": {},
     "outputs": [
      {
       "output_type": "pyout",
       "prompt_number": 22,
       "text": [
        "14"
       ]
      }
     ],
     "prompt_number": 22
    },
    {
     "cell_type": "code",
     "collapsed": false,
     "input": [
      "(2 + 3) * 4"
     ],
     "language": "python",
     "metadata": {},
     "outputs": [
      {
       "output_type": "pyout",
       "prompt_number": 23,
       "text": [
        "20"
       ]
      }
     ],
     "prompt_number": 23
    },
    {
     "cell_type": "markdown",
     "metadata": {},
     "source": [
      "# Basic Types\n",
      "`int float string bool`"
     ]
    },
    {
     "cell_type": "code",
     "collapsed": false,
     "input": [
      "4"
     ],
     "language": "python",
     "metadata": {},
     "outputs": [
      {
       "output_type": "pyout",
       "prompt_number": 24,
       "text": [
        "4"
       ]
      }
     ],
     "prompt_number": 24
    },
    {
     "cell_type": "code",
     "collapsed": false,
     "input": [
      "4.0"
     ],
     "language": "python",
     "metadata": {},
     "outputs": [
      {
       "output_type": "pyout",
       "prompt_number": 25,
       "text": [
        "4.0"
       ]
      }
     ],
     "prompt_number": 25
    },
    {
     "cell_type": "code",
     "collapsed": false,
     "input": [
      "'Hello, Software Carpentry!'"
     ],
     "language": "python",
     "metadata": {},
     "outputs": [
      {
       "output_type": "pyout",
       "prompt_number": 26,
       "text": [
        "'Hello, Software Carpentry!'"
       ]
      }
     ],
     "prompt_number": 26
    },
    {
     "cell_type": "code",
     "collapsed": false,
     "input": [
      "True"
     ],
     "language": "python",
     "metadata": {},
     "outputs": [
      {
       "output_type": "pyout",
       "prompt_number": 27,
       "text": [
        "True"
       ]
      }
     ],
     "prompt_number": 27
    },
    {
     "cell_type": "code",
     "collapsed": false,
     "input": [
      "False"
     ],
     "language": "python",
     "metadata": {},
     "outputs": [
      {
       "output_type": "pyout",
       "prompt_number": 28,
       "text": [
        "False"
       ]
      }
     ],
     "prompt_number": 28
    },
    {
     "cell_type": "markdown",
     "metadata": {},
     "source": [
      "# Exercise\n",
      "1. Calculate the mean of the numbers 2, 3, and 10.\n",
      "2. Calculate the hypotenuse of a right triangle with sides 6 and 8.\n",
      "3. Try multiplying each type by 2, what does multiplication mean for an int, float, str, and bool? Do you notice different behavior if 2 is a float or and int? Test addition, subtraction, and division. Can you add and subtract strings? What about Booleans?"
     ]
    },
    {
     "cell_type": "markdown",
     "metadata": {},
     "source": [
      "-----\n",
      "Solutions:\n",
      "\n",
      "1. (2.0+3.0+10.0)/3.0\n",
      "\n",
      "2. sqrt(6**2 + 8**2)\n",
      "\n",
      "3. mutiplication: duplicates strings, multiplies ints, floats, and Booleans (Booleans behave as True = 1, False = 0). Add: concatonates string, adds others, division and subtraction only operate on ints, floats, and Booleans."
     ]
    },
    {
     "cell_type": "markdown",
     "metadata": {},
     "source": [
      "# Variables, Print"
     ]
    },
    {
     "cell_type": "code",
     "collapsed": false,
     "input": [
      "a = 5  # doesn't print anything\n",
      "b = 2\n",
      "print a\n",
      "print a,b"
     ],
     "language": "python",
     "metadata": {},
     "outputs": [
      {
       "output_type": "stream",
       "stream": "stdout",
       "text": [
        "5\n",
        "5 2\n"
       ]
      }
     ],
     "prompt_number": 29
    },
    {
     "cell_type": "code",
     "collapsed": false,
     "input": [
      "a + b  #add variables just like numbers\n",
      "c = b\n",
      "b = 95 # changing b doesn't change c\n",
      "a + c\n",
      "print a + c"
     ],
     "language": "python",
     "metadata": {},
     "outputs": [
      {
       "output_type": "stream",
       "stream": "stdout",
       "text": [
        "7\n"
       ]
      }
     ],
     "prompt_number": 30
    },
    {
     "cell_type": "code",
     "collapsed": true,
     "input": [
      "d = (a + b) * c \n",
      "print a, b, c\n",
      "print d"
     ],
     "language": "python",
     "metadata": {},
     "outputs": [
      {
       "output_type": "stream",
       "stream": "stdout",
       "text": [
        "5 95 2\n",
        "200\n"
       ]
      }
     ],
     "prompt_number": 31
    },
    {
     "cell_type": "markdown",
     "metadata": {},
     "source": [
      "## Variable Assignment: Immutable objects\n",
      "<img src=\"https://docs.google.com/drawings/pub?id=1-VVjNCAx08RyLdfegyyUg1UXZl79Ss79voablWJQWHc&amp;w=960&amp;h=720\" width=\"500\">"
     ]
    },
    {
     "cell_type": "markdown",
     "metadata": {},
     "source": [
      "# Containers\n",
      "\n",
      "## Lists"
     ]
    },
    {
     "cell_type": "code",
     "collapsed": true,
     "input": [
      "l = ['apple', 20, 1.0, '3', 4, 5.0, 'six']"
     ],
     "language": "python",
     "metadata": {},
     "outputs": [],
     "prompt_number": 32
    },
    {
     "cell_type": "code",
     "collapsed": false,
     "input": [
      "print l[0], l[1]  #zero indexing"
     ],
     "language": "python",
     "metadata": {},
     "outputs": [
      {
       "output_type": "stream",
       "stream": "stdout",
       "text": [
        "apple 20\n"
       ]
      }
     ],
     "prompt_number": 33
    },
    {
     "cell_type": "code",
     "collapsed": false,
     "input": [
      "len(l)"
     ],
     "language": "python",
     "metadata": {},
     "outputs": [
      {
       "output_type": "pyout",
       "prompt_number": 34,
       "text": [
        "7"
       ]
      }
     ],
     "prompt_number": 34
    },
    {
     "cell_type": "code",
     "collapsed": false,
     "input": [
      "l[1:4] # doesn't include end index"
     ],
     "language": "python",
     "metadata": {},
     "outputs": [
      {
       "output_type": "pyout",
       "prompt_number": 35,
       "text": [
        "[20, 1.0, '3']"
       ]
      }
     ],
     "prompt_number": 35
    },
    {
     "cell_type": "code",
     "collapsed": false,
     "input": [
      "l[4:] #implicit end points"
     ],
     "language": "python",
     "metadata": {},
     "outputs": [
      {
       "output_type": "pyout",
       "prompt_number": 36,
       "text": [
        "[4, 5.0, 'six']"
       ]
      }
     ],
     "prompt_number": 36
    },
    {
     "cell_type": "code",
     "collapsed": false,
     "input": [
      "l[:4] # first 4 things"
     ],
     "language": "python",
     "metadata": {},
     "outputs": [
      {
       "output_type": "pyout",
       "prompt_number": 37,
       "text": [
        "['apple', 20, 1.0, '3']"
       ]
      }
     ],
     "prompt_number": 37
    },
    {
     "cell_type": "code",
     "collapsed": false,
     "input": [
      "print l[-1], l[-2], l[-2:]"
     ],
     "language": "python",
     "metadata": {},
     "outputs": [
      {
       "output_type": "stream",
       "stream": "stdout",
       "text": [
        "six 5.0 [5.0, 'six']\n"
       ]
      }
     ],
     "prompt_number": 38
    },
    {
     "cell_type": "code",
     "collapsed": false,
     "input": [
      "l[1] = l[1] + 99\n",
      "l"
     ],
     "language": "python",
     "metadata": {},
     "outputs": [
      {
       "output_type": "pyout",
       "prompt_number": 39,
       "text": [
        "['apple', 119, 1.0, '3', 4, 5.0, 'six']"
       ]
      }
     ],
     "prompt_number": 39
    },
    {
     "cell_type": "markdown",
     "metadata": {},
     "source": [
      "# Exercise\n",
      "1. Make a list with 5 things in it.\n",
      "2. Print the 4th thing in the list.\n",
      "3. Print the sublist containing the 3rd, 4th, and 5th things in the list.\n",
      "4. Experiment with multiplication and addition on a list. What do these operations do?"
     ]
    },
    {
     "cell_type": "markdown",
     "metadata": {},
     "source": [
      "-----\n",
      "Solutions:\n",
      "1. x = [0, 2, 5, 6, 1]\n",
      "\n",
      "2. print x[3]\n",
      "\n",
      "3. print x[2:] or print x[2:5]\n",
      "\n",
      "4. list + list concatonates the list, list * number duplicates the list number of times"
     ]
    },
    {
     "cell_type": "markdown",
     "metadata": {},
     "source": [
      "## Tuples"
     ]
    },
    {
     "cell_type": "code",
     "collapsed": true,
     "input": [
      "t = ('zero', 1, 2.0)"
     ],
     "language": "python",
     "metadata": {},
     "outputs": [],
     "prompt_number": 40
    },
    {
     "cell_type": "code",
     "collapsed": false,
     "input": [
      "t"
     ],
     "language": "python",
     "metadata": {},
     "outputs": [
      {
       "output_type": "pyout",
       "prompt_number": 41,
       "text": [
        "('zero', 1, 2.0)"
       ]
      }
     ],
     "prompt_number": 41
    },
    {
     "cell_type": "code",
     "collapsed": false,
     "input": [
      "t[0] = 99"
     ],
     "language": "python",
     "metadata": {},
     "outputs": [
      {
       "ename": "TypeError",
       "evalue": "'tuple' object does not support item assignment",
       "output_type": "pyerr",
       "traceback": [
        "\u001b[0;31m---------------------------------------------------------------------------\u001b[0m\n\u001b[0;31mTypeError\u001b[0m                                 Traceback (most recent call last)",
        "\u001b[0;32m<ipython-input-42-e77c201e67de>\u001b[0m in \u001b[0;36m<module>\u001b[0;34m()\u001b[0m\n\u001b[0;32m----> 1\u001b[0;31m \u001b[0mt\u001b[0m\u001b[0;34m[\u001b[0m\u001b[0;36m0\u001b[0m\u001b[0;34m]\u001b[0m \u001b[0;34m=\u001b[0m \u001b[0;36m99\u001b[0m\u001b[0;34m\u001b[0m\u001b[0m\n\u001b[0m",
        "\u001b[0;31mTypeError\u001b[0m: 'tuple' object does not support item assignment"
       ]
      }
     ],
     "prompt_number": 42
    },
    {
     "cell_type": "code",
     "collapsed": false,
     "input": [
      "fruits = [('apples', 0.49), ('oranges', 0.99), ('pears', 1.49), ('bananas', 0.32)]"
     ],
     "language": "python",
     "metadata": {},
     "outputs": [],
     "prompt_number": 43
    },
    {
     "cell_type": "code",
     "collapsed": false,
     "input": [
      "#unpacking\n",
      "#Other examples\n",
      "a, b, c = t\n",
      "print a\n",
      "print b\n",
      "print c"
     ],
     "language": "python",
     "metadata": {},
     "outputs": [
      {
       "output_type": "stream",
       "stream": "stdout",
       "text": [
        "zero\n",
        "1\n",
        "2.0\n"
       ]
      }
     ],
     "prompt_number": 44
    },
    {
     "cell_type": "code",
     "collapsed": false,
     "input": [
      "a, b = t\n",
      "print a, b"
     ],
     "language": "python",
     "metadata": {},
     "outputs": [
      {
       "ename": "ValueError",
       "evalue": "too many values to unpack",
       "output_type": "pyerr",
       "traceback": [
        "\u001b[0;31m---------------------------------------------------------------------------\u001b[0m\n\u001b[0;31mValueError\u001b[0m                                Traceback (most recent call last)",
        "\u001b[0;32m<ipython-input-45-b5116e5349db>\u001b[0m in \u001b[0;36m<module>\u001b[0;34m()\u001b[0m\n\u001b[0;32m----> 1\u001b[0;31m \u001b[0ma\u001b[0m\u001b[0;34m,\u001b[0m \u001b[0mb\u001b[0m \u001b[0;34m=\u001b[0m \u001b[0mt\u001b[0m\u001b[0;34m\u001b[0m\u001b[0m\n\u001b[0m\u001b[1;32m      2\u001b[0m \u001b[0;32mprint\u001b[0m \u001b[0ma\u001b[0m\u001b[0;34m,\u001b[0m \u001b[0mb\u001b[0m\u001b[0;34m\u001b[0m\u001b[0m\n",
        "\u001b[0;31mValueError\u001b[0m: too many values to unpack"
       ]
      }
     ],
     "prompt_number": 45
    },
    {
     "cell_type": "markdown",
     "metadata": {},
     "source": [
      "## Dictionaries"
     ]
    },
    {
     "cell_type": "code",
     "collapsed": false,
     "input": [
      "constants = {'pi':3.14, 'e':2.71, 'c':300000}\n",
      "print constants #Key order doesn't matter\n",
      "print constants['pi'], constants['e']\n"
     ],
     "language": "python",
     "metadata": {},
     "outputs": [
      {
       "output_type": "stream",
       "stream": "stdout",
       "text": [
        "{'c': 300000, 'pi': 3.14, 'e': 2.71}\n",
        "3.14 2.71\n"
       ]
      }
     ],
     "prompt_number": 46
    },
    {
     "cell_type": "code",
     "collapsed": false,
     "input": [
      "constants['c'] = 299999\n",
      "print constants"
     ],
     "language": "python",
     "metadata": {},
     "outputs": [
      {
       "output_type": "stream",
       "stream": "stdout",
       "text": [
        "{'c': 299999, 'pi': 3.14, 'e': 2.71}\n"
       ]
      }
     ],
     "prompt_number": 47
    },
    {
     "cell_type": "code",
     "collapsed": false,
     "input": [
      "print constants[2]  #can't index by number"
     ],
     "language": "python",
     "metadata": {},
     "outputs": [
      {
       "ename": "KeyError",
       "evalue": "2",
       "output_type": "pyerr",
       "traceback": [
        "\u001b[0;31m---------------------------------------------------------------------------\u001b[0m\n\u001b[0;31mKeyError\u001b[0m                                  Traceback (most recent call last)",
        "\u001b[0;32m<ipython-input-48-cbef74a9a6a2>\u001b[0m in \u001b[0;36m<module>\u001b[0;34m()\u001b[0m\n\u001b[0;32m----> 1\u001b[0;31m \u001b[0;32mprint\u001b[0m \u001b[0mconstants\u001b[0m\u001b[0;34m[\u001b[0m\u001b[0;36m2\u001b[0m\u001b[0;34m]\u001b[0m  \u001b[0;31m#can't index by number\u001b[0m\u001b[0;34m\u001b[0m\u001b[0m\n\u001b[0m",
        "\u001b[0;31mKeyError\u001b[0m: 2"
       ]
      }
     ],
     "prompt_number": 48
    },
    {
     "cell_type": "code",
     "collapsed": false,
     "input": [
      "#Keys don't have to be strings\n",
      "constant_info = {3.14:['pi', 'unitless'],  300000:['speed of light', 'km/s']} #keys don't have to be str\n",
      "print constant_info[3.14]\n",
      "print constant_info[3.14][0] #Break down - key accesses list, then index list\n",
      "#You can mix different types as keys in a dictionary"
     ],
     "language": "python",
     "metadata": {},
     "outputs": [
      {
       "output_type": "stream",
       "stream": "stdout",
       "text": [
        "['pi', 'unitless']\n",
        "pi\n"
       ]
      }
     ],
     "prompt_number": 49
    },
    {
     "cell_type": "code",
     "collapsed": false,
     "input": [
      "#adding a key\n",
      "constants['g'] = 9.8\n",
      "print constants\n",
      "print constants['g']"
     ],
     "language": "python",
     "metadata": {},
     "outputs": [
      {
       "output_type": "stream",
       "stream": "stdout",
       "text": [
        "{'c': 299999, 'pi': 3.14, 'e': 2.71, 'g': 9.8}\n",
        "9.8\n"
       ]
      }
     ],
     "prompt_number": 50
    },
    {
     "cell_type": "code",
     "collapsed": false,
     "input": [
      "print len(constants), constants"
     ],
     "language": "python",
     "metadata": {},
     "outputs": [
      {
       "output_type": "stream",
       "stream": "stdout",
       "text": [
        "4 {'c': 299999, 'pi': 3.14, 'e': 2.71, 'g': 9.8}\n"
       ]
      }
     ],
     "prompt_number": 51
    },
    {
     "cell_type": "code",
     "collapsed": false,
     "input": [
      "#Ways to get at parts of dictionaries\n",
      "print constants.keys()\n",
      "print constants.values()\n",
      "#Notice that this returns a list of tuples\n",
      "print constants.items()"
     ],
     "language": "python",
     "metadata": {},
     "outputs": [
      {
       "output_type": "stream",
       "stream": "stdout",
       "text": [
        "['c', 'pi', 'e', 'g']\n",
        "[299999, 3.14, 2.71, 9.8]\n",
        "[('c', 299999), ('pi', 3.14), ('e', 2.71), ('g', 9.8)]\n"
       ]
      }
     ],
     "prompt_number": 52
    },
    {
     "cell_type": "markdown",
     "metadata": {},
     "source": [
      "# Exercise\n",
      "1. Make a dictionary and experiment using different types as keys. Can containers be keys?"
     ]
    },
    {
     "cell_type": "markdown",
     "metadata": {},
     "source": [
      "-----\n",
      "Solution:\n",
      "\n",
      "1. idict = {'a':1, 'b':2, 3:'c'}. A list cannot be a key, but a tuple can (immutable objects can be keys, mutable object cannot be keys)"
     ]
    },
    {
     "cell_type": "markdown",
     "metadata": {},
     "source": [
      "## Variable Assignment: mutable objects\n",
      "<img src=\"https://docs.google.com/drawings/pub?id=1cx-9q3_GSt51LYFp90lyXHl2ec2eFhdDHbnbJovJBAM&amp;w=960&amp;h=720\" width=\"500\">"
     ]
    },
    {
     "cell_type": "markdown",
     "metadata": {},
     "source": [
      "# If statements\n",
      "`< > <= >= == !=`"
     ]
    },
    {
     "cell_type": "code",
     "collapsed": true,
     "input": [
      "x = 5\n",
      "if x < 0:\n",
      "    print \"x is negative\""
     ],
     "language": "python",
     "metadata": {},
     "outputs": [],
     "prompt_number": 53
    },
    {
     "cell_type": "code",
     "collapsed": false,
     "input": [
      "x = -5\n",
      "if x < 0:\n",
      "    print \"x is negative\""
     ],
     "language": "python",
     "metadata": {},
     "outputs": [
      {
       "output_type": "stream",
       "stream": "stdout",
       "text": [
        "x is negative\n"
       ]
      }
     ],
     "prompt_number": 54
    },
    {
     "cell_type": "code",
     "collapsed": false,
     "input": [
      "x = 5\n",
      "if x < 0:\n",
      "    print \"x is negative\"\n",
      "else:\n",
      "    print \"x in non-negative\""
     ],
     "language": "python",
     "metadata": {},
     "outputs": [
      {
       "output_type": "stream",
       "stream": "stdout",
       "text": [
        "x in non-negative\n"
       ]
      }
     ],
     "prompt_number": 55
    },
    {
     "cell_type": "code",
     "collapsed": false,
     "input": [
      "x = 5\n",
      "if x < 0:\n",
      "    print \"x is negative\"\n",
      "elif x == 0:\n",
      "    print \"x is zero\"\n",
      "else:\n",
      "    print \"x is positive\""
     ],
     "language": "python",
     "metadata": {},
     "outputs": [
      {
       "output_type": "stream",
       "stream": "stdout",
       "text": [
        "x is positive\n"
       ]
      }
     ],
     "prompt_number": 56
    },
    {
     "cell_type": "markdown",
     "metadata": {},
     "source": [
      "# Exercises\n",
      "1. Write an if statement that prints whether x is even or odd"
     ]
    },
    {
     "cell_type": "markdown",
     "metadata": {},
     "source": [
      "-----\n",
      "Solution:\n",
      "\n",
      "1."
     ]
    },
    {
     "cell_type": "code",
     "collapsed": false,
     "input": [
      "if x%2 == 1:\n",
      "    print 'x is odd'\n",
      "else:\n",
      "    print 'x is even'"
     ],
     "language": "python",
     "metadata": {},
     "outputs": []
    },
    {
     "cell_type": "markdown",
     "metadata": {},
     "source": [
      "#Basic Plotting"
     ]
    },
    {
     "cell_type": "code",
     "collapsed": false,
     "input": [
      "import pylab"
     ],
     "language": "python",
     "metadata": {},
     "outputs": [],
     "prompt_number": 57
    },
    {
     "cell_type": "code",
     "collapsed": false,
     "input": [
      "x = [1, 2, 3, 4]\n",
      "y = [1, 1.5, 2, 2.5]\n",
      "pylab.plot(x, y)"
     ],
     "language": "python",
     "metadata": {},
     "outputs": [
      {
       "output_type": "pyout",
       "prompt_number": 58,
       "text": [
        "[<matplotlib.lines.Line2D at 0x111ee5110>]"
       ]
      },
      {
       "output_type": "display_data",
       "png": "[encoded data removed]",
       "text": [
        "<matplotlib.figure.Figure at 0x111b44e50>"
       ]
      }
     ],
     "prompt_number": 58
    },
    {
     "cell_type": "code",
     "collapsed": false,
     "input": [
      "pylab.plot(x, y, 'o')"
     ],
     "language": "python",
     "metadata": {},
     "outputs": [
      {
       "output_type": "pyout",
       "prompt_number": 59,
       "text": [
        "[<matplotlib.lines.Line2D at 0x111b50790>]"
       ]
      },
      {
       "output_type": "display_data",
       "png": "[encoded data removed]",
       "text": [
        "<matplotlib.figure.Figure at 0x111bc4a10>"
       ]
      }
     ],
     "prompt_number": 59
    },
    {
     "cell_type": "code",
     "collapsed": false,
     "input": [
      "pylab.plot(x, y, 'k--o') # k = black, -- = line style o = marker"
     ],
     "language": "python",
     "metadata": {},
     "outputs": [
      {
       "output_type": "pyout",
       "prompt_number": 73,
       "text": [
        "[<matplotlib.lines.Line2D at 0x111d88bd0>]"
       ]
      },
      {
       "output_type": "display_data",
       "png": "[encoded data removed]",
       "text": [
        "<matplotlib.figure.Figure at 0x111c3b550>"
       ]
      }
     ],
     "prompt_number": 73
    },
    {
     "cell_type": "code",
     "collapsed": false,
     "input": [
      "#Label axes\n",
      "pylab.plot(x, y, 'k--o')\n",
      "pylab.xlabel('x axis')\n",
      "pylab.ylabel('y axis')"
     ],
     "language": "python",
     "metadata": {},
     "outputs": [
      {
       "output_type": "pyout",
       "prompt_number": 77,
       "text": [
        "<matplotlib.text.Text at 0x111e16310>"
       ]
      },
      {
       "output_type": "display_data",
       "png": "[encoded data removed]",
       "text": [
        "<matplotlib.figure.Figure at 0x111db4a10>"
       ]
      }
     ],
     "prompt_number": 77
    },
    {
     "cell_type": "code",
     "collapsed": false,
     "input": [
      "pylab.plot(x, y, 'k--o')\n",
      "pylab.xlabel('x axis')\n",
      "pylab.ylabel('y axis')\n",
      "pylab.title(\"This is an example of python's awesome plotting\")"
     ],
     "language": "python",
     "metadata": {},
     "outputs": [
      {
       "output_type": "pyout",
       "prompt_number": 76,
       "text": [
        "<matplotlib.text.Text at 0x111df7a90>"
       ]
      },
      {
       "output_type": "display_data",
       "png": "[encoded data removed]",
       "text": [
        "<matplotlib.figure.Figure at 0x111dc7490>"
       ]
      }
     ],
     "prompt_number": 76
    },
    {
     "cell_type": "code",
     "collapsed": false,
     "input": [
      "pylab.close()"
     ],
     "language": "python",
     "metadata": {},
     "outputs": [],
     "prompt_number": 63
    },
    {
     "cell_type": "markdown",
     "metadata": {},
     "source": [
      "#Exercise\n",
      "1. Create a plot with at least 5 points. Make your points circles with a dashed line connecting them.\n",
      "2. Zoom in on a point on your plot. Notice what happens to the x and y axis tick labels. Do your points get any bigger?"
     ]
    },
    {
     "cell_type": "markdown",
     "metadata": {},
     "source": [
      "------\n",
      "Solution:\n",
      "    \n",
      "1."
     ]
    },
    {
     "cell_type": "code",
     "collapsed": false,
     "input": [
      "x = [0, 1, 2, 3, 4, 5]\n",
      "pylab.plot(x, x, '.--')"
     ],
     "language": "python",
     "metadata": {},
     "outputs": []
    },
    {
     "cell_type": "markdown",
     "metadata": {},
     "source": [
      "2. All points, text, and ticks scale with zooming, they wil never change size"
     ]
    },
    {
     "cell_type": "markdown",
     "metadata": {},
     "source": [
      "# Looping"
     ]
    },
    {
     "cell_type": "code",
     "collapsed": false,
     "input": [
      "fruits = ['apples', 'oranges', 'pears', 'bananas']\n",
      "\n",
      "for fruit in fruits:\n",
      "    print fruit\n",
      "#No Indexing!"
     ],
     "language": "python",
     "metadata": {},
     "outputs": [
      {
       "output_type": "stream",
       "stream": "stdout",
       "text": [
        "apples\n",
        "oranges\n",
        "pears\n",
        "bananas\n"
       ]
      }
     ],
     "prompt_number": 64
    },
    {
     "cell_type": "code",
     "collapsed": false,
     "input": [
      "# Use range for a range on integers\n",
      "prices = [0.49, 0.99, 1.49, 0.32]\n",
      "for i in range(len(fruits)):\n",
      "    print fruits[i], prices[i]"
     ],
     "language": "python",
     "metadata": {},
     "outputs": [
      {
       "output_type": "stream",
       "stream": "stdout",
       "text": [
        "apples 0.49\n",
        "oranges 0.99\n",
        "pears 1.49\n",
        "bananas 0.32\n"
       ]
      }
     ],
     "prompt_number": 65
    },
    {
     "cell_type": "code",
     "collapsed": false,
     "input": [
      "#How do you loop over lists in parallel? - have to use indexing\n",
      "# Use zip to iterate over two lists at once\n",
      "print fruits\n",
      "print prices\n",
      "print '\\n'\n",
      "for fruit, price in zip(fruits, prices):\n",
      "    print fruit, \"cost\", price, \"each\"\n",
      "    "
     ],
     "language": "python",
     "metadata": {},
     "outputs": [
      {
       "output_type": "stream",
       "stream": "stdout",
       "text": [
        "['apples', 'oranges', 'pears', 'bananas']\n",
        "[0.49, 0.99, 1.49, 0.32]\n",
        "\n",
        "\n",
        "apples cost 0.49 each\n",
        "oranges cost 0.99 each\n",
        "pears cost 1.49 each\n",
        "bananas cost 0.32 each\n"
       ]
      }
     ],
     "prompt_number": 66
    },
    {
     "cell_type": "code",
     "collapsed": false,
     "input": [
      "# Use \"items\" to iterate over a dictionary\n",
      "# Note the order is non-deterministic\n",
      "prices = {'apples': 0.49, 'oranges': 0.99, 'pears': 1.49, 'bananas': 0.32}\n",
      "for fruit, price in prices.items():\n",
      "    print fruit, \"cost\", price, \"each\"\n",
      "          "
     ],
     "language": "python",
     "metadata": {},
     "outputs": [
      {
       "output_type": "stream",
       "stream": "stdout",
       "text": [
        "pears cost 1.49 each\n",
        "apples cost 0.49 each\n",
        "oranges cost 0.99 each\n",
        "bananas cost 0.32 each\n"
       ]
      }
     ],
     "prompt_number": 67
    },
    {
     "cell_type": "code",
     "collapsed": false,
     "input": [
      "# Calculating a sum\n",
      "values = [2, 1, 5, -6, 4]\n",
      "sum = 0\n",
      "for x in values:\n",
      "    sum = sum + x\n",
      "print sum"
     ],
     "language": "python",
     "metadata": {},
     "outputs": [
      {
       "output_type": "stream",
       "stream": "stdout",
       "text": [
        "6\n"
       ]
      }
     ],
     "prompt_number": 68
    },
    {
     "cell_type": "code",
     "collapsed": false,
     "input": [
      "x = range(4) #zero indexing\n",
      "y = [3, 3.5, 4, 5.5]\n",
      "pylab.plot(x, y, '.-')"
     ],
     "language": "python",
     "metadata": {},
     "outputs": [
      {
       "output_type": "pyout",
       "prompt_number": 69,
       "text": [
        "[<matplotlib.lines.Line2D at 0x111cf5a10>]"
       ]
      },
      {
       "output_type": "display_data",
       "png": "[encoded data removed]",
       "text": [
        "<matplotlib.figure.Figure at 0x111cd4dd0>"
       ]
      }
     ],
     "prompt_number": 69
    },
    {
     "cell_type": "code",
     "collapsed": false,
     "input": [
      "z = [] #introduction of an empty list\n",
      "for point in y:\n",
      "    z.append(point*2.0)  #introduction of .append()\n",
      "pylab.plot(x, z, '.-')"
     ],
     "language": "python",
     "metadata": {},
     "outputs": [
      {
       "output_type": "pyout",
       "prompt_number": 70,
       "text": [
        "[<matplotlib.lines.Line2D at 0x111d20fd0>]"
       ]
      },
      {
       "output_type": "display_data",
       "png": "[encoded data removed]",
       "text": [
        "<matplotlib.figure.Figure at 0x111ce7410>"
       ]
      }
     ],
     "prompt_number": 70
    },
    {
     "cell_type": "code",
     "collapsed": false,
     "input": [
      "pylab.close()"
     ],
     "language": "python",
     "metadata": {},
     "outputs": [],
     "prompt_number": 61
    },
    {
     "cell_type": "markdown",
     "metadata": {},
     "source": [
      "# Exercises\n",
      "1. Using a loop, find the mean of [3, 4, 5, 2, 8, 10, 14, 16, 29]\n",
      "2. Using a loop, plot y = x**2 for x between 0 and 10"
     ]
    },
    {
     "cell_type": "markdown",
     "metadata": {},
     "source": [
      "-----\n",
      "Solutions:\n",
      "\n",
      "1."
     ]
    },
    {
     "cell_type": "code",
     "collapsed": false,
     "input": [
      "x = [3, 4, 5, 2, 8, 10, 14, 16, 29]\n",
      "total = 0\n",
      "for i in  x:\n",
      "    total = total + i\n",
      "print 'mean = ', float(total)/float(len(x))"
     ],
     "language": "python",
     "metadata": {},
     "outputs": []
    },
    {
     "cell_type": "markdown",
     "metadata": {},
     "source": [
      "2. "
     ]
    },
    {
     "cell_type": "code",
     "collapsed": false,
     "input": [
      "x = range(11)\n",
      "y = []\n",
      "for i in x:\n",
      "    y.append(i**2)\n",
      "pylab.plot(x, y)"
     ],
     "language": "python",
     "metadata": {},
     "outputs": []
    },
    {
     "cell_type": "markdown",
     "metadata": {},
     "source": [
      "# Functions: Part 1"
     ]
    },
    {
     "cell_type": "code",
     "collapsed": false,
     "input": [
      "#You've already seen functions: range(), pylab.plot(), len()\n",
      "#Takes something as input an does something to it and returns the result\n",
      "#why you should write functions - reusablility"
     ],
     "language": "python",
     "metadata": {},
     "outputs": [],
     "prompt_number": 62
    },
    {
     "cell_type": "code",
     "collapsed": false,
     "input": [
      "def square(x):\n",
      "    return x * x"
     ],
     "language": "python",
     "metadata": {},
     "outputs": [],
     "prompt_number": 63
    },
    {
     "cell_type": "code",
     "collapsed": false,
     "input": [
      "print 2**2, square(2), square(square(2))"
     ],
     "language": "python",
     "metadata": {},
     "outputs": [
      {
       "output_type": "stream",
       "stream": "stdout",
       "text": [
        "4 4 16\n"
       ]
      }
     ],
     "prompt_number": 64
    },
    {
     "cell_type": "code",
     "collapsed": true,
     "input": [
      "#Introduce docstring\n",
      "def hello(time, name):\n",
      "    \"\"\"Print a nice message. Time and name should both be strings.\n",
      "    \n",
      "    Example: hello('morning', 'Software Carpentry')\n",
      "    \"\"\"\n",
      "    print 'Good ' + time + ', ' + name + '!'"
     ],
     "language": "python",
     "metadata": {},
     "outputs": [],
     "prompt_number": 71
    },
    {
     "cell_type": "code",
     "collapsed": false,
     "input": [
      "help(hello)"
     ],
     "language": "python",
     "metadata": {},
     "outputs": [
      {
       "output_type": "stream",
       "stream": "stdout",
       "text": [
        "Help on function hello in module __main__:\n",
        "\n",
        "hello(time, name)\n",
        "    Print a nice message. Time and name should both be strings.\n",
        "    \n",
        "    Example: hello('morning', 'Software Carpentry')\n",
        "\n"
       ]
      }
     ],
     "prompt_number": 72
    },
    {
     "cell_type": "code",
     "collapsed": false,
     "input": [
      "hello('afternoon', 'Software Carpentry')"
     ],
     "language": "python",
     "metadata": {},
     "outputs": [
      {
       "output_type": "stream",
       "stream": "stdout",
       "text": [
        "Good afternoon, Software Carpentry!\n"
       ]
      }
     ],
     "prompt_number": 66
    },
    {
     "cell_type": "code",
     "collapsed": false,
     "input": [
      "#Go back to different data types, functions exist to change data types\n",
      "#Get type:\n",
      "x = 5\n",
      "y = 5.0\n",
      "z = '5'\n",
      "print x, type(x)\n",
      "print y, type(y)\n",
      "print z, type(z)"
     ],
     "language": "python",
     "metadata": {},
     "outputs": [
      {
       "output_type": "stream",
       "stream": "stdout",
       "text": [
        "5 <type 'int'>\n",
        "5.0 <type 'float'>\n",
        "5 <type 'str'>\n"
       ]
      }
     ],
     "prompt_number": 67
    },
    {
     "cell_type": "code",
     "collapsed": false,
     "input": [
      "#Can convert between types:\n",
      "a = float(x)\n",
      "print a, type(a)"
     ],
     "language": "python",
     "metadata": {},
     "outputs": [
      {
       "output_type": "stream",
       "stream": "stdout",
       "text": [
        "5.0 <type 'float'>\n"
       ]
      }
     ],
     "prompt_number": 68
    },
    {
     "cell_type": "code",
     "collapsed": false,
     "input": [
      "b = int(y)\n",
      "print b, type(b)"
     ],
     "language": "python",
     "metadata": {},
     "outputs": [
      {
       "output_type": "stream",
       "stream": "stdout",
       "text": [
        "5 <type 'int'>\n"
       ]
      }
     ],
     "prompt_number": 69
    },
    {
     "cell_type": "code",
     "collapsed": false,
     "input": [
      "c = int(z)\n",
      "d = float(z)\n",
      "print c, type(c)\n",
      "print d, type(d)"
     ],
     "language": "python",
     "metadata": {},
     "outputs": [
      {
       "output_type": "stream",
       "stream": "stdout",
       "text": [
        "5 <type 'int'>\n",
        "5.0 <type 'float'>\n"
       ]
      }
     ],
     "prompt_number": 70
    },
    {
     "cell_type": "markdown",
     "metadata": {},
     "source": [
      "# Exercises\n",
      "1. Using your last exercise, create a function which calculates the mean of an input list of numbers"
     ]
    },
    {
     "cell_type": "markdown",
     "metadata": {},
     "source": [
      "-----\n",
      "Solution:\n",
      "1."
     ]
    },
    {
     "cell_type": "code",
     "collapsed": false,
     "input": [
      "def calc_mean(ilist):\n",
      "    '''\n",
      "    This function calculates the mean of a given list of numbers\n",
      "    '''\n",
      "    total = 0.0\n",
      "    for i in ilist:\n",
      "        total = total + i\n",
      "    return total / float(len(ilist))"
     ],
     "language": "python",
     "metadata": {},
     "outputs": []
    },
    {
     "cell_type": "markdown",
     "metadata": {},
     "source": [
      "# Reading Files"
     ]
    },
    {
     "cell_type": "code",
     "collapsed": false,
     "input": [
      "f = open('animals.txt', 'r')"
     ],
     "language": "python",
     "metadata": {},
     "outputs": [],
     "prompt_number": 125
    },
    {
     "cell_type": "code",
     "collapsed": false,
     "input": [
      "# dir(f)\n",
      "# help(f)"
     ],
     "language": "python",
     "metadata": {},
     "outputs": [],
     "prompt_number": 126
    },
    {
     "cell_type": "code",
     "collapsed": false,
     "input": [
      "all_lines = f.readlines()"
     ],
     "language": "python",
     "metadata": {},
     "outputs": [],
     "prompt_number": 127
    },
    {
     "cell_type": "code",
     "collapsed": false,
     "input": [
      "for iline in all_lines:\n",
      "    print iline.split()"
     ],
     "language": "python",
     "metadata": {},
     "outputs": [
      {
       "output_type": "stream",
       "stream": "stdout",
       "text": [
        "['2011-04-22', '21:06', 'Grizzly', '36']\n",
        "['2011-04-23', '14:12', 'Elk', '25']\n",
        "['2011-04-23', '10:24', 'Elk', '26']\n",
        "['2011-04-23', '20:08', 'Wolverine', '31']\n",
        "['2011-04-23', '18:46', 'Muskox', '20']\n"
       ]
      }
     ],
     "prompt_number": 128
    },
    {
     "cell_type": "code",
     "collapsed": false,
     "input": [
      "print int(all_lines[0].split() [-1])"
     ],
     "language": "python",
     "metadata": {},
     "outputs": [
      {
       "output_type": "stream",
       "stream": "stdout",
       "text": [
        "36\n"
       ]
      }
     ],
     "prompt_number": 129
    },
    {
     "cell_type": "code",
     "collapsed": false,
     "input": [
      "date = []\n",
      "time = []\n",
      "animal = []\n",
      "number = []"
     ],
     "language": "python",
     "metadata": {},
     "outputs": [],
     "prompt_number": 84
    },
    {
     "cell_type": "code",
     "collapsed": true,
     "input": [
      "for iline in all_lines:\n",
      "    print iline\n",
      "    d, t, a, n = iline.split()  #unpacking!\n",
      "    date.append(d)\n",
      "    time.append(t)\n",
      "    animal.append(a)\n",
      "    number.append(int(n))"
     ],
     "language": "python",
     "metadata": {},
     "outputs": [
      {
       "output_type": "stream",
       "stream": "stdout",
       "text": [
        "2011-04-22 21:06 Grizzly 36\n",
        "\n",
        "2011-04-23 14:12 Elk 25\n",
        "\n",
        "2011-04-23 10:24 Elk 26\n",
        "\n",
        "2011-04-23 20:08 Wolverine 31\n",
        "\n",
        "2011-04-23 18:46 Muskox 20\n",
        "\n"
       ]
      }
     ],
     "prompt_number": 86
    },
    {
     "cell_type": "code",
     "collapsed": false,
     "input": [
      "date"
     ],
     "language": "python",
     "metadata": {},
     "outputs": [
      {
       "output_type": "pyout",
       "prompt_number": 87,
       "text": [
        "['2011-04-22', '2011-04-23', '2011-04-23', '2011-04-23', '2011-04-23']"
       ]
      }
     ],
     "prompt_number": 87
    },
    {
     "cell_type": "code",
     "collapsed": false,
     "input": [
      "time"
     ],
     "language": "python",
     "metadata": {},
     "outputs": [
      {
       "output_type": "pyout",
       "prompt_number": 88,
       "text": [
        "['21:06', '14:12', '10:24', '20:08', '18:46']"
       ]
      }
     ],
     "prompt_number": 88
    },
    {
     "cell_type": "code",
     "collapsed": false,
     "input": [
      "number"
     ],
     "language": "python",
     "metadata": {},
     "outputs": [
      {
       "output_type": "pyout",
       "prompt_number": 89,
       "text": [
        "[36, 25, 26, 31, 20]"
       ]
      }
     ],
     "prompt_number": 89
    },
    {
     "cell_type": "code",
     "collapsed": false,
     "input": [
      "f.close()"
     ],
     "language": "python",
     "metadata": {},
     "outputs": [],
     "prompt_number": 90
    },
    {
     "cell_type": "markdown",
     "metadata": {},
     "source": [
      "# Exercise\n",
      "1. Read the file 'big_animals.txt' and print each line on which more than 10 moose were sighted.\n",
      "2. Turn the code for #1 into a function and use it on the files 'merida_animals.txt' and 'fergus_animals.txt'."
     ]
    },
    {
     "cell_type": "markdown",
     "metadata": {},
     "source": [
      "-----\n",
      "Solutions:\n",
      "\n",
      "1."
     ]
    },
    {
     "cell_type": "code",
     "collapsed": false,
     "input": [
      "f = open('big_animals.txt')\n",
      "all_lines = f.readlines()\n",
      "for iline in all_lines:\n",
      "    split_line = iline.split()\n",
      "    if (split_line[2] == 'Moose') and (float(split_line[3]) > 10.0):\n",
      "        print iline"
     ],
     "language": "python",
     "metadata": {},
     "outputs": [
      {
       "output_type": "stream",
       "stream": "stdout",
       "text": [
        "2011-04-22 15:30 Moose 37\n",
        "\n",
        "2011-05-02 03:32 Moose 14\n",
        "\n",
        "2011-05-05 07:00 Moose 20\n",
        "\n",
        "2011-05-06 19:40 Moose 31\n",
        "\n",
        "2011-05-08 01:36 Moose 19\n",
        "\n",
        "2011-05-08 09:39 Moose 35\n",
        "\n",
        "2011-05-08 10:38 Moose 11\n",
        "\n",
        "2011-05-10 11:03 Moose 15\n",
        "\n",
        "2011-05-14 15:41 Moose 12\n",
        "\n",
        "2011-05-22 14:07 Moose 30\n",
        "\n",
        "2011-05-30 12:15 Moose 11\n",
        "\n",
        "2011-05-30 19:20 Moose 25\n",
        "\n"
       ]
      }
     ],
     "prompt_number": 4
    },
    {
     "cell_type": "markdown",
     "metadata": {},
     "source": [
      "2. "
     ]
    },
    {
     "cell_type": "code",
     "collapsed": false,
     "input": [
      "def print_lots_of_moose(ifile):\n",
      "    '''\n",
      "    This functions prints lines on which more that 10 moose were spotted from a given file\n",
      "    '''\n",
      "    f = open(ifile)\n",
      "    all_lines = f.readlines()\n",
      "    for iline in all_lines:\n",
      "        split_line = iline.split()\n",
      "        if (split_line[2] == 'Moose') and (float(split_line[3]) > 10.0):\n",
      "            print iline\n",
      "            \n",
      "print_lots_of_moose('merida_animals.txt')\n",
      "print '----------'\n",
      "print_lots_of_moose('fergus_animals.txt')"
     ],
     "language": "python",
     "metadata": {},
     "outputs": [
      {
       "output_type": "stream",
       "stream": "stdout",
       "text": [
        "2011-04-24 02:13 Moose 36\n",
        "\n",
        "2011-05-02 05:21 Moose 25\n",
        "\n",
        "2011-05-04 20:11 Moose 40\n",
        "\n",
        "2011-05-14 01:17 Moose 29\n",
        "\n",
        "2011-05-15 03:13 Moose 33\n",
        "\n",
        "2011-05-20 22:01 Moose 12\n",
        "\n",
        "2011-05-23 11:51 Moose 20\n",
        "\n",
        "2011-06-03 19:30 Moose 20\n",
        "\n",
        "2011-06-04 05:52 Moose 37\n",
        "\n",
        "2011-06-08 04:39 Moose 24\n",
        "\n",
        "----------\n",
        "2011-05-03 13:39 Moose 16\n",
        "\n",
        "2011-05-06 15:18 Moose 29\n",
        "\n",
        "2011-05-06 13:32 Moose 20\n",
        "\n",
        "2011-05-10 18:28 Moose 28\n",
        "\n",
        "2011-05-21 10:16 Moose 32\n",
        "\n",
        "2011-05-29 01:20 Moose 29\n",
        "\n",
        "2011-06-01 21:17 Moose 27\n",
        "\n",
        "2011-06-01 14:04 Moose 17\n",
        "\n",
        "2011-06-03 14:57 Moose 33\n",
        "\n",
        "2011-06-04 17:48 Moose 11\n",
        "\n",
        "2011-06-06 09:57 Moose 12\n",
        "\n",
        "2011-06-07 09:33 Moose 40\n",
        "\n",
        "2011-06-15 08:11 Moose 19\n",
        "\n",
        "2011-06-17 05:30 Moose 21\n",
        "\n",
        "2011-06-17 20:37 Moose 42\n",
        "\n"
       ]
      }
     ],
     "prompt_number": 7
    },
    {
     "cell_type": "markdown",
     "metadata": {},
     "source": [
      "#Writing Functions to a file"
     ]
    },
    {
     "cell_type": "raw",
     "metadata": {},
     "source": [
      "#Writing Functions to a file\n",
      "#All files end in the name .py\n",
      "#Open a file called circle\n",
      "#Write a function called area which takes the radius as input and outputs the area\n",
      "emacs circle.py \n",
      "\n",
      "def area(radius):\n",
      "    return 3.14 * radius **2"
     ]
    },
    {
     "cell_type": "code",
     "collapsed": false,
     "input": [
      "import circle\n",
      "print circle.area(2)\n",
      "reload(circle)"
     ],
     "language": "python",
     "metadata": {},
     "outputs": [
      {
       "output_type": "stream",
       "stream": "stdout",
       "text": [
        "12.5663706144\n"
       ]
      },
      {
       "output_type": "pyout",
       "prompt_number": 96,
       "text": [
        "<module 'circle' from 'circle.pyc'>"
       ]
      }
     ],
     "prompt_number": 96
    },
    {
     "cell_type": "markdown",
     "metadata": {},
     "source": [
      "#Exercise\n",
      "1. Add a function to circle which calculates the circumference of a circle"
     ]
    },
    {
     "cell_type": "code",
     "collapsed": false,
     "input": [
      "#import another module. replace 3.14 with math.pi\n",
      "import math\n",
      "dir(math)\n",
      "print math.pi\n",
      "reload(math)"
     ],
     "language": "python",
     "metadata": {},
     "outputs": [
      {
       "output_type": "stream",
       "stream": "stdout",
       "text": [
        "3.14159265359\n"
       ]
      },
      {
       "output_type": "pyout",
       "prompt_number": 92,
       "text": [
        "<module 'math' from '/System/Library/Frameworks/Python.framework/Versions/2.7/lib/python2.7/lib-dynload/math.so'>"
       ]
      }
     ],
     "prompt_number": 92
    },
    {
     "cell_type": "markdown",
     "metadata": {},
     "source": [
      "#Exercise\n",
      "1. import math to your function file and replace 3.14 with math.pi"
     ]
    },
    {
     "cell_type": "markdown",
     "metadata": {},
     "source": [
      "#Calling python programs from the command line"
     ]
    },
    {
     "cell_type": "raw",
     "metadata": {},
     "source": [
      "Just like interactive scripting"
     ]
    },
    {
     "cell_type": "raw",
     "metadata": {},
     "source": [
      "#Make a new file called find area\n",
      "import circle\n",
      "from circle import area\n",
      "\n",
      "print area(5)"
     ]
    },
    {
     "cell_type": "raw",
     "metadata": {},
     "source": [
      "type: python find_area.py"
     ]
    },
    {
     "cell_type": "markdown",
     "metadata": {},
     "source": [
      "##Passing in command line arguments"
     ]
    },
    {
     "cell_type": "markdown",
     "metadata": {},
     "source": [
      "In the last example, we hard coded in a value for the radius. What if we want to be able to pass the program a value for the radius?"
     ]
    },
    {
     "cell_type": "raw",
     "metadata": {},
     "source": [
      "sys module\n",
      "sys.argv[0] - program name\n",
      "sys.argv[1] - first command line argument\n",
      "sys.argv always returns a string"
     ]
    },
    {
     "cell_type": "raw",
     "metadata": {},
     "source": [
      "Add parsing the radius to circle code:\n",
      "\n",
      "import sys\n",
      "import circle\n",
      "from circle import area, circumference\n",
      "\n",
      "radius = float(sys.argv[1])\n",
      "a = area(radius)\n",
      "c = circumference(radius)\n",
      "print a, c\n",
      "    "
     ]
    },
    {
     "cell_type": "markdown",
     "metadata": {},
     "source": [
      "#Exercise:\n",
      "1. Create a text file with a list of numbers separated by commas (all on one line)\n",
      "2. Use what you've just learned and the mean function you wrote previously to write a program which takes the name of a test file as input, reads a list of numbers from the file, and prints the mean of the list of numbers"
     ]
    },
    {
     "cell_type": "code",
     "collapsed": false,
     "input": [
      "# a good time to remind them not to overwrite python reserved words (like list)"
     ],
     "language": "python",
     "metadata": {},
     "outputs": []
    }
   ],
   "metadata": {}
  }
 ]
}