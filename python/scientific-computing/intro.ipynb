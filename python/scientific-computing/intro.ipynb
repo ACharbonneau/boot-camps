{
 "metadata": {
  "name": "intro"
 },
 "nbformat": 3,
 "nbformat_minor": 0,
 "worksheets": [
  {
   "cells": [
    {
     "cell_type": "markdown",
     "metadata": {
      "slideshow": {
       "slide_start": true,
       "slide_type": "slide"
      }
     },
     "source": [
      "# Python in Scientific Computing\n",
      "# ![Software Carpentry](http://ahmadia.github.io/boot-camps/logos/software-carpentry-with-hammer.svg)\n",
      "\n",
      "### <center>Tufts University, June 2013</center>"
     ]
    },
    {
     "cell_type": "markdown",
     "metadata": {
      "slideshow": {
       "slide_start": true,
       "slide_step": false,
       "slide_type": "slide"
      }
     },
     "source": [
      "## About This Tutorial\n",
      "\n",
      "### Scientific Computing in Python from Software Carpentry\n",
      "\n",
      "These presentation materials are adapted from a continuously updated tutorial on Python for High Performance Computing.  To get the presentation materials as they were delivered today, please use visit the following URL on github.  \n",
      "\n",
      "https://github.com/swcarpentry/boot-camps/tree/2013-06-tufts\n",
      "\n",
      "You can find the original source of this notebook here:\n",
      "\n",
      "https://github.com/pyhpc/pyhpc-tutorial"
     ]
    },
    {
     "cell_type": "markdown",
     "metadata": {
      "slideshow": {
       "slide_start": true,
       "slide_type": "slide"
      }
     },
     "source": [
      "## Interacting with the Tutorial Slides\n",
      "\n",
      "This tutorial is an interactive worksheet designed to encourage you to try out the lessons during the demonstration. \n",
      "\n",
      "To run the interactive version of this notebook, you will need a Python 2.7 environment including: \n",
      "\n",
      "* IPython version >= 13.0\n",
      "* numpy version >= 1.6\n",
      "* scipy >= 0.10\n",
      "* matplotlib >= 1.0.0"
     ]
    },
    {
     "cell_type": "markdown",
     "metadata": {
      "slideshow": {
       "slide_start": true,
       "slide_type": "slide"
      }
     },
     "source": [
      "## Presentation mode\n",
      "The slideshow mode is only supported by an IPython development branch version. If you would like to write your own slideshows (the notebooks will work regardless of slideshow capabilities), you will need to install a development version of IPython.  Here are some sample command-line instructions.\n",
      "\n",
      "```\n",
      "git clone https://github.com/ipython/ipython.git\n",
      "cd ipython\n",
      "python setup.py install\n",
      "ipython notebook       \n",
      "```\n",
      "\n",
      "You will also need to [follow Matthias Bussonnier's instructions here](https://github.com/Carreau/ipython-static-profiles) for setting up the slideshow JavaScript."
     ]
    },
    {
     "cell_type": "markdown",
     "metadata": {
      "slideshow": {
       "slide_start": true,
       "slide_step": false,
       "slide_type": "slide"
      }
     },
     "source": [
      "## Slideshow Setup Code"
     ]
    },
    {
     "cell_type": "markdown",
     "metadata": {
      "slideshow": {
       "slide_type": "fragment"
      }
     },
     "source": [
      "The below command starts pylab inline mode, which simplifies syntax for many common scientific computing \n",
      "commands.  All commands starting with % are IPython extensions."
     ]
    },
    {
     "cell_type": "code",
     "collapsed": false,
     "input": [
      "%pylab inline\n",
      "\n",
      "import numpy as np\n",
      "import scipy as sp\n",
      "import matplotlib.pyplot as plt"
     ],
     "language": "python",
     "metadata": {
      "slideshow": {
       "slide_type": "fragment"
      }
     },
     "outputs": []
    },
    {
     "cell_type": "markdown",
     "metadata": {
      "slideshow": {
       "slide_start": true,
       "slide_type": "slide"
      }
     },
     "source": [
      "Introduction to Python (This Notebook)\n",
      "------------\n",
      "\n",
      "### Objectives\n",
      "\n",
      "1. You will understand how scripting languages fit into the toolbox of\n",
      "a computational scientist.\n",
      "2. You will get a taste of Python for actual scientific computing\n",
      "\n",
      "The first part of this introduction is adapted from *Python\n",
      "Scripting for Computational Science* by \n",
      "[Hans Petter Langtangen](http://folk.uio.no/hpl/), Simula \n",
      "and also includes motivating material from \n",
      "[Nathan Collier](http://www.mendeley.com/profiles/nathan-collier/).\n",
      "\n",
      "<a href=\"http://www.amazon.com/Hans-Petter-Langtangen/e/B001K6A0IA\"><img src=\"/files/figures/books.png\"/> </a>\n"
     ]
    },
    {
     "cell_type": "markdown",
     "metadata": {
      "slideshow": {
       "slide_start": true,
       "slide_type": "slide"
      }
     },
     "source": [
      "Has this ever happened to you?\n",
      "------------------------------\n",
      "\n",
      "### Scenario 1\n",
      "You are working on data for a presentation your advisor is giving\n",
      "at a conference. At the last minute, you realize that there is a\n",
      "major bug in your code and you need to regenerate all the images\n",
      "and graphs that you have given him. You spend 30 minutes\n",
      "regenerating the data and 6 hours regenerating the graphs because\n",
      "you had them in Excel and had done them by hand."
     ]
    },
    {
     "cell_type": "markdown",
     "metadata": {
      "slideshow": {
       "slide_type": "slide"
      }
     },
     "source": [
      "### Scenario 2\n",
      "You are working on your thesis and as you near the finish you\n",
      "review some graphs you generated months earlier and you aren't\n",
      "sure if they are now completely up to date. You spend half a day\n",
      "locating the old code that you wrote on your second laptop and\n",
      "hours more again creating and polishing the charts."
     ]
    },
    {
     "cell_type": "markdown",
     "metadata": {
      "slideshow": {
       "slide_start": true,
       "slide_step": false,
       "slide_type": "slide"
      }
     },
     "source": [
      "Buyer Beware\n",
      "------------\n",
      "\n",
      "Learning to automate many of these common tasks can greatly\n",
      "increase your productivity (and make your research\n",
      "reproducible). However, beware that there is no end to the number\n",
      "of different ways to do essentially the same thing. \n",
      "\n",
      "![Recall we want to script to SAVE time](/files/figures/careful.png)\n",
      "\n",
      "> Image credit [Bruno Oliveira](https://plus.google.com/102451193315916178828/posts/MGxauXypb1Y)"
     ]
    },
    {
     "cell_type": "markdown",
     "metadata": {
      "slideshow": {
       "slide_start": true,
       "slide_type": "slide"
      }
     },
     "source": [
      "---\n",
      "\n",
      "Why Python is useful\n",
      "-----------------------\n",
      "<!--====-->\n",
      "\n",
      "There are perhaps many reasons, here we list a few:\n",
      "\n",
      "* like other scripting languages, has an easier interface to learn\n",
      "* allow you to build your own work environment\n",
      "* scientific computing is more than crunching numbers\n",
      "* easier creation of GUIs, demos, and fancy HTML notebooks\n",
      "* create modern interfaces to old codes\n",
      "* allow you to explore, develop and test interactively\n",
      "* cleaner, shorter, easy to read, write, and maintain code"
     ]
    },
    {
     "cell_type": "markdown",
     "metadata": {
      "slideshow": {
       "slide_start": true,
       "slide_type": "slide"
      }
     },
     "source": [
      "---\n",
      "\n",
      "Some Sample Applications\n",
      "========================"
     ]
    },
    {
     "cell_type": "markdown",
     "metadata": {
      "slideshow": {
       "slide_start": true,
       "slide_type": "slide"
      }
     },
     "source": [
      "---\n",
      "\n",
      "Teaching the finite element method\n",
      "----------------------------------\n",
      "\n",
      "### Stiffness matrix computation\n",
      "\n",
      "```\n",
      "# compute K and F\n",
      "K = np.zeros((n,n))\n",
      "F = np.zeros(n)\n",
      "\n",
      "for a in range(n): # loop over basis a\n",
      "    F[a] += N(a) * dx * force(x)\n",
      "    for b in range(n):\n",
      "        for e in range(n):\n",
      "            K[a,b] += dN(a) * dN(b) * dx\n",
      "\n",
      "# Neumman condition\n",
      "F[0] = h\n",
      "\n",
      "# Dirichlet condition\n",
      "b=n\n",
      "for a in range(n):\n",
      "    for e in range(n):\n",
      "        F[a] -= dN(a) * dN(b) * dx * g\n",
      "\n",
      "# Solve system\n",
      "d = np.linalg.solve(K,F)\n",
      "```"
     ]
    },
    {
     "cell_type": "markdown",
     "metadata": {
      "slideshow": {
       "slide_start": true,
       "slide_type": "slide"
      }
     },
     "source": [
      "---\n",
      "\n",
      "Monitor program progress\n",
      "------------------------\n",
      "\n",
      "### Python parses a datafile and makes plots of current progress\n",
      "\n",
      "![Log](/files/figures/log.png)\n"
     ]
    },
    {
     "cell_type": "markdown",
     "metadata": {
      "slideshow": {
       "slide_start": true,
       "slide_type": "slide"
      }
     },
     "source": [
      "##Problem prototypes\n",
      "\n",
      "### Nonlinear, time dependent problem\n",
      "\n",
      "![NonLinear problem](/files/figures/dsw.png)"
     ]
    },
    {
     "cell_type": "markdown",
     "metadata": {
      "slideshow": {
       "slide_start": true,
       "slide_type": "slide"
      }
     },
     "source": [
      "##Problem prototypes\n",
      "\n",
      "### Method for fitting surface to data\n",
      "\n",
      "![Prototypes](/files/figures/molt.png)\n"
     ]
    },
    {
     "cell_type": "markdown",
     "metadata": {
      "slideshow": {
       "slide_start": true,
       "slide_type": "slide"
      }
     },
     "source": [
      "## Auto-generation of results\n",
      "\n",
      "### Python runs C code, post-processes the results, and generates a LaTeX table\n",
      "\n",
      "![Result Generation](/files/figures/dpg.png)\n"
     ]
    },
    {
     "cell_type": "markdown",
     "metadata": {
      "slideshow": {
       "slide_start": true,
       "slide_type": "slide"
      }
     },
     "source": [
      "# A Tour of Python for Scientific Computing"
     ]
    },
    {
     "cell_type": "markdown",
     "metadata": {
      "slideshow": {
       "slide_start": true,
       "slide_type": "slide"
      }
     },
     "source": [
      "## Arrays\n",
      "\n",
      "**Python** has built-in:\n",
      "\n",
      "* containers: lists (costless insertion and append), dictionaries (fast lookup)  \n",
      "* high-level number objects: integers, floating point, decimal  \n",
      "\n",
      "**Numpy** is:\n",
      "\n",
      "* extension package to Python for multi-dimensional arrays  \n",
      "* closer to hardware (efficiency)  \n",
      "* designed for scientific computation (convenience)  \n"
     ]
    },
    {
     "cell_type": "code",
     "collapsed": false,
     "input": [
      "a = np.array([0,1,2,3,4])\n",
      "a"
     ],
     "language": "python",
     "metadata": {
      "slideshow": {
       "slide_start": true,
       "slide_type": "slide"
      }
     },
     "outputs": []
    },
    {
     "cell_type": "code",
     "collapsed": false,
     "input": [
      "print a.ndim # Dimensionality\n",
      "print a.shape # Shape"
     ],
     "language": "python",
     "metadata": {
      "slideshow": {
       "slide_start": false,
       "slide_step": true,
       "slide_type": "slide"
      }
     },
     "outputs": []
    },
    {
     "cell_type": "code",
     "collapsed": false,
     "input": [
      "b = np.array([[0, 1, 2], [3, 4, 5]])\n",
      "print b\n",
      "print b.ndim\n",
      "print b.shape"
     ],
     "language": "python",
     "metadata": {
      "slideshow": {
       "slide_start": false,
       "slide_step": true,
       "slide_type": "slide"
      }
     },
     "outputs": []
    },
    {
     "cell_type": "markdown",
     "metadata": {
      "slideshow": {
       "slide_start": true,
       "slide_type": "slide"
      }
     },
     "source": [
      "## Common Arrays\n"
     ]
    },
    {
     "cell_type": "code",
     "collapsed": false,
     "input": [
      "print np.arange(10) # Like range [0, 1, ..., 9]\n",
      "print np.arange(1,9, 2) # [1, 3, 5, 7]"
     ],
     "language": "python",
     "metadata": {
      "slideshow": {
       "slide_start": false,
       "slide_step": true,
       "slide_type": "fragment"
      }
     },
     "outputs": []
    },
    {
     "cell_type": "code",
     "collapsed": false,
     "input": [
      "print np.linspace(0, 1, 6) # A linear space of [0,1] with 6 pts\n",
      "print np.linspace(0, 1, 6, endpoint=False) # [0,1["
     ],
     "language": "python",
     "metadata": {
      "slideshow": {
       "slide_start": false,
       "slide_step": true,
       "slide_type": "fragment"
      }
     },
     "outputs": []
    },
    {
     "cell_type": "code",
     "collapsed": false,
     "input": [
      "print np.ones((3,3)) # 3 X 3 2D array of 1's"
     ],
     "language": "python",
     "metadata": {
      "slideshow": {
       "slide_start": false,
       "slide_step": true,
       "slide_type": "fragment"
      }
     },
     "outputs": []
    },
    {
     "cell_type": "code",
     "collapsed": false,
     "input": [
      "print np.eye(3)"
     ],
     "language": "python",
     "metadata": {
      "slideshow": {
       "slide_start": true,
       "slide_type": "fragment"
      }
     },
     "outputs": []
    },
    {
     "cell_type": "code",
     "collapsed": false,
     "input": [
      "print np.diag(arange(4))"
     ],
     "language": "python",
     "metadata": {
      "slideshow": {
       "slide_start": false,
       "slide_step": true,
       "slide_type": "fragment"
      }
     },
     "outputs": []
    },
    {
     "cell_type": "code",
     "collapsed": false,
     "input": [
      "print np.random.rand(4) # Uniform distribution\n",
      "print np.random.randn(4) # Gaussian distribution"
     ],
     "language": "python",
     "metadata": {
      "slideshow": {
       "slide_start": false,
       "slide_step": true,
       "slide_type": "fragment"
      }
     },
     "outputs": []
    },
    {
     "cell_type": "markdown",
     "metadata": {
      "slideshow": {
       "slide_start": true,
       "slide_type": "slide"
      }
     },
     "source": [
      "## Other Numpy Features to be aware of\n",
      "### Reshaping"
     ]
    },
    {
     "cell_type": "code",
     "collapsed": false,
     "input": [
      "arr = np.arange(1000000)\n",
      "arr2 = arr.reshape((10,100000))\n",
      "print(arr2)"
     ],
     "language": "python",
     "metadata": {
      "slideshow": {
       "slide_start": false,
       "slide_step": true,
       "slide_type": "fragment"
      }
     },
     "outputs": []
    },
    {
     "cell_type": "markdown",
     "metadata": {
      "slideshow": {
       "slide_start": true,
       "slide_type": "slide"
      }
     },
     "source": [
      "## Memory Views"
     ]
    },
    {
     "cell_type": "code",
     "collapsed": false,
     "input": [
      "arr2.view?"
     ],
     "language": "python",
     "metadata": {
      "slideshow": {
       "slide_start": false,
       "slide_step": true,
       "slide_type": "fragment"
      }
     },
     "outputs": []
    },
    {
     "cell_type": "markdown",
     "metadata": {
      "slideshow": {
       "slide_start": true,
       "slide_type": "slide"
      }
     },
     "source": [
      "### Index Slicing"
     ]
    },
    {
     "cell_type": "code",
     "collapsed": false,
     "input": [
      "x = np.arange(0, 20, 2); y = x**2\n",
      "((y[1:] - y[:-1]) / (x[1:] - x[:-1])) # dy/dx"
     ],
     "language": "python",
     "metadata": {
      "slideshow": {
       "slide_start": false,
       "slide_step": true,
       "slide_type": "fragment"
      }
     },
     "outputs": []
    },
    {
     "cell_type": "markdown",
     "metadata": {
      "slideshow": {
       "slide_start": true,
       "slide_type": "slide"
      }
     },
     "source": [
      "### Fancy Indexing"
     ]
    },
    {
     "cell_type": "code",
     "collapsed": false,
     "input": [
      "evens = arr[arr%2 == 0]\n",
      "print(evens)"
     ],
     "language": "python",
     "metadata": {
      "slideshow": {
       "slide_start": false,
       "slide_step": true,
       "slide_type": "fragment"
      }
     },
     "outputs": []
    },
    {
     "cell_type": "markdown",
     "metadata": {
      "slideshow": {
       "slide_start": true,
       "slide_type": "slide"
      }
     },
     "source": [
      "## LinAlg, FFTs, and Random numbers"
     ]
    },
    {
     "cell_type": "code",
     "collapsed": false,
     "input": [
      "np.dot(arange(10), arange(10))"
     ],
     "language": "python",
     "metadata": {
      "slideshow": {
       "slide_start": false,
       "slide_step": true,
       "slide_type": "fragment"
      }
     },
     "outputs": []
    },
    {
     "cell_type": "code",
     "collapsed": false,
     "input": [
      "np.dot(arange(9).reshape(3,3),\n",
      "    arange(9).reshape(3,3))"
     ],
     "language": "python",
     "metadata": {
      "slideshow": {
       "slide_start": false,
       "slide_step": true,
       "slide_type": "fragment"
      }
     },
     "outputs": []
    },
    {
     "cell_type": "code",
     "collapsed": false,
     "input": [
      "np.fft?"
     ],
     "language": "python",
     "metadata": {
      "slideshow": {
       "slide_start": true,
       "slide_step": true,
       "slide_type": "fragment"
      }
     },
     "outputs": []
    },
    {
     "cell_type": "code",
     "collapsed": false,
     "input": [
      "np.linalg?"
     ],
     "language": "python",
     "metadata": {
      "slideshow": {
       "slide_start": false,
       "slide_step": true,
       "slide_type": "fragment"
      }
     },
     "outputs": []
    },
    {
     "cell_type": "code",
     "collapsed": false,
     "input": [
      "np.random?"
     ],
     "language": "python",
     "metadata": {
      "slideshow": {
       "slide_start": false,
       "slide_step": true,
       "slide_type": "fragment"
      }
     },
     "outputs": []
    },
    {
     "cell_type": "markdown",
     "metadata": {
      "slideshow": {
       "slide_start": true,
       "slide_type": "slide"
      }
     },
     "source": [
      "## Quick Visualization / MatPlotLib\n",
      "\n",
      "How quickly can we plot 10K numbers?\n"
     ]
    },
    {
     "cell_type": "code",
     "collapsed": false,
     "input": [
      "plt.hist(random.randn(100000), 100);"
     ],
     "language": "python",
     "metadata": {
      "slideshow": {
       "slide_start": false,
       "slide_type": "slide"
      }
     },
     "outputs": []
    },
    {
     "cell_type": "markdown",
     "metadata": {
      "slideshow": {
       "slide_start": true,
       "slide_type": "slide"
      }
     },
     "source": [
      "### Basic Plotting"
     ]
    },
    {
     "cell_type": "code",
     "collapsed": false,
     "input": [
      "plt.plot(range(100))\n",
      "plt.xlabel(\"measured\")\n",
      "plt.ylabel(\"calculated\")\n",
      "plt.grid(True);"
     ],
     "language": "python",
     "metadata": {
      "slideshow": {
       "slide_start": false,
       "slide_type": "slide"
      }
     },
     "outputs": []
    },
    {
     "cell_type": "code",
     "collapsed": false,
     "input": [
      "x = np.linspace(0,1,100)\n",
      "linear = x\n",
      "square = x**2\n",
      "plot(x, linear, x, square);"
     ],
     "language": "python",
     "metadata": {
      "slideshow": {
       "slide_start": true,
       "slide_type": "slide"
      }
     },
     "outputs": []
    },
    {
     "cell_type": "code",
     "collapsed": false,
     "input": [
      "x = np.linspace(0,1,10)\n",
      "linear = x\n",
      "square = x**2\n",
      "plot(x, linear, 'g:+', x, square, 'r--o');"
     ],
     "language": "python",
     "metadata": {
      "slideshow": {
       "slide_start": true,
       "slide_type": "slide"
      }
     },
     "outputs": []
    },
    {
     "cell_type": "code",
     "collapsed": false,
     "input": [
      "x = np.linspace(0,1,10)\n",
      "linear = x\n",
      "square = x**2\n",
      "plot(x, linear, 'g:+', x, square, 'r--o')\n",
      "legend(('linear', 'square'), loc='upper left');"
     ],
     "language": "python",
     "metadata": {
      "slideshow": {
       "slide_start": true,
       "slide_type": "slide"
      }
     },
     "outputs": []
    },
    {
     "cell_type": "code",
     "collapsed": false,
     "input": [
      "plot(linear)\n",
      "axes([0.2, 0.5, 0.25, 0.25])\n",
      "plot(square);"
     ],
     "language": "python",
     "metadata": {
      "slideshow": {
       "slide_start": true,
       "slide_type": "slide"
      }
     },
     "outputs": []
    },
    {
     "cell_type": "markdown",
     "metadata": {
      "slideshow": {
       "slide_start": true,
       "slide_type": "slide"
      }
     },
     "source": [
      "---\n",
      "SciPy: Collection of High-Level Tools\n",
      "--------------------------------------\n",
      "\n",
      "* mathematical algorithms and convenience functions built on the Numpy,\n",
      "* organized into subpackages covering different scientific computing domains,\n",
      "* a data-processing and system-prototyping environment rivaling sytems such as MATLAB, IDL, Octave, R-Lab, and SciLab\n"
     ]
    },
    {
     "cell_type": "markdown",
     "metadata": {
      "slideshow": {
       "slide_start": true,
       "slide_type": "slide"
      }
     },
     "source": [
      "---\n",
      "SciPy: Collection of High-Level Tools\n",
      "--------------------------------------\n",
      "\n",
      "* File IO (scipy.io)\n",
      "* Special functions (scipy.special)\n",
      "* Integration (scipy.integrate)\n",
      "* Optimization (scipy.optimize)\n",
      "* Interpolation (scipy.interpolate)\n",
      "* Fourier Transforms (scipy.fftpack)\n",
      "* Signal Processing (scipy.signal)\n",
      "* Linear Algebra (scipy.linalg)\n",
      "* Sparse Eigenvalue Problems with ARPACK\n",
      "* Statistics (scipy.stats)\n",
      "* Multi-dimensional image processing (scipy.ndimage)\n",
      "* Weave (scipy.weave)"
     ]
    },
    {
     "cell_type": "markdown",
     "metadata": {
      "slideshow": {
       "slide_start": true,
       "slide_type": "slide"
      }
     },
     "source": [
      "---\n",
      "scipy.io\n",
      "--------\n",
      "\n"
     ]
    },
    {
     "cell_type": "code",
     "collapsed": false,
     "input": [
      "import scipy\n",
      "from scipy import io as spio\n",
      "a = np.ones((3, 3))\n",
      "spio.savemat('file.mat', {'a': a}) # savemat expects a dictionary\n",
      "data = spio.loadmat('file.mat', struct_as_record=True)\n",
      "data['a']\n"
     ],
     "language": "python",
     "metadata": {
      "slideshow": {
       "slide_start": false,
       "slide_type": "slide"
      }
     },
     "outputs": []
    },
    {
     "cell_type": "markdown",
     "metadata": {
      "slideshow": {
       "slide_start": false,
       "slide_step": true,
       "slide_type": "slide"
      }
     },
     "source": [
      "Also see:\n",
      "\n",
      "* Images\n",
      "* IDL Files\n",
      "* Matrix Market Files\n",
      "* Wav files"
     ]
    },
    {
     "cell_type": "markdown",
     "metadata": {
      "slideshow": {
       "slide_start": true,
       "slide_type": "slide"
      }
     },
     "source": [
      "---\n",
      "scipy.special\n",
      "--------\n",
      "\n",
      "* Bessel function, such as scipy.special.jn() (nth integer order Bessel function)\n",
      "* Elliptic function (scipy.special.ellipj() for the Jacobian elliptic function, ...)\n",
      "* Gamma function: scipy.special.gamma(), also note scipy.special.gammaln() which will give the log of Gamma to a higher numerical precision.\n",
      "* Erf, the area under a Gaussian curve: scipy.special.erf()\n"
     ]
    },
    {
     "cell_type": "code",
     "collapsed": false,
     "input": [
      "from scipy.special import jn\n",
      "x = np.linspace(0, 1, 10)\n",
      "print [jn(val, 1.0) for val in x]\n"
     ],
     "language": "python",
     "metadata": {
      "slideshow": {
       "slide_start": false,
       "slide_type": "slide"
      }
     },
     "outputs": []
    },
    {
     "cell_type": "code",
     "collapsed": false,
     "input": [
      "from scipy import *\n",
      "from scipy.special import jn, jn_zeros\n",
      "from mpl_toolkits.mplot3d import Axes3D\n",
      "from matplotlib import cm\n",
      "\n",
      "def drumhead_height(n, k, distance, angle, t):\n",
      "    nth_zero = jn_zeros(n, k)\n",
      "    return cos(t)*cos(n*angle)*jn(n, distance*nth_zero)\n",
      "\n",
      "theta = r_[0:2*pi:50j]\n",
      "radius = r_[0:1:50j]\n",
      "x = array([r*cos(theta) for r in radius])\n",
      "y = array([r*sin(theta) for r in radius])\n",
      "z = array([drumhead_height(1, 1, r, theta, 0.5) for r in radius])\n",
      "fig = pylab.figure()\n",
      "ax = Axes3D(fig)\n",
      "ax.plot_surface(x, y, z, rstride=1, cstride=1, cmap=cm.jet)\n",
      "ax.set_xlabel('X')\n",
      "ax.set_ylabel('Y')\n",
      "ax.set_zlabel('Z');"
     ],
     "language": "python",
     "metadata": {
      "slideshow": {
       "slide_start": false,
       "slide_type": "slide"
      }
     },
     "outputs": []
    },
    {
     "cell_type": "markdown",
     "metadata": {
      "slideshow": {
       "slide_start": true,
       "slide_type": "slide"
      }
     },
     "source": [
      "---\n",
      "scipy.linalg\n",
      "--------\n",
      "\n",
      "* Matrix class (all routines still work with 2D NumPy arrays)\n",
      "* Basic Linear Algebra\n",
      "* Decompositions\n",
      "* Matrix Functions\n",
      "* Special matrices\n"
     ]
    },
    {
     "cell_type": "code",
     "collapsed": false,
     "input": [
      "A = sp.mat('[1 3 5; 2 5 1; 2 3 8]')\n",
      "A"
     ],
     "language": "python",
     "metadata": {
      "slideshow": {
       "slide_start": false,
       "slide_step": true,
       "slide_type": "fragment"
      }
     },
     "outputs": []
    },
    {
     "cell_type": "code",
     "collapsed": false,
     "input": [
      "A.I"
     ],
     "language": "python",
     "metadata": {
      "slideshow": {
       "slide_start": false,
       "slide_step": true,
       "slide_type": "fragment"
      }
     },
     "outputs": []
    },
    {
     "cell_type": "code",
     "collapsed": false,
     "input": [
      "from scipy import linalg\n",
      "linalg.inv(A)"
     ],
     "language": "python",
     "metadata": {
      "slideshow": {
       "slide_start": true,
       "slide_step": true,
       "slide_type": "fragment"
      }
     },
     "outputs": []
    },
    {
     "cell_type": "code",
     "collapsed": false,
     "input": [
      "linalg.svd(A)"
     ],
     "language": "python",
     "metadata": {
      "slideshow": {
       "slide_start": false,
       "slide_step": true,
       "slide_type": "fragment"
      }
     },
     "outputs": []
    },
    {
     "cell_type": "code",
     "collapsed": false,
     "input": [
      "linalg.toeplitz([1,2,3],[1,2,4,5,6])"
     ],
     "language": "python",
     "metadata": {
      "slideshow": {
       "slide_start": false,
       "slide_step": true,
       "slide_type": "fragment"
      }
     },
     "outputs": []
    },
    {
     "cell_type": "markdown",
     "metadata": {
      "slideshow": {
       "slide_start": true,
       "slide_type": "slide"
      }
     },
     "source": [
      "## Pattern Formation Exercise\n",
      "\n",
      "This exercise has been adapted from an example by [David Ketcheson](http://www.davidketcheson.info/), KAUST"
     ]
    },
    {
     "cell_type": "markdown",
     "metadata": {
      "slideshow": {
       "slide_start": true,
       "slide_step": true,
       "slide_type": "slide"
      }
     },
     "source": [
      "### 5 Point Laplace Operator\n",
      "We start by constructing a dense matrix representing our stencil operator applied to a vector"
     ]
    },
    {
     "cell_type": "code",
     "collapsed": false,
     "input": [
      "def five_pt_laplacian(m, a, b):\n",
      "    \"\"\"Construct a matrix that applies the 5-point Laplacian discretization\"\"\"\n",
      "    e=np.ones(m**2)\n",
      "    e2=([0]+[1]*(m-1))*m\n",
      "    h=(b-a)/(m+1)\n",
      "    A=np.diag(-4*e,0)+np.diag(e2[1:],-1)+np.diag(e2[1:],1)+np.diag(e[m:],m)+np.diag(e[m:],-m)\n",
      "    A/=h**2\n",
      "    return A\n",
      "\n",
      "five_pt_laplacian(8, 0.0, 1.0)"
     ],
     "language": "python",
     "metadata": {
      "slideshow": {
       "slide_start": false,
       "slide_step": false,
       "slide_type": "slide"
      }
     },
     "outputs": []
    },
    {
     "cell_type": "markdown",
     "metadata": {
      "slideshow": {
       "slide_start": true,
       "slide_type": "slide"
      }
     },
     "source": [
      "Alternatively we can constuct a sparse representation."
     ]
    },
    {
     "cell_type": "code",
     "collapsed": false,
     "input": [
      "from scipy.sparse import spdiags\n",
      "\n",
      "def five_pt_laplacian_sparse(m, a, b):\n",
      "    \"\"\"Construct a sparse matrix that applies the 5-point laplacian discretization\"\"\"\n",
      "    e=np.ones(m**2)\n",
      "    e2=([1]*(m-1)+[0])*m\n",
      "    e3=([0]+[1]*(m-1))*m\n",
      "    h=(b-a)/(m+1)\n",
      "    A=spdiags([-4*e,e2,e3,e,e],[0,-1,1,-m,m],m**2,m**2)\n",
      "    A/=h**2\n",
      "    return A\n",
      "\n",
      "A = five_pt_laplacian_sparse(8, 0.0, 1.0)\n",
      "A?"
     ],
     "language": "python",
     "metadata": {
      "slideshow": {
       "slide_start": false,
       "slide_step": false,
       "slide_type": "slide"
      }
     },
     "outputs": []
    },
    {
     "cell_type": "markdown",
     "metadata": {
      "slideshow": {
       "slide_start": true,
       "slide_type": "slide"
      }
     },
     "source": [
      "## Pattern Formation Exercise"
     ]
    },
    {
     "cell_type": "code",
     "collapsed": true,
     "input": [
      "from IPython.display import clear_output\n",
      "\n",
      "\"\"\"Pattern formation code\n",
      "\n",
      "    Solves the pair of PDEs:\n",
      "       u_t = D_1 \\nabla^2 u + f(u,v)\n",
      "       v_t = D_2 \\nabla^2 v + g(u,v)\n",
      "\"\"\"\n",
      "\n",
      "#import matplotlib\n",
      "#matplotlib.use('TkAgg')\n",
      "import numpy as np\n",
      "#import matplotlib.pyplot as plt\n",
      "from scipy.sparse import spdiags,linalg,eye\n",
      "from time import sleep\n",
      "\n",
      "#Parameter values\n",
      "Du=0.500; Dv=1;\n",
      "delta=0.0045; tau1=0.02; tau2=0.2; alpha=0.899; beta=-0.91; gamma=-alpha;\n",
      "#delta=0.0045; tau1=0.02; tau2=0.2; alpha=1.9; beta=-0.91; gamma=-alpha;\n",
      "#delta=0.0045; tau1=2.02; tau2=0.; alpha=2.0; beta=-0.91; gamma=-alpha;\n",
      "#delta=0.0021; tau1=3.5; tau2=0; alpha=0.899; beta=-0.91; gamma=-alpha;\n",
      "#delta=0.0045; tau1=0.02; tau2=0.2; alpha=1.9; beta=-0.85; gamma=-alpha;\n",
      "#delta=0.0001; tau1=0.02; tau2=0.2; alpha=0.899; beta=-0.91; gamma=-alpha;\n",
      "#delta=0.0005; tau1=2.02; tau2=0.; alpha=2.0; beta=-0.91; gamma=-alpha; nx=150;\n",
      "\n",
      "#Define the reaction functions\n",
      "def f(u,v):\n",
      "    return alpha*u*(1-tau1*v**2) + v*(1-tau2*u);\n",
      "\n",
      "def g(u,v):\n",
      "    return beta*v*(1+alpha*tau1/beta*u*v) + u*(gamma+tau2*v);\n",
      "\n",
      "\n",
      "def five_pt_laplacian(m,a,b):\n",
      "    \"\"\"Construct a matrix that applies the 5-point laplacian discretization\"\"\"\n",
      "    e=np.ones(m**2)\n",
      "    e2=([0]+[1]*(m-1))*m\n",
      "    h=(b-a)/(m+1)\n",
      "    A=np.diag(-4*e,0)+np.diag(e2[1:],-1)+np.diag(e2[1:],1)+np.diag(e[m:],m)+np.diag(e[m:],-m)\n",
      "    A/=h**2\n",
      "    return A\n",
      "\n",
      "def five_pt_laplacian_sparse(m,a,b):\n",
      "    \"\"\"Construct a sparse matrix that applies the 5-point laplacian discretization\"\"\"\n",
      "    e=np.ones(m**2)\n",
      "    e2=([1]*(m-1)+[0])*m\n",
      "    e3=([0]+[1]*(m-1))*m\n",
      "    h=(b-a)/(m+1)\n",
      "    A=spdiags([-4*e,e2,e3,e,e],[0,-1,1,-m,m],m**2,m**2)\n",
      "    A/=h**2\n",
      "    return A\n",
      "\n",
      "# Set up the grid\n",
      "a=-1.; b=1.\n",
      "m=100; h=(b-a)/m; \n",
      "x = np.linspace(-1,1,m)\n",
      "y = np.linspace(-1,1,m)\n",
      "Y,X = np.meshgrid(y,x)\n",
      "\n",
      "# Initial data\n",
      "u=np.random.randn(m,m)/2.;\n",
      "v=np.random.randn(m,m)/2.;\n",
      "hold(False)\n",
      "plt.pcolormesh(x,y,u)\n",
      "plt.colorbar; plt.axis('image'); \n",
      "plt.draw()\n",
      "u=u.reshape(-1)\n",
      "v=v.reshape(-1)\n",
      "\n",
      "A=five_pt_laplacian_sparse(m,-1.,1.);\n",
      "II=eye(m*m,m*m)\n",
      "\n",
      "t=0.\n",
      "dt=h/delta/5.;\n",
      "fig, ax = plt.subplots()\n",
      "plt.colorbar\n",
      "\n",
      "#Now step forward in time\n",
      "for k in range(120):\n",
      "    #Simple (1st-order) operator splitting:\n",
      "    u = linalg.spsolve(II-dt*delta*Du*A,u)\n",
      "    v = linalg.spsolve(II-dt*delta*Dv*A,v)\n",
      "\n",
      "    unew=u+dt*f(u,v);\n",
      "    v   =v+dt*g(u,v);\n",
      "    u=unew;\n",
      "    t=t+dt;\n",
      "\n",
      "    #Plot every 3rd frame\n",
      "    if k/3==float(k)/3:\n",
      "        U=u.reshape((m,m))\n",
      "        ax.pcolormesh(x,y,U)\n",
      "        #ax.colorbar\n",
      "        ax.axis('image')\n",
      "        ax.set_title(str(t))\n",
      "        #ax.draw()\n",
      "        clear_output()\n",
      "        display(fig)\n",
      "\n",
      "plt.close()"
     ],
     "language": "python",
     "metadata": {
      "slideshow": {
       "slide_start": false,
       "slide_type": "slide"
      }
     },
     "outputs": []
    }
   ],
   "metadata": {}
  }
 ]
}