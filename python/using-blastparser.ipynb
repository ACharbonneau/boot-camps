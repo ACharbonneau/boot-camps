{
 "metadata": {
  "name": "using-blastparser"
 },
 "nbformat": 3,
 "nbformat_minor": 0,
 "worksheets": [
  {
   "cells": [
    {
     "cell_type": "code",
     "collapsed": false,
     "input": [
      "import blastparser\n",
      "fp = open('sample-blast.txt')\n",
      "for record in blastparser.parse_fp(fp):\n",
      "    for hit in record.hits:\n",
      "        for match in hit.matches:\n",
      "            print record.query_name, hit.subject_name\n",
      "            print match.subject_start, match.query_start\n",
      "            print match.subject_end, match.query_end\n",
      "            print match.expect\n",
      "            print dir(match)\n",
      "        break\n",
      "    break"
     ],
     "language": "python",
     "metadata": {},
     "outputs": [
      {
       "output_type": "stream",
       "stream": "stdout",
       "text": [
        "occulta.ctb3.1 JGI_294397\n",
        "1 81\n",
        "1307 4050\n",
        "1e-300\n",
        "['__class__', '__delattr__', '__dict__', '__doc__', '__format__', '__getattribute__', '__hash__', '__init__', '__module__', '__new__', '__reduce__', '__reduce_ex__', '__repr__', '__setattr__', '__sizeof__', '__str__', '__subclasshook__', '__weakref__', 'expect', 'frame1', 'frame2', 'query_end', 'query_sequence', 'query_start', 'subject_end', 'subject_sequence', 'subject_start']\n"
       ]
      }
     ],
     "prompt_number": 8
    },
    {
     "cell_type": "code",
     "collapsed": false,
     "input": [
      "evalues = []\n",
      "\n",
      "fp = open('sample-blast.txt')\n",
      "for record in blastparser.parse_fp(fp):\n",
      "    for hit in record.hits:\n",
      "        for match in hit.matches:\n",
      "            evalues.append(match.expect)\n"
     ],
     "language": "python",
     "metadata": {},
     "outputs": [],
     "prompt_number": 9
    },
    {
     "cell_type": "code",
     "collapsed": false,
     "input": [
      "hist(evalues, bins=100, normed=True)\n",
      "show()"
     ],
     "language": "python",
     "metadata": {},
     "outputs": [
      {
       "output_type": "display_data",
       "png": "[encoded data removed]",
       "text": [
        "<matplotlib.figure.Figure at 0x10814e450>"
       ]
      }
     ],
     "prompt_number": 13
    },
    {
     "cell_type": "code",
     "collapsed": false,
     "input": [
      "fp = open('sample-blast.txt')\n",
      "\n",
      "n = 0\n",
      "for record in blastparser.parse_fp(fp):\n",
      "    n += 1\n",
      "    if n > 5: break\n",
      "    for hit in record.hits:\n",
      "        for match in hit.matches:\n",
      "            print record.query_name, hit.subject_name, match.expect\n",
      "            break\n",
      "        break\n"
     ],
     "language": "python",
     "metadata": {},
     "outputs": [
      {
       "output_type": "stream",
       "stream": "stdout",
       "text": [
        "occulta.ctb3.1 JGI_294397 1e-300\n",
        "occulta.ctb3.2 ci0100148600 1e-300\n",
        "occulta.ctb3.3 ENSCINT00000024997 1e-125\n",
        "occulta.ctb3.4 KH.S404.1.v4.A.ND1-1 4e-57\n",
        "occulta.ctb3.5 KH.S404.1.v4.A.ND1-1 8e-57\n"
       ]
      }
     ],
     "prompt_number": 16
    },
    {
     "cell_type": "code",
     "collapsed": false,
     "input": [
      "fp = open('sample-blast.txt')\n",
      "outfp = open('/tmp/blastout.csv', 'w')\n",
      "\n",
      "for record in blastparser.parse_fp(fp):\n",
      "    for hit in record.hits:\n",
      "        for match in hit.matches:\n",
      "            print >>outfp, record.query_name, hit.subject_name, match.expect\n",
      "            break\n",
      "        break\n"
     ],
     "language": "python",
     "metadata": {},
     "outputs": [],
     "prompt_number": 18
    },
    {
     "cell_type": "code",
     "collapsed": false,
     "input": [
      "import csv\n",
      "\n",
      "fp = open('sample-blast.txt')\n",
      "outfp = open('/tmp/blastout.csv', 'wb')\n",
      "w = csv.writer(outfp)\n",
      "\n",
      "for record in blastparser.parse_fp(fp):\n",
      "    for hit in record.hits:\n",
      "        for match in hit.matches:\n",
      "            w.writerow([record.query_name, hit.subject_name, match.expect])\n",
      "            break\n",
      "        break\n",
      "outfp.close()"
     ],
     "language": "python",
     "metadata": {},
     "outputs": [],
     "prompt_number": 27
    },
    {
     "cell_type": "code",
     "collapsed": false,
     "input": [],
     "language": "python",
     "metadata": {},
     "outputs": []
    }
   ],
   "metadata": {}
  }
 ]
}