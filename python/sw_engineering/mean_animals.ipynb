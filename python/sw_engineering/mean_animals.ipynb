{
 "metadata": {
  "name": "mean_animals"
 },
 "nbformat": 3,
 "nbformat_minor": 0,
 "worksheets": [
  {
   "cells": [
    {
     "cell_type": "code",
     "collapsed": false,
     "input": [
      "%%file meananimals.py\n",
      "def read_file(ifile):\n",
      "    open_file = open(ifile, 'r')\n",
      "    \n",
      "    time = []\n",
      "    date = []\n",
      "    animal = []\n",
      "    count = []\n",
      "    \n",
      "    for iline in open_file:\n",
      "        s = iline.split()\n",
      "        date.append(s[0])\n",
      "        time.append(s[1])\n",
      "        animal.append(s[2])\n",
      "        count.append(int(s[3]))\n",
      "    \n",
      "    open_file.close()\n",
      "    \n",
      "    return date, time, animal, count\n",
      "\n",
      "def calc_mean(ilist):\n",
      "    '''\n",
      "    returns the mean of input list\n",
      "    '''\n",
      "    if len(ilist) == 0:\n",
      "        raise ValueError('Input is empty.')\n",
      "        \n",
      "    total = 0.0\n",
      "    for num in ilist:\n",
      "        total = total + num\n",
      "    return total/float(len(ilist))\n",
      "\n",
      "def filter_animals(species, date, time, animal, count):\n",
      "    \"\"\"\n",
      "    Given a particular species, filter out the data for just that species.\n",
      "\n",
      "    Returns four lists: date, time, animal, count.\n",
      "    \"\"\"\n",
      "    fdate = []\n",
      "    ftime = []\n",
      "    fanimal = []\n",
      "    fcount = []\n",
      "    \n",
      "    for d, t, a, c in zip(date, time, animal, count):\n",
      "        if a == species:\n",
      "            fdate.append(d)\n",
      "            ftime.append(t)\n",
      "            fanimal.append(a)\n",
      "            fcount.append(c)\n",
      "    \n",
      "    return fdate, ftime, fanimal, fcount\n",
      "\n",
      "def mean_animals(filename, species):\n",
      "    d, t, a, c = read_file(filename)\n",
      "    d, t, a, c = filter_animals(species, d, t, a, c)\n",
      "    return calc_mean(c)"
     ],
     "language": "python",
     "metadata": {},
     "outputs": [
      {
       "output_type": "stream",
       "stream": "stdout",
       "text": [
        "Writing meananimals.py\n"
       ]
      }
     ],
     "prompt_number": 1
    },
    {
     "cell_type": "code",
     "collapsed": false,
     "input": [],
     "language": "python",
     "metadata": {},
     "outputs": []
    }
   ],
   "metadata": {}
  }
 ]
}