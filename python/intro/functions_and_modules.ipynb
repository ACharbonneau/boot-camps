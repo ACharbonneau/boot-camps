{
 "metadata": {
  "name": "functions_and_modules"
 }, 
 "nbformat": 2, 
 "worksheets": [
  {
   "cells": [
    {
     "cell_type": "markdown", 
     "source": [
      "# Python part 4: Functions and Modules"
     ]
    }, 
    {
     "cell_type": "markdown", 
     "source": [
      "Presented by: [John Blischak](https://github.com/jdblischak \"GitHub\")  ", 
      "Materials by: [John Blischak](https://github.com/jdblischak \"GitHub\") and former Software Carpentry instructors"
     ]
    }, 
    {
     "cell_type": "markdown", 
     "source": [
      "As you saw in the last lesson, computers are very useful for doing the same operation over and over. When you know you will be performing the same operation many times, it is best to abstract this functionality into a function (aka method). For example, you used the function *open* in an earlier section. This allowed you to easily open a conncetion to a file without worrying about the underlying code that made it possible (this idea is known as abstraction).   "
     ]
    }, 
    {
     "cell_type": "markdown", 
     "source": [
      "## Built-in string methods", 
      "The base distribution comes with many useful functions. When a function works on a specific type of data (lists, strings, dictionaries, etc.), it is called a method.  I will cover some of the basic string methods since they are very useful for reading data into Python."
     ]
    }, 
    {
     "cell_type": "code", 
     "collapsed": true, 
     "input": [
      "# Find the start codon of a gene", 
      "dna = 'CTGTTGACATGCATTCACGCTACGCTAGCT'", 
      "dna.find('ATG')"
     ], 
     "language": "python", 
     "outputs": [], 
     "prompt_number": 44
    }, 
    {
     "cell_type": "code", 
     "collapsed": true, 
     "input": [
      "# parsing a line from a comma-delimted file", 
      "lotto_numbers = '4,8,15,16,23,42\\n'", 
      "lotto_numbers.strip().split(',')"
     ], 
     "language": "python", 
     "outputs": [], 
     "prompt_number": 45
    }, 
    {
     "cell_type": "code", 
     "collapsed": true, 
     "input": [
      "question = '%H%ow%z%d%@d%z%th%ez$%@p%ste%rzb%ur%nz%$%@szt%on%gue%?%'", 
      "print question.replace('%', '').replace('@', 'i').replace('$', 'h').replace('z', ' ')"
     ], 
     "language": "python", 
     "outputs": [], 
     "prompt_number": 46
    }, 
    {
     "cell_type": "code", 
     "collapsed": true, 
     "input": [
      "answer = '=H=&!dr=a=nk!c=~ff&&!be=f~r&=!i=t!w=as!c=~~l.='", 
      "print answer.replace('=', '').replace('&', 'e').replace('~', 'o').replace('!', ' ')"
     ], 
     "language": "python", 
     "outputs": [], 
     "prompt_number": 47
    }, 
    {
     "cell_type": "markdown", 
     "source": [
      "## Short Exercise: Calculate GC content"
     ]
    }, 
    {
     "cell_type": "markdown", 
     "source": [
      "Because the binding strength of guanine (G) to cytosine (C) is different from the binding strength of adenine (A) to thymine (T) (and many other differences), it is often useful to know the fraction of a sequence that is G's or C's. Go to the [string method section](http://docs.python.org/2/library/string.html) of the Python documentation and find the string method that will allow you to calculate this fraction."
     ]
    }, 
    {
     "cell_type": "code", 
     "collapsed": false, 
     "input": [
      "# Calculate the fraction of G's and C's in this DNA sequence", 
      "seq1 = 'ACGTACGTAGCTAGTAGCTACGTAGCTACGTA'", 
      "gc = "
     ], 
     "language": "python", 
     "outputs": [], 
     "prompt_number": 16
    }, 
    {
     "cell_type": "markdown", 
     "source": [
      "Check your work:"
     ]
    }, 
    {
     "cell_type": "code", 
     "collapsed": false, 
     "input": [
      "round(gc, ndigits = 2) == .47"
     ], 
     "language": "python", 
     "outputs": [], 
     "prompt_number": 17
    }, 
    {
     "cell_type": "markdown", 
     "source": [
      "## Creating your own functions!", 
      "When there is not an available function to perform a task, you can write your own functions."
     ]
    }, 
    {
     "cell_type": "code", 
     "collapsed": true, 
     "input": [
      "def square(x):", 
      "    return x * x"
     ], 
     "language": "python", 
     "outputs": [], 
     "prompt_number": 17
    }, 
    {
     "cell_type": "code", 
     "collapsed": true, 
     "input": [
      "print square(2), square(square(2))"
     ], 
     "language": "python", 
     "outputs": [], 
     "prompt_number": 32
    }, 
    {
     "cell_type": "code", 
     "collapsed": true, 
     "input": [
      "def hello(time, name):", 
      "    \"\"\"Print a nice message. Time and name should both be strings.", 
      "    ", 
      "    Example: hello('morning', 'Software Carpentry')", 
      "    \"\"\"", 
      "    print 'Good ' + time + ', ' + name + '!'"
     ], 
     "language": "python", 
     "outputs": [], 
     "prompt_number": 32
    }, 
    {
     "cell_type": "code", 
     "collapsed": true, 
     "input": [
      "hello('afternoon', 'Software Carpentry')"
     ], 
     "language": "python", 
     "outputs": [], 
     "prompt_number": 33
    }, 
    {
     "cell_type": "markdown", 
     "source": [
      "## Short exercise:", 
      "Make a function that calculate the GC content of a given DNA sequence. For the more advanced participants, make your function able to handle sequences of mixed case (see the third test case)."
     ]
    }, 
    {
     "cell_type": "code", 
     "collapsed": true, 
     "input": [
      "def calculate_gc(x):", 
      "    \"\"\"Calculates the GC content of DNA sequence x.\"\"\"", 
      "    "
     ], 
     "language": "python", 
     "outputs": [], 
     "prompt_number": 69
    }, 
    {
     "cell_type": "markdown", 
     "source": [
      "Check your work:"
     ]
    }, 
    {
     "cell_type": "code", 
     "collapsed": false, 
     "input": [
      "print round(calculate_gc('ATGC'), ndigits = 2) == 0.50", 
      "print round(calculate_gc('AGCGTCGTCAGTCGT'), ndigits = 2) == 0.60", 
      "print round(calculate_gc('ATaGtTCaAGcTCgATtGaATaGgTAaCt'), ndigits = 2) == 0.34"
     ], 
     "language": "python", 
     "outputs": [], 
     "prompt_number": 70
    }
   ]
  }
 ]
}