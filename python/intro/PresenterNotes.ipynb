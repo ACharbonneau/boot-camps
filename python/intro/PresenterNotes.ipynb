{
 "metadata": {
  "name": "PresenterNotes"
 },
 "nbformat": 3,
 "nbformat_minor": 0,
 "worksheets": [
  {
   "cells": [
    {
     "cell_type": "markdown",
     "metadata": {},
     "source": [
      "# Intro to Python\n",
      "\n",
      "# Outline\n",
      "\n",
      "## What is Python?\n",
      "* What?\n",
      "* Who?\n",
      "* When?\n",
      "* Where?\n",
      "* Why?\n",
      "* How?\n",
      "\n",
      "## Shell commands in IPython\n",
      "\n",
      "## Python as a calculator\n",
      "* Math\n",
      "\n",
      "## Values, types, and variables\n",
      "* Basic types\n",
      "* Variables\n",
      "* Assigning and printing\n",
      "* Containers\n",
      "\n",
      "## Logic and program flow\n",
      "* Control statements\n",
      "    * Conditionals\n",
      "    * Loops\n",
      "* Functions\n",
      "* Comments and docstrings\n",
      "\n",
      "## Input and output\n",
      "* Reading files\n",
      "\n",
      "## Intro to Python modules\n",
      "* What is a module?\n",
      "* Importing\n",
      "* Getting info\n",
      "    * dir\n",
      "    * autocomplete\n",
      "* Submodules\n",
      "\n",
      "## Outside IPython\n",
      "* Writing a function to a file\n",
      "* Calling Python from the command line\n",
      "\n",
      "---"
     ]
    },
    {
     "cell_type": "markdown",
     "metadata": {},
     "source": [
      "***\n",
      "# Python\n",
      "***\n",
      "## What?\n",
      "\n",
      "[Python](http://www.python.org) is a programming language. It has a number of buzzword-friendly attributes, some of which you may have heard before. Python is:\n",
      "\n",
      "* modern\n",
      "* general-purpose\n",
      "* powerful\n",
      "* high-level\n",
      "* readable\n",
      "* terse\n",
      "* interpreted\n",
      "* dynamic\n",
      "* object-oriented\n",
      "* imperative\n",
      "* functional\n",
      "* interactive\n",
      "* extensible\n",
      "* portable\n",
      "* free\n",
      "* open source\n",
      "\n",
      "## Who?\n",
      "\n",
      "Python was created by [Guido van Rossum](http://en.wikipedia.org/wiki/Guido_van_Rossum), the [Benevolent Dictator for Life](http://en.wikipedia.org/wiki/Benevolent_Dictator_For_Life). Today Python is maintained by a large community of contributors and the [Python Software Foundation](http://www.python.org/psf).\n",
      "\n",
      "## When?\n",
      "\n",
      "Python has been around since the early 1990s.\n",
      "\n",
      "## Where?\n",
      "\n",
      "Python interpreters exist for most modern desktop operating systems. Python runs in many places, from web servers to game consoles to mobile devices.\n",
      "\n",
      "## Why?\n",
      "\n",
      "Python is consistently ranked among the top programming languages by the [TIOBE Index](http://www.tiobe.com/index.php/content/paperinfo/tpci/index.html). Python is popular, easy to learn, and is well-supported and actively developed by the community. Python has a healthy library of supporting functionality and has gained favor within the web development, scientific, and engineering communities. Python programs perform well, and complex functionality can be realized with a relatively small amount of code. Python is also a lot of fun.\n",
      "\n",
      "\n",
      "<center><a href=\"http://xkcd.com/353\"><img height=\"50%\" src=\"http://imgs.xkcd.com/comics/python.png\"></img><br>xkcd</a></center>\n",
      "\n",
      "## How?\n",
      "\n",
      "* [Python 2](http://www.python.org/download)\n",
      "* [Python 3](http://www.python.org/download)\n",
      "* [IPython](http://ipython.org)\n",
      "* [Anaconda](https://store.continuum.io/cshop/anaconda)"
     ]
    },
    {
     "cell_type": "markdown",
     "metadata": {},
     "source": [
      "***\n",
      "# Shell commands in IPython\n",
      "***\n",
      "\n",
      "In IPython you can use the shell commands you learned earlier in this workshop to navigate your directory tree. This makes using IPython a bit more convenient than using a separate editor and shell, and is one of the reasons many people like IPython. In a standard Python interpreter, you cannot use these commands. We will learn the equivalent Python commands shortly."
     ]
    },
    {
     "cell_type": "markdown",
     "metadata": {},
     "source": [
      "Head to your boot camp directory."
     ]
    },
    {
     "cell_type": "code",
     "collapsed": false,
     "input": [
      "cd /Users/Jon/Code/boot-camps/python/intro"
     ],
     "language": "python",
     "metadata": {},
     "outputs": [
      {
       "output_type": "stream",
       "stream": "stdout",
       "text": [
        "/Users/Jon/Code/boot-camps/python/intro\n"
       ]
      }
     ],
     "prompt_number": 11
    },
    {
     "cell_type": "markdown",
     "metadata": {},
     "source": [
      "List file names and directory names in your boot camp directory."
     ]
    },
    {
     "cell_type": "code",
     "collapsed": false,
     "input": [
      "ls"
     ],
     "language": "python",
     "metadata": {},
     "outputs": [
      {
       "output_type": "stream",
       "stream": "stdout",
       "text": [
        "ExerciseSolutions.ipynb  README.md                animals.txt              fergus_animals.txt\r\n",
        "PresenterNotes.ipynb     StudentNotes.ipynb       big_animals.txt          merida_animals.txt\r\n"
       ]
      }
     ],
     "prompt_number": 12
    },
    {
     "cell_type": "markdown",
     "metadata": {},
     "source": [
      "Get the current working directory."
     ]
    },
    {
     "cell_type": "code",
     "collapsed": false,
     "input": [
      "pwd"
     ],
     "language": "python",
     "metadata": {},
     "outputs": [
      {
       "output_type": "pyout",
       "prompt_number": 13,
       "text": [
        "u'/Users/Jon/Code/boot-camps/python/intro'"
       ]
      }
     ],
     "prompt_number": 13
    },
    {
     "cell_type": "markdown",
     "metadata": {},
     "source": [
      "Make a new directory called `test_dir`."
     ]
    },
    {
     "cell_type": "code",
     "collapsed": false,
     "input": [
      "mkdir test_dir"
     ],
     "language": "python",
     "metadata": {},
     "outputs": [],
     "prompt_number": 14
    },
    {
     "cell_type": "markdown",
     "metadata": {},
     "source": [
      "List file names and directory names again, noticing the addition of `test_dir`."
     ]
    },
    {
     "cell_type": "code",
     "collapsed": false,
     "input": [
      "ls"
     ],
     "language": "python",
     "metadata": {},
     "outputs": [
      {
       "output_type": "stream",
       "stream": "stdout",
       "text": [
        "ExerciseSolutions.ipynb  README.md                animals.txt              fergus_animals.txt       \u001b[35mtest_dir\u001b[m\u001b[m/\r\n",
        "PresenterNotes.ipynb     StudentNotes.ipynb       big_animals.txt          merida_animals.txt\r\n"
       ]
      }
     ],
     "prompt_number": 15
    },
    {
     "cell_type": "markdown",
     "metadata": {},
     "source": [
      "***\n",
      "# Python as a calculator\n",
      "***\n",
      "Python contains a number of built-in mathematical operators. At its most basic, Python can add, subtract, multiply, and divide. We will also look at exponents and modulus."
     ]
    },
    {
     "cell_type": "code",
     "collapsed": false,
     "input": [
      "# Add\n",
      "5 + 4"
     ],
     "language": "python",
     "metadata": {},
     "outputs": [
      {
       "output_type": "pyout",
       "prompt_number": 16,
       "text": [
        "9"
       ]
      }
     ],
     "prompt_number": 16
    },
    {
     "cell_type": "markdown",
     "metadata": {},
     "source": [
      "In the example above, the integers are referred to as *operands* or *values*, and the plus sign is the *operator*."
     ]
    },
    {
     "cell_type": "markdown",
     "metadata": {},
     "source": [
      "***\n",
      "**Aside: Comments**\n",
      "\n",
      "In Python, the `#` character denotes a comment. When the comment character appears, the Python interpreter will ignore the remainder of the text on that line.\n"
     ]
    },
    {
     "cell_type": "code",
     "collapsed": false,
     "input": [
      "# This is a comment\n",
      "5 + 4 # This is a comment too, even if it contains code like 7 + 9"
     ],
     "language": "python",
     "metadata": {},
     "outputs": [
      {
       "output_type": "pyout",
       "prompt_number": 61,
       "text": [
        "9"
       ]
      }
     ],
     "prompt_number": 61
    },
    {
     "cell_type": "markdown",
     "metadata": {},
     "source": [
      "Comments can be essential to a program's clarity, both for other programmers who may happen to read it as well as for future you."
     ]
    },
    {
     "cell_type": "markdown",
     "metadata": {},
     "source": [
      "***"
     ]
    },
    {
     "cell_type": "code",
     "collapsed": false,
     "input": [
      "# Subtract\n",
      "6 - 2"
     ],
     "language": "python",
     "metadata": {},
     "outputs": [
      {
       "output_type": "pyout",
       "prompt_number": 17,
       "text": [
        "4"
       ]
      }
     ],
     "prompt_number": 17
    },
    {
     "cell_type": "code",
     "collapsed": false,
     "input": [
      "# Multiply\n",
      "7 * 6"
     ],
     "language": "python",
     "metadata": {},
     "outputs": [
      {
       "output_type": "pyout",
       "prompt_number": 18,
       "text": [
        "42"
       ]
      }
     ],
     "prompt_number": 18
    },
    {
     "cell_type": "code",
     "collapsed": false,
     "input": [
      "# Divide\n",
      "42 / 6"
     ],
     "language": "python",
     "metadata": {},
     "outputs": [
      {
       "output_type": "pyout",
       "prompt_number": 19,
       "text": [
        "7"
       ]
      }
     ],
     "prompt_number": 19
    },
    {
     "cell_type": "markdown",
     "metadata": {},
     "source": [
      "You'll notice that 6 divides evenly into 42. What happens if we choose a number that isn't evenly divisible by 6?"
     ]
    },
    {
     "cell_type": "code",
     "collapsed": false,
     "input": [
      "46 / 6"
     ],
     "language": "python",
     "metadata": {},
     "outputs": [
      {
       "output_type": "pyout",
       "prompt_number": 20,
       "text": [
        "7"
       ]
      }
     ],
     "prompt_number": 20
    },
    {
     "cell_type": "markdown",
     "metadata": {},
     "source": [
      "So far, we're giving Python integers and getting integers in return. What happens if we put in decimal points?"
     ]
    },
    {
     "cell_type": "code",
     "collapsed": false,
     "input": [
      "46.0 / 6.0"
     ],
     "language": "python",
     "metadata": {},
     "outputs": [
      {
       "output_type": "pyout",
       "prompt_number": 23,
       "text": [
        "7.666666666666667"
       ]
      }
     ],
     "prompt_number": 23
    },
    {
     "cell_type": "markdown",
     "metadata": {},
     "source": [
      "What happens if the result of math with decimal points is an integer?"
     ]
    },
    {
     "cell_type": "code",
     "collapsed": false,
     "input": [
      "5.0 / 2.5"
     ],
     "language": "python",
     "metadata": {},
     "outputs": [
      {
       "output_type": "pyout",
       "prompt_number": 24,
       "text": [
        "2.0"
       ]
      }
     ],
     "prompt_number": 24
    },
    {
     "cell_type": "markdown",
     "metadata": {},
     "source": [
      "Numbers with decimal components are referred to as *floating point* numbers in Python."
     ]
    },
    {
     "cell_type": "markdown",
     "metadata": {},
     "source": [
      "***\n",
      "**Aside: Integer division in Python 2 and Python 3**\n",
      "\n",
      "An integer divided by an integer in Python results in an integer and is referred to as *integer division*. In Python 2, integer division is the default behavior when dividing two integers. In Python 3, you must explicitly denote integer division using `//` instead of `/`. Python 2.7 also understands the `//` notation, so it's a good habit to use it any time you mean integer division. One important note is that Python **truncates** results when performing integer division. It will not round."
     ]
    },
    {
     "cell_type": "code",
     "collapsed": false,
     "input": [
      "1.0 / 3.0"
     ],
     "language": "python",
     "metadata": {},
     "outputs": [
      {
       "output_type": "pyout",
       "prompt_number": 36,
       "text": [
        "0.3333333333333333"
       ]
      }
     ],
     "prompt_number": 36
    },
    {
     "cell_type": "code",
     "collapsed": false,
     "input": [
      "1 / 3"
     ],
     "language": "python",
     "metadata": {},
     "outputs": [
      {
       "output_type": "pyout",
       "prompt_number": 37,
       "text": [
        "0"
       ]
      }
     ],
     "prompt_number": 37
    },
    {
     "cell_type": "code",
     "collapsed": false,
     "input": [
      "1 // 3"
     ],
     "language": "python",
     "metadata": {},
     "outputs": [
      {
       "output_type": "pyout",
       "prompt_number": 38,
       "text": [
        "0"
       ]
      }
     ],
     "prompt_number": 38
    },
    {
     "cell_type": "code",
     "collapsed": false,
     "input": [
      "1.0 // 3.0"
     ],
     "language": "python",
     "metadata": {},
     "outputs": [
      {
       "output_type": "pyout",
       "prompt_number": 31,
       "text": [
        "0.0"
       ]
      }
     ],
     "prompt_number": 31
    },
    {
     "cell_type": "code",
     "collapsed": false,
     "input": [
      "2.0 / 3.0"
     ],
     "language": "python",
     "metadata": {},
     "outputs": [
      {
       "output_type": "pyout",
       "prompt_number": 34,
       "text": [
        "0.6666666666666666"
       ]
      }
     ],
     "prompt_number": 34
    },
    {
     "cell_type": "code",
     "collapsed": false,
     "input": [
      "2 / 3"
     ],
     "language": "python",
     "metadata": {},
     "outputs": [
      {
       "output_type": "pyout",
       "prompt_number": 35,
       "text": [
        "0"
       ]
      }
     ],
     "prompt_number": 35
    },
    {
     "cell_type": "markdown",
     "metadata": {},
     "source": [
      "***\n",
      "Python also contains the exponent and remainder (modulus) operators."
     ]
    },
    {
     "cell_type": "code",
     "collapsed": false,
     "input": [
      "# Exponent\n",
      "3 ** 2"
     ],
     "language": "python",
     "metadata": {},
     "outputs": [
      {
       "output_type": "pyout",
       "prompt_number": 39,
       "text": [
        "9"
       ]
      }
     ],
     "prompt_number": 39
    },
    {
     "cell_type": "code",
     "collapsed": false,
     "input": [
      "3 ** 0.5"
     ],
     "language": "python",
     "metadata": {},
     "outputs": [
      {
       "output_type": "pyout",
       "prompt_number": 40,
       "text": [
        "1.7320508075688772"
       ]
      }
     ],
     "prompt_number": 40
    },
    {
     "cell_type": "code",
     "collapsed": false,
     "input": [
      "# Modulus\n",
      "10 % 2"
     ],
     "language": "python",
     "metadata": {},
     "outputs": [
      {
       "output_type": "pyout",
       "prompt_number": 41,
       "text": [
        "0"
       ]
      }
     ],
     "prompt_number": 41
    },
    {
     "cell_type": "code",
     "collapsed": false,
     "input": [
      "11 % 2"
     ],
     "language": "python",
     "metadata": {},
     "outputs": [
      {
       "output_type": "pyout",
       "prompt_number": 42,
       "text": [
        "1"
       ]
      }
     ],
     "prompt_number": 42
    },
    {
     "cell_type": "markdown",
     "metadata": {},
     "source": [
      "**Note:** Using a `% 2` operation is the quickest way to determine whether a number is even or odd in Python."
     ]
    },
    {
     "cell_type": "markdown",
     "metadata": {},
     "source": [
      "***\n",
      "# Values, types, and variables\n",
      "***\n",
      "## Basic types\n",
      "We've just seen examples of operations applied to integers and to floating point numbers. In Python, values (like 4 and 2.7) have types (like *integer* and *float*). Types categorize values. Certain types (like integer) support certain operations (like multiply and divide). The language defines which operations can be performed on values of a given type. Python supports several types beyond integers and floating point numbers. Here we will review two additional types, strings and Booleans. As we saw with division of integers and floats, the same operation can produce a different result when operating on different types."
     ]
    },
    {
     "cell_type": "code",
     "collapsed": false,
     "input": [
      "# Integer (no decimal point)\n",
      "4"
     ],
     "language": "python",
     "metadata": {},
     "outputs": [
      {
       "output_type": "pyout",
       "prompt_number": 49,
       "text": [
        "4"
       ]
      }
     ],
     "prompt_number": 49
    },
    {
     "cell_type": "code",
     "collapsed": false,
     "input": [
      "# Floating point (with decimal point)\n",
      "4.0"
     ],
     "language": "python",
     "metadata": {},
     "outputs": [
      {
       "output_type": "pyout",
       "prompt_number": 50,
       "text": [
        "4.0"
       ]
      }
     ],
     "prompt_number": 50
    },
    {
     "cell_type": "markdown",
     "metadata": {},
     "source": [
      "**Note:** Python floating point numbers are *double precision* by default. This means that they can represent a wider range of numbers with greater precision at the (slight) expense of storage efficiency and computation speed."
     ]
    },
    {
     "cell_type": "code",
     "collapsed": false,
     "input": [
      "# String\n",
      "'Hello Software Carpentry'"
     ],
     "language": "python",
     "metadata": {},
     "outputs": [
      {
       "output_type": "pyout",
       "prompt_number": 54,
       "text": [
        "'Hello Software Carpentry'"
       ]
      }
     ],
     "prompt_number": 54
    },
    {
     "cell_type": "markdown",
     "metadata": {},
     "source": [
      "**Note:** You can use single or double quotes to denote a string. The only rule is that you must close your string with the same type of quote characters that you started with."
     ]
    },
    {
     "cell_type": "code",
     "collapsed": false,
     "input": [
      "# String with double quotes\n",
      "\"Hello Software Carpentry\""
     ],
     "language": "python",
     "metadata": {},
     "outputs": [
      {
       "output_type": "pyout",
       "prompt_number": 55,
       "text": [
        "'Hello Software Carpentry'"
       ]
      }
     ],
     "prompt_number": 55
    },
    {
     "cell_type": "code",
     "collapsed": false,
     "input": [
      "# Boolean: True or False\n",
      "True"
     ],
     "language": "python",
     "metadata": {},
     "outputs": [
      {
       "output_type": "pyout",
       "prompt_number": 53,
       "text": [
        "True"
       ]
      }
     ],
     "prompt_number": 53
    },
    {
     "cell_type": "markdown",
     "metadata": {},
     "source": [
      "***\n",
      "**Aside: Reserved words**\n",
      "\n",
      "There are some words in Python that have meaning as soon as you start typing code. These are known as \"reserved words\" because they are generally considered to be *reserved* by the definition of the language. While Python will happily let you redefine these, it is a good habit to avoid doing so, as it can lead to subtle bugs or confuse other programmers who might read your code...including future you. `True` and `False` are examples of reserved words. Notice that you do not have to put them in quotes. `'True'` is just a string to Python, while <code>True</code> is a value of the Boolean type.\n",
      "\n",
      "Here is a good starting list of reserved words, which are also often referred to as *keywords*: <a href = \"http://docs.python.org/2/reference/lexical_analysis.html#keywords\" target = \"blank\">http://docs.python.org/2/reference/lexical_analysis.html#keywords</a>\n",
      "***"
     ]
    },
    {
     "cell_type": "markdown",
     "metadata": {},
     "source": [
      "You can find out what type Python assigns to a particular value by typing `type(`*value*`)`."
     ]
    },
    {
     "cell_type": "code",
     "collapsed": false,
     "input": [
      "type(4)"
     ],
     "language": "python",
     "metadata": {},
     "outputs": [
      {
       "output_type": "pyout",
       "prompt_number": 58,
       "text": [
        "int"
       ]
      }
     ],
     "prompt_number": 58
    },
    {
     "cell_type": "code",
     "collapsed": false,
     "input": [
      "type('hello')"
     ],
     "language": "python",
     "metadata": {},
     "outputs": [
      {
       "output_type": "pyout",
       "prompt_number": 59,
       "text": [
        "str"
       ]
      }
     ],
     "prompt_number": 59
    },
    {
     "cell_type": "markdown",
     "metadata": {},
     "source": [
      "***\n",
      "**Aside: Duck typing**\n",
      "\n",
      "While Python will happily divulge the type of a particular value, many programmers will strive to avoid writing programs that rely on a value's type to make decisions. This is because Python, in contrast to a statically-typed language, does not necessarily require the programmer to specify the strict type of a value when applying operations to that value. For example, a program written to add two values together need not know or care whether the values are integers or floating points or Cartesian coordinates. The programmer need only assure in some way that the types support the \"addition\" operation. This allows for the creation of programs that describe generic operations that can be applied to data of a variety of types. Python's dynamic typing system is sometimes referred to as [*duck typing*](http://en.wikipedia.org/wiki/Duck_typing#In_Python): in Python, if a value walks like a duck and quacks like a duck, it must be a duck...or at least something of a duck-ish type. \n",
      "***"
     ]
    },
    {
     "cell_type": "markdown",
     "metadata": {},
     "source": [
      "***\n",
      "# Exercise 1:\n",
      "1. Calculate the arithmetic mean of the values 2, 3, and 10.\n",
      "2. Try multipying a value of each type by 2.\n",
      "    * How does the meaning of the multiply operation differ for an integer, a floating point, a string, and a Boolean?\n",
      "    * Do you notice different behavior if 2 is an integer or a floating point? \n",
      "    * What about addition?\n",
      "3. *(Optional if you finish early)* Try division and subtraction. \n",
      "\n",
      "***"
     ]
    },
    {
     "cell_type": "markdown",
     "metadata": {},
     "source": [
      "## Variables\n",
      "\n",
      "So far, Python has printed back exactly what we have input. What if you want to save a value to be used later?"
     ]
    },
    {
     "cell_type": "code",
     "collapsed": false,
     "input": [
      "a = 2"
     ],
     "language": "python",
     "metadata": {},
     "outputs": [],
     "prompt_number": 62
    },
    {
     "cell_type": "markdown",
     "metadata": {},
     "source": [
      "The code above assigns the value `2` to the variable named `a`. What type is the variable `a` now?\n",
      "\n",
      "**Note:** IPython doesn't print a result in response to a variable assignment."
     ]
    },
    {
     "cell_type": "code",
     "collapsed": false,
     "input": [
      "b = 3\n",
      "B = 4"
     ],
     "language": "python",
     "metadata": {},
     "outputs": [],
     "prompt_number": 63
    },
    {
     "cell_type": "markdown",
     "metadata": {},
     "source": [
      "Variable names are case-sensitive, and certain restrictions apply. For example, a variable name cannot begin with a number."
     ]
    },
    {
     "cell_type": "code",
     "collapsed": false,
     "input": [
      "123abc = 4"
     ],
     "language": "python",
     "metadata": {},
     "outputs": [
      {
       "ename": "SyntaxError",
       "evalue": "invalid syntax (<ipython-input-70-5f41f7303f23>, line 1)",
       "output_type": "pyerr",
       "traceback": [
        "\u001b[0;36m  File \u001b[0;32m\"<ipython-input-70-5f41f7303f23>\"\u001b[0;36m, line \u001b[0;32m1\u001b[0m\n\u001b[0;31m    123abc = 4\u001b[0m\n\u001b[0m         ^\u001b[0m\n\u001b[0;31mSyntaxError\u001b[0m\u001b[0;31m:\u001b[0m invalid syntax\n"
       ]
      }
     ],
     "prompt_number": 70
    },
    {
     "cell_type": "markdown",
     "metadata": {},
     "source": [
      "The value of a variable can be displayed in Python using the `print` keyword."
     ]
    },
    {
     "cell_type": "code",
     "collapsed": false,
     "input": [
      "print a"
     ],
     "language": "python",
     "metadata": {},
     "outputs": [
      {
       "output_type": "stream",
       "stream": "stdout",
       "text": [
        "2"
       ]
      },
      {
       "output_type": "stream",
       "stream": "stdout",
       "text": [
        "\n"
       ]
      }
     ],
     "prompt_number": 64
    },
    {
     "cell_type": "markdown",
     "metadata": {},
     "source": [
      "The `print` keyword is very versatile. Here it prints more than one item."
     ]
    },
    {
     "cell_type": "code",
     "collapsed": false,
     "input": [
      "print b, B"
     ],
     "language": "python",
     "metadata": {},
     "outputs": [
      {
       "output_type": "stream",
       "stream": "stdout",
       "text": [
        "3 4\n"
       ]
      }
     ],
     "prompt_number": 65
    },
    {
     "cell_type": "markdown",
     "metadata": {},
     "source": [
      "Notice that the variables `b` and `B` are different and contain two separate values, because variable names are case-sensitive."
     ]
    },
    {
     "cell_type": "markdown",
     "metadata": {},
     "source": [
      "**Note:** In Python 3, printing will change to look like this: `print(b)`. "
     ]
    },
    {
     "cell_type": "markdown",
     "metadata": {},
     "source": [
      "Variables behave just like the values they contain."
     ]
    },
    {
     "cell_type": "code",
     "collapsed": false,
     "input": [
      "print a + b\n",
      "print b * B"
     ],
     "language": "python",
     "metadata": {},
     "outputs": [
      {
       "output_type": "stream",
       "stream": "stdout",
       "text": [
        "5\n",
        "12\n"
       ]
      }
     ],
     "prompt_number": 66
    },
    {
     "cell_type": "code",
     "collapsed": false,
     "input": [
      "c = 'abc'\n",
      "d = c * 3\n",
      "print d"
     ],
     "language": "python",
     "metadata": {},
     "outputs": [
      {
       "output_type": "stream",
       "stream": "stdout",
       "text": [
        "abcabcabc\n"
       ]
      }
     ],
     "prompt_number": 67
    },
    {
     "cell_type": "markdown",
     "metadata": {},
     "source": [
      "When a value with a new type is assigned to a variable, the variable's behavior then reflects the behavior of the new value's type."
     ]
    },
    {
     "cell_type": "code",
     "collapsed": false,
     "input": [
      "a = 4\n",
      "print a * 2\n",
      "a = 'abc'\n",
      "print a * 2"
     ],
     "language": "python",
     "metadata": {},
     "outputs": [
      {
       "output_type": "stream",
       "stream": "stdout",
       "text": [
        "8\n",
        "abcabc\n"
       ]
      }
     ],
     "prompt_number": 69
    },
    {
     "cell_type": "markdown",
     "metadata": {},
     "source": [
      "### Immutable objects\n",
      "Every value that we've seen so far has been *immutable*, meaning that it can't be changed. Below is how variable assignment works for immutable values like integers.\n",
      "\n",
      "<img width = 500 src=\"https://docs.google.com/drawings/d/1-VVjNCAx08RyLdfegyyUg1UXZl79Ss79voablWJQWHc/pub?w=960&amp;h=720\">\n",
      "\n",
      "The key takeaway is that *changing `a` does not change `b`*, because integers are immutable."
     ]
    },
    {
     "cell_type": "markdown",
     "metadata": {},
     "source": [
      "***\n",
      "**Aside: Variable names**\n",
      "\n",
      "Many programmers will tell you that choosing descriptive variable names is near the top of the list of good programming practices to adopt. Like comments, good variable names are essential to a program's clarity, especially when programs grow large and complex. Variable naming conventions are a matter of personal preference, but you can be sure that `speed_in_meters_per_second` or `milesPerGallon` will make a better impression than `x` or `sally`.\n",
      "***"
     ]
    },
    {
     "cell_type": "markdown",
     "metadata": {},
     "source": [
      "## Containers\n",
      "\n",
      "Now let's get into mutable objects or containers. Python has 4 basics container objects: lists, tuples, dictionaries, and sets. *Note:* Python is zero indexed"
     ]
    },
    {
     "cell_type": "markdown",
     "metadata": {},
     "source": [
      "###Lists\n",
      "* ordered\n",
      "* can mix object types\n",
      "* mutable\n",
      "* defined with square brackets\n",
      "* *Note:* list is a reserved word."
     ]
    },
    {
     "cell_type": "code",
     "collapsed": false,
     "input": [
      "#Defining a list\n",
      "my_list = [2, 'Apples', 3.0, 'oranges', True]"
     ],
     "language": "python",
     "metadata": {},
     "outputs": [],
     "prompt_number": 37
    },
    {
     "cell_type": "code",
     "collapsed": false,
     "input": [
      "my_list"
     ],
     "language": "python",
     "metadata": {},
     "outputs": [
      {
       "output_type": "pyout",
       "prompt_number": 38,
       "text": [
        "[2, 'Apples', 3.0, 'oranges', True]"
       ]
      }
     ],
     "prompt_number": 38
    },
    {
     "cell_type": "code",
     "collapsed": false,
     "input": [
      "#How many items are in list\n",
      "len(my_list)"
     ],
     "language": "python",
     "metadata": {},
     "outputs": [
      {
       "output_type": "pyout",
       "prompt_number": 39,
       "text": [
        "5"
       ]
      }
     ],
     "prompt_number": 39
    },
    {
     "cell_type": "code",
     "collapsed": false,
     "input": [
      "#Selecting an item in a list\n",
      "my_list[2]"
     ],
     "language": "python",
     "metadata": {},
     "outputs": [
      {
       "output_type": "pyout",
       "prompt_number": 40,
       "text": [
        "3.0"
       ]
      }
     ],
     "prompt_number": 40
    },
    {
     "cell_type": "code",
     "collapsed": false,
     "input": [
      "my_list[4]"
     ],
     "language": "python",
     "metadata": {},
     "outputs": [
      {
       "output_type": "pyout",
       "prompt_number": 41,
       "text": [
        "True"
       ]
      }
     ],
     "prompt_number": 41
    },
    {
     "cell_type": "code",
     "collapsed": false,
     "input": [
      "#Selecting multiple items in a list - this is called slicing\n",
      "my_list[1:3]"
     ],
     "language": "python",
     "metadata": {},
     "outputs": [
      {
       "output_type": "pyout",
       "prompt_number": 42,
       "text": [
        "['Apples', 3.0]"
       ]
      }
     ],
     "prompt_number": 42
    },
    {
     "cell_type": "markdown",
     "metadata": {},
     "source": [
      "*Note:* Python includes the item corresponding to the start index and excludes the item corresponding the end index"
     ]
    },
    {
     "cell_type": "code",
     "collapsed": false,
     "input": [
      "#implicitly starting at the beginning\n",
      "my_list[:2]"
     ],
     "language": "python",
     "metadata": {},
     "outputs": [
      {
       "output_type": "pyout",
       "prompt_number": 43,
       "text": [
        "[2, 'Apples']"
       ]
      }
     ],
     "prompt_number": 43
    },
    {
     "cell_type": "code",
     "collapsed": false,
     "input": [
      "#inplicitly going to the end\n",
      "my_list[2:]"
     ],
     "language": "python",
     "metadata": {},
     "outputs": [
      {
       "output_type": "pyout",
       "prompt_number": 44,
       "text": [
        "[3.0, 'oranges', True]"
       ]
      }
     ],
     "prompt_number": 44
    },
    {
     "cell_type": "code",
     "collapsed": false,
     "input": [
      "#Negative indexing: Indexing from the end of the array\n",
      "print my_list[-1]\n"
     ],
     "language": "python",
     "metadata": {},
     "outputs": [
      {
       "output_type": "stream",
       "stream": "stdout",
       "text": [
        "True\n"
       ]
      }
     ],
     "prompt_number": 45
    },
    {
     "cell_type": "code",
     "collapsed": false,
     "input": [
      "print my_list[-2]"
     ],
     "language": "python",
     "metadata": {},
     "outputs": [
      {
       "output_type": "stream",
       "stream": "stdout",
       "text": [
        "oranges\n"
       ]
      }
     ],
     "prompt_number": 46
    },
    {
     "cell_type": "markdown",
     "metadata": {},
     "source": [
      "***\n",
      "###Exercise 2.1\n",
      "1. Make a list with 6 items in it\n",
      "2. print item 4 to the screen\n",
      "3. print a sublist containing the 3rd, 4th, and 5th item in the list\n",
      "4. Experiment with multiplication and addition on list. How do these operations act on lists?\n",
      "\n",
      "***"
     ]
    },
    {
     "cell_type": "markdown",
     "metadata": {},
     "source": [
      "###Tuples\n",
      "* ordered\n",
      "* can mix object types\n",
      "* immutable\n",
      "* defined with curved brackets"
     ]
    },
    {
     "cell_type": "code",
     "collapsed": false,
     "input": [
      "#Define a tuple\n",
      "my_tuple = ('apple', 2.0, 'orange', 'yellow')"
     ],
     "language": "python",
     "metadata": {},
     "outputs": [],
     "prompt_number": 47
    },
    {
     "cell_type": "code",
     "collapsed": false,
     "input": [
      "my_tuple"
     ],
     "language": "python",
     "metadata": {},
     "outputs": [
      {
       "output_type": "pyout",
       "prompt_number": 48,
       "text": [
        "('apple', 2.0, 'orange', 'yellow')"
       ]
      }
     ],
     "prompt_number": 48
    },
    {
     "cell_type": "code",
     "collapsed": false,
     "input": [
      "#indexes like a list\n",
      "my_tuple[0]"
     ],
     "language": "python",
     "metadata": {},
     "outputs": [
      {
       "output_type": "pyout",
       "prompt_number": 49,
       "text": [
        "'apple'"
       ]
      }
     ],
     "prompt_number": 49
    },
    {
     "cell_type": "code",
     "collapsed": false,
     "input": [
      "#immutable\n",
      "my_tuple[0] = 'pear'"
     ],
     "language": "python",
     "metadata": {},
     "outputs": [
      {
       "ename": "TypeError",
       "evalue": "'tuple' object does not support item assignment",
       "output_type": "pyerr",
       "traceback": [
        "\u001b[0;31m---------------------------------------------------------------------------\u001b[0m\n\u001b[0;31mTypeError\u001b[0m                                 Traceback (most recent call last)",
        "\u001b[0;32m<ipython-input-50-4dc6c730ad73>\u001b[0m in \u001b[0;36m<module>\u001b[0;34m()\u001b[0m\n\u001b[1;32m      1\u001b[0m \u001b[0;31m#immutable\u001b[0m\u001b[0;34m\u001b[0m\u001b[0;34m\u001b[0m\u001b[0m\n\u001b[0;32m----> 2\u001b[0;31m \u001b[0mmy_tuple\u001b[0m\u001b[0;34m[\u001b[0m\u001b[0;36m0\u001b[0m\u001b[0;34m]\u001b[0m \u001b[0;34m=\u001b[0m \u001b[0;34m'pear'\u001b[0m\u001b[0;34m\u001b[0m\u001b[0m\n\u001b[0m",
        "\u001b[0;31mTypeError\u001b[0m: 'tuple' object does not support item assignment"
       ]
      }
     ],
     "prompt_number": 50
    },
    {
     "cell_type": "code",
     "collapsed": false,
     "input": [
      "#Unpacking:\n",
      "fruit_tuple = ('apple', 0.69)\n",
      "fruit, price = fruit_tuple\n",
      "print fruit\n",
      "print price"
     ],
     "language": "python",
     "metadata": {},
     "outputs": [
      {
       "output_type": "stream",
       "stream": "stdout",
       "text": [
        "apple\n",
        "0.69\n"
       ]
      }
     ],
     "prompt_number": 51
    },
    {
     "cell_type": "code",
     "collapsed": false,
     "input": [
      "#Common error message when unpacking:\n",
      "fruit, price = my_tuple"
     ],
     "language": "python",
     "metadata": {},
     "outputs": [
      {
       "ename": "ValueError",
       "evalue": "too many values to unpack",
       "output_type": "pyerr",
       "traceback": [
        "\u001b[0;31m---------------------------------------------------------------------------\u001b[0m\n\u001b[0;31mValueError\u001b[0m                                Traceback (most recent call last)",
        "\u001b[0;32m<ipython-input-52-278b8f50690f>\u001b[0m in \u001b[0;36m<module>\u001b[0;34m()\u001b[0m\n\u001b[1;32m      1\u001b[0m \u001b[0;31m#Common error message when unpacking:\u001b[0m\u001b[0;34m\u001b[0m\u001b[0;34m\u001b[0m\u001b[0m\n\u001b[0;32m----> 2\u001b[0;31m \u001b[0mfruit\u001b[0m\u001b[0;34m,\u001b[0m \u001b[0mprice\u001b[0m \u001b[0;34m=\u001b[0m \u001b[0mmy_tuple\u001b[0m\u001b[0;34m\u001b[0m\u001b[0m\n\u001b[0m",
        "\u001b[0;31mValueError\u001b[0m: too many values to unpack"
       ]
      }
     ],
     "prompt_number": 52
    },
    {
     "cell_type": "markdown",
     "metadata": {},
     "source": [
      "###Dictionaries\n",
      "* key (immutable), value (mutable), item = (key, value)\n",
      "* defined with curly brackets\n",
      "* keys can be integers, floating point numbers, or strings"
     ]
    },
    {
     "cell_type": "code",
     "collapsed": false,
     "input": [
      "#Defining a dictionary\n",
      "#keys: stars, galaxies\n",
      "#Values: ['sirius', 'deneb'], ['Whirlpool', 'Sombrero', 'Pinwheel']\n",
      "my_dict = {'stars': ['sirius', 'deneb'], 'galaxies': ['Whirlpool', 'Sombrero', 'Pinwheel']}"
     ],
     "language": "python",
     "metadata": {},
     "outputs": [],
     "prompt_number": 53
    },
    {
     "cell_type": "code",
     "collapsed": false,
     "input": [
      "#When I print my_dict, it isn't in the order I input it\n",
      "my_dict"
     ],
     "language": "python",
     "metadata": {},
     "outputs": [
      {
       "output_type": "pyout",
       "prompt_number": 54,
       "text": [
        "{'galaxies': ['Whirlpool', 'Sombrero', 'Pinwheel'],\n",
        " 'stars': ['sirius', 'deneb']}"
       ]
      }
     ],
     "prompt_number": 54
    },
    {
     "cell_type": "markdown",
     "metadata": {},
     "source": [
      "A dictionary is a *hash table*. A hash table is a special and fast way for a computer look-up information. The plus side is that it is fast, the downside is that it is unordered"
     ]
    },
    {
     "cell_type": "code",
     "collapsed": false,
     "input": [
      "#You cannot index a dictionary by position. Instead you must use the keys\n",
      "my_dict['stars']"
     ],
     "language": "python",
     "metadata": {},
     "outputs": [
      {
       "output_type": "pyout",
       "prompt_number": 55,
       "text": [
        "['sirius', 'deneb']"
       ]
      }
     ],
     "prompt_number": 55
    },
    {
     "cell_type": "code",
     "collapsed": false,
     "input": [
      "#Adding a key\n",
      "my_dict['nebula'] ='crab'"
     ],
     "language": "python",
     "metadata": {},
     "outputs": [],
     "prompt_number": 56
    },
    {
     "cell_type": "code",
     "collapsed": false,
     "input": [
      "print my_dict"
     ],
     "language": "python",
     "metadata": {},
     "outputs": [
      {
       "output_type": "stream",
       "stream": "stdout",
       "text": [
        "{'nebula': 'crab', 'galaxies': ['Whirlpool', 'Sombrero', 'Pinwheel'], 'stars': ['sirius', 'deneb']}\n"
       ]
      }
     ],
     "prompt_number": 57
    },
    {
     "cell_type": "code",
     "collapsed": false,
     "input": [
      "#keys can be numbers\n",
      "my_dict[45] = 'forty-five'"
     ],
     "language": "python",
     "metadata": {},
     "outputs": [],
     "prompt_number": 58
    },
    {
     "cell_type": "code",
     "collapsed": false,
     "input": [
      "#viewing keys:\n",
      "print my_dict.keys()"
     ],
     "language": "python",
     "metadata": {},
     "outputs": [
      {
       "output_type": "stream",
       "stream": "stdout",
       "text": [
        "['nebula', 'galaxies', 45, 'stars']\n"
       ]
      }
     ],
     "prompt_number": 59
    },
    {
     "cell_type": "code",
     "collapsed": false,
     "input": [
      "#viewing values:\n",
      "print my_dict.values()"
     ],
     "language": "python",
     "metadata": {},
     "outputs": [
      {
       "output_type": "stream",
       "stream": "stdout",
       "text": [
        "['crab', ['Whirlpool', 'Sombrero', 'Pinwheel'], 'forty-five', ['sirius', 'deneb']]\n"
       ]
      }
     ],
     "prompt_number": 60
    },
    {
     "cell_type": "code",
     "collapsed": false,
     "input": [
      "#viewing items:\n",
      "#items are tuples of keys and values\n",
      "print my_dict.items()"
     ],
     "language": "python",
     "metadata": {},
     "outputs": [
      {
       "output_type": "stream",
       "stream": "stdout",
       "text": [
        "[('nebula', 'crab'), ('galaxies', ['Whirlpool', 'Sombrero', 'Pinwheel']), (45, 'forty-five'), ('stars', ['sirius', 'deneb'])]\n"
       ]
      }
     ],
     "prompt_number": 61
    },
    {
     "cell_type": "markdown",
     "metadata": {},
     "source": [
      "***\n",
      "###Exercise 2.2\n",
      "1. Make a dictionary and experiment using different types as keys. Which containers, if any, can be keys? Why?\n",
      "2, When would you use a list and a dictionary? student grades, lottery numbers\n",
      "\n",
      "***"
     ]
    },
    {
     "cell_type": "markdown",
     "metadata": {},
     "source": [
      "###Variable Assignment: mutable objects\n",
      "<img width = 500 src=\"https://docs.google.com/drawings/d/1cx-9q3_GSt51LYFp90lyXHl2ec2eFhdDHbnbJovJBAM/pub?w=960&amp;h=720\">\n",
      "\n",
      "**Changing a changes b**\n",
      "\n",
      "***\n",
      "###Exercise 2.3: \n",
      "1. Does this apply to tuples? why or why not?\n",
      "    \n",
      "***"
     ]
    },
    {
     "cell_type": "markdown",
     "metadata": {},
     "source": [
      "***\n",
      "Discussion question:\n",
      "For the two examples given below, discuss whether is would be better to use a dictionary, tuple, or list. There is not necessarily one right answer. Make sure you discuss why you made your choice.\n",
      "\n",
      "1. Lottery numbers\n",
      "2. Student's grades\n",
      "\n",
      "***"
     ]
    },
    {
     "cell_type": "markdown",
     "metadata": {},
     "source": [
      "***\n",
      "# Logic and program flow\n",
      "***\n",
      "## Control statements\n",
      "### Conditionals\n",
      "Blocks of code in Python are identified by having the same indentation level. Therefore, the beginning spacing of a line is very important."
     ]
    },
    {
     "cell_type": "code",
     "collapsed": false,
     "input": [
      "x = 5\n",
      "if x < 0:\n",
      "    print \"x is negative\"\n",
      "    \n"
     ],
     "language": "python",
     "metadata": {},
     "outputs": [],
     "prompt_number": 21
    },
    {
     "cell_type": "markdown",
     "metadata": {},
     "source": [
      "*Note:* that IPython auto-indents after the colon. To write something outside the if statement, you have to un-indent"
     ]
    },
    {
     "cell_type": "code",
     "collapsed": false,
     "input": [
      "x = -5\n",
      "if x < 0:\n",
      "    print \"x is negative\"\n",
      "print \"x = \", x"
     ],
     "language": "python",
     "metadata": {},
     "outputs": [
      {
       "output_type": "stream",
       "stream": "stdout",
       "text": [
        "x is negative"
       ]
      },
      {
       "output_type": "stream",
       "stream": "stdout",
       "text": [
        "\n",
        "x =  -5\n"
       ]
      }
     ],
     "prompt_number": 22
    },
    {
     "cell_type": "code",
     "collapsed": false,
     "input": [
      "x = -5\n"
     ],
     "language": "python",
     "metadata": {},
     "outputs": [],
     "prompt_number": 64
    },
    {
     "cell_type": "code",
     "collapsed": false,
     "input": [
      "#Adding an else statement\n",
      "x = 5 \n",
      "if x < 0:\n",
      "    print \"x is negative\"\n",
      "else:\n",
      "    print \"x is non-negative\"\n",
      "print \"x = \", x"
     ],
     "language": "python",
     "metadata": {},
     "outputs": [
      {
       "output_type": "stream",
       "stream": "stdout",
       "text": [
        "x is non-negative\n",
        "x =  5\n"
       ]
      }
     ],
     "prompt_number": 23
    },
    {
     "cell_type": "code",
     "collapsed": false,
     "input": [
      "#Adding an else if\n",
      "x = 5\n",
      "if x < 0:\n",
      "    print \"x is negative\"\n",
      "elif x == 0:\n",
      "    print \"x is zero\"\n",
      "else:\n",
      "    print \"x is positive\"\n",
      "print \"x = \", x"
     ],
     "language": "python",
     "metadata": {},
     "outputs": [
      {
       "output_type": "stream",
       "stream": "stdout",
       "text": [
        "x is negative\n",
        "x =  -5\n"
       ]
      }
     ],
     "prompt_number": 25
    },
    {
     "cell_type": "markdown",
     "metadata": {},
     "source": [
      "***\n",
      "#Exercise 3\n",
      "1. Write an if statement that prints whether x is even or odd (hint: remember the modulus)\n",
      "\n",
      "***"
     ]
    },
    {
     "cell_type": "markdown",
     "metadata": {},
     "source": [
      "###Loops"
     ]
    },
    {
     "cell_type": "code",
     "collapsed": false,
     "input": [
      "fruit_list = ['apples', 'oranges', 'pears']\n",
      "for fruit in fruit_list:  #Fruit can be anything\n",
      "    print fruit"
     ],
     "language": "python",
     "metadata": {},
     "outputs": [
      {
       "output_type": "stream",
       "stream": "stdout",
       "text": [
        "apples\n",
        "oranges\n",
        "pears\n"
       ]
      }
     ],
     "prompt_number": 67
    },
    {
     "cell_type": "markdown",
     "metadata": {},
     "source": [
      "*Note:* fruit actually represents each fruit, it does not represent the index number of the fruit. Python is object oriented. In this case each fruit is an object."
     ]
    },
    {
     "cell_type": "code",
     "collapsed": false,
     "input": [
      "#If you need the index\n",
      "for i in range(len(fruit_list)):\n",
      "    print fruit_list[i]  #here i is an index"
     ],
     "language": "python",
     "metadata": {},
     "outputs": [
      {
       "output_type": "stream",
       "stream": "stdout",
       "text": [
        "apples\n",
        "oranges\n",
        "pears\n"
       ]
      }
     ],
     "prompt_number": 68
    },
    {
     "cell_type": "code",
     "collapsed": false,
     "input": [
      "#What if we want to loop over 2 different lists?\n",
      "price_list = [0.49, 0.99, 1.49]\n",
      "\n",
      "#The non-Python way:\n",
      "for i in range(len(fruit_list)):\n",
      "    print fruit_list[i], price_list[i]"
     ],
     "language": "python",
     "metadata": {},
     "outputs": [
      {
       "output_type": "stream",
       "stream": "stdout",
       "text": [
        "apples 0.49\n",
        "oranges 0.99\n",
        "pears 1.49\n"
       ]
      }
     ],
     "prompt_number": 69
    },
    {
     "cell_type": "code",
     "collapsed": false,
     "input": [
      "#The Python way\n",
      "for fruit, price in zip(fruit_list, price_list):\n",
      "    print fruit, price"
     ],
     "language": "python",
     "metadata": {},
     "outputs": [
      {
       "output_type": "stream",
       "stream": "stdout",
       "text": [
        "apples 0.49\n",
        "oranges 0.99\n",
        "pears 1.49\n"
       ]
      }
     ],
     "prompt_number": 70
    },
    {
     "cell_type": "code",
     "collapsed": false,
     "input": [
      "#In a dictionary:\n",
      "#.items returns a tuple which is unpacked into the variables fruit and price\n",
      "fruit_prices = {'apple':0.49, 'orange':0.99, 'pear':1.49}\n",
      "for fruit, price in fruit_prices.items():\n",
      "    print fruit, \"costs\", price"
     ],
     "language": "python",
     "metadata": {},
     "outputs": [
      {
       "output_type": "stream",
       "stream": "stdout",
       "text": [
        "orange costs 0.99\n",
        "pear costs 1.49\n",
        "apple costs 0.49\n"
       ]
      }
     ],
     "prompt_number": 71
    },
    {
     "cell_type": "code",
     "collapsed": false,
     "input": [],
     "language": "python",
     "metadata": {},
     "outputs": [],
     "prompt_number": 71
    },
    {
     "cell_type": "markdown",
     "metadata": {},
     "source": [
      "***\n",
      "#Exercise 4:\n",
      "1. Using a loop, find the mean of [3.0, 4.0, 5.0, 2.0, 8.0, 10.0, 14.0, 16.0, 29.0]\n",
      "\n",
      "***"
     ]
    },
    {
     "cell_type": "markdown",
     "metadata": {},
     "source": [
      "###Functions\n",
      "\n",
      "A function is a piece of code that does something. You can think of it as the verb of programming. Although we haven't explicitly called them functions, you have already seen functions. len() and range() are both functions. In the case of len(ilist), length takes a list as input and outputs (or returns) how many elements are in that list."
     ]
    },
    {
     "cell_type": "markdown",
     "metadata": {},
     "source": [
      "A function is defined using <code>def FunctionName(inputs):</code> and every line inside the function is indented"
     ]
    },
    {
     "cell_type": "markdown",
     "metadata": {},
     "source": [
      "###Functions you've already seen:\n",
      "* len(list)\n",
      "* range(#)\n",
      "* type(var)\n",
      "\n",
      "###Other useful functions:\n",
      "* int(var)\n",
      "* float(var)\n",
      "* str(var)"
     ]
    },
    {
     "cell_type": "code",
     "collapsed": false,
     "input": [
      "#let's try them:\n",
      "a = '8'\n",
      "b = int(a)\n",
      "c = float(b)\n",
      "d = str(c)\n",
      "print type(a), a\n",
      "print type(b), b\n",
      "print type(c), c\n",
      "print type(d), d"
     ],
     "language": "python",
     "metadata": {},
     "outputs": [
      {
       "output_type": "stream",
       "stream": "stdout",
       "text": [
        "<type 'str'> 8\n",
        "<type 'int'> 8\n",
        "<type 'float'> 8.0\n",
        "<type 'str'> 8.0\n"
       ]
      }
     ],
     "prompt_number": 72
    },
    {
     "cell_type": "code",
     "collapsed": false,
     "input": [
      "#A function which returns the square of an input number\n",
      "def square(num):\n",
      "    y = num*num\n",
      "    return y"
     ],
     "language": "python",
     "metadata": {},
     "outputs": [],
     "prompt_number": 73
    },
    {
     "cell_type": "markdown",
     "metadata": {},
     "source": [
      "*Note:* Your function names and your variable names should be as descriptive as possible. Many editors will auto-complete if you get tired of typing and Python has no limit on the number of characters. This will make your code much easier to follow 2 years from now."
     ]
    },
    {
     "cell_type": "code",
     "collapsed": false,
     "input": [
      "print square(2)"
     ],
     "language": "python",
     "metadata": {},
     "outputs": [
      {
       "output_type": "stream",
       "stream": "stdout",
       "text": [
        "4\n"
       ]
      }
     ],
     "prompt_number": 74
    },
    {
     "cell_type": "code",
     "collapsed": false,
     "input": [
      "#You can layer statements in Python\n",
      "#This takes the output of square(4) and uses it as input to the sqaure function\n",
      "print square(square(4))"
     ],
     "language": "python",
     "metadata": {},
     "outputs": [
      {
       "output_type": "stream",
       "stream": "stdout",
       "text": [
        "256\n"
       ]
      }
     ],
     "prompt_number": 75
    },
    {
     "cell_type": "markdown",
     "metadata": {},
     "source": [
      "###Good Coding Practice Note:\n",
      "* A function should be a paragraph\n",
      "* Each function should perform one task\n",
      "* If you are typing the same code over and over ask yourself: should this be in a loop or can I write a function?\n",
      "* Advantages of using a function: \n",
      "    * if you make a mistake, you only have to change it in one place\n",
      "    * If something breaks, it breaks in a well defined, small area of code. This make finding and fixing bugs much easier\n",
      "    * Much easier to reuse part of your code\n",
      "    * Much easier for someone (or yourself in 6 months) to read and understand\n",
      "* If you are doing something common to your field, do some googling to see if someone has approached the problem before, rather than reinventing the wheel <a href = \"http://stackoverflow.com/questions/9185443/in-python-whats-the-method-for-returning-only-the-max-odd-integer-in-a-list/9185613#9185613\" target = \"blank\">Stack Overflow Example</a>"
     ]
    },
    {
     "cell_type": "markdown",
     "metadata": {},
     "source": [
      "###Docstrings\n",
      "In addition to commenting your code, every function should begin with a description of the code in triple quotes. This is called a *docstring*. Another Python function is the help function. You can ask for a description of any function by calling help(function). When you call the help function, Python will print the docstring for that function."
     ]
    },
    {
     "cell_type": "code",
     "collapsed": false,
     "input": [
      "#Calling help\n",
      "help(len)"
     ],
     "language": "python",
     "metadata": {},
     "outputs": [
      {
       "output_type": "stream",
       "stream": "stdout",
       "text": [
        "Help on built-in function len in module __builtin__:\n",
        "\n",
        "len(...)\n",
        "    len(object) -> integer\n",
        "    \n",
        "    Return the number of items of a sequence or mapping.\n",
        "\n"
       ]
      }
     ],
     "prompt_number": 76
    },
    {
     "cell_type": "code",
     "collapsed": false,
     "input": [
      "#Add a docstring\n",
      "def square(num):\n",
      "    '''\n",
      "    This function taks a single number as input and outputs the square of that number\n",
      "    '''\n",
      "    y = num*num\n",
      "    return y"
     ],
     "language": "python",
     "metadata": {},
     "outputs": [],
     "prompt_number": 77
    },
    {
     "cell_type": "code",
     "collapsed": false,
     "input": [
      "help(square)"
     ],
     "language": "python",
     "metadata": {},
     "outputs": [
      {
       "output_type": "stream",
       "stream": "stdout",
       "text": [
        "Help on function square in module __main__:\n",
        "\n",
        "square(num)\n",
        "    This function taks a single number as input and outputs the square of that number\n",
        "\n"
       ]
      }
     ],
     "prompt_number": 78
    },
    {
     "cell_type": "markdown",
     "metadata": {},
     "source": [
      "###Why use doc strings?\n",
      "* Common courtesy\n",
      "* You always understand something better after you explain it\n",
      "* Saves time the next time you want to use that function"
     ]
    },
    {
     "cell_type": "markdown",
     "metadata": {},
     "source": [
      "***\n",
      "#Exercise 5:\n",
      "1. Using your last exercise, create a function which calculates the mean of an input list of numbers\n",
      "\n",
      "***"
     ]
    },
    {
     "cell_type": "markdown",
     "metadata": {},
     "source": [
      "***\n",
      "#Input and output\n",
      "***\n",
      "## Reading text files\n",
      "This is the most basic way to read text files. If you are reading columns of data, I strongly suggest the numpy function genfromtxt."
     ]
    },
    {
     "cell_type": "code",
     "collapsed": false,
     "input": [
      "#Open the file animals.txt in read only mode\n",
      "open_file = open('animals.txt', 'r')"
     ],
     "language": "python",
     "metadata": {},
     "outputs": [],
     "prompt_number": 33
    },
    {
     "cell_type": "code",
     "collapsed": false,
     "input": [
      "#Read all lines of the file into a list where each line is a string\n",
      "all_lines = open_file.readlines()\n",
      "all_lines"
     ],
     "language": "python",
     "metadata": {},
     "outputs": [
      {
       "output_type": "pyout",
       "prompt_number": 34,
       "text": [
        "['2011-04-22 21:06 Grizzly 36\\n',\n",
        " '2011-04-23 14:12 Elk 25\\n',\n",
        " '2011-04-23 10:24 Elk 26\\n',\n",
        " '2011-04-23 20:08 Wolverine 31\\n',\n",
        " '2011-04-23 18:46 Muskox 20\\n']"
       ]
      }
     ],
     "prompt_number": 34
    },
    {
     "cell_type": "code",
     "collapsed": false,
     "input": [
      "#Close file\n",
      "open_file.close()"
     ],
     "language": "python",
     "metadata": {},
     "outputs": [],
     "prompt_number": 31
    },
    {
     "cell_type": "code",
     "collapsed": false,
     "input": [
      "all_lines[0]"
     ],
     "language": "python",
     "metadata": {},
     "outputs": [
      {
       "output_type": "pyout",
       "prompt_number": 35,
       "text": [
        "'2011-04-22 21:06 Grizzly 36\\n'"
       ]
      }
     ],
     "prompt_number": 35
    },
    {
     "cell_type": "code",
     "collapsed": false,
     "input": [
      "print all_lines[1]"
     ],
     "language": "python",
     "metadata": {},
     "outputs": [
      {
       "output_type": "stream",
       "stream": "stdout",
       "text": [
        "2011-04-23 14:12 Elk 25\n",
        "\n"
       ]
      }
     ],
     "prompt_number": 83
    },
    {
     "cell_type": "markdown",
     "metadata": {},
     "source": [
      "*Note:* Readlines is a function but it doesn't take any input. Instead it is said to *act on* the open file "
     ]
    },
    {
     "cell_type": "code",
     "collapsed": false,
     "input": [
      "#How long is the files\n",
      "print len(all_lines)"
     ],
     "language": "python",
     "metadata": {},
     "outputs": [
      {
       "output_type": "stream",
       "stream": "stdout",
       "text": [
        "5\n"
       ]
      }
     ],
     "prompt_number": 84
    },
    {
     "cell_type": "code",
     "collapsed": false,
     "input": [
      "#This is a string, how do I get a single element? \n",
      "#the split() function acts on strings to produce a list of each \"word\"\n",
      "for iline in all_lines:\n",
      "    print iline.split()\n"
     ],
     "language": "python",
     "metadata": {},
     "outputs": [
      {
       "output_type": "stream",
       "stream": "stdout",
       "text": [
        "['2011-04-22', '21:06', 'Grizzly', '36']\n",
        "['2011-04-23', '14:12', 'Elk', '25']\n",
        "['2011-04-23', '10:24', 'Elk', '26']\n",
        "['2011-04-23', '20:08', 'Wolverine', '31']\n",
        "['2011-04-23', '18:46', 'Muskox', '20']\n"
       ]
      }
     ],
     "prompt_number": 85
    },
    {
     "cell_type": "markdown",
     "metadata": {},
     "source": [
      "*Note:* by default split() splits on blank space, however, you can chose what you want it to split on. In a CSV file, sometimes you may want to split on the comma split(',')"
     ]
    },
    {
     "cell_type": "markdown",
     "metadata": {},
     "source": [
      "*Note:* split returns all strings"
     ]
    },
    {
     "cell_type": "code",
     "collapsed": false,
     "input": [
      "#Convert string to int\n",
      "print int(all_lines[0].split() [-1])"
     ],
     "language": "python",
     "metadata": {},
     "outputs": [
      {
       "output_type": "stream",
       "stream": "stdout",
       "text": [
        "36\n"
       ]
      }
     ],
     "prompt_number": 86
    },
    {
     "cell_type": "code",
     "collapsed": false,
     "input": [
      "#What if I forgot to convert to a float?\n",
      "one_line = all_lines[1].split()\n",
      "one_line[4] = one_line[3] + 0.3  #I used the float() function\n",
      "print one_line"
     ],
     "language": "python",
     "metadata": {},
     "outputs": [
      {
       "ename": "TypeError",
       "evalue": "cannot concatenate 'str' and 'float' objects",
       "output_type": "pyerr",
       "traceback": [
        "\u001b[0;31m---------------------------------------------------------------------------\u001b[0m\n\u001b[0;31mTypeError\u001b[0m                                 Traceback (most recent call last)",
        "\u001b[0;32m<ipython-input-88-c2f03a488e66>\u001b[0m in \u001b[0;36m<module>\u001b[0;34m()\u001b[0m\n\u001b[1;32m      1\u001b[0m \u001b[0;31m#What if I forgot to convert to a float?\u001b[0m\u001b[0;34m\u001b[0m\u001b[0;34m\u001b[0m\u001b[0m\n\u001b[1;32m      2\u001b[0m \u001b[0mone_line\u001b[0m \u001b[0;34m=\u001b[0m \u001b[0mall_lines\u001b[0m\u001b[0;34m[\u001b[0m\u001b[0;36m1\u001b[0m\u001b[0;34m]\u001b[0m\u001b[0;34m.\u001b[0m\u001b[0msplit\u001b[0m\u001b[0;34m(\u001b[0m\u001b[0;34m)\u001b[0m\u001b[0;34m\u001b[0m\u001b[0m\n\u001b[0;32m----> 3\u001b[0;31m \u001b[0mone_line\u001b[0m\u001b[0;34m[\u001b[0m\u001b[0;36m4\u001b[0m\u001b[0;34m]\u001b[0m \u001b[0;34m=\u001b[0m \u001b[0mone_line\u001b[0m\u001b[0;34m[\u001b[0m\u001b[0;36m3\u001b[0m\u001b[0;34m]\u001b[0m \u001b[0;34m+\u001b[0m \u001b[0;36m0.3\u001b[0m  \u001b[0;31m#I used the float() function\u001b[0m\u001b[0;34m\u001b[0m\u001b[0m\n\u001b[0m\u001b[1;32m      4\u001b[0m \u001b[0;32mprint\u001b[0m \u001b[0mone_line\u001b[0m\u001b[0;34m\u001b[0m\u001b[0m\n",
        "\u001b[0;31mTypeError\u001b[0m: cannot concatenate 'str' and 'float' objects"
       ]
      }
     ],
     "prompt_number": 88
    },
    {
     "cell_type": "code",
     "collapsed": false,
     "input": [
      "#Create empty lists to fill\n",
      "date = []\n",
      "time = []\n",
      "animal = []\n",
      "number = []"
     ],
     "language": "python",
     "metadata": {},
     "outputs": [],
     "prompt_number": 89
    },
    {
     "cell_type": "code",
     "collapsed": false,
     "input": [
      "#Loop over each line, split each line into individual elements (on the white space) and append to empty lists you just created\n",
      "for iline in all_lines:\n",
      "    print iline\n",
      "    d, t, a, n = iline.split()  #unpacking!\n",
      "    date.append(d)\n",
      "    time.append(t)\n",
      "    animal.append(a)\n",
      "    number.append(int(n))"
     ],
     "language": "python",
     "metadata": {},
     "outputs": [
      {
       "output_type": "stream",
       "stream": "stdout",
       "text": [
        "2011-04-22 21:06 Grizzly 36\n",
        "\n",
        "2011-04-23 14:12 Elk 25\n",
        "\n",
        "2011-04-23 10:24 Elk 26\n",
        "\n",
        "2011-04-23 20:08 Wolverine 31\n",
        "\n",
        "2011-04-23 18:46 Muskox 20\n",
        "\n"
       ]
      }
     ],
     "prompt_number": 90
    },
    {
     "cell_type": "code",
     "collapsed": false,
     "input": [
      "date"
     ],
     "language": "python",
     "metadata": {},
     "outputs": [
      {
       "output_type": "pyout",
       "prompt_number": 91,
       "text": [
        "['2011-04-22', '2011-04-23', '2011-04-23', '2011-04-23', '2011-04-23']"
       ]
      }
     ],
     "prompt_number": 91
    },
    {
     "cell_type": "code",
     "collapsed": false,
     "input": [
      "time"
     ],
     "language": "python",
     "metadata": {},
     "outputs": [
      {
       "output_type": "pyout",
       "prompt_number": 92,
       "text": [
        "['21:06', '14:12', '10:24', '20:08', '18:46']"
       ]
      }
     ],
     "prompt_number": 92
    },
    {
     "cell_type": "code",
     "collapsed": false,
     "input": [
      "animal"
     ],
     "language": "python",
     "metadata": {},
     "outputs": [
      {
       "output_type": "pyout",
       "prompt_number": 93,
       "text": [
        "['Grizzly', 'Elk', 'Elk', 'Wolverine', 'Muskox']"
       ]
      }
     ],
     "prompt_number": 93
    },
    {
     "cell_type": "code",
     "collapsed": false,
     "input": [
      "number"
     ],
     "language": "python",
     "metadata": {},
     "outputs": [
      {
       "output_type": "pyout",
       "prompt_number": 94,
       "text": [
        "[36, 25, 26, 31, 20]"
       ]
      }
     ],
     "prompt_number": 94
    },
    {
     "cell_type": "markdown",
     "metadata": {},
     "source": [
      "***\n",
      "# Exercise 6\n",
      "1. Read the file 'big_animals.txt' and print each line on which more than 10 moose were sighted.\n",
      "\n",
      "2. Turn the code for #1 into a function and use it on the files 'merida_animals.txt' and 'fergus_animals.txt'.\n",
      "\n",
      "***"
     ]
    },
    {
     "cell_type": "markdown",
     "metadata": {},
     "source": [
      "***\n",
      "#Intro to Python modules\n",
      "***\n",
      "## What is a module?\n",
      "\n",
      "While you can use all you your shell commands in IPython, when you are writing scripts, you must use built in Python functions. One of Python's greatest strengths is the ability to import modules. A module is a collection of functions and other Python objects. You gain access to these objects by importing them."
     ]
    },
    {
     "cell_type": "markdown",
     "metadata": {},
     "source": [
      "##The os module\n",
      "\n",
      "The os module contains most of the shell commands we covered this morning. os stands for operating system.\n",
      "\n",
      "<table>\n",
      "<tr><th>Shell Command</th><th>Python Command</th></tr>\n",
      "<tr><td>cd directory_name</td><td>os.chdir(directory_name)</td></tr>\n",
      "<tr><td>pwd</td><td>os.getcwd()</td></tr>\n",
      "<tr><td>mkdir directory_name</td><td>os.mkdir(directory_name)</td></tr>\n",
      "<tr><td>ls</td><td>os.listdir(path)</td></tr>\n",
      "<tr><td>rm filename</td><td>os.remove(filename)</td></tr>\n",
      "</table>"
     ]
    },
    {
     "cell_type": "markdown",
     "metadata": {},
     "source": [
      "## Importing"
     ]
    },
    {
     "cell_type": "code",
     "collapsed": false,
     "input": [
      "#Let's try these\n",
      "import os"
     ],
     "language": "python",
     "metadata": {},
     "outputs": [],
     "prompt_number": 2
    },
    {
     "cell_type": "code",
     "collapsed": false,
     "input": [
      "#Where am I?\n",
      "print os.getcwd()"
     ],
     "language": "python",
     "metadata": {},
     "outputs": [
      {
       "output_type": "stream",
       "stream": "stdout",
       "text": [
        "/Users/tracyt/boot-camps/python/intro\n"
       ]
      }
     ],
     "prompt_number": 3
    },
    {
     "cell_type": "code",
     "collapsed": false,
     "input": [
      "#What is in my directory?\n",
      "os.listdir('/Users/tracyt/boot-camps/python/intro')"
     ],
     "language": "python",
     "metadata": {},
     "outputs": [
      {
       "output_type": "pyout",
       "prompt_number": 5,
       "text": [
        "['#README.md#',\n",
        " 'animals.txt',\n",
        " 'big_animals.txt',\n",
        " 'Exercise_solutions.ipynb',\n",
        " 'fergus_animals.txt',\n",
        " 'merida_animals.txt',\n",
        " 'PresenterNotes_umass.ipynb',\n",
        " 'README.md',\n",
        " 'StudentNotes_umass.ipynb']"
       ]
      }
     ],
     "prompt_number": 5
    },
    {
     "cell_type": "code",
     "collapsed": false,
     "input": [
      "os.chdir('/Users/tracyt/boot-camps/python/intro/test_dir')"
     ],
     "language": "python",
     "metadata": {},
     "outputs": [
      {
       "ename": "OSError",
       "evalue": "[Errno 2] No such file or directory: '/Users/tracyt/boot-camps/python/intro/test_dir'",
       "output_type": "pyerr",
       "traceback": [
        "\u001b[0;31m---------------------------------------------------------------------------\u001b[0m\n\u001b[0;31mOSError\u001b[0m                                   Traceback (most recent call last)",
        "\u001b[0;32m<ipython-input-6-1f893cd7bcd5>\u001b[0m in \u001b[0;36m<module>\u001b[0;34m()\u001b[0m\n\u001b[0;32m----> 1\u001b[0;31m \u001b[0mos\u001b[0m\u001b[0;34m.\u001b[0m\u001b[0mchdir\u001b[0m\u001b[0;34m(\u001b[0m\u001b[0;34m'/Users/tracyt/boot-camps/python/intro/test_dir'\u001b[0m\u001b[0;34m)\u001b[0m\u001b[0;34m\u001b[0m\u001b[0m\n\u001b[0m",
        "\u001b[0;31mOSError\u001b[0m: [Errno 2] No such file or directory: '/Users/tracyt/boot-camps/python/intro/test_dir'"
       ]
      }
     ],
     "prompt_number": 6
    },
    {
     "cell_type": "markdown",
     "metadata": {},
     "source": [
      "##Getting info\n",
      "\n",
      "* dir(os)\n",
      "* os. < tab > \n",
      "* help(os.getcwd)\n",
      "* website: os module: <a href = \"http://docs.python.org/2/library/os.html\" target = \"blank\">http://docs.python.org/2/library/os.html</a>\n",
      "* web (google, stack overflow, etc)"
     ]
    },
    {
     "cell_type": "markdown",
     "metadata": {},
     "source": [
      "***\n",
      "#Exercise 7\n",
      "\n",
      "1. Use the documentation for os to figure out how to create a directory called exercise_7\n",
      "\n",
      "***"
     ]
    },
    {
     "cell_type": "markdown",
     "metadata": {},
     "source": [
      "##Submodules"
     ]
    },
    {
     "cell_type": "code",
     "collapsed": false,
     "input": [
      "#path is a submodule of os which has a set of its own attributes and functions\n",
      "os.path."
     ],
     "language": "python",
     "metadata": {},
     "outputs": [
      {
       "output_type": "pyout",
       "prompt_number": 7,
       "text": [
        "True"
       ]
      }
     ],
     "prompt_number": 7
    },
    {
     "cell_type": "code",
     "collapsed": false,
     "input": [
      "os.path.exists('/Users/tracyt/boot-camps/python/intro/test_dir')"
     ],
     "language": "python",
     "metadata": {},
     "outputs": []
    },
    {
     "cell_type": "code",
     "collapsed": false,
     "input": [
      "#Shorthand: typing the module.submodule.function can get tiring and long\n",
      "from os import path\n",
      "path.exists('/Users/tracyt/boot-camps/python/intro/test_dir')"
     ],
     "language": "python",
     "metadata": {},
     "outputs": [
      {
       "output_type": "pyout",
       "prompt_number": 8,
       "text": [
        "True"
       ]
      }
     ],
     "prompt_number": 8
    },
    {
     "cell_type": "code",
     "collapsed": false,
     "input": [
      "#or\n",
      "from os.path import exists\n",
      "exists('/Users/tracyt/boot-camps/python/intro/test_dir')"
     ],
     "language": "python",
     "metadata": {},
     "outputs": [
      {
       "output_type": "pyout",
       "prompt_number": 9,
       "text": [
        "True"
       ]
      }
     ],
     "prompt_number": 9
    },
    {
     "cell_type": "code",
     "collapsed": false,
     "input": [],
     "language": "python",
     "metadata": {},
     "outputs": []
    },
    {
     "cell_type": "markdown",
     "metadata": {},
     "source": [
      "***\n",
      "#Outside IPython\n",
      "***\n",
      "## Writing a function to a file\n",
      "\n",
      "Everything we've done so far has been interactive, but what if you want to create a script which you can run over and over. Everything we've written can be written to a text file and executed using Python.\n",
      "\n",
      "Copy and paste the function you wrote in Exercise 6.2 (count_moose) into a text file and save the file a count_animals.py"
     ]
    },
    {
     "cell_type": "code",
     "collapsed": false,
     "input": [
      "#Run file\n",
      "import count_animals\n",
      "count_animals.count_moose('merida_animals.txt')"
     ],
     "language": "python",
     "metadata": {},
     "outputs": [
      {
       "ename": "ImportError",
       "evalue": "No module named count_animals",
       "output_type": "pyerr",
       "traceback": [
        "\u001b[0;31m---------------------------------------------------------------------------\u001b[0m\n\u001b[0;31mImportError\u001b[0m                               Traceback (most recent call last)",
        "\u001b[0;32m<ipython-input-95-e2344c23765c>\u001b[0m in \u001b[0;36m<module>\u001b[0;34m()\u001b[0m\n\u001b[1;32m      1\u001b[0m \u001b[0;31m#Run file\u001b[0m\u001b[0;34m\u001b[0m\u001b[0;34m\u001b[0m\u001b[0m\n\u001b[0;32m----> 2\u001b[0;31m \u001b[0;32mimport\u001b[0m \u001b[0mcount_animals\u001b[0m\u001b[0;34m\u001b[0m\u001b[0m\n\u001b[0m\u001b[1;32m      3\u001b[0m \u001b[0mcount_animals\u001b[0m\u001b[0;34m.\u001b[0m\u001b[0mcount_moose\u001b[0m\u001b[0;34m(\u001b[0m\u001b[0;34m'merida_animals.txt'\u001b[0m\u001b[0;34m)\u001b[0m\u001b[0;34m\u001b[0m\u001b[0m\n",
        "\u001b[0;31mImportError\u001b[0m: No module named count_animals"
       ]
      }
     ],
     "prompt_number": 95
    },
    {
     "cell_type": "markdown",
     "metadata": {},
     "source": [
      "*Note:* The import statement only works once during a Python session. After that, Python does not recompile your code, no matter how many times you import it. To make a change, type reload(function_name)"
     ]
    },
    {
     "cell_type": "code",
     "collapsed": false,
     "input": [
      "#Re-import\n",
      "reload(count_animals)"
     ],
     "language": "python",
     "metadata": {},
     "outputs": [
      {
       "ename": "NameError",
       "evalue": "name 'count_animals' is not defined",
       "output_type": "pyerr",
       "traceback": [
        "\u001b[0;31m---------------------------------------------------------------------------\u001b[0m\n\u001b[0;31mNameError\u001b[0m                                 Traceback (most recent call last)",
        "\u001b[0;32m<ipython-input-96-b91cafbbc25f>\u001b[0m in \u001b[0;36m<module>\u001b[0;34m()\u001b[0m\n\u001b[1;32m      1\u001b[0m \u001b[0;31m#Re-import\u001b[0m\u001b[0;34m\u001b[0m\u001b[0;34m\u001b[0m\u001b[0m\n\u001b[0;32m----> 2\u001b[0;31m \u001b[0mreload\u001b[0m\u001b[0;34m(\u001b[0m\u001b[0mcount_animals\u001b[0m\u001b[0;34m)\u001b[0m\u001b[0;34m\u001b[0m\u001b[0m\n\u001b[0m",
        "\u001b[0;31mNameError\u001b[0m: name 'count_animals' is not defined"
       ]
      }
     ],
     "prompt_number": 96
    },
    {
     "cell_type": "markdown",
     "metadata": {},
     "source": [
      "***\n",
      "#Exercise 8:\n",
      "\n",
      "1. Add a function to your count_animals module which counts the number wolverine. Don't forget you function best practices: add a doc string, use descriptive function and variable names\n",
      "\n",
      "***"
     ]
    },
    {
     "cell_type": "markdown",
     "metadata": {},
     "source": [
      "## Calling Python from the command line\n",
      "\n",
      "Python programs can be executed directly from the shell. This is often more convenient when writing programs that will be run frequently or in an automated fashion. In addition, IPython and Python provide command-line interpreters similar to the IPython Notebook that can help develop and test programs."
     ]
    }
   ],
   "metadata": {}
  }
 ]
}