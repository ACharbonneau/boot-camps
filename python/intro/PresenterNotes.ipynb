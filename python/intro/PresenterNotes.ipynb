{
 "metadata": {
  "name": "PresenterNotes"
 },
 "nbformat": 3,
 "nbformat_minor": 0,
 "worksheets": [
  {
   "cells": [
    {
     "cell_type": "markdown",
     "metadata": {},
     "source": [
      "# Intro to Python\n",
      "\n",
      "# Outline\n",
      "\n",
      "## What is Python?\n",
      "* What?\n",
      "* Who?\n",
      "* When?\n",
      "* Where?\n",
      "* Why?\n",
      "* How?\n",
      "\n",
      "## Shell commands in IPython\n",
      "\n",
      "## Python as a calculator\n",
      "* Math\n",
      "\n",
      "## Values, types, and variables\n",
      "* Basic types\n",
      "* Variables\n",
      "* Assigning and printing\n",
      "* Containers\n",
      "\n",
      "## Logic and program flow\n",
      "* Control statements\n",
      "    * Conditionals\n",
      "    * Loops\n",
      "* Functions\n",
      "* Docstrings\n",
      "\n",
      "## Input and output\n",
      "* Reading text files\n",
      "* Processing strings\n",
      "* Writing text files\n",
      "\n",
      "## Intro to Python modules\n",
      "* What is a module?\n",
      "* Importing\n",
      "* Getting info\n",
      "    * dir\n",
      "    * autocomplete\n",
      "* Submodules\n",
      "\n",
      "## Outside IPython\n",
      "* Writing a function to a file\n",
      "* Calling Python from the command line\n",
      "\n",
      "---"
     ]
    },
    {
     "cell_type": "markdown",
     "metadata": {},
     "source": [
      "***\n",
      "# Python\n",
      "***\n",
      "## What?\n",
      "\n",
      "[Python](http://www.python.org) is a programming language. It has a number of buzzword-friendly attributes, some of which you may have heard before. Python is:\n",
      "\n",
      "* modern\n",
      "* general-purpose\n",
      "* powerful\n",
      "* high-level\n",
      "* readable\n",
      "* terse\n",
      "* interpreted\n",
      "* dynamic\n",
      "* object-oriented\n",
      "* imperative\n",
      "* functional\n",
      "* interactive\n",
      "* extensible\n",
      "* portable\n",
      "* free\n",
      "* open source\n",
      "\n",
      "## Who?\n",
      "\n",
      "Python was created by [Guido van Rossum](http://en.wikipedia.org/wiki/Guido_van_Rossum), the [Benevolent Dictator for Life](http://en.wikipedia.org/wiki/Benevolent_Dictator_For_Life). Today Python is maintained by a large community of contributors and the [Python Software Foundation](http://www.python.org/psf).\n",
      "\n",
      "## When?\n",
      "\n",
      "Python has been around since the early 1990s.\n",
      "\n",
      "## Where?\n",
      "\n",
      "Python interpreters exist for most modern desktop operating systems. Python runs in many places, from web servers to game consoles to mobile devices.\n",
      "\n",
      "## Why?\n",
      "\n",
      "Python is consistently ranked among the top programming languages by the [TIOBE Index](http://www.tiobe.com/index.php/content/paperinfo/tpci/index.html). Python is popular, easy to learn, and is well-supported and actively developed by the community. Python has a healthy library of supporting functionality and has gained favor within the web development, scientific, and engineering communities. Python programs perform well, and complex functionality can be realized with a relatively small amount of code. Python is also a lot of fun.\n",
      "\n",
      "\n",
      "<center><a href=\"http://xkcd.com/353\"><img height=\"65%\" src=\"http://imgs.xkcd.com/comics/python.png\"></img><br>xkcd</a></center>\n",
      "\n",
      "## How?\n",
      "\n",
      "* [Python 2](http://www.python.org/download)\n",
      "* [Python 3](http://www.python.org/download)\n",
      "* [IPython](http://ipython.org)\n",
      "* [Anaconda](https://store.continuum.io/cshop/anaconda)"
     ]
    },
    {
     "cell_type": "markdown",
     "metadata": {},
     "source": [
      "***\n",
      "# Shell commands in IPython\n",
      "***\n",
      "\n",
      "In IPython you can use the shell commands you learned earlier in this workshop to navigate your directory tree. This makes using IPython a bit more convenient than using a separate editor and shell, and is one of the reasons many people like IPython. In a standard Python interpreter, you cannot use these commands. We will learn the equivalent Python commands shortly."
     ]
    },
    {
     "cell_type": "markdown",
     "metadata": {},
     "source": [
      "Head to your boot camp directory."
     ]
    },
    {
     "cell_type": "code",
     "collapsed": false,
     "input": [
      "cd /Users/Jon/Code/boot-camps/python/intro"
     ],
     "language": "python",
     "metadata": {},
     "outputs": [
      {
       "output_type": "stream",
       "stream": "stdout",
       "text": [
        "/Users/Jon/Code/boot-camps/python/intro\n"
       ]
      }
     ],
     "prompt_number": 1
    },
    {
     "cell_type": "markdown",
     "metadata": {},
     "source": [
      "List file names and directory names in your boot camp directory."
     ]
    },
    {
     "cell_type": "code",
     "collapsed": false,
     "input": [
      "ls"
     ],
     "language": "python",
     "metadata": {},
     "outputs": [
      {
       "output_type": "stream",
       "stream": "stdout",
       "text": [
        "ExerciseSolutions.ipynb  README.md                animals.txt              fergus_animals.txt\r\n",
        "PresenterNotes.ipynb     StudentNotes.ipynb       big_animals.txt          merida_animals.txt\r\n"
       ]
      }
     ],
     "prompt_number": 2
    },
    {
     "cell_type": "markdown",
     "metadata": {},
     "source": [
      "Get the current working directory."
     ]
    },
    {
     "cell_type": "code",
     "collapsed": false,
     "input": [
      "pwd"
     ],
     "language": "python",
     "metadata": {},
     "outputs": [
      {
       "output_type": "pyout",
       "prompt_number": 13,
       "text": [
        "u'/Users/Jon/Code/boot-camps/python/intro'"
       ]
      }
     ],
     "prompt_number": 13
    },
    {
     "cell_type": "markdown",
     "metadata": {},
     "source": [
      "Make a new directory called `test_dir`."
     ]
    },
    {
     "cell_type": "code",
     "collapsed": false,
     "input": [
      "mkdir test_dir"
     ],
     "language": "python",
     "metadata": {},
     "outputs": [],
     "prompt_number": 14
    },
    {
     "cell_type": "markdown",
     "metadata": {},
     "source": [
      "List file names and directory names again, noticing the addition of `test_dir`."
     ]
    },
    {
     "cell_type": "code",
     "collapsed": false,
     "input": [
      "ls"
     ],
     "language": "python",
     "metadata": {},
     "outputs": [
      {
       "output_type": "stream",
       "stream": "stdout",
       "text": [
        "ExerciseSolutions.ipynb  README.md                animals.txt              fergus_animals.txt       \u001b[35mtest_dir\u001b[m\u001b[m/\r\n",
        "PresenterNotes.ipynb     StudentNotes.ipynb       big_animals.txt          merida_animals.txt\r\n"
       ]
      }
     ],
     "prompt_number": 15
    },
    {
     "cell_type": "markdown",
     "metadata": {},
     "source": [
      "***\n",
      "# Python as a calculator\n",
      "***\n",
      "Python contains a number of built-in mathematical operators. At its most basic, Python can add, subtract, multiply, and divide. We will also look at exponents and modulus."
     ]
    },
    {
     "cell_type": "code",
     "collapsed": false,
     "input": [
      "# Add\n",
      "5 + 4"
     ],
     "language": "python",
     "metadata": {},
     "outputs": [
      {
       "output_type": "pyout",
       "prompt_number": 16,
       "text": [
        "9"
       ]
      }
     ],
     "prompt_number": 16
    },
    {
     "cell_type": "markdown",
     "metadata": {},
     "source": [
      "In the example above, the integers are referred to as *operands* or *values*, and the plus sign is the *operator*."
     ]
    },
    {
     "cell_type": "markdown",
     "metadata": {},
     "source": [
      "***\n",
      "**Aside: Comments**\n",
      "\n",
      "In Python, the `#` character denotes a comment. When the comment character appears, the Python interpreter will ignore the remainder of the text on that line.\n"
     ]
    },
    {
     "cell_type": "code",
     "collapsed": false,
     "input": [
      "# This is a comment\n",
      "5 + 4 # This is a comment too, even if it contains code like 7 + 9"
     ],
     "language": "python",
     "metadata": {},
     "outputs": [
      {
       "output_type": "pyout",
       "prompt_number": 61,
       "text": [
        "9"
       ]
      }
     ],
     "prompt_number": 61
    },
    {
     "cell_type": "markdown",
     "metadata": {},
     "source": [
      "Comments can be essential to a program's clarity, both for other programmers who may happen to read it as well as for future you."
     ]
    },
    {
     "cell_type": "markdown",
     "metadata": {},
     "source": [
      "***"
     ]
    },
    {
     "cell_type": "code",
     "collapsed": false,
     "input": [
      "# Subtract\n",
      "6 - 2"
     ],
     "language": "python",
     "metadata": {},
     "outputs": [
      {
       "output_type": "pyout",
       "prompt_number": 17,
       "text": [
        "4"
       ]
      }
     ],
     "prompt_number": 17
    },
    {
     "cell_type": "code",
     "collapsed": false,
     "input": [
      "# Multiply\n",
      "7 * 6"
     ],
     "language": "python",
     "metadata": {},
     "outputs": [
      {
       "output_type": "pyout",
       "prompt_number": 18,
       "text": [
        "42"
       ]
      }
     ],
     "prompt_number": 18
    },
    {
     "cell_type": "code",
     "collapsed": false,
     "input": [
      "# Divide\n",
      "42 / 6"
     ],
     "language": "python",
     "metadata": {},
     "outputs": [
      {
       "output_type": "pyout",
       "prompt_number": 19,
       "text": [
        "7"
       ]
      }
     ],
     "prompt_number": 19
    },
    {
     "cell_type": "markdown",
     "metadata": {},
     "source": [
      "You'll notice that 6 divides evenly into 42. What happens if we choose a number that isn't evenly divisible by 6?"
     ]
    },
    {
     "cell_type": "code",
     "collapsed": false,
     "input": [
      "46 / 6"
     ],
     "language": "python",
     "metadata": {},
     "outputs": [
      {
       "output_type": "pyout",
       "prompt_number": 20,
       "text": [
        "7"
       ]
      }
     ],
     "prompt_number": 20
    },
    {
     "cell_type": "markdown",
     "metadata": {},
     "source": [
      "So far, we're giving Python integers and getting integers in return. What happens if we put in decimal points?"
     ]
    },
    {
     "cell_type": "code",
     "collapsed": false,
     "input": [
      "46.0 / 6.0"
     ],
     "language": "python",
     "metadata": {},
     "outputs": [
      {
       "output_type": "pyout",
       "prompt_number": 23,
       "text": [
        "7.666666666666667"
       ]
      }
     ],
     "prompt_number": 23
    },
    {
     "cell_type": "markdown",
     "metadata": {},
     "source": [
      "What happens if the result of math with decimal points is an integer?"
     ]
    },
    {
     "cell_type": "code",
     "collapsed": false,
     "input": [
      "5.0 / 2.5"
     ],
     "language": "python",
     "metadata": {},
     "outputs": [
      {
       "output_type": "pyout",
       "prompt_number": 24,
       "text": [
        "2.0"
       ]
      }
     ],
     "prompt_number": 24
    },
    {
     "cell_type": "markdown",
     "metadata": {},
     "source": [
      "Numbers with decimal components are referred to as *floating point* numbers in Python."
     ]
    },
    {
     "cell_type": "markdown",
     "metadata": {},
     "source": [
      "***\n",
      "**Aside: Integer division in Python 2 and Python 3**\n",
      "\n",
      "An integer divided by an integer in Python results in an integer and is referred to as *integer division*. In Python 2, integer division is the default behavior when dividing two integers. In Python 3, you must explicitly denote integer division using `//` instead of `/`. Python 2.7 also understands the `//` notation, so it's a good habit to use it any time you mean integer division. One important note is that Python **truncates** results when performing integer division. It will not round."
     ]
    },
    {
     "cell_type": "code",
     "collapsed": false,
     "input": [
      "1.0 / 3.0"
     ],
     "language": "python",
     "metadata": {},
     "outputs": [
      {
       "output_type": "pyout",
       "prompt_number": 36,
       "text": [
        "0.3333333333333333"
       ]
      }
     ],
     "prompt_number": 36
    },
    {
     "cell_type": "code",
     "collapsed": false,
     "input": [
      "1 / 3"
     ],
     "language": "python",
     "metadata": {},
     "outputs": [
      {
       "output_type": "pyout",
       "prompt_number": 37,
       "text": [
        "0"
       ]
      }
     ],
     "prompt_number": 37
    },
    {
     "cell_type": "code",
     "collapsed": false,
     "input": [
      "1 // 3"
     ],
     "language": "python",
     "metadata": {},
     "outputs": [
      {
       "output_type": "pyout",
       "prompt_number": 38,
       "text": [
        "0"
       ]
      }
     ],
     "prompt_number": 38
    },
    {
     "cell_type": "code",
     "collapsed": false,
     "input": [
      "1.0 // 3.0"
     ],
     "language": "python",
     "metadata": {},
     "outputs": [
      {
       "output_type": "pyout",
       "prompt_number": 31,
       "text": [
        "0.0"
       ]
      }
     ],
     "prompt_number": 31
    },
    {
     "cell_type": "code",
     "collapsed": false,
     "input": [
      "2.0 / 3.0"
     ],
     "language": "python",
     "metadata": {},
     "outputs": [
      {
       "output_type": "pyout",
       "prompt_number": 34,
       "text": [
        "0.6666666666666666"
       ]
      }
     ],
     "prompt_number": 34
    },
    {
     "cell_type": "code",
     "collapsed": false,
     "input": [
      "2 / 3"
     ],
     "language": "python",
     "metadata": {},
     "outputs": [
      {
       "output_type": "pyout",
       "prompt_number": 35,
       "text": [
        "0"
       ]
      }
     ],
     "prompt_number": 35
    },
    {
     "cell_type": "markdown",
     "metadata": {},
     "source": [
      "***\n",
      "Python also contains the exponent and remainder (modulus) operators."
     ]
    },
    {
     "cell_type": "code",
     "collapsed": false,
     "input": [
      "# Exponent\n",
      "3 ** 2"
     ],
     "language": "python",
     "metadata": {},
     "outputs": [
      {
       "output_type": "pyout",
       "prompt_number": 39,
       "text": [
        "9"
       ]
      }
     ],
     "prompt_number": 39
    },
    {
     "cell_type": "code",
     "collapsed": false,
     "input": [
      "3 ** 0.5"
     ],
     "language": "python",
     "metadata": {},
     "outputs": [
      {
       "output_type": "pyout",
       "prompt_number": 40,
       "text": [
        "1.7320508075688772"
       ]
      }
     ],
     "prompt_number": 40
    },
    {
     "cell_type": "code",
     "collapsed": false,
     "input": [
      "# Modulus\n",
      "10 % 2"
     ],
     "language": "python",
     "metadata": {},
     "outputs": [
      {
       "output_type": "pyout",
       "prompt_number": 41,
       "text": [
        "0"
       ]
      }
     ],
     "prompt_number": 41
    },
    {
     "cell_type": "code",
     "collapsed": false,
     "input": [
      "11 % 2"
     ],
     "language": "python",
     "metadata": {},
     "outputs": [
      {
       "output_type": "pyout",
       "prompt_number": 42,
       "text": [
        "1"
       ]
      }
     ],
     "prompt_number": 42
    },
    {
     "cell_type": "markdown",
     "metadata": {},
     "source": [
      "**Note:** Using a `% 2` operation is the quickest way to determine whether a number is even or odd in Python."
     ]
    },
    {
     "cell_type": "markdown",
     "metadata": {},
     "source": [
      "***\n",
      "# Values, types, and variables\n",
      "***\n",
      "## Basic types\n",
      "We've just seen examples of operations applied to integers and to floating point numbers. In Python, values (like 4 and 2.7) have types (like *integer* and *float*). Types categorize values. Certain types (like integer) support certain operations (like multiply and divide). The language defines which operations can be performed on values of a given type. Python supports several types beyond integers and floating point numbers. Here we will review two additional types, strings and Booleans. As we saw with division of integers and floats, the same operation can produce a different result when operating on different types."
     ]
    },
    {
     "cell_type": "code",
     "collapsed": false,
     "input": [
      "# Integer (no decimal point)\n",
      "4"
     ],
     "language": "python",
     "metadata": {},
     "outputs": [
      {
       "output_type": "pyout",
       "prompt_number": 49,
       "text": [
        "4"
       ]
      }
     ],
     "prompt_number": 49
    },
    {
     "cell_type": "code",
     "collapsed": false,
     "input": [
      "# Floating point (with decimal point)\n",
      "4.0"
     ],
     "language": "python",
     "metadata": {},
     "outputs": [
      {
       "output_type": "pyout",
       "prompt_number": 50,
       "text": [
        "4.0"
       ]
      }
     ],
     "prompt_number": 50
    },
    {
     "cell_type": "markdown",
     "metadata": {},
     "source": [
      "**Note:** Python floating point numbers are *double precision* by default. This means that they can represent a wider range of numbers with greater precision at the (slight) expense of storage efficiency and computation speed."
     ]
    },
    {
     "cell_type": "code",
     "collapsed": false,
     "input": [
      "# String\n",
      "'Hello Software Carpentry'"
     ],
     "language": "python",
     "metadata": {},
     "outputs": [
      {
       "output_type": "pyout",
       "prompt_number": 54,
       "text": [
        "'Hello Software Carpentry'"
       ]
      }
     ],
     "prompt_number": 54
    },
    {
     "cell_type": "markdown",
     "metadata": {},
     "source": [
      "**Note:** You can use single or double quotes to denote a string. The only rule is that you must close your string with the same type of quote characters that you started with."
     ]
    },
    {
     "cell_type": "code",
     "collapsed": false,
     "input": [
      "# String with double quotes\n",
      "\"Hello Software Carpentry\""
     ],
     "language": "python",
     "metadata": {},
     "outputs": [
      {
       "output_type": "pyout",
       "prompt_number": 55,
       "text": [
        "'Hello Software Carpentry'"
       ]
      }
     ],
     "prompt_number": 55
    },
    {
     "cell_type": "code",
     "collapsed": false,
     "input": [
      "# Boolean: True or False\n",
      "True"
     ],
     "language": "python",
     "metadata": {},
     "outputs": [
      {
       "output_type": "pyout",
       "prompt_number": 53,
       "text": [
        "True"
       ]
      }
     ],
     "prompt_number": 53
    },
    {
     "cell_type": "markdown",
     "metadata": {},
     "source": [
      "***\n",
      "**Aside: Reserved words**\n",
      "\n",
      "There are some words in Python that have meaning as soon as you start typing code. These are known as \"reserved words\" because they are generally considered to be *reserved* by the definition of the language. While Python will happily let you redefine these, it is a good habit to avoid doing so, as it can lead to subtle bugs or confuse other programmers who might read your code...including future you. `True` and `False` are examples of reserved words. Notice that you do not have to put them in quotes. `'True'` is just a string to Python, while <code>True</code> is a value of the Boolean type.\n",
      "\n",
      "Here is a good starting list of reserved words, which are also often referred to as *keywords*: <a href = \"http://docs.python.org/2/reference/lexical_analysis.html#keywords\" target = \"blank\">http://docs.python.org/2/reference/lexical_analysis.html#keywords</a>\n",
      "***"
     ]
    },
    {
     "cell_type": "markdown",
     "metadata": {},
     "source": [
      "You can find out what type Python assigns to a particular value by typing `type(`*value*`)`."
     ]
    },
    {
     "cell_type": "code",
     "collapsed": false,
     "input": [
      "type(4)"
     ],
     "language": "python",
     "metadata": {},
     "outputs": [
      {
       "output_type": "pyout",
       "prompt_number": 58,
       "text": [
        "int"
       ]
      }
     ],
     "prompt_number": 58
    },
    {
     "cell_type": "code",
     "collapsed": false,
     "input": [
      "type('hello')"
     ],
     "language": "python",
     "metadata": {},
     "outputs": [
      {
       "output_type": "pyout",
       "prompt_number": 59,
       "text": [
        "str"
       ]
      }
     ],
     "prompt_number": 59
    },
    {
     "cell_type": "markdown",
     "metadata": {},
     "source": [
      "***\n",
      "**Aside: Duck typing**\n",
      "\n",
      "While Python will happily divulge the type of a particular value, many programmers will strive to avoid writing programs that rely on a value's type to make decisions. This is because Python, in contrast to a statically-typed language, does not necessarily require the programmer to specify the strict type of a value when applying operations to that value. For example, a program written to add two values together need not know or care whether the values are integers or floating points or Cartesian coordinates. The programmer need only assure in some way that the types support the \"addition\" operation. This allows for the creation of programs that describe generic operations that can be applied to data of a variety of types. Python's dynamic typing system is sometimes referred to as [*duck typing*](http://en.wikipedia.org/wiki/Duck_typing#In_Python): in Python, if a value walks like a duck and quacks like a duck, it must be a duck...or at least something of a duck-ish type. \n",
      "***"
     ]
    },
    {
     "cell_type": "markdown",
     "metadata": {},
     "source": [
      "***\n",
      "# Exercise 1:\n",
      "1. Calculate the arithmetic mean of the values 2, 3, and 10.\n",
      "2. Try multipying a value of each type by 2.\n",
      "    * How does the meaning of the multiply operation differ for an integer, a floating point, a string, and a Boolean?\n",
      "    * Do you notice different behavior if 2 is an integer or a floating point? \n",
      "    * What about addition?\n",
      "3. *(Optional if you finish early)* Try division and subtraction. \n",
      "\n",
      "***"
     ]
    },
    {
     "cell_type": "markdown",
     "metadata": {},
     "source": [
      "## Variables\n",
      "\n",
      "So far, Python has printed back exactly what we have input. What if you want to save a value to be used later?"
     ]
    },
    {
     "cell_type": "code",
     "collapsed": false,
     "input": [
      "a = 2"
     ],
     "language": "python",
     "metadata": {},
     "outputs": [],
     "prompt_number": 62
    },
    {
     "cell_type": "markdown",
     "metadata": {},
     "source": [
      "The code above assigns the value `2` to the variable named `a`. What type is the variable `a` now?\n",
      "\n",
      "**Note:** IPython doesn't print a result in response to a variable assignment."
     ]
    },
    {
     "cell_type": "code",
     "collapsed": false,
     "input": [
      "b = 3\n",
      "B = 4"
     ],
     "language": "python",
     "metadata": {},
     "outputs": [],
     "prompt_number": 63
    },
    {
     "cell_type": "markdown",
     "metadata": {},
     "source": [
      "Variable names are case-sensitive, and certain restrictions apply. For example, a variable name cannot begin with a number."
     ]
    },
    {
     "cell_type": "code",
     "collapsed": false,
     "input": [
      "123abc = 4"
     ],
     "language": "python",
     "metadata": {},
     "outputs": [
      {
       "ename": "SyntaxError",
       "evalue": "invalid syntax (<ipython-input-70-5f41f7303f23>, line 1)",
       "output_type": "pyerr",
       "traceback": [
        "\u001b[0;36m  File \u001b[0;32m\"<ipython-input-70-5f41f7303f23>\"\u001b[0;36m, line \u001b[0;32m1\u001b[0m\n\u001b[0;31m    123abc = 4\u001b[0m\n\u001b[0m         ^\u001b[0m\n\u001b[0;31mSyntaxError\u001b[0m\u001b[0;31m:\u001b[0m invalid syntax\n"
       ]
      }
     ],
     "prompt_number": 70
    },
    {
     "cell_type": "markdown",
     "metadata": {},
     "source": [
      "The value of a variable can be displayed in Python using the `print` keyword."
     ]
    },
    {
     "cell_type": "code",
     "collapsed": false,
     "input": [
      "print a"
     ],
     "language": "python",
     "metadata": {},
     "outputs": [
      {
       "output_type": "stream",
       "stream": "stdout",
       "text": [
        "2"
       ]
      },
      {
       "output_type": "stream",
       "stream": "stdout",
       "text": [
        "\n"
       ]
      }
     ],
     "prompt_number": 64
    },
    {
     "cell_type": "markdown",
     "metadata": {},
     "source": [
      "The `print` keyword is very versatile. Here it prints more than one item."
     ]
    },
    {
     "cell_type": "code",
     "collapsed": false,
     "input": [
      "print b, B"
     ],
     "language": "python",
     "metadata": {},
     "outputs": [
      {
       "output_type": "stream",
       "stream": "stdout",
       "text": [
        "3 4\n"
       ]
      }
     ],
     "prompt_number": 65
    },
    {
     "cell_type": "markdown",
     "metadata": {},
     "source": [
      "Notice that the variables `b` and `B` are different and contain two separate values, because variable names are case-sensitive."
     ]
    },
    {
     "cell_type": "markdown",
     "metadata": {},
     "source": [
      "**Note:** In Python 3, printing will change to look like this: `print(b)`. "
     ]
    },
    {
     "cell_type": "markdown",
     "metadata": {},
     "source": [
      "Variables behave just like the values they contain."
     ]
    },
    {
     "cell_type": "code",
     "collapsed": false,
     "input": [
      "print a + b\n",
      "print b * B"
     ],
     "language": "python",
     "metadata": {},
     "outputs": [
      {
       "output_type": "stream",
       "stream": "stdout",
       "text": [
        "5\n",
        "12\n"
       ]
      }
     ],
     "prompt_number": 66
    },
    {
     "cell_type": "code",
     "collapsed": false,
     "input": [
      "c = 'abc'\n",
      "d = c * 3\n",
      "print d"
     ],
     "language": "python",
     "metadata": {},
     "outputs": [
      {
       "output_type": "stream",
       "stream": "stdout",
       "text": [
        "abcabcabc\n"
       ]
      }
     ],
     "prompt_number": 67
    },
    {
     "cell_type": "markdown",
     "metadata": {},
     "source": [
      "When a value with a new type is assigned to a variable, the variable's behavior then reflects the behavior of the new value's type."
     ]
    },
    {
     "cell_type": "code",
     "collapsed": false,
     "input": [
      "a = 4\n",
      "print a * 2\n",
      "a = 'abc'\n",
      "print a * 2"
     ],
     "language": "python",
     "metadata": {},
     "outputs": [
      {
       "output_type": "stream",
       "stream": "stdout",
       "text": [
        "8\n",
        "abcabc\n"
       ]
      }
     ],
     "prompt_number": 69
    },
    {
     "cell_type": "markdown",
     "metadata": {},
     "source": [
      "### Immutable objects\n",
      "Every value that we've seen so far has been *immutable*, meaning that it can't be changed. Below is how variable assignment works for immutable values like integers.\n",
      "\n",
      "<img width = 500 src=\"https://docs.google.com/drawings/d/1-VVjNCAx08RyLdfegyyUg1UXZl79Ss79voablWJQWHc/pub?w=960&amp;h=720\">\n",
      "\n",
      "The key takeaway is that *changing `a` does not change `b`*, because integers are immutable."
     ]
    },
    {
     "cell_type": "markdown",
     "metadata": {},
     "source": [
      "***\n",
      "**Aside: Variable names**\n",
      "\n",
      "Many programmers will tell you that choosing descriptive variable names is near the top of the list of good programming practices to adopt. Like comments, good variable names are essential to a program's clarity, especially when programs grow large and complex. Variable naming conventions are a matter of personal preference, but you can be sure that `speed_in_meters_per_second` or `milesPerGallon` will make a better impression than `x` or `sally`.\n",
      "***"
     ]
    },
    {
     "cell_type": "markdown",
     "metadata": {},
     "source": [
      "## Containers\n",
      "\n",
      "The types that we have looked at so far have represented basic values like integers. Python has convenient, built-in advanced data types known as *containers*: lists, tuples, dictionaries, and sets."
     ]
    },
    {
     "cell_type": "markdown",
     "metadata": {},
     "source": [
      "### Lists\n",
      "\n",
      "Lists in Python contain values of other types. Lists are defined with square brackets."
     ]
    },
    {
     "cell_type": "markdown",
     "metadata": {},
     "source": [
      "**Note:** `list` is a reserved word."
     ]
    },
    {
     "cell_type": "code",
     "collapsed": false,
     "input": [
      "my_list = [1, 2, 3, 4]"
     ],
     "language": "python",
     "metadata": {},
     "outputs": [],
     "prompt_number": 75
    },
    {
     "cell_type": "markdown",
     "metadata": {},
     "source": [
      "The number of items contained within a list can be determined using the `len` operation."
     ]
    },
    {
     "cell_type": "code",
     "collapsed": false,
     "input": [
      "len(my_list)"
     ],
     "language": "python",
     "metadata": {},
     "outputs": [
      {
       "output_type": "pyout",
       "prompt_number": 76,
       "text": [
        "4"
       ]
      }
     ],
     "prompt_number": 76
    },
    {
     "cell_type": "markdown",
     "metadata": {},
     "source": [
      "Lists can contain mixed values of any type."
     ]
    },
    {
     "cell_type": "code",
     "collapsed": false,
     "input": [
      "my_list = [2, 'Apples', 3.0, 'oranges', True]"
     ],
     "language": "python",
     "metadata": {},
     "outputs": [],
     "prompt_number": 80
    },
    {
     "cell_type": "code",
     "collapsed": false,
     "input": [
      "my_list"
     ],
     "language": "python",
     "metadata": {},
     "outputs": [
      {
       "output_type": "pyout",
       "prompt_number": 104,
       "text": [
        "[2, 'Apples', 7.0, 'oranges', True]"
       ]
      }
     ],
     "prompt_number": 104
    },
    {
     "cell_type": "markdown",
     "metadata": {},
     "source": [
      "Lists are *ordered*. Each item in the list has a position or *index*, and the order of the items does not change. The index of an item in a list is an integer. The first item in the list is at index `0`, the second is at index `1`, and so on, up to the length of the list minus one. Items in the list are selected using their index enclosed within square brackets."
     ]
    },
    {
     "cell_type": "code",
     "collapsed": false,
     "input": [
      "my_list[0]"
     ],
     "language": "python",
     "metadata": {},
     "outputs": [
      {
       "output_type": "pyout",
       "prompt_number": 105,
       "text": [
        "2"
       ]
      }
     ],
     "prompt_number": 105
    },
    {
     "cell_type": "code",
     "collapsed": false,
     "input": [
      "my_list[2]"
     ],
     "language": "python",
     "metadata": {},
     "outputs": [
      {
       "output_type": "pyout",
       "prompt_number": 106,
       "text": [
        "7.0"
       ]
      }
     ],
     "prompt_number": 106
    },
    {
     "cell_type": "markdown",
     "metadata": {},
     "source": [
      "Python range-checks list indices."
     ]
    },
    {
     "cell_type": "code",
     "collapsed": false,
     "input": [
      "my_list[10]"
     ],
     "language": "python",
     "metadata": {},
     "outputs": [
      {
       "ename": "IndexError",
       "evalue": "list index out of range",
       "output_type": "pyerr",
       "traceback": [
        "\u001b[0;31m---------------------------------------------------------------------------\u001b[0m\n\u001b[0;31mIndexError\u001b[0m                                Traceback (most recent call last)",
        "\u001b[0;32m<ipython-input-107-4db984051bbf>\u001b[0m in \u001b[0;36m<module>\u001b[0;34m()\u001b[0m\n\u001b[0;32m----> 1\u001b[0;31m \u001b[0mmy_list\u001b[0m\u001b[0;34m[\u001b[0m\u001b[0;36m10\u001b[0m\u001b[0;34m]\u001b[0m\u001b[0;34m\u001b[0m\u001b[0m\n\u001b[0m",
        "\u001b[0;31mIndexError\u001b[0m: list index out of range"
       ]
      }
     ],
     "prompt_number": 107
    },
    {
     "cell_type": "markdown",
     "metadata": {},
     "source": [
      "Lists are mutable."
     ]
    },
    {
     "cell_type": "code",
     "collapsed": false,
     "input": [
      "my_list[2] = 7.0"
     ],
     "language": "python",
     "metadata": {},
     "outputs": [],
     "prompt_number": 108
    },
    {
     "cell_type": "code",
     "collapsed": false,
     "input": [
      "my_list"
     ],
     "language": "python",
     "metadata": {},
     "outputs": [
      {
       "output_type": "pyout",
       "prompt_number": 109,
       "text": [
        "[2, 'Apples', 7.0, 'oranges', True]"
       ]
      }
     ],
     "prompt_number": 109
    },
    {
     "cell_type": "markdown",
     "metadata": {},
     "source": [
      "Multiple items in a list can be selected to form a new list. This is called *slicing*."
     ]
    },
    {
     "cell_type": "code",
     "collapsed": false,
     "input": [
      "my_list"
     ],
     "language": "python",
     "metadata": {},
     "outputs": [
      {
       "output_type": "pyout",
       "prompt_number": 110,
       "text": [
        "[2, 'Apples', 7.0, 'oranges', True]"
       ]
      }
     ],
     "prompt_number": 110
    },
    {
     "cell_type": "code",
     "collapsed": false,
     "input": [
      "my_list[1:3]"
     ],
     "language": "python",
     "metadata": {},
     "outputs": [
      {
       "output_type": "pyout",
       "prompt_number": 111,
       "text": [
        "['Apples', 7.0]"
       ]
      }
     ],
     "prompt_number": 111
    },
    {
     "cell_type": "markdown",
     "metadata": {},
     "source": [
      "**Note:** Python includes the item corresponding to the start index and excludes the item corresponding the end index."
     ]
    },
    {
     "cell_type": "markdown",
     "metadata": {},
     "source": [
      "Omitting the first index implicitly starts the slice at the beginning of the list."
     ]
    },
    {
     "cell_type": "code",
     "collapsed": false,
     "input": [
      "my_list[:2]"
     ],
     "language": "python",
     "metadata": {},
     "outputs": [
      {
       "output_type": "pyout",
       "prompt_number": 112,
       "text": [
        "[2, 'Apples']"
       ]
      }
     ],
     "prompt_number": 112
    },
    {
     "cell_type": "markdown",
     "metadata": {},
     "source": [
      "Omitting the last index implicitly ends the slide at the end of the list."
     ]
    },
    {
     "cell_type": "code",
     "collapsed": false,
     "input": [
      "my_list[2:]"
     ],
     "language": "python",
     "metadata": {},
     "outputs": [
      {
       "output_type": "pyout",
       "prompt_number": 113,
       "text": [
        "[7.0, 'oranges', True]"
       ]
      }
     ],
     "prompt_number": 113
    },
    {
     "cell_type": "markdown",
     "metadata": {},
     "source": [
      "Negative indexes index from the end of the list."
     ]
    },
    {
     "cell_type": "code",
     "collapsed": false,
     "input": [
      "my_list"
     ],
     "language": "python",
     "metadata": {},
     "outputs": [
      {
       "output_type": "pyout",
       "prompt_number": 114,
       "text": [
        "[2, 'Apples', 7.0, 'oranges', True]"
       ]
      }
     ],
     "prompt_number": 114
    },
    {
     "cell_type": "code",
     "collapsed": false,
     "input": [
      "print my_list[-2]"
     ],
     "language": "python",
     "metadata": {},
     "outputs": [
      {
       "output_type": "stream",
       "stream": "stdout",
       "text": [
        "oranges\n"
       ]
      }
     ],
     "prompt_number": 115
    },
    {
     "cell_type": "code",
     "collapsed": false,
     "input": [
      "print my_list[1:-2]"
     ],
     "language": "python",
     "metadata": {},
     "outputs": [
      {
       "output_type": "stream",
       "stream": "stdout",
       "text": [
        "['Apples', 7.0]\n"
       ]
      }
     ],
     "prompt_number": 116
    },
    {
     "cell_type": "markdown",
     "metadata": {},
     "source": [
      "***\n",
      "#Exercise 2.1:\n",
      "1. Make a list containing 6 items.\n",
      "2. Print the fourth item in the list to the screen.\n",
      "3. Print a sublist containing the 3rd, 4th, and 5th items in the list.\n",
      "4. Experiment with multiplication and addition on the list. How do these operations act on lists?\n",
      "\n",
      "***"
     ]
    },
    {
     "cell_type": "markdown",
     "metadata": {},
     "source": [
      "### Tuples\n",
      "Tuples are similar to lists. They are defined with parantheses and can mix values of different types."
     ]
    },
    {
     "cell_type": "markdown",
     "metadata": {},
     "source": [
      "**Note:** `tuple` is a reserved word."
     ]
    },
    {
     "cell_type": "code",
     "collapsed": false,
     "input": [
      "my_tuple = ('apple', 2.0, 'orange', 'yellow')"
     ],
     "language": "python",
     "metadata": {},
     "outputs": [],
     "prompt_number": 92
    },
    {
     "cell_type": "code",
     "collapsed": false,
     "input": [
      "my_tuple"
     ],
     "language": "python",
     "metadata": {},
     "outputs": [
      {
       "output_type": "pyout",
       "prompt_number": 93,
       "text": [
        "('apple', 2.0, 'orange', 'yellow')"
       ]
      }
     ],
     "prompt_number": 93
    },
    {
     "cell_type": "markdown",
     "metadata": {},
     "source": [
      "Tuples are ordered, indexed, and accessed like lists."
     ]
    },
    {
     "cell_type": "code",
     "collapsed": false,
     "input": [
      "my_tuple[0]"
     ],
     "language": "python",
     "metadata": {},
     "outputs": [
      {
       "output_type": "pyout",
       "prompt_number": 94,
       "text": [
        "'apple'"
       ]
      }
     ],
     "prompt_number": 94
    },
    {
     "cell_type": "markdown",
     "metadata": {},
     "source": [
      "Unlike lists, tuples are immutable."
     ]
    },
    {
     "cell_type": "code",
     "collapsed": false,
     "input": [
      "my_tuple[0] = 'pear'"
     ],
     "language": "python",
     "metadata": {},
     "outputs": [
      {
       "ename": "TypeError",
       "evalue": "'tuple' object does not support item assignment",
       "output_type": "pyerr",
       "traceback": [
        "\u001b[0;31m---------------------------------------------------------------------------\u001b[0m\n\u001b[0;31mTypeError\u001b[0m                                 Traceback (most recent call last)",
        "\u001b[0;32m<ipython-input-95-2fa57fd01208>\u001b[0m in \u001b[0;36m<module>\u001b[0;34m()\u001b[0m\n\u001b[0;32m----> 1\u001b[0;31m \u001b[0mmy_tuple\u001b[0m\u001b[0;34m[\u001b[0m\u001b[0;36m0\u001b[0m\u001b[0;34m]\u001b[0m \u001b[0;34m=\u001b[0m \u001b[0;34m'pear'\u001b[0m\u001b[0;34m\u001b[0m\u001b[0m\n\u001b[0m",
        "\u001b[0;31mTypeError\u001b[0m: 'tuple' object does not support item assignment"
       ]
      }
     ],
     "prompt_number": 95
    },
    {
     "cell_type": "markdown",
     "metadata": {},
     "source": [
      "Tuples can be easily unpacked into individual variables."
     ]
    },
    {
     "cell_type": "code",
     "collapsed": false,
     "input": [
      "fruit_tuple = ('apple', 0.69)\n",
      "fruit, price = fruit_tuple\n",
      "print fruit\n",
      "print price"
     ],
     "language": "python",
     "metadata": {},
     "outputs": [
      {
       "output_type": "stream",
       "stream": "stdout",
       "text": [
        "apple\n",
        "0.69\n"
       ]
      }
     ],
     "prompt_number": 98
    },
    {
     "cell_type": "markdown",
     "metadata": {},
     "source": [
      "Python will check to make sure there are enough variables to hold each element in the tuple."
     ]
    },
    {
     "cell_type": "code",
     "collapsed": false,
     "input": [
      "fruit, price = my_tuple"
     ],
     "language": "python",
     "metadata": {},
     "outputs": [
      {
       "ename": "ValueError",
       "evalue": "too many values to unpack",
       "output_type": "pyerr",
       "traceback": [
        "\u001b[0;31m---------------------------------------------------------------------------\u001b[0m\n\u001b[0;31mValueError\u001b[0m                                Traceback (most recent call last)",
        "\u001b[0;32m<ipython-input-99-02ffa8c3205c>\u001b[0m in \u001b[0;36m<module>\u001b[0;34m()\u001b[0m\n\u001b[0;32m----> 1\u001b[0;31m \u001b[0mfruit\u001b[0m\u001b[0;34m,\u001b[0m \u001b[0mprice\u001b[0m \u001b[0;34m=\u001b[0m \u001b[0mmy_tuple\u001b[0m\u001b[0;34m\u001b[0m\u001b[0m\n\u001b[0m",
        "\u001b[0;31mValueError\u001b[0m: too many values to unpack"
       ]
      }
     ],
     "prompt_number": 99
    },
    {
     "cell_type": "markdown",
     "metadata": {},
     "source": [
      "***\n",
      "**Aside: Why tuples?**\n",
      "\n",
      "On the surface, tuples may seem to be largely identical to lists. While this is true, there is one real distinction and one convenient semantic distinction. Tuples are immutable, which allows the Python interpreter to perform a number of convenient internal performance optimizations and use tuples for things that lists cannot be used for, such as dictionary keys (discussed below). From a semantic standpoint, however, programmers often use lists to contain homogeneous data sets and tuples to contain heterogenous data sets. For example, I could use a tuple to represent a person's contact information - `('Steve', 'steve@example.com')` - and a list to contain a database of contacts, each represented by their own tuple.\n",
      "***"
     ]
    },
    {
     "cell_type": "markdown",
     "metadata": {},
     "source": [
      "### Dictionaries\n",
      "\n",
      "Dictionaries associate a *key* with a *value*. The key can generally be any immutable value like an integer, a floating point number, a string, or a tuple. The value can be a value of any type. The key-value pair is referred to as an *item*. Dictionaries are defined with curly brackets."
     ]
    },
    {
     "cell_type": "markdown",
     "metadata": {},
     "source": [
      "**Note:** `dict` is a reserved word."
     ]
    },
    {
     "cell_type": "code",
     "collapsed": false,
     "input": [
      "my_dict = {'stars': ['sirius', 'deneb'], 'galaxies': ['Whirlpool', 'Sombrero', 'Pinwheel']}"
     ],
     "language": "python",
     "metadata": {},
     "outputs": [],
     "prompt_number": 118
    },
    {
     "cell_type": "markdown",
     "metadata": {},
     "source": [
      "Unlike lists and tuples, dictionaries are *unordered*. When I print `my_dict`, the items are not in the same order they were in when I defined `my_dict`."
     ]
    },
    {
     "cell_type": "code",
     "collapsed": false,
     "input": [
      "my_dict"
     ],
     "language": "python",
     "metadata": {},
     "outputs": [
      {
       "output_type": "pyout",
       "prompt_number": 119,
       "text": [
        "{'galaxies': ['Whirlpool', 'Sombrero', 'Pinwheel'],\n",
        " 'stars': ['sirius', 'deneb']}"
       ]
      }
     ],
     "prompt_number": 119
    },
    {
     "cell_type": "markdown",
     "metadata": {},
     "source": [
      "A dictionary is a *hash table*. A hash table is a data structure that allows for very fast information lookup at the expense of the ability to maintain order. Because dictionaries are unordered, they cannot be indexed by position like lists. Dictionaries are indexed by the keys instead."
     ]
    },
    {
     "cell_type": "code",
     "collapsed": false,
     "input": [
      "my_dict['stars']"
     ],
     "language": "python",
     "metadata": {},
     "outputs": [
      {
       "output_type": "pyout",
       "prompt_number": 120,
       "text": [
        "['sirius', 'deneb']"
       ]
      }
     ],
     "prompt_number": 120
    },
    {
     "cell_type": "markdown",
     "metadata": {},
     "source": [
      "You can insert items into a dictionary at any time."
     ]
    },
    {
     "cell_type": "code",
     "collapsed": false,
     "input": [
      "my_dict['nebula'] ='crab'"
     ],
     "language": "python",
     "metadata": {},
     "outputs": [],
     "prompt_number": 121
    },
    {
     "cell_type": "code",
     "collapsed": false,
     "input": [
      "print my_dict"
     ],
     "language": "python",
     "metadata": {},
     "outputs": [
      {
       "output_type": "stream",
       "stream": "stdout",
       "text": [
        "{'nebula': 'crab', 'galaxies': ['Whirlpool', 'Sombrero', 'Pinwheel'], 'stars': ['sirius', 'deneb']}\n"
       ]
      }
     ],
     "prompt_number": 122
    },
    {
     "cell_type": "markdown",
     "metadata": {},
     "source": [
      "Key values can be mixed types."
     ]
    },
    {
     "cell_type": "code",
     "collapsed": false,
     "input": [
      "my_dict[45] = 'forty-five'"
     ],
     "language": "python",
     "metadata": {},
     "outputs": [],
     "prompt_number": 123
    },
    {
     "cell_type": "markdown",
     "metadata": {},
     "source": [
      "A dictionary's keys, values, and items can be accessed individually."
     ]
    },
    {
     "cell_type": "code",
     "collapsed": false,
     "input": [
      "print my_dict.keys()"
     ],
     "language": "python",
     "metadata": {},
     "outputs": [
      {
       "output_type": "stream",
       "stream": "stdout",
       "text": [
        "['nebula', 'galaxies', 45, 'stars']\n"
       ]
      }
     ],
     "prompt_number": 124
    },
    {
     "cell_type": "code",
     "collapsed": false,
     "input": [
      "print my_dict.values()"
     ],
     "language": "python",
     "metadata": {},
     "outputs": [
      {
       "output_type": "stream",
       "stream": "stdout",
       "text": [
        "['crab', ['Whirlpool', 'Sombrero', 'Pinwheel'], 'forty-five', ['sirius', 'deneb']]\n"
       ]
      }
     ],
     "prompt_number": 125
    },
    {
     "cell_type": "code",
     "collapsed": false,
     "input": [
      "print my_dict.items()"
     ],
     "language": "python",
     "metadata": {},
     "outputs": [
      {
       "output_type": "stream",
       "stream": "stdout",
       "text": [
        "[('nebula', 'crab'), ('galaxies', ['Whirlpool', 'Sombrero', 'Pinwheel']), (45, 'forty-five'), ('stars', ['sirius', 'deneb'])]\n"
       ]
      }
     ],
     "prompt_number": 126
    },
    {
     "cell_type": "markdown",
     "metadata": {},
     "source": [
      "Note that each item is represented as a tuple containing the key and value pair."
     ]
    },
    {
     "cell_type": "markdown",
     "metadata": {},
     "source": [
      "***\n",
      "# Exercise 2.2:\n",
      "1. Make a dictionary and experiment with using different types as keys.\n",
      "    * Which containers, if any, can be keys?\n",
      "    * Why?\n",
      "\n",
      "***"
     ]
    },
    {
     "cell_type": "markdown",
     "metadata": {},
     "source": [
      "### Sets\n",
      "\n",
      "Sets contain at most one unique copy of any given value. They are defined using the keyword `set` with a list and can mix values of different types."
     ]
    },
    {
     "cell_type": "markdown",
     "metadata": {},
     "source": [
      "**Note:** `set` is a reserved word."
     ]
    },
    {
     "cell_type": "code",
     "collapsed": false,
     "input": [
      "my_set = set([1, 'orange', 3, 3, True])"
     ],
     "language": "python",
     "metadata": {},
     "outputs": [],
     "prompt_number": 138
    },
    {
     "cell_type": "markdown",
     "metadata": {},
     "source": [
      "Sets are unordered."
     ]
    },
    {
     "cell_type": "code",
     "collapsed": false,
     "input": [
      "my_set"
     ],
     "language": "python",
     "metadata": {},
     "outputs": [
      {
       "output_type": "pyout",
       "prompt_number": 139,
       "text": [
        "set(['orange', 1, 3])"
       ]
      }
     ],
     "prompt_number": 139
    },
    {
     "cell_type": "markdown",
     "metadata": {},
     "source": [
      "Because sets are unordered, they cannot be indexed by position like lists. Sets support set operations instead."
     ]
    },
    {
     "cell_type": "code",
     "collapsed": false,
     "input": [
      "# Membership\n",
      "'orange' in my_set"
     ],
     "language": "python",
     "metadata": {},
     "outputs": [
      {
       "output_type": "pyout",
       "prompt_number": 140,
       "text": [
        "True"
       ]
      }
     ],
     "prompt_number": 140
    },
    {
     "cell_type": "code",
     "collapsed": false,
     "input": [
      "# Union\n",
      "a = set([1, 2])\n",
      "b = set([2, 3])\n",
      "a | b"
     ],
     "language": "python",
     "metadata": {},
     "outputs": [
      {
       "output_type": "pyout",
       "prompt_number": 142,
       "text": [
        "set([1, 2, 3])"
       ]
      }
     ],
     "prompt_number": 142
    },
    {
     "cell_type": "code",
     "collapsed": false,
     "input": [
      "# Intersection\n",
      "a & b"
     ],
     "language": "python",
     "metadata": {},
     "outputs": [
      {
       "output_type": "pyout",
       "prompt_number": 143,
       "text": [
        "set([2])"
       ]
      }
     ],
     "prompt_number": 143
    },
    {
     "cell_type": "code",
     "collapsed": false,
     "input": [
      "# Difference\n",
      "a - b"
     ],
     "language": "python",
     "metadata": {},
     "outputs": [
      {
       "output_type": "pyout",
       "prompt_number": 144,
       "text": [
        "set([1])"
       ]
      }
     ],
     "prompt_number": 144
    },
    {
     "cell_type": "code",
     "collapsed": false,
     "input": [
      "# Subset\n",
      "a = [1, 2]\n",
      "b = [1, 2, 3, 4]\n",
      "a <= b"
     ],
     "language": "python",
     "metadata": {},
     "outputs": [
      {
       "output_type": "pyout",
       "prompt_number": 145,
       "text": [
        "True"
       ]
      }
     ],
     "prompt_number": 145
    },
    {
     "cell_type": "code",
     "collapsed": false,
     "input": [
      "# Superset\n",
      "b >= a"
     ],
     "language": "python",
     "metadata": {},
     "outputs": [
      {
       "output_type": "pyout",
       "prompt_number": 146,
       "text": [
        "True"
       ]
      }
     ],
     "prompt_number": 146
    },
    {
     "cell_type": "markdown",
     "metadata": {},
     "source": [
      "### Mutable objects\n",
      "Lists, dictionaries, and sets are *mutable*, meaning that they can be changed. Below is how variable assignment works for mutable types like lists.\n",
      "\n",
      "<img width = 500 src=\"https://docs.google.com/drawings/d/1cx-9q3_GSt51LYFp90lyXHl2ec2eFhdDHbnbJovJBAM/pub?w=960&amp;h=720\">\n",
      "\n",
      "The key takeaway is that *changing `a` changes `b`*, because lists are mutable.\n",
      "\n",
      "***\n",
      "# Exercise 2.3:\n",
      "1. Does this apply to tuples? \n",
      "    * Why or why not?\n",
      "2. For each example given below, would it be better to use a dictionary, a tuple, or a list? Why?\n",
      "    * Lottery numbers\n",
      "    * Student's grades\n",
      "\n",
      "***"
     ]
    },
    {
     "cell_type": "markdown",
     "metadata": {},
     "source": [
      "***\n",
      "# Logic and program flow\n",
      "***\n",
      "## Control statements\n",
      "### Conditionals\n",
      "Python allows programmers to write code that will execute only if some *condition* holds true. A condition is generally any statement that can be evaluated to one of the Boolean values `True` or `False`."
     ]
    },
    {
     "cell_type": "code",
     "collapsed": false,
     "input": [
      "x = -5\n",
      "if x < 0:\n",
      "    print \"x is negative\""
     ],
     "language": "python",
     "metadata": {},
     "outputs": [
      {
       "output_type": "stream",
       "stream": "stdout",
       "text": [
        "x is negative\n"
       ]
      }
     ],
     "prompt_number": 147
    },
    {
     "cell_type": "markdown",
     "metadata": {},
     "source": [
      "***\n",
      "**Aside: Indentation**\n",
      "\n",
      "Python is somewhat unique in that program structure is indicated using indentation. Where other languages like C or Java use curly brackets to denote code blocks, Python relies on consistent and uniform indentation, often called *whitespace*. Some programmers find this to be elegant and some find it to be arcane (Fortran has some weird column restrictions too). If your indents aren't consistent - for example, if one statement in a block is indented by three spaces and one is indented by four - Python may complain or your program may have subtle bugs."
     ]
    },
    {
     "cell_type": "code",
     "collapsed": false,
     "input": [
      "if x < 0:\n",
      "    print \"x is negative\"\n",
      "   print \"so is this error message\""
     ],
     "language": "python",
     "metadata": {},
     "outputs": [
      {
       "ename": "IndentationError",
       "evalue": "unindent does not match any outer indentation level (<ipython-input-148-1c0d2413e3e4>, line 3)",
       "output_type": "pyerr",
       "traceback": [
        "\u001b[0;36m  File \u001b[0;32m\"<ipython-input-148-1c0d2413e3e4>\"\u001b[0;36m, line \u001b[0;32m3\u001b[0m\n\u001b[0;31m    print \"so is this error message\"\u001b[0m\n\u001b[0m                                    ^\u001b[0m\n\u001b[0;31mIndentationError\u001b[0m\u001b[0;31m:\u001b[0m unindent does not match any outer indentation level\n"
       ]
      }
     ],
     "prompt_number": 148
    },
    {
     "cell_type": "markdown",
     "metadata": {},
     "source": [
      "IPython and many editors that programmers typically use will handle indentation for you.\n",
      "***"
     ]
    },
    {
     "cell_type": "markdown",
     "metadata": {},
     "source": [
      "To write something outside of an `if` statement, it must be un-indented. This will cause the code to execute always; *unconditionally*, in other words."
     ]
    },
    {
     "cell_type": "code",
     "collapsed": false,
     "input": [
      "x = -5\n",
      "if x < 0:\n",
      "    print \"x is negative\"\n",
      "print \"x =\", x"
     ],
     "language": "python",
     "metadata": {},
     "outputs": [
      {
       "output_type": "stream",
       "stream": "stdout",
       "text": [
        "x is negative\n",
        "x = -5\n"
       ]
      }
     ],
     "prompt_number": 152
    },
    {
     "cell_type": "markdown",
     "metadata": {},
     "source": [
      "`if` statements can have an alternative branch that executes if the conditional is not `True`. This is specified with the `else` keyword."
     ]
    },
    {
     "cell_type": "code",
     "collapsed": false,
     "input": [
      "x = 5 \n",
      "if x < 0:\n",
      "    print \"x is negative\"\n",
      "else:\n",
      "    print \"x is non-negative\"\n",
      "print \"x =\", x"
     ],
     "language": "python",
     "metadata": {},
     "outputs": [
      {
       "output_type": "stream",
       "stream": "stdout",
       "text": [
        "x is non-negative\n",
        "x = 5\n"
       ]
      }
     ],
     "prompt_number": 153
    },
    {
     "cell_type": "markdown",
     "metadata": {},
     "source": [
      "`if` statements can, in fact, have any number of conditional clauses. Clauses with specific conditions that must be met are specified with the `elif` (think *else if*) keyword. The `else` clause will execute only if no previous conditional is `True`, and must appear last in the list of clauses."
     ]
    },
    {
     "cell_type": "code",
     "collapsed": false,
     "input": [
      "x = 0\n",
      "if x < 0:\n",
      "    print \"x is negative\"\n",
      "elif x == 0:\n",
      "    print \"x is zero\"\n",
      "else:\n",
      "    print \"x is positive\"\n",
      "print \"x =\", x"
     ],
     "language": "python",
     "metadata": {},
     "outputs": [
      {
       "output_type": "stream",
       "stream": "stdout",
       "text": [
        "x is zero\n",
        "x = 0\n"
       ]
      }
     ],
     "prompt_number": 154
    },
    {
     "cell_type": "markdown",
     "metadata": {},
     "source": [
      "***\n",
      "#Exercise 3:\n",
      "1. Write an if statement that prints whether x is even or odd.\n",
      "    * *Hint:* remember the modulus operator.\n",
      "\n",
      "***"
     ]
    },
    {
     "cell_type": "markdown",
     "metadata": {},
     "source": [
      "### Loops\n",
      "\n",
      "Python allows programmers to write code that will execute repeatedly until a certain condition is met. This is a particularly powerful construct, especially when dealing with data sets or lists."
     ]
    },
    {
     "cell_type": "code",
     "collapsed": false,
     "input": [
      "fruit_list = ['apples', 'oranges', 'pears']\n",
      "for fruit in fruit_list:\n",
      "    print fruit"
     ],
     "language": "python",
     "metadata": {},
     "outputs": [
      {
       "output_type": "stream",
       "stream": "stdout",
       "text": [
        "apples\n",
        "oranges\n",
        "pears\n"
       ]
      }
     ],
     "prompt_number": 156
    },
    {
     "cell_type": "markdown",
     "metadata": {},
     "source": [
      "***\n",
      "**Aside: Indexes vs. iterators**\n",
      "\n",
      "In many languages, looping through items in a list involves creating an integer counting variable, incrementing it sequentially, and using each sequential value as an index into the list to retrieve the element. Python supports the *iterator* concept; it is possible to write a loop that *iterates* over the items in a list without using a numeric index. The iterator variable receives the value of each item in the list in turn.\n",
      "***"
     ]
    },
    {
     "cell_type": "markdown",
     "metadata": {},
     "source": [
      "If an index is for some reason required, you must create a sequential list of integers and iterate through it, using each one to index the target list. The `range` keyword may be used for this purpose."
     ]
    },
    {
     "cell_type": "code",
     "collapsed": false,
     "input": [
      "for i in range(len(fruit_list)):\n",
      "    print fruit_list[i]"
     ],
     "language": "python",
     "metadata": {},
     "outputs": [
      {
       "output_type": "stream",
       "stream": "stdout",
       "text": [
        "apples\n",
        "oranges\n",
        "pears\n"
       ]
      }
     ],
     "prompt_number": 157
    },
    {
     "cell_type": "markdown",
     "metadata": {},
     "source": [
      "It is often necessary to loop through two lists at the same time. Indexes can be used for this purpose."
     ]
    },
    {
     "cell_type": "code",
     "collapsed": false,
     "input": [
      "price_list = [0.49, 0.99, 1.49]\n",
      "for i in range(len(fruit_list)):\n",
      "    print fruit_list[i], price_list[i]"
     ],
     "language": "python",
     "metadata": {},
     "outputs": [
      {
       "output_type": "stream",
       "stream": "stdout",
       "text": [
        "apples 0.49\n",
        "oranges 0.99\n",
        "pears 1.49\n"
       ]
      }
     ],
     "prompt_number": 158
    },
    {
     "cell_type": "markdown",
     "metadata": {},
     "source": [
      "The `zip` keyword will combine two lists into a single list to iterate through. Each item in the list will be a tuple composed of the items in the corresponding positions from each specified list."
     ]
    },
    {
     "cell_type": "code",
     "collapsed": false,
     "input": [
      "for fruit, price in zip(fruit_list, price_list):\n",
      "    print fruit, price"
     ],
     "language": "python",
     "metadata": {},
     "outputs": [
      {
       "output_type": "stream",
       "stream": "stdout",
       "text": [
        "apples 0.49\n",
        "oranges 0.99\n",
        "pears 1.49\n"
       ]
      }
     ],
     "prompt_number": 70
    },
    {
     "cell_type": "markdown",
     "metadata": {},
     "source": [
      "***\n",
      "**Aside: The Pythonic Way**\n",
      "\n",
      "Some programmers ascribe a [Zen-like](http://www.python.org/dev/peps/pep-0020) set of guiding principles to programming Python. It is not uncommon to see programming patterns adhering to these principles referred to as *Pythonic*. This can come in handy when searching the Internet for quality code snippets. In the example above, the zip iterator is arguably more readable and carries less cognitive load than the example with the index, but the indexed example might be a more obvious approach for a programmer with experience in other, index-based languages. Searching for \"Pythonic multiple list iteration\" in this case could help the learning curve.\n",
      "***"
     ]
    },
    {
     "cell_type": "markdown",
     "metadata": {},
     "source": [
      "Dictionaries may be iterated over by using the `.items()` keyword described above. Iterating over a dictionary in this fashion produces one tuple per key-value pair contained within the dictionary, which may be unpacked into discrete variables for convenience. Remember that dictionaries are unordered."
     ]
    },
    {
     "cell_type": "code",
     "collapsed": false,
     "input": [
      "fruit_prices = {'apple': 0.49, 'orange': 0.99, 'pear': 1.49}\n",
      "for fruit, price in fruit_prices.items():\n",
      "    print fruit, \"costs\", price"
     ],
     "language": "python",
     "metadata": {},
     "outputs": [
      {
       "output_type": "stream",
       "stream": "stdout",
       "text": [
        "orange costs 0.99\n",
        "pear costs 1.49\n",
        "apple costs 0.49\n"
       ]
      }
     ],
     "prompt_number": 159
    },
    {
     "cell_type": "markdown",
     "metadata": {},
     "source": [
      "***\n",
      "#Exercise 4:\n",
      "1. Using a loop, find the arithmetic mean of the values in the list `[3.0, 4.0, 5.0, 2.0, 8.0, 10.0, 14.0, 16.0, 29.0]`.\n",
      "\n",
      "***"
     ]
    },
    {
     "cell_type": "markdown",
     "metadata": {},
     "source": [
      "### Functions\n",
      "\n",
      "A function is a named piece of code that does something. You can think of functions as the \"verbs\" of programming. Although we haven't explicitly called them functions, you have already seen them. `len()` and `range()` are both functions. Remember the `len` function."
     ]
    },
    {
     "cell_type": "code",
     "collapsed": false,
     "input": [
      "len(my_list)"
     ],
     "language": "python",
     "metadata": {},
     "outputs": [
      {
       "output_type": "pyout",
       "prompt_number": 160,
       "text": [
        "5"
       ]
      }
     ],
     "prompt_number": 160
    },
    {
     "cell_type": "markdown",
     "metadata": {},
     "source": [
      "The function `len` takes a list as an input and outputs (or *returns*) the number of elements contained within that list. In this case, we use `my_list` as the input to `len`, and `len` gives us an output (or *return value*) of 5. We could just as easily provide (or *pass*) another list to `len` as an input (or *argument*), and this is where the power of functions should become evident: they allow us to define generic operations to be performed on well-defined but arbitrary input data."
     ]
    },
    {
     "cell_type": "markdown",
     "metadata": {},
     "source": [
      "Some of the functions that you've already seen include:\n",
      "\n",
      "* `len(`*list*`)`\n",
      "* `range(`*number*`)`\n",
      "* `type(`*value*`)`\n",
      "\n",
      "Some other useful functions are:\n",
      "\n",
      "* `int(`*value*`)`\n",
      "* `float(`*value*`)`\n",
      "* `str(`*value*`)`\n",
      "\n",
      "Let's try them by *calling* a few functions with a few different *parameters*."
     ]
    },
    {
     "cell_type": "code",
     "collapsed": false,
     "input": [
      "a = '8'\n",
      "print type(a), a"
     ],
     "language": "python",
     "metadata": {},
     "outputs": [
      {
       "output_type": "stream",
       "stream": "stdout",
       "text": [
        "<type 'str'> 8\n"
       ]
      }
     ],
     "prompt_number": 161
    },
    {
     "cell_type": "code",
     "collapsed": false,
     "input": [
      "b = int(a)\n",
      "print type(b), b"
     ],
     "language": "python",
     "metadata": {},
     "outputs": [
      {
       "output_type": "stream",
       "stream": "stdout",
       "text": [
        "<type 'int'> 8\n"
       ]
      }
     ],
     "prompt_number": 162
    },
    {
     "cell_type": "code",
     "collapsed": false,
     "input": [
      "c = float(b)\n",
      "print type(c), c"
     ],
     "language": "python",
     "metadata": {},
     "outputs": [
      {
       "output_type": "stream",
       "stream": "stdout",
       "text": [
        "<type 'float'> 8.0\n"
       ]
      }
     ],
     "prompt_number": 163
    },
    {
     "cell_type": "code",
     "collapsed": false,
     "input": [
      "d = str(c)\n",
      "print type(d), d"
     ],
     "language": "python",
     "metadata": {},
     "outputs": [
      {
       "output_type": "stream",
       "stream": "stdout",
       "text": [
        "<type 'str'> 8.0\n"
       ]
      }
     ],
     "prompt_number": 164
    },
    {
     "cell_type": "markdown",
     "metadata": {},
     "source": [
      "Functions are defined using the `def` keyword, followed by the name of the function and a list of the inputs that the function expects. The function's output is indicated by the `return` keyword."
     ]
    },
    {
     "cell_type": "code",
     "collapsed": false,
     "input": [
      "# A function which returns the square of an input number\n",
      "def square(number):\n",
      "    result = number * number\n",
      "    return result"
     ],
     "language": "python",
     "metadata": {},
     "outputs": [],
     "prompt_number": 166
    },
    {
     "cell_type": "markdown",
     "metadata": {},
     "source": [
      "***\n",
      "**Aside: Function names**\n",
      "\n",
      "If variable names are critical to a program's readability, function names are critical to a program's usability. When you name functions you are describing what chunks of code in your program do. If your names are ambiguous or not descriptive enough, you or another programmer using your code (including future you) could mistakenly call the wrong function.\n",
      "***"
     ]
    },
    {
     "cell_type": "markdown",
     "metadata": {},
     "source": [
      "We can call our function with any arbitrary input, including values, variables, and even complex expressions."
     ]
    },
    {
     "cell_type": "code",
     "collapsed": false,
     "input": [
      "print square(2)"
     ],
     "language": "python",
     "metadata": {},
     "outputs": [
      {
       "output_type": "stream",
       "stream": "stdout",
       "text": [
        "4\n"
       ]
      }
     ],
     "prompt_number": 167
    },
    {
     "cell_type": "code",
     "collapsed": false,
     "input": [
      "a = 4\n",
      "print square(a)"
     ],
     "language": "python",
     "metadata": {},
     "outputs": [
      {
       "output_type": "stream",
       "stream": "stdout",
       "text": [
        "16\n"
       ]
      }
     ],
     "prompt_number": 168
    },
    {
     "cell_type": "code",
     "collapsed": false,
     "input": [
      "print square(a + 2)"
     ],
     "language": "python",
     "metadata": {},
     "outputs": [
      {
       "output_type": "stream",
       "stream": "stdout",
       "text": [
        "36\n"
       ]
      }
     ],
     "prompt_number": 169
    },
    {
     "cell_type": "markdown",
     "metadata": {},
     "source": [
      "Function calls may be nested in Python. Python must evaluate nested functions from the inside-out. In this example, the output of `square(4)` is used as the input to the `square` function surrounding it."
     ]
    },
    {
     "cell_type": "code",
     "collapsed": false,
     "input": [
      "print square(square(4))"
     ],
     "language": "python",
     "metadata": {},
     "outputs": [
      {
       "output_type": "stream",
       "stream": "stdout",
       "text": [
        "256\n"
       ]
      }
     ],
     "prompt_number": 170
    },
    {
     "cell_type": "markdown",
     "metadata": {},
     "source": [
      "Although we do not specify the type of a function's inputs, the operations performed on inputs by a function will determine the output."
     ]
    },
    {
     "cell_type": "code",
     "collapsed": false,
     "input": [
      "square(2.0)"
     ],
     "language": "python",
     "metadata": {},
     "outputs": [
      {
       "output_type": "pyout",
       "prompt_number": 173,
       "text": [
        "4.0"
       ]
      }
     ],
     "prompt_number": 173
    },
    {
     "cell_type": "code",
     "collapsed": false,
     "input": [
      "square(False)"
     ],
     "language": "python",
     "metadata": {},
     "outputs": [
      {
       "output_type": "pyout",
       "prompt_number": 174,
       "text": [
        "0"
       ]
      }
     ],
     "prompt_number": 174
    },
    {
     "cell_type": "code",
     "collapsed": false,
     "input": [
      "square('abc')"
     ],
     "language": "python",
     "metadata": {},
     "outputs": [
      {
       "ename": "TypeError",
       "evalue": "can't multiply sequence by non-int of type 'str'",
       "output_type": "pyerr",
       "traceback": [
        "\u001b[0;31m---------------------------------------------------------------------------\u001b[0m\n\u001b[0;31mTypeError\u001b[0m                                 Traceback (most recent call last)",
        "\u001b[0;32m<ipython-input-175-5f52b231b3c1>\u001b[0m in \u001b[0;36m<module>\u001b[0;34m()\u001b[0m\n\u001b[0;32m----> 1\u001b[0;31m \u001b[0msquare\u001b[0m\u001b[0;34m(\u001b[0m\u001b[0;34m'abc'\u001b[0m\u001b[0;34m)\u001b[0m\u001b[0;34m\u001b[0m\u001b[0m\n\u001b[0m",
        "\u001b[0;32m<ipython-input-166-c2d0bb592710>\u001b[0m in \u001b[0;36msquare\u001b[0;34m(number)\u001b[0m\n\u001b[1;32m      1\u001b[0m \u001b[0;31m# A function which returns the square of an input number\u001b[0m\u001b[0;34m\u001b[0m\u001b[0;34m\u001b[0m\u001b[0m\n\u001b[1;32m      2\u001b[0m \u001b[0;32mdef\u001b[0m \u001b[0msquare\u001b[0m\u001b[0;34m(\u001b[0m\u001b[0mnumber\u001b[0m\u001b[0;34m)\u001b[0m\u001b[0;34m:\u001b[0m\u001b[0;34m\u001b[0m\u001b[0m\n\u001b[0;32m----> 3\u001b[0;31m     \u001b[0mresult\u001b[0m \u001b[0;34m=\u001b[0m \u001b[0mnumber\u001b[0m \u001b[0;34m*\u001b[0m \u001b[0mnumber\u001b[0m\u001b[0;34m\u001b[0m\u001b[0m\n\u001b[0m\u001b[1;32m      4\u001b[0m     \u001b[0;32mreturn\u001b[0m \u001b[0mresult\u001b[0m\u001b[0;34m\u001b[0m\u001b[0m\n",
        "\u001b[0;31mTypeError\u001b[0m: can't multiply sequence by non-int of type 'str'"
       ]
      }
     ],
     "prompt_number": 175
    },
    {
     "cell_type": "markdown",
     "metadata": {},
     "source": [
      "***\n",
      "**Aside: What makes a good function?**\n",
      "\n",
      "* Each function should perform one cohesive task.\n",
      "* If you find yourself typing the same code over and over, you might ask yourself: \n",
      "    * Should this be in a loop?\n",
      "    * Can I write a function?\n",
      "* Minor differences in repetitive code can often translate into a function parameter.\n",
      "* Proper use of a well-defined function should give the following advantages to your code:\n",
      "    * If you make a mistake, or change your mind about how something should be done, you only have to change it in one place.\n",
      "    * If something breaks, it breaks in a small area of code. This make finding and fixing bugs much easier.\n",
      "    * It will be much easier to reuse part of your code if it is broken into discrete units of functionality.\n",
      "    * Decomposing a program into small functions should make it much easier for someone (including future you) to read and understand your program.\n",
      "* The best programmer is a lazy programmer, and the best function is one you don't have to write.\n",
      "    * If you are doing something common to your field, an Internet search may reveal an existing solution to the problem.\n",
      "    * Example: [Finding the maximum odd integer in a list](http://stackoverflow.com/questions/9185443/in-python-whats-the-method-for-returning-only-the-max-odd-integer-in-a-list/9185613#9185613)\n",
      "    \n",
      "\n",
      "***"
     ]
    },
    {
     "cell_type": "markdown",
     "metadata": {},
     "source": [
      "### Docstrings\n",
      "\n",
      "In addition to commenting your code, it's a good habit to begin every function with a description of the function enclosed in triple quotes. Python calls this construct a *docstring*. The language provides this feature to promote clarity, readability, and usability. Python also provides another useful function called `help`. When a function provides a docstring, Python will print it if you call `help` with the target function's name as an input. This can save you the hassle of scouring through a large source code base to find function documentation."
     ]
    },
    {
     "cell_type": "code",
     "collapsed": false,
     "input": [
      "help(len)"
     ],
     "language": "python",
     "metadata": {},
     "outputs": [
      {
       "output_type": "stream",
       "stream": "stdout",
       "text": [
        "Help on built-in function len in module __builtin__:\n",
        "\n",
        "len(...)\n",
        "    len(object) -> integer\n",
        "    \n",
        "    Return the number of items of a sequence or mapping.\n",
        "\n"
       ]
      }
     ],
     "prompt_number": 176
    },
    {
     "cell_type": "markdown",
     "metadata": {},
     "source": [
      "Let's add a docstring to our `square` function."
     ]
    },
    {
     "cell_type": "code",
     "collapsed": false,
     "input": [
      "def square(number):\n",
      "    '''This function takes a single number as an input and outputs the square of that number.'''\n",
      "    result = number * number\n",
      "    return result"
     ],
     "language": "python",
     "metadata": {},
     "outputs": [],
     "prompt_number": 177
    },
    {
     "cell_type": "markdown",
     "metadata": {},
     "source": [
      "And let's try it out."
     ]
    },
    {
     "cell_type": "code",
     "collapsed": false,
     "input": [
      "help(square)"
     ],
     "language": "python",
     "metadata": {},
     "outputs": [
      {
       "output_type": "stream",
       "stream": "stdout",
       "text": [
        "Help on function square in module __main__:\n",
        "\n",
        "square(number)\n",
        "    This function takes a single number as an input and outputs the square of that number.\n",
        "\n"
       ]
      }
     ],
     "prompt_number": 178
    },
    {
     "cell_type": "markdown",
     "metadata": {},
     "source": [
      "***\n",
      "**Aside: Why use docstrings?**\n",
      "\n",
      "* It's common courtesy for other programmers who may read or use your code (including future you).\n",
      "* You may find that you understand your own code better after you take the time to write documentation for it.\n",
      "    * You may also find a bug or a logic error in the process.\n",
      "* It may save you time the next time you want to use that function.\n",
      "\n",
      "***"
     ]
    },
    {
     "cell_type": "markdown",
     "metadata": {},
     "source": [
      "***\n",
      "#Exercise 5:\n",
      "1. Using your last exercise, create a function which calculates the mean of an input list of numbers.\n",
      "\n",
      "***"
     ]
    },
    {
     "cell_type": "markdown",
     "metadata": {},
     "source": [
      "***\n",
      "#Input and output\n",
      "***\n",
      "## Reading text files\n",
      "Python contains a relatively complete set of file manipulation routines. Reading from files is often important for programs that process data, particularly when the data set is large enough or changes frequently such that it cannot be embedded within the Python code itself.\n",
      "\n",
      "Text files are very common. While they are not always the most efficient way of storing large data sets, they are relatively easy to process with Python. First, let's use the shell commands built in to IPython to examine the contents of a small text file."
     ]
    },
    {
     "cell_type": "code",
     "collapsed": false,
     "input": [
      "cat animals.txt"
     ],
     "language": "python",
     "metadata": {},
     "outputs": [
      {
       "output_type": "stream",
       "stream": "stdout",
       "text": [
        "2011-04-22 21:06 Grizzly 36\r\n",
        "2011-04-23 14:12 Elk 25\r\n",
        "2011-04-23 10:24 Elk 26\r\n",
        "2011-04-23 20:08 Wolverine 31\r\n",
        "2011-04-23 18:46 Muskox 20\r\n"
       ]
      }
     ],
     "prompt_number": 51
    },
    {
     "cell_type": "markdown",
     "metadata": {},
     "source": [
      "The first step in reading data from a text file is to *open* the file using the `open` function. The `open` function returns a value that we must store in a variable to manipulate the file later on. There are several different *modes* that we can use when opening a file. Here the `open` function accepts the string `'r'` as an argument, telling it to open the file in *read-only* mode."
     ]
    },
    {
     "cell_type": "markdown",
     "metadata": {},
     "source": [
      "**Note:** `file` is a reserved word."
     ]
    },
    {
     "cell_type": "code",
     "collapsed": false,
     "input": [
      "animal_file = open('animals.txt', 'r')"
     ],
     "language": "python",
     "metadata": {},
     "outputs": [],
     "prompt_number": 9
    },
    {
     "cell_type": "markdown",
     "metadata": {},
     "source": [
      "Next, we read the entire contents of the file into a variable in our program using the `readlines` function."
     ]
    },
    {
     "cell_type": "code",
     "collapsed": false,
     "input": [
      "lines = animal_file.readlines()\n",
      "lines"
     ],
     "language": "python",
     "metadata": {},
     "outputs": [
      {
       "output_type": "pyout",
       "prompt_number": 10,
       "text": [
        "['2011-04-22 21:06 Grizzly 36\\n',\n",
        " '2011-04-23 14:12 Elk 25\\n',\n",
        " '2011-04-23 10:24 Elk 26\\n',\n",
        " '2011-04-23 20:08 Wolverine 31\\n',\n",
        " '2011-04-23 18:46 Muskox 20\\n']"
       ]
      }
     ],
     "prompt_number": 10
    },
    {
     "cell_type": "markdown",
     "metadata": {},
     "source": [
      "**Note:** The `readlines` function is different from other functions that we've seen in that it operates on the `animal_file` variable using the `.` operator. The function doesn't take any input, and is said to *act* on the open file referred to by the `animal_file` variable."
     ]
    },
    {
     "cell_type": "markdown",
     "metadata": {},
     "source": [
      "***\n",
      "**Aside: What is \\n?**\n",
      "\n",
      "`\\n` represents a *newline character*. Python displays this character when it prints strings to indicate that the string ends with a special character that indicates the end of a line in a file.\n",
      "***"
     ]
    },
    {
     "cell_type": "markdown",
     "metadata": {},
     "source": [
      "After the data contained within a file has been read into your program, it is good practice to close the file. The data will remain in the variable that it was read into."
     ]
    },
    {
     "cell_type": "code",
     "collapsed": false,
     "input": [
      "animal_file.close()"
     ],
     "language": "python",
     "metadata": {},
     "outputs": [],
     "prompt_number": 11
    },
    {
     "cell_type": "markdown",
     "metadata": {},
     "source": [
      "The `readlines` function returns a list of strings, where each string contains a single line of the file, in order."
     ]
    },
    {
     "cell_type": "code",
     "collapsed": false,
     "input": [
      "lines[0]"
     ],
     "language": "python",
     "metadata": {},
     "outputs": [
      {
       "output_type": "pyout",
       "prompt_number": 12,
       "text": [
        "'2011-04-22 21:06 Grizzly 36\\n'"
       ]
      }
     ],
     "prompt_number": 12
    },
    {
     "cell_type": "code",
     "collapsed": false,
     "input": [
      "print lines[1]"
     ],
     "language": "python",
     "metadata": {},
     "outputs": [
      {
       "output_type": "stream",
       "stream": "stdout",
       "text": [
        "2011-04-23 14:12 Elk 25\n",
        "\n"
       ]
      }
     ],
     "prompt_number": 13
    },
    {
     "cell_type": "code",
     "collapsed": false,
     "input": [
      "print len(lines)"
     ],
     "language": "python",
     "metadata": {},
     "outputs": [
      {
       "output_type": "stream",
       "stream": "stdout",
       "text": [
        "5\n"
       ]
      }
     ],
     "prompt_number": 14
    },
    {
     "cell_type": "markdown",
     "metadata": {},
     "source": [
      "## Processing strings\n",
      "We have the data from our file, but the string-per-line format is not particularly useful. Imagine that we want to perform calculations or analysis of the data using mathematical routines. Recall that numbers stored within strings don't really behave as numbers. It would be useful if we could convert the strings from our file into discrete, usable elements."
     ]
    },
    {
     "cell_type": "markdown",
     "metadata": {},
     "source": [
      "Notice that the elements contained within each line string are separated by spaces. Let's break them up using the `split` function, which acts on strings to produce a list containing each \"word\" in the string."
     ]
    },
    {
     "cell_type": "code",
     "collapsed": false,
     "input": [
      "for line in lines:\n",
      "    print line.split()"
     ],
     "language": "python",
     "metadata": {},
     "outputs": [
      {
       "output_type": "stream",
       "stream": "stdout",
       "text": [
        "['2011-04-22', '21:06', 'Grizzly', '36']\n",
        "['2011-04-23', '14:12', 'Elk', '25']\n",
        "['2011-04-23', '10:24', 'Elk', '26']\n",
        "['2011-04-23', '20:08', 'Wolverine', '31']\n",
        "['2011-04-23', '18:46', 'Muskox', '20']\n"
       ]
      }
     ],
     "prompt_number": 15
    },
    {
     "cell_type": "markdown",
     "metadata": {},
     "source": [
      "**Note:** By default, `split` splits strings on blank space. If necessary, you can choose another splitting strategy. To read a comma-separated value file, or CSV, you may want to split strings on commas, like so:\n",
      "\n",
      "    print line.split(',')"
     ]
    },
    {
     "cell_type": "markdown",
     "metadata": {},
     "source": [
      "Prior to the split, each line was a single string. Now, each line is a list containing multiple strings, one for each \"word\" that was contained in the line. Imagine that we want to add ten to the count of a particular animal, which is stored as the last item in the line. What happens if we try?"
     ]
    },
    {
     "cell_type": "code",
     "collapsed": false,
     "input": [
      "split_line = lines[0].split()\n",
      "split_line"
     ],
     "language": "python",
     "metadata": {},
     "outputs": [
      {
       "output_type": "pyout",
       "prompt_number": 16,
       "text": [
        "['2011-04-22', '21:06', 'Grizzly', '36']"
       ]
      }
     ],
     "prompt_number": 16
    },
    {
     "cell_type": "code",
     "collapsed": false,
     "input": [
      "split_line[-1] = split_line[-1] + 10"
     ],
     "language": "python",
     "metadata": {},
     "outputs": [
      {
       "ename": "TypeError",
       "evalue": "cannot concatenate 'str' and 'int' objects",
       "output_type": "pyerr",
       "traceback": [
        "\u001b[0;31m---------------------------------------------------------------------------\u001b[0m\n\u001b[0;31mTypeError\u001b[0m                                 Traceback (most recent call last)",
        "\u001b[0;32m<ipython-input-17-f3e91f94600c>\u001b[0m in \u001b[0;36m<module>\u001b[0;34m()\u001b[0m\n\u001b[0;32m----> 1\u001b[0;31m \u001b[0msplit_line\u001b[0m\u001b[0;34m[\u001b[0m\u001b[0;34m-\u001b[0m\u001b[0;36m1\u001b[0m\u001b[0;34m]\u001b[0m \u001b[0;34m=\u001b[0m \u001b[0msplit_line\u001b[0m\u001b[0;34m[\u001b[0m\u001b[0;34m-\u001b[0m\u001b[0;36m1\u001b[0m\u001b[0;34m]\u001b[0m \u001b[0;34m+\u001b[0m \u001b[0;36m10\u001b[0m\u001b[0;34m\u001b[0m\u001b[0m\n\u001b[0m",
        "\u001b[0;31mTypeError\u001b[0m: cannot concatenate 'str' and 'int' objects"
       ]
      }
     ],
     "prompt_number": 17
    },
    {
     "cell_type": "markdown",
     "metadata": {},
     "source": [
      "We previously reviewed functions to convert between types."
     ]
    },
    {
     "cell_type": "code",
     "collapsed": false,
     "input": [
      "split_line[-1] = int(split_line[-1]) + 10\n",
      "split_line"
     ],
     "language": "python",
     "metadata": {},
     "outputs": [
      {
       "output_type": "pyout",
       "prompt_number": 18,
       "text": [
        "['2011-04-22', '21:06', 'Grizzly', 46]"
       ]
      }
     ],
     "prompt_number": 18
    },
    {
     "cell_type": "markdown",
     "metadata": {},
     "source": [
      "The examples above have split and converted single lines or data elements for printing or one-off manipulation. It is often convenient to process an entire file's worth of data, to split and convert every line into usable types before embarking on the real processing that is the purpose of your program. The container types and Python's looping and flow control constructs are invaluable to this process, allowing repetitive actions to be applied to large data sets with a minimum amount of code.\n",
      "\n",
      "Let's start by creating empty lists to fill with the data from the file."
     ]
    },
    {
     "cell_type": "code",
     "collapsed": false,
     "input": [
      "dates = []\n",
      "times = []\n",
      "animals = []\n",
      "counts = []"
     ],
     "language": "python",
     "metadata": {},
     "outputs": [],
     "prompt_number": 19
    },
    {
     "cell_type": "markdown",
     "metadata": {},
     "source": [
      "Loop over each line from the file. For each line, split it into individual elements on the blank space as before, and append the data to the empty lists created above. Where necessary, convert the data from a string into a more appropriate type."
     ]
    },
    {
     "cell_type": "code",
     "collapsed": false,
     "input": [
      "for line in lines:\n",
      "    d, t, a, n = line.split() # Lists can be unpacked, just like tuples.\n",
      "    dates.append(d)\n",
      "    times.append(t)\n",
      "    animals.append(a)\n",
      "    counts.append(int(n))"
     ],
     "language": "python",
     "metadata": {},
     "outputs": [],
     "prompt_number": 20
    },
    {
     "cell_type": "markdown",
     "metadata": {},
     "source": [
      "What did we wind up with?"
     ]
    },
    {
     "cell_type": "code",
     "collapsed": false,
     "input": [
      "dates"
     ],
     "language": "python",
     "metadata": {},
     "outputs": [
      {
       "output_type": "pyout",
       "prompt_number": 21,
       "text": [
        "['2011-04-22', '2011-04-23', '2011-04-23', '2011-04-23', '2011-04-23']"
       ]
      }
     ],
     "prompt_number": 21
    },
    {
     "cell_type": "code",
     "collapsed": false,
     "input": [
      "times"
     ],
     "language": "python",
     "metadata": {},
     "outputs": [
      {
       "output_type": "pyout",
       "prompt_number": 22,
       "text": [
        "['21:06', '14:12', '10:24', '20:08', '18:46']"
       ]
      }
     ],
     "prompt_number": 22
    },
    {
     "cell_type": "code",
     "collapsed": false,
     "input": [
      "animals"
     ],
     "language": "python",
     "metadata": {},
     "outputs": [
      {
       "output_type": "pyout",
       "prompt_number": 23,
       "text": [
        "['Grizzly', 'Elk', 'Elk', 'Wolverine', 'Muskox']"
       ]
      }
     ],
     "prompt_number": 23
    },
    {
     "cell_type": "code",
     "collapsed": false,
     "input": [
      "counts"
     ],
     "language": "python",
     "metadata": {},
     "outputs": [
      {
       "output_type": "pyout",
       "prompt_number": 24,
       "text": [
        "[36, 25, 26, 31, 20]"
       ]
      }
     ],
     "prompt_number": 24
    },
    {
     "cell_type": "markdown",
     "metadata": {},
     "source": [
      "***\n",
      "**Aside: Variable definition**\n",
      "\n",
      "Notice the introduction of the `append` function, which acts on lists. The `append` function adds the specified item to the end of the list, increasing the list's length by one. The list must exist before you can use the append function to act on it, which is why we must create empty lists before we begin appending to them. In Python, this is known as *defining* the list, and it applies generally to all Python variables. For example:"
     ]
    },
    {
     "cell_type": "code",
     "collapsed": false,
     "input": [
      "print cost_per_day"
     ],
     "language": "python",
     "metadata": {},
     "outputs": [
      {
       "ename": "NameError",
       "evalue": "name 'cost_per_day' is not defined",
       "output_type": "pyerr",
       "traceback": [
        "\u001b[0;31m---------------------------------------------------------------------------\u001b[0m\n\u001b[0;31mNameError\u001b[0m                                 Traceback (most recent call last)",
        "\u001b[0;32m<ipython-input-44-0c2d6916eebe>\u001b[0m in \u001b[0;36m<module>\u001b[0;34m()\u001b[0m\n\u001b[0;32m----> 1\u001b[0;31m \u001b[0;32mprint\u001b[0m \u001b[0mcost_per_day\u001b[0m\u001b[0;34m\u001b[0m\u001b[0m\n\u001b[0m",
        "\u001b[0;31mNameError\u001b[0m: name 'cost_per_day' is not defined"
       ]
      }
     ],
     "prompt_number": 44
    },
    {
     "cell_type": "code",
     "collapsed": false,
     "input": [
      "cost_per_day = 1.75\n",
      "print cost_per_day"
     ],
     "language": "python",
     "metadata": {},
     "outputs": [
      {
       "output_type": "stream",
       "stream": "stdout",
       "text": [
        "1.75\n"
       ]
      }
     ],
     "prompt_number": 68
    },
    {
     "cell_type": "code",
     "collapsed": false,
     "input": [
      "expenses.append(cost_per_day)"
     ],
     "language": "python",
     "metadata": {},
     "outputs": [
      {
       "ename": "NameError",
       "evalue": "name 'expenses' is not defined",
       "output_type": "pyerr",
       "traceback": [
        "\u001b[0;31m---------------------------------------------------------------------------\u001b[0m\n\u001b[0;31mNameError\u001b[0m                                 Traceback (most recent call last)",
        "\u001b[0;32m<ipython-input-69-00f828fa095e>\u001b[0m in \u001b[0;36m<module>\u001b[0;34m()\u001b[0m\n\u001b[0;32m----> 1\u001b[0;31m \u001b[0mexpenses\u001b[0m\u001b[0;34m.\u001b[0m\u001b[0mappend\u001b[0m\u001b[0;34m(\u001b[0m\u001b[0mcost_per_day\u001b[0m\u001b[0;34m)\u001b[0m\u001b[0;34m\u001b[0m\u001b[0m\n\u001b[0m",
        "\u001b[0;31mNameError\u001b[0m: name 'expenses' is not defined"
       ]
      }
     ],
     "prompt_number": 69
    },
    {
     "cell_type": "markdown",
     "metadata": {},
     "source": [
      "***"
     ]
    },
    {
     "cell_type": "markdown",
     "metadata": {},
     "source": [
      "***\n",
      "# Exercise 6:\n",
      "1. Read the file `big_animals.txt` and print each line on which more than 10 moose were sighted.\n",
      "\n",
      "2. Turn the code you wrote for Part I into a function and use it on the files 'merida_animals.txt' and 'fergus_animals.txt'.\n",
      "\n",
      "***"
     ]
    },
    {
     "cell_type": "markdown",
     "metadata": {},
     "source": [
      "## Writing text files\n",
      "\n",
      "Writing data to a file can be as important as reading data from a file, especially when the data set is large. Textual data can be reviewed after the fact, imported into other processing programs like Excel or MATLAB, or saved (in git!) for future reference or to maintain a historical record.\n",
      "\n",
      "Imagine that our program has processed an \"animals\" text file to produce a list containing the total count of all animal types encountered on each day of our study."
     ]
    },
    {
     "cell_type": "code",
     "collapsed": false,
     "input": [
      "dates = ['2011-04-22', '2011-04-23']\n",
      "total_counts = [36, 102]"
     ],
     "language": "python",
     "metadata": {},
     "outputs": [],
     "prompt_number": 41
    },
    {
     "cell_type": "markdown",
     "metadata": {},
     "source": [
      "Much like `split` breaks strings apart into words, the function `join` joins words in a list together into strings."
     ]
    },
    {
     "cell_type": "code",
     "collapsed": false,
     "input": [
      "' '.join(['2011-04-22', '36'])"
     ],
     "language": "python",
     "metadata": {},
     "outputs": [
      {
       "output_type": "pyout",
       "prompt_number": 42,
       "text": [
        "'2011-04-22 36'"
       ]
      }
     ],
     "prompt_number": 42
    },
    {
     "cell_type": "markdown",
     "metadata": {},
     "source": [
      "**Note:** By default, `join` joins strings with blank space. If necessary, you can choose another joining strategy. To create a comma-separated value file, or CSV, you may want to join strings with commas, like so:\n",
      "\n",
      "    ','.join(['2011-04-22', '36'])"
     ]
    },
    {
     "cell_type": "markdown",
     "metadata": {},
     "source": [
      "How can we combine our two lists into one to work with the `join` function above? First, we must convert our total counts into strings, because `join` does not work on anything but."
     ]
    },
    {
     "cell_type": "code",
     "collapsed": false,
     "input": [
      "total_count_strings = []\n",
      "for total_count in total_counts:\n",
      "    total_count_strings.append(str(total_count))\n",
      "print total_count_strings"
     ],
     "language": "python",
     "metadata": {},
     "outputs": [
      {
       "output_type": "stream",
       "stream": "stdout",
       "text": [
        "['36', '102']\n"
       ]
      }
     ],
     "prompt_number": 43
    },
    {
     "cell_type": "markdown",
     "metadata": {},
     "source": [
      "Remember that the `zip` function is a good way to combine several lists into a list of tuples."
     ]
    },
    {
     "cell_type": "code",
     "collapsed": false,
     "input": [
      "print zip(dates, total_count_strings)"
     ],
     "language": "python",
     "metadata": {},
     "outputs": [
      {
       "output_type": "stream",
       "stream": "stdout",
       "text": [
        "[('2011-04-22', '36'), ('2011-04-23', '102')]\n"
       ]
      }
     ],
     "prompt_number": 44
    },
    {
     "cell_type": "markdown",
     "metadata": {},
     "source": [
      "The first step in writing data to a text file is to open the file using the `open` function. Like before, the `open` function returns a value that we must store in a variable to manipulate the file later on. Here the `open` function accepts the string `'w'` as an argument, telling it to open the file in *write* mode."
     ]
    },
    {
     "cell_type": "code",
     "collapsed": false,
     "input": [
      "summary_file = open('animal_summary.txt', 'w')"
     ],
     "language": "python",
     "metadata": {},
     "outputs": [],
     "prompt_number": 45
    },
    {
     "cell_type": "markdown",
     "metadata": {},
     "source": [
      "**Note:** If a file with the given name already exists, it will be erased! You can append data to an existing file using the `'a'` argument instead of the `'w'` argument."
     ]
    },
    {
     "cell_type": "markdown",
     "metadata": {},
     "source": [
      "Next, we simply iterate through our data, joining lists into strings and writing each string to a line in the file. We use the `write` function for this purpose."
     ]
    },
    {
     "cell_type": "code",
     "collapsed": false,
     "input": [
      "for summary in zip(dates, total_count_strings):\n",
      "    line = ' '.join(summary) + '\\n'\n",
      "    summary_file.write(line)"
     ],
     "language": "python",
     "metadata": {},
     "outputs": [],
     "prompt_number": 46
    },
    {
     "cell_type": "markdown",
     "metadata": {},
     "source": [
      "**Note:** We must *append* a newline character to our joined line if we want the file to actually contain multiple lines of data. If we don't do this, all of our data will appear on one line in the file."
     ]
    },
    {
     "cell_type": "markdown",
     "metadata": {},
     "source": [
      "After the data contained within your program has been written to a file, it is good practice to close the file. The data may not appear in the file if you examine it in the shell or with an editor until you do this."
     ]
    },
    {
     "cell_type": "code",
     "collapsed": false,
     "input": [
      "summary_file.close()"
     ],
     "language": "python",
     "metadata": {},
     "outputs": [],
     "prompt_number": 47
    },
    {
     "cell_type": "markdown",
     "metadata": {},
     "source": [
      "What did we wind up with?"
     ]
    },
    {
     "cell_type": "code",
     "collapsed": false,
     "input": [
      "cat animal_summary.txt"
     ],
     "language": "python",
     "metadata": {},
     "outputs": [
      {
       "output_type": "stream",
       "stream": "stdout",
       "text": [
        "2011-04-22 36\r\n",
        "2011-04-23 102\r\n"
       ]
      }
     ],
     "prompt_number": 48
    },
    {
     "cell_type": "markdown",
     "metadata": {},
     "source": [
      "***\n",
      "#Intro to Python modules\n",
      "***\n",
      "## What is a module?\n",
      "\n",
      "While you can use all you your shell commands in IPython, when you are writing scripts, you must use built in Python functions. One of Python's greatest strengths is the ability to import modules. A module is a collection of functions and other Python objects. You gain access to these objects by importing them."
     ]
    },
    {
     "cell_type": "markdown",
     "metadata": {},
     "source": [
      "##The os module\n",
      "\n",
      "The os module contains most of the shell commands we covered this morning. os stands for operating system.\n",
      "\n",
      "<table>\n",
      "<tr><th>Shell Command</th><th>Python Command</th></tr>\n",
      "<tr><td>cd directory_name</td><td>os.chdir(directory_name)</td></tr>\n",
      "<tr><td>pwd</td><td>os.getcwd()</td></tr>\n",
      "<tr><td>mkdir directory_name</td><td>os.mkdir(directory_name)</td></tr>\n",
      "<tr><td>ls</td><td>os.listdir(path)</td></tr>\n",
      "<tr><td>rm filename</td><td>os.remove(filename)</td></tr>\n",
      "</table>"
     ]
    },
    {
     "cell_type": "markdown",
     "metadata": {},
     "source": [
      "## Importing"
     ]
    },
    {
     "cell_type": "code",
     "collapsed": false,
     "input": [
      "#Let's try these\n",
      "import os"
     ],
     "language": "python",
     "metadata": {},
     "outputs": [],
     "prompt_number": 2
    },
    {
     "cell_type": "code",
     "collapsed": false,
     "input": [
      "#Where am I?\n",
      "print os.getcwd()"
     ],
     "language": "python",
     "metadata": {},
     "outputs": [
      {
       "output_type": "stream",
       "stream": "stdout",
       "text": [
        "/Users/tracyt/boot-camps/python/intro\n"
       ]
      }
     ],
     "prompt_number": 3
    },
    {
     "cell_type": "code",
     "collapsed": false,
     "input": [
      "#What is in my directory?\n",
      "os.listdir('/Users/tracyt/boot-camps/python/intro')"
     ],
     "language": "python",
     "metadata": {},
     "outputs": [
      {
       "output_type": "pyout",
       "prompt_number": 5,
       "text": [
        "['#README.md#',\n",
        " 'animals.txt',\n",
        " 'big_animals.txt',\n",
        " 'Exercise_solutions.ipynb',\n",
        " 'fergus_animals.txt',\n",
        " 'merida_animals.txt',\n",
        " 'PresenterNotes_umass.ipynb',\n",
        " 'README.md',\n",
        " 'StudentNotes_umass.ipynb']"
       ]
      }
     ],
     "prompt_number": 5
    },
    {
     "cell_type": "code",
     "collapsed": false,
     "input": [
      "os.chdir('/Users/tracyt/boot-camps/python/intro/test_dir')"
     ],
     "language": "python",
     "metadata": {},
     "outputs": [
      {
       "ename": "OSError",
       "evalue": "[Errno 2] No such file or directory: '/Users/tracyt/boot-camps/python/intro/test_dir'",
       "output_type": "pyerr",
       "traceback": [
        "\u001b[0;31m---------------------------------------------------------------------------\u001b[0m\n\u001b[0;31mOSError\u001b[0m                                   Traceback (most recent call last)",
        "\u001b[0;32m<ipython-input-6-1f893cd7bcd5>\u001b[0m in \u001b[0;36m<module>\u001b[0;34m()\u001b[0m\n\u001b[0;32m----> 1\u001b[0;31m \u001b[0mos\u001b[0m\u001b[0;34m.\u001b[0m\u001b[0mchdir\u001b[0m\u001b[0;34m(\u001b[0m\u001b[0;34m'/Users/tracyt/boot-camps/python/intro/test_dir'\u001b[0m\u001b[0;34m)\u001b[0m\u001b[0;34m\u001b[0m\u001b[0m\n\u001b[0m",
        "\u001b[0;31mOSError\u001b[0m: [Errno 2] No such file or directory: '/Users/tracyt/boot-camps/python/intro/test_dir'"
       ]
      }
     ],
     "prompt_number": 6
    },
    {
     "cell_type": "markdown",
     "metadata": {},
     "source": [
      "##Getting info\n",
      "\n",
      "* dir(os)\n",
      "* os. < tab > \n",
      "* help(os.getcwd)\n",
      "* website: os module: <a href = \"http://docs.python.org/2/library/os.html\" target = \"blank\">http://docs.python.org/2/library/os.html</a>\n",
      "* web (google, stack overflow, etc)"
     ]
    },
    {
     "cell_type": "markdown",
     "metadata": {},
     "source": [
      "***\n",
      "#Exercise 7:\n",
      "\n",
      "1. Use the documentation for os to figure out how to create a directory called exercise_7\n",
      "\n",
      "***"
     ]
    },
    {
     "cell_type": "markdown",
     "metadata": {},
     "source": [
      "##Submodules"
     ]
    },
    {
     "cell_type": "code",
     "collapsed": false,
     "input": [
      "#path is a submodule of os which has a set of its own attributes and functions\n",
      "os.path."
     ],
     "language": "python",
     "metadata": {},
     "outputs": [
      {
       "output_type": "pyout",
       "prompt_number": 7,
       "text": [
        "True"
       ]
      }
     ],
     "prompt_number": 7
    },
    {
     "cell_type": "code",
     "collapsed": false,
     "input": [
      "os.path.exists('/Users/tracyt/boot-camps/python/intro/test_dir')"
     ],
     "language": "python",
     "metadata": {},
     "outputs": []
    },
    {
     "cell_type": "code",
     "collapsed": false,
     "input": [
      "#Shorthand: typing the module.submodule.function can get tiring and long\n",
      "from os import path\n",
      "path.exists('/Users/tracyt/boot-camps/python/intro/test_dir')"
     ],
     "language": "python",
     "metadata": {},
     "outputs": [
      {
       "output_type": "pyout",
       "prompt_number": 8,
       "text": [
        "True"
       ]
      }
     ],
     "prompt_number": 8
    },
    {
     "cell_type": "code",
     "collapsed": false,
     "input": [
      "#or\n",
      "from os.path import exists\n",
      "exists('/Users/tracyt/boot-camps/python/intro/test_dir')"
     ],
     "language": "python",
     "metadata": {},
     "outputs": [
      {
       "output_type": "pyout",
       "prompt_number": 9,
       "text": [
        "True"
       ]
      }
     ],
     "prompt_number": 9
    },
    {
     "cell_type": "code",
     "collapsed": false,
     "input": [],
     "language": "python",
     "metadata": {},
     "outputs": []
    },
    {
     "cell_type": "markdown",
     "metadata": {},
     "source": [
      "***\n",
      "#Outside IPython\n",
      "***\n",
      "## Writing a function to a file\n",
      "\n",
      "Everything we've done so far has been interactive, but what if you want to create a script which you can run over and over. Everything we've written can be written to a text file and executed using Python.\n",
      "\n",
      "Copy and paste the function you wrote in Exercise 6.2 (count_moose) into a text file and save the file a count_animals.py"
     ]
    },
    {
     "cell_type": "code",
     "collapsed": false,
     "input": [
      "#Run file\n",
      "import count_animals\n",
      "count_animals.count_moose('merida_animals.txt')"
     ],
     "language": "python",
     "metadata": {},
     "outputs": [
      {
       "ename": "ImportError",
       "evalue": "No module named count_animals",
       "output_type": "pyerr",
       "traceback": [
        "\u001b[0;31m---------------------------------------------------------------------------\u001b[0m\n\u001b[0;31mImportError\u001b[0m                               Traceback (most recent call last)",
        "\u001b[0;32m<ipython-input-95-e2344c23765c>\u001b[0m in \u001b[0;36m<module>\u001b[0;34m()\u001b[0m\n\u001b[1;32m      1\u001b[0m \u001b[0;31m#Run file\u001b[0m\u001b[0;34m\u001b[0m\u001b[0;34m\u001b[0m\u001b[0m\n\u001b[0;32m----> 2\u001b[0;31m \u001b[0;32mimport\u001b[0m \u001b[0mcount_animals\u001b[0m\u001b[0;34m\u001b[0m\u001b[0m\n\u001b[0m\u001b[1;32m      3\u001b[0m \u001b[0mcount_animals\u001b[0m\u001b[0;34m.\u001b[0m\u001b[0mcount_moose\u001b[0m\u001b[0;34m(\u001b[0m\u001b[0;34m'merida_animals.txt'\u001b[0m\u001b[0;34m)\u001b[0m\u001b[0;34m\u001b[0m\u001b[0m\n",
        "\u001b[0;31mImportError\u001b[0m: No module named count_animals"
       ]
      }
     ],
     "prompt_number": 95
    },
    {
     "cell_type": "markdown",
     "metadata": {},
     "source": [
      "*Note:* The import statement only works once during a Python session. After that, Python does not recompile your code, no matter how many times you import it. To make a change, type reload(function_name)"
     ]
    },
    {
     "cell_type": "code",
     "collapsed": false,
     "input": [
      "#Re-import\n",
      "reload(count_animals)"
     ],
     "language": "python",
     "metadata": {},
     "outputs": [
      {
       "ename": "NameError",
       "evalue": "name 'count_animals' is not defined",
       "output_type": "pyerr",
       "traceback": [
        "\u001b[0;31m---------------------------------------------------------------------------\u001b[0m\n\u001b[0;31mNameError\u001b[0m                                 Traceback (most recent call last)",
        "\u001b[0;32m<ipython-input-96-b91cafbbc25f>\u001b[0m in \u001b[0;36m<module>\u001b[0;34m()\u001b[0m\n\u001b[1;32m      1\u001b[0m \u001b[0;31m#Re-import\u001b[0m\u001b[0;34m\u001b[0m\u001b[0;34m\u001b[0m\u001b[0m\n\u001b[0;32m----> 2\u001b[0;31m \u001b[0mreload\u001b[0m\u001b[0;34m(\u001b[0m\u001b[0mcount_animals\u001b[0m\u001b[0;34m)\u001b[0m\u001b[0;34m\u001b[0m\u001b[0m\n\u001b[0m",
        "\u001b[0;31mNameError\u001b[0m: name 'count_animals' is not defined"
       ]
      }
     ],
     "prompt_number": 96
    },
    {
     "cell_type": "markdown",
     "metadata": {},
     "source": [
      "***\n",
      "#Exercise 8:\n",
      "\n",
      "1. Add a function to your count_animals module which counts the number wolverine. Don't forget you function best practices: add a doc string, use descriptive function and variable names\n",
      "\n",
      "***"
     ]
    },
    {
     "cell_type": "markdown",
     "metadata": {},
     "source": [
      "## Calling Python from the command line\n",
      "\n",
      "Python programs can be executed directly from the shell. This is often more convenient when writing programs that will be run frequently or in an automated fashion. In addition, IPython and Python provide command-line interpreters similar to the IPython Notebook that can help develop and test programs."
     ]
    }
   ],
   "metadata": {}
  }
 ]
}