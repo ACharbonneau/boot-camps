{
 "metadata": {
  "name": "ExerciseSolutions"
 },
 "nbformat": 3,
 "nbformat_minor": 0,
 "worksheets": [
  {
   "cells": [
    {
     "cell_type": "markdown",
     "metadata": {},
     "source": [
      "***\n",
      "# Exercise 1:\n",
      "1. Calculate the mean of 2, 3, and 10\n",
      "2. Try multipying each type by 2, how does the meaning of multiplication differ for an integer, a floating point, a string, and a boolean? Do you notice different behavior if 2 is an integer or a floating point? What about addition?\n",
      "3. (optional - if you finish early) Try division and subtraction. \n",
      "\n",
      "***"
     ]
    },
    {
     "cell_type": "code",
     "collapsed": false,
     "input": [
      "#1:\n",
      "(2.0+3.0+10.0)/3.0"
     ],
     "language": "python",
     "metadata": {},
     "outputs": []
    },
    {
     "cell_type": "code",
     "collapsed": false,
     "input": [
      "#2\n",
      "print 2*2  #int\n",
      "print 2*2.0  #float\n",
      "print 2*'2'  #str - concatonate\n",
      "print 2*True #True = 1, False = 0\n",
      "\n",
      "\n",
      "#2\n",
      "print 2+2  #int\n",
      "print 2+2.0  #float\n",
      "print 2+True #True = 1, False = 0\n",
      "print 2+'2'  #doesn't work"
     ],
     "language": "python",
     "metadata": {},
     "outputs": []
    },
    {
     "cell_type": "code",
     "collapsed": false,
     "input": [
      "#3\n",
      "print 2/2  #int\n",
      "print 2/2.0  #float\n",
      "#print 2/'2'  #doesn't work\n",
      "print 2/True #True = 1, False = 0\n",
      "\n",
      "\n",
      "#2\n",
      "print 2-2  #int\n",
      "print 2-2.0  #float\n",
      "print 2-True #True = 1, False = 0\n",
      "#print 2-'2'  #doesn't work"
     ],
     "language": "python",
     "metadata": {},
     "outputs": []
    },
    {
     "cell_type": "markdown",
     "metadata": {},
     "source": [
      "***\n",
      "###Exercise 2.1\n",
      "1. Make a list with 6 items in it\n",
      "2. print item 4 to the screen\n",
      "3. print a sublist containing the 3rd, 4th, and 5th item in the list\n",
      "4. Experiment with multiplication and addition on list. How do these operations act on lists?\n",
      "\n",
      "***"
     ]
    },
    {
     "cell_type": "code",
     "collapsed": false,
     "input": [
      "ilist = [1, 2, 3, 4, 5, 6]"
     ],
     "language": "python",
     "metadata": {},
     "outputs": []
    },
    {
     "cell_type": "code",
     "collapsed": false,
     "input": [
      "print ilist[3]"
     ],
     "language": "python",
     "metadata": {},
     "outputs": []
    },
    {
     "cell_type": "code",
     "collapsed": false,
     "input": [
      "print ilist[2:5]"
     ],
     "language": "python",
     "metadata": {},
     "outputs": []
    },
    {
     "cell_type": "code",
     "collapsed": false,
     "input": [
      "#\n",
      "print ilist + ilist  #Concatonate\n",
      "print ilist*ilist    #doesn't work"
     ],
     "language": "python",
     "metadata": {},
     "outputs": []
    },
    {
     "cell_type": "markdown",
     "metadata": {},
     "source": [
      "***\n",
      "###Exercise 2.2\n",
      "1. Make a dictionary and experiment using different types as keys. Which containers, if any, can be keys? Why?\n",
      "\n",
      "***"
     ]
    },
    {
     "cell_type": "code",
     "collapsed": false,
     "input": [
      "idict = {'one':[1, 1, 1], 2:['2', '2'], True: [False, False, False, False], (3, 4): 'five'}\n",
      "#Tuples can be keys because they cannot be modified"
     ],
     "language": "python",
     "metadata": {},
     "outputs": []
    },
    {
     "cell_type": "markdown",
     "metadata": {},
     "source": [
      "***\n",
      "###Exercise 2.3: \n",
      "1. Does this apply to tuples? why or why not?\n",
      "    \n",
      "***"
     ]
    },
    {
     "cell_type": "code",
     "collapsed": false,
     "input": [
      "#Tuples cannot be modified, so this does not apply to tuples"
     ],
     "language": "python",
     "metadata": {},
     "outputs": []
    },
    {
     "cell_type": "markdown",
     "metadata": {},
     "source": [
      "***\n",
      "Discussion question:\n",
      "For the two examples given below, discuss whether is would be better to use a dictionary, tuple, or list. There is not necessarily one right answer. Make sure you discuss why you made your choice.\n",
      "\n",
      "1. Lottery numbers\n",
      "2. Student's grades\n",
      "\n",
      "***"
     ]
    },
    {
     "cell_type": "code",
     "collapsed": false,
     "input": [
      "#It makes sense to put lottery numbers in a list or tuple, since there is an order to the numbers and it makes sense to refernce them by index\n",
      "#You may want student grades in a dictionary, using the student's name as a key"
     ],
     "language": "python",
     "metadata": {},
     "outputs": []
    },
    {
     "cell_type": "markdown",
     "metadata": {},
     "source": [
      "***\n",
      "#Exercise 3\n",
      "1. Write an if statement that prints whether x is even or odd (hint: remember the modulus)\n",
      "\n",
      "***"
     ]
    },
    {
     "cell_type": "code",
     "collapsed": false,
     "input": [
      "x = 3\n",
      "if x%2 ==0:\n",
      "    print 'x is even'\n",
      "else:\n",
      "    print 'x is odd'"
     ],
     "language": "python",
     "metadata": {},
     "outputs": []
    },
    {
     "cell_type": "markdown",
     "metadata": {},
     "source": [
      "***\n",
      "#Exercise 4:\n",
      "1. Using a loop, find the mean of [3.0, 4.0, 5.0, 2.0, 8.0, 10.0, 14.0, 16.0, 29.0]\n",
      "\n",
      "***"
     ]
    },
    {
     "cell_type": "code",
     "collapsed": false,
     "input": [
      "ilist = [3.0, 4.0, 5.0, 2.0, 8.0, 10.0, 14.0, 16.0, 29.0]\n",
      "total = 0.0\n",
      "for num in ilist:\n",
      "    total = total + num\n",
      "print total/ len(ilist)"
     ],
     "language": "python",
     "metadata": {},
     "outputs": []
    },
    {
     "cell_type": "markdown",
     "metadata": {},
     "source": [
      "***\n",
      "#Exercise 5:\n",
      "1. Using your last exercise, create a function which calculates the mean of an input list of numbers\n",
      "\n",
      "***"
     ]
    },
    {
     "cell_type": "code",
     "collapsed": false,
     "input": [
      "ilist = [3.0, 4.0, 5.0, 2.0, 8.0, 10.0, 14.0, 16.0, 29.0]\n",
      "def find_mean(ilist):\n",
      "    total = 0.0\n",
      "    for num in ilist:\n",
      "        total = total + num\n",
      "    return total/len(ilist)"
     ],
     "language": "python",
     "metadata": {},
     "outputs": []
    },
    {
     "cell_type": "markdown",
     "metadata": {},
     "source": [
      "***\n",
      "# Exercise 6\n",
      "1. Read the file 'big_animals.txt' and print each line on which more than 10 moose were sighted.\n",
      "\n",
      "2. Turn the code for #1 into a function and use it on the files 'merida_animals.txt' and 'fergus_animals.txt'.\n",
      "\n",
      "***"
     ]
    },
    {
     "cell_type": "code",
     "collapsed": false,
     "input": [
      "ofile = open('big_animals.txt', 'r')\n",
      "all_lines = ofile.readlines()\n",
      "for iline in all_lines:\n",
      "    split_line = iline.split()\n",
      "    if split_line[2] == 'Moose':\n",
      "        if int(split_line[-1]) > 10:\n",
      "            print iline\n",
      "ofile.close()"
     ],
     "language": "python",
     "metadata": {},
     "outputs": []
    },
    {
     "cell_type": "code",
     "collapsed": false,
     "input": [
      "def count_moose(ifile):\n",
      "    ofile = open(ifile, 'r')\n",
      "    all_lines = ofile.readlines()\n",
      "    for iline in all_lines:\n",
      "        split_line = iline.split()\n",
      "        if split_line[2] == 'Moose':\n",
      "            if int(split_line[-1]) > 10:\n",
      "                print iline"
     ],
     "language": "python",
     "metadata": {},
     "outputs": []
    },
    {
     "cell_type": "code",
     "collapsed": false,
     "input": [
      "ifile = 'big_animals.txt'\n",
      "count_moose(ifile)"
     ],
     "language": "python",
     "metadata": {},
     "outputs": []
    },
    {
     "cell_type": "code",
     "collapsed": false,
     "input": [
      "ifile = 'fergus_animals.txt'\n",
      "count_moose(ifile)"
     ],
     "language": "python",
     "metadata": {},
     "outputs": []
    },
    {
     "cell_type": "markdown",
     "metadata": {},
     "source": [
      "***\n",
      "#Exercise 7:\n",
      "\n",
      "1. Add a function to your count_animals module which counts the number wolverine. Don't forget you function best practices: add a doc string, use descriptive function and variable names\n",
      "\n",
      "***"
     ]
    },
    {
     "cell_type": "code",
     "collapsed": false,
     "input": [
      "def count_wolverine(ifile):\n",
      "    \"\"\"Returns a count of wolverines in a sightings record.\"\"\"\n",
      "    total = 0.0\n",
      "    ofile = open(ifile, 'r')\n",
      "    all_lines = ofile.readlines()\n",
      "    for iline in all_lines:\n",
      "        split_line = iline.split()\n",
      "        if split_line[2] == 'Wolverine':\n",
      "            total = total+int(split_line[-1])\n",
      "    return total\n",
      "            "
     ],
     "language": "python",
     "metadata": {},
     "outputs": []
    },
    {
     "cell_type": "code",
     "collapsed": false,
     "input": [
      "ifile = 'big_animals.txt'\n",
      "print count_wolverine(ifile)"
     ],
     "language": "python",
     "metadata": {},
     "outputs": []
    },
    {
     "cell_type": "markdown",
     "metadata": {},
     "source": [
      "You can see after count_wolverine that we could generalize this:"
     ]
    },
    {
     "cell_type": "code",
     "collapsed": false,
     "input": [
      "def count_animals(ifile, animal):\n",
      "    \"\"\"Returns the count of a specified animal in the given sightings file.\"\"\"\n",
      "    \n",
      "    total = 0.0\n",
      "    ofile = open(ifile, 'r')\n",
      "    all_lines = ofile.readlines()\n",
      "    for iline in all_lines:\n",
      "        split_line = iline.split()\n",
      "        # Use .lower() to make both strings lower-case; that way we can make the\n",
      "        # comparison without case-sensitivity\n",
      "        if split_line[2].lower() == animal.lower():\n",
      "            total = total+int(split_line[-1])\n",
      "    \n",
      "    return total"
     ],
     "language": "python",
     "metadata": {},
     "outputs": []
    },
    {
     "cell_type": "markdown",
     "metadata": {},
     "source": [
      "***\n",
      "#Exercise 8\n",
      "\n",
      "1. Use the documentation for os to figure out how to create a directory called exercise_8\n",
      "\n",
      "***"
     ]
    },
    {
     "cell_type": "code",
     "collapsed": false,
     "input": [
      "import os\n",
      "os.mkdir('exercise_8')"
     ],
     "language": "python",
     "metadata": {},
     "outputs": []
    },
    {
     "cell_type": "code",
     "collapsed": false,
     "input": [],
     "language": "python",
     "metadata": {},
     "outputs": []
    }
   ],
   "metadata": {}
  }
 ]
}
