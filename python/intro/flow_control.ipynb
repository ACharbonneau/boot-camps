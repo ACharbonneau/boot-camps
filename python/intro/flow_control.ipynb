{
 "metadata": {
  "name": "flow_control"
 }, 
 "nbformat": 2, 
 "worksheets": [
  {
   "cells": [
    {
     "cell_type": "markdown", 
     "source": [
      "# Python part 3: Flow Control"
     ]
    }, 
    {
     "cell_type": "markdown", 
     "source": [
      "Presented by: [John Blischak](https://github.com/jdblischak \"GitHub\")  ", 
      "Materials by: [John Blischak](https://github.com/jdblischak \"GitHub\") and former Software Carpentry instructors"
     ]
    }, 
    {
     "cell_type": "markdown", 
     "source": [
      "# If statements", 
      "`< > <= >= == !=`"
     ]
    }, 
    {
     "cell_type": "code", 
     "collapsed": true, 
     "input": [
      "x = 5", 
      "if x < 0:", 
      "    print \"x is negative\""
     ], 
     "language": "python", 
     "outputs": [], 
     "prompt_number": 6
    }, 
    {
     "cell_type": "code", 
     "collapsed": true, 
     "input": [
      "x = -5", 
      "if x < 0:", 
      "    print \"x is negative\""
     ], 
     "language": "python", 
     "outputs": [], 
     "prompt_number": 2
    }, 
    {
     "cell_type": "code", 
     "collapsed": true, 
     "input": [
      "x = 5", 
      "if x < 0:", 
      "    print \"x is negative\"", 
      "else:", 
      "    print \"x in non-negative\""
     ], 
     "language": "python", 
     "outputs": [], 
     "prompt_number": 3
    }, 
    {
     "cell_type": "code", 
     "collapsed": true, 
     "input": [
      "x = 5", 
      "if x < 0:", 
      "    print \"x is negative\"", 
      "elif x == 0:", 
      "    print \"x is zero\"", 
      "else:", 
      "    print \"x is positive\""
     ], 
     "language": "python", 
     "outputs": [], 
     "prompt_number": 4
    }, 
    {
     "cell_type": "markdown", 
     "source": [
      "## Indentation", 
      "The indentation is a feature of python that some people hate. Some other programming languages use brackets to denote a command block. Python uses indentation. The amount of indentation doesn't matter, so long as everything in the same block is indented the same amount."
     ]
    }, 
    {
     "cell_type": "markdown", 
     "source": [
      "# Exercises", 
      "1. Write an if statement that prints whether x is even or odd"
     ]
    }, 
    {
     "cell_type": "markdown", 
     "source": [
      "# For loops"
     ]
    }, 
    {
     "cell_type": "code", 
     "collapsed": true, 
     "input": [
      "fruits = ['apples', 'oranges', 'pears', 'bananas']", 
      "i = 0", 
      "while i < len(fruits):", 
      "    print fruits[i]", 
      "    i = i + 1"
     ], 
     "language": "python", 
     "outputs": [], 
     "prompt_number": 8
    }, 
    {
     "cell_type": "code", 
     "collapsed": true, 
     "input": [
      "for fruit in fruits:", 
      "    print fruit"
     ], 
     "language": "python", 
     "outputs": [], 
     "prompt_number": 8
    }, 
    {
     "cell_type": "code", 
     "collapsed": true, 
     "input": [
      "# Use range for a range on integers", 
      "for i in range(len(fruits)):", 
      "    print i, fruits[i]"
     ], 
     "language": "python", 
     "outputs": [], 
     "prompt_number": 17
    }, 
    {
     "cell_type": "code", 
     "collapsed": true, 
     "input": [
      "# Use zip to iterate over two lists at once", 
      "fruits = ['apples', 'oranges', 'pears', 'bananas']", 
      "prices = [0.49, 0.99, 1.49, 0.32]", 
      "for fruit, price in zip(fruits, prices):", 
      "    print fruit, \"cost\", price, \"each\"", 
      "    "
     ], 
     "language": "python", 
     "outputs": [], 
     "prompt_number": 8
    }, 
    {
     "cell_type": "code", 
     "collapsed": true, 
     "input": [
      "# Use \"items\" to iterate over a dictionary", 
      "# Note the order is non-deterministic", 
      "prices = {'apples': 0.49, 'oranges': 0.99, 'pears': 1.49, 'bananas': 0.32}", 
      "for fruit, price in prices.items():", 
      "    print fruit, \"cost\", price, \"each\"", 
      "          "
     ], 
     "language": "python", 
     "outputs": [], 
     "prompt_number": 10
    }, 
    {
     "cell_type": "code", 
     "collapsed": true, 
     "input": [
      "# Calculating a sum", 
      "sum = 0", 
      "for x in values:", 
      "    sum = sum + x", 
      "sum"
     ], 
     "language": "python", 
     "outputs": [], 
     "prompt_number": 15
    }, 
    {
     "cell_type": "markdown", 
     "source": [
      "# Exercises", 
      "1. Using a loop, calculate the factorial of 42 (the product of all integers up to and including 42)."
     ]
    }, 
    {
     "cell_type": "markdown", 
     "source": [
      "# Exercise: Convert genotypes", 
      "If most of this material is brand new to you, your goal is to complete Part 1. If you are more experienced, please move on to Part 1 and Part 2. And don't forget to talk to your neighbor!"
     ]
    }, 
    {
     "cell_type": "markdown", 
     "source": [
      "### Motivation:", 
      "A biologist is interested in the genetic basis of height. She measures the heights of many subjects and sends off their DNA samples to a core for genotyping arrays. These arrays determine the DNA bases at the variable sites of the genome (known as single nucleotide polymorphisms, or SNPs). Since humans are diploid, i.e. have two of each chromsome, each data point will be two DNA bases corresponding to the two chromosomes in each individual. At each SNP, there will be only three possible genotypes, e.g. AA, AG, GG for an A/G SNP. In order to test the correlation between a SNP genotype and height, she wants to perform a regression with an additive genetic model. However, she cannot do this with the data in the current form. She needs to convert the genotypes, e.g. AA, AG, and GG, to the numbers 0, 1, and 2, respectively (in the example the number corresponds the number of G bases the person has at that SNP). Since she has too much data to do this manually, e.g. in Excel, she comes to you for ideas of how to efficiently transform the data."
     ]
    }, 
    {
     "cell_type": "markdown", 
     "source": [
      "## Part 1:", 
      "Create a new list which has the converted genotype for each subject ('AA'->0, 'AG'->1, 'GG'->2)."
     ]
    }, 
    {
     "cell_type": "code", 
     "collapsed": true, 
     "input": [
      "genos = ['AA', 'GG', 'AG', 'AG', 'GG']", 
      "genos_new = []", 
      "# Use your knowledge of if/else statements and loop structures below."
     ], 
     "language": "python", 
     "outputs": [], 
     "prompt_number": 13
    }, 
    {
     "cell_type": "markdown", 
     "source": [
      "Check your work:"
     ]
    }, 
    {
     "cell_type": "code", 
     "collapsed": true, 
     "input": [
      "genos_new == [0, 2, 1, 1, 2]"
     ], 
     "language": "python", 
     "outputs": []
    }, 
    {
     "cell_type": "markdown", 
     "source": [
      "## Part 2:", 
      "Sometimes there are errors and the genotype cannot be determined. Adapt your code from above to deal with this problem."
     ]
    }, 
    {
     "cell_type": "code", 
     "collapsed": true, 
     "input": [
      "genos_w_missing = ['AA', 'NA', 'GG', 'AG', 'AG', 'GG', 'NA']", 
      "genos_w_missing_new = []", 
      "# The missing data should not be converted to a number, but remain 'NA' in the new list"
     ], 
     "language": "python", 
     "outputs": []
    }, 
    {
     "cell_type": "markdown", 
     "source": [
      "Check your work:"
     ]
    }, 
    {
     "cell_type": "code", 
     "collapsed": true, 
     "input": [
      "genos_w_missing_new = [0, 'NA', 2, 1, 1, 2, 'NA']"
     ], 
     "language": "python", 
     "outputs": []
    }, 
    {
     "cell_type": "markdown", 
     "source": [
      "## Part 3:", 
      "The file genos.txt has a column of genotypes. Read in the data and convert the genotypes as above. Hint: You'll need to use the built-in string method strip to remove the new-line characters (we will cover this in the next section)."
     ]
    }, 
    {
     "cell_type": "code", 
     "collapsed": true, 
     "input": [
      "# Store the genotypes from genos.txt in this list", 
      "genos_from_file = []"
     ], 
     "language": "python", 
     "outputs": []
    }, 
    {
     "cell_type": "markdown", 
     "source": [
      "Check your work:"
     ]
    }, 
    {
     "cell_type": "code", 
     "collapsed": true, 
     "input": [
      "genos_from_file = []"
     ], 
     "language": "python", 
     "outputs": []
    }, 
    {
     "cell_type": "markdown", 
     "source": [
      "# Bonus material (time-permitting): List comprehensions"
     ]
    }, 
    {
     "cell_type": "code", 
     "collapsed": true, 
     "input": [], 
     "language": "python", 
     "outputs": []
    }
   ]
  }
 ]
}