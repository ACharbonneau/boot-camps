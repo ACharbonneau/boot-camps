{
 "metadata": {
  "name": "flow_control"
 }, 
 "nbformat": 2, 
 "worksheets": [
  {
   "cells": [
    {
     "cell_type": "markdown", 
     "source": [
      "Presented by: [John Blischak](https://github.com/jdblischak \"GitHub\")  ", 
      "Materials by: [John Blischak](https://github.com/jdblischak \"GitHub\") and former Software Carpentry instructors"
     ]
    }, 
    {
     "cell_type": "markdown", 
     "source": [
      "# If statements", 
      "`< > <= >= == !=`"
     ]
    }, 
    {
     "cell_type": "code", 
     "collapsed": false, 
     "input": [
      "x = 5", 
      "if x < 0:", 
      "    print \"x is negative\""
     ], 
     "language": "python", 
     "outputs": [], 
     "prompt_number": 6
    }, 
    {
     "cell_type": "code", 
     "collapsed": false, 
     "input": [
      "x = -5", 
      "if x < 0:", 
      "    print \"x is negative\""
     ], 
     "language": "python", 
     "outputs": [], 
     "prompt_number": 2
    }, 
    {
     "cell_type": "code", 
     "collapsed": false, 
     "input": [
      "x = 5", 
      "if x < 0:", 
      "    print \"x is negative\"", 
      "else:", 
      "    print \"x in non-negative\""
     ], 
     "language": "python", 
     "outputs": [], 
     "prompt_number": 3
    }, 
    {
     "cell_type": "code", 
     "collapsed": false, 
     "input": [
      "x = 5", 
      "if x < 0:", 
      "    print \"x is negative\"", 
      "elif x == 0:", 
      "    print \"x is zero\"", 
      "else:", 
      "    print \"x is positive\""
     ], 
     "language": "python", 
     "outputs": [], 
     "prompt_number": 4
    }, 
    {
     "cell_type": "markdown", 
     "source": [
      "# Exercises", 
      "1. Write an if statement that prints whether x is even or odd"
     ]
    }, 
    {
     "cell_type": "markdown", 
     "source": [
      "# For loops"
     ]
    }, 
    {
     "cell_type": "code", 
     "collapsed": false, 
     "input": [
      "fruits = ['apples', 'oranges', 'pears', 'bananas']", 
      "i = 0", 
      "while i < len(fruits):", 
      "    print fruits[i]", 
      "    i = i + 1"
     ], 
     "language": "python", 
     "outputs": [], 
     "prompt_number": 8
    }, 
    {
     "cell_type": "code", 
     "collapsed": false, 
     "input": [
      "for fruit in fruits:", 
      "    print fruit"
     ], 
     "language": "python", 
     "outputs": [], 
     "prompt_number": 8
    }, 
    {
     "cell_type": "code", 
     "collapsed": false, 
     "input": [
      "# Use range for a range on integers", 
      "for i in range(len(fruits)):", 
      "    print i, fruits[i]"
     ], 
     "language": "python", 
     "outputs": [], 
     "prompt_number": 17
    }, 
    {
     "cell_type": "code", 
     "collapsed": false, 
     "input": [
      "# Use zip to iterate over two lists at once", 
      "fruits = ['apples', 'oranges', 'pears', 'bananas']", 
      "prices = [0.49, 0.99, 1.49, 0.32]", 
      "for fruit, price in zip(fruits, prices):", 
      "    print fruit, \"cost\", price, \"each\"", 
      "    "
     ], 
     "language": "python", 
     "outputs": [], 
     "prompt_number": 8
    }, 
    {
     "cell_type": "code", 
     "collapsed": false, 
     "input": [
      "# Use \"items\" to iterate over a dictionary", 
      "# Note the order is non-deterministic", 
      "prices = {'apples': 0.49, 'oranges': 0.99, 'pears': 1.49, 'bananas': 0.32}", 
      "for fruit, price in prices.items():", 
      "    print fruit, \"cost\", price, \"each\"", 
      "          "
     ], 
     "language": "python", 
     "outputs": [], 
     "prompt_number": 10
    }, 
    {
     "cell_type": "code", 
     "collapsed": false, 
     "input": [
      "# Calculating a sum", 
      "sum = 0", 
      "for x in values:", 
      "    sum = sum + x", 
      "sum"
     ], 
     "language": "python", 
     "outputs": [], 
     "prompt_number": 15
    }, 
    {
     "cell_type": "markdown", 
     "source": [
      "# Exercises", 
      "1. Using a loop, calculate the factorial of 42 (the product of all integers up to and including 42)."
     ]
    }, 
    {
     "cell_type": "markdown", 
     "source": [
      "# Exercise: Convert genotypes.", 
      "", 
      "An example of data from biology is the letter of a given nucleotide base in the genome (A, T, G, or C). Every diploid organism, e.g. humans, has two copies of each chromosome inherited from each parent. When trying to understand the genetic basis for a trait that is variable in a population, e.g. height, we can compare the genotypes of the individuals of a population to see if their is a correlation with the trait of interest. For this example, let's assume we are determing the genotype of base that is either an A or a G. Thus an individual can be AA, AG, or GG, and let's also assume that we received the data in this form. However, in order to perform the linear regression of the quantitive trait against the genotypes, "
     ]
    }, 
    {
     "cell_type": "markdown", 
     "source": [
      "A biologist is interested in the genetic basis of height. She measures the heights of many subjects and sends off their DNA samples to a core for genotyping arrays. These arrays determine the DNA bases at the variable sites of the genome (known as single nucleotide polymorphisms, or SNPs). Since humans are diploid, i.e. have two of each chromsome, each data point will be two DNA bases corresponding to the two chromosomes in each individual. At each SNP, there will be only three possible genotypes, e.g. AA, AG, GG for an A/G SNP."
     ]
    }, 
    {
     "cell_type": "markdown", 
     "source": [
      "## Part 1:", 
      "Create a new list which has the converted genotype for each subject."
     ]
    }, 
    {
     "cell_type": "code", 
     "collapsed": false, 
     "input": [
      "genos = ['AA', 'GG', 'AG', 'AG', 'GG']", 
      "genos_new = []", 
      "# Use your knowledge of if/else statements and loop structures below."
     ], 
     "language": "python", 
     "outputs": [], 
     "prompt_number": 13
    }, 
    {
     "cell_type": "markdown", 
     "source": [
      "Check your work:"
     ]
    }, 
    {
     "cell_type": "code", 
     "collapsed": true, 
     "input": [
      "genos_new == [0, 2, 1, 1, 2]"
     ], 
     "language": "python", 
     "outputs": []
    }, 
    {
     "cell_type": "markdown", 
     "source": [
      "## Part 2:", 
      "Sometimes there are errors and the genotype cannot be determined. Adapt your code from above to deal with this problem."
     ]
    }, 
    {
     "cell_type": "code", 
     "collapsed": true, 
     "input": [
      "genos_w_missing = ['AA', 'NA', 'GG', 'AG', 'AG', 'GG', 'NA']", 
      "genos_w_missing_new = []", 
      "# The missing data should not be converted to a number, but remain 'NA' in the new list"
     ], 
     "language": "python", 
     "outputs": []
    }, 
    {
     "cell_type": "markdown", 
     "source": [
      "Check your work:"
     ]
    }, 
    {
     "cell_type": "code", 
     "collapsed": true, 
     "input": [
      "genos_w_missing_new = [0, 'NA', 2, 1, 1, 2, 'NA']"
     ], 
     "language": "python", 
     "outputs": []
    }, 
    {
     "cell_type": "markdown", 
     "source": [
      "## Part 3:", 
      "The file genos.txt has a column of genotypes. Read in the data and convert the genotypes"
     ]
    }
   ]
  }
 ]
}