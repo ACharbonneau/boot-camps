{
 "metadata": {
  "name": "Exercise_solutions"
 },
 "nbformat": 3,
 "nbformat_minor": 0,
 "worksheets": [
  {
   "cells": [
    {
     "cell_type": "markdown",
     "metadata": {},
     "source": [
      "***\n",
      "# Exercise 1:\n",
      "1. Calculate the mean of 2, 3, and 10\n",
      "2. Try multipying each type by 2, how does the meaning of multiplication differ for an integer, a floating point, a string, and a boolean? Do you notice different behavior if 2 is an integer or a floating point? What about addition?\n",
      "3. (optional - if you finish early) Try division and subtraction. \n",
      "\n",
      "***"
     ]
    },
    {
     "cell_type": "code",
     "collapsed": false,
     "input": [
      "#1:\n",
      "(2.0+3.0+10.0)/3.0"
     ],
     "language": "python",
     "metadata": {},
     "outputs": [
      {
       "output_type": "pyout",
       "prompt_number": 2,
       "text": [
        "5.0"
       ]
      }
     ],
     "prompt_number": 2
    },
    {
     "cell_type": "code",
     "collapsed": false,
     "input": [
      "#2\n",
      "print 2*2  #int\n",
      "print 2*2.0  #float\n",
      "print 2*'2'  #str - concatonate\n",
      "print 2*True #True = 1, False = 0\n",
      "\n",
      "\n",
      "#2\n",
      "print 2+2  #int\n",
      "print 2+2.0  #float\n",
      "print 2+True #True = 1, False = 0\n",
      "print 2+'2'  #doesn't work"
     ],
     "language": "python",
     "metadata": {},
     "outputs": [
      {
       "ename": "TypeError",
       "evalue": "unsupported operand type(s) for +: 'int' and 'str'",
       "output_type": "pyerr",
       "traceback": [
        "\u001b[0;31m---------------------------------------------------------------------------\u001b[0m\n\u001b[0;31mTypeError\u001b[0m                                 Traceback (most recent call last)",
        "\u001b[0;32m<ipython-input-6-c0c1497cf490>\u001b[0m in \u001b[0;36m<module>\u001b[0;34m()\u001b[0m\n\u001b[1;32m     10\u001b[0m \u001b[0;32mprint\u001b[0m \u001b[0;36m2\u001b[0m\u001b[0;34m+\u001b[0m\u001b[0;36m2.0\u001b[0m  \u001b[0;31m#float\u001b[0m\u001b[0;34m\u001b[0m\u001b[0m\n\u001b[1;32m     11\u001b[0m \u001b[0;32mprint\u001b[0m \u001b[0;36m2\u001b[0m\u001b[0;34m+\u001b[0m\u001b[0mTrue\u001b[0m \u001b[0;31m#True = 1, False = 0\u001b[0m\u001b[0;34m\u001b[0m\u001b[0m\n\u001b[0;32m---> 12\u001b[0;31m \u001b[0;32mprint\u001b[0m \u001b[0;36m2\u001b[0m\u001b[0;34m+\u001b[0m\u001b[0;34m'2'\u001b[0m  \u001b[0;31m#doesn't work\u001b[0m\u001b[0;34m\u001b[0m\u001b[0m\n\u001b[0m",
        "\u001b[0;31mTypeError\u001b[0m: unsupported operand type(s) for +: 'int' and 'str'"
       ]
      },
      {
       "output_type": "stream",
       "stream": "stdout",
       "text": [
        "4\n",
        "4.0\n",
        "22\n",
        "2\n",
        "4\n",
        "4.0\n",
        "3\n"
       ]
      }
     ],
     "prompt_number": 6
    },
    {
     "cell_type": "code",
     "collapsed": false,
     "input": [
      "#3\n",
      "print 2/2  #int\n",
      "print 2/2.0  #float\n",
      "#print 2/'2'  #doesn't work\n",
      "print 2/True #True = 1, False = 0\n",
      "\n",
      "\n",
      "#2\n",
      "print 2-2  #int\n",
      "print 2-2.0  #float\n",
      "print 2-True #True = 1, False = 0\n",
      "#print 2-'2'  #doesn't work"
     ],
     "language": "python",
     "metadata": {},
     "outputs": [
      {
       "output_type": "stream",
       "stream": "stdout",
       "text": [
        "1\n",
        "1.0\n",
        "2\n",
        "0\n",
        "0.0\n",
        "1\n"
       ]
      }
     ],
     "prompt_number": 9
    },
    {
     "cell_type": "markdown",
     "metadata": {},
     "source": [
      "***\n",
      "###Exercise 2.1\n",
      "1. Make a list with 6 items in it\n",
      "2. print item 4 to the screen\n",
      "3. print a sublist containing the 3rd, 4th, and 5th item in the list\n",
      "4. Experiment with multiplication and addition on list. How do these operations act on lists?\n",
      "\n",
      "***"
     ]
    },
    {
     "cell_type": "code",
     "collapsed": false,
     "input": [
      "ilist = [1, 2, 3, 4, 5, 6]"
     ],
     "language": "python",
     "metadata": {},
     "outputs": [],
     "prompt_number": 11
    },
    {
     "cell_type": "code",
     "collapsed": false,
     "input": [
      "print ilist[3]"
     ],
     "language": "python",
     "metadata": {},
     "outputs": [
      {
       "output_type": "stream",
       "stream": "stdout",
       "text": [
        "4\n"
       ]
      }
     ],
     "prompt_number": 12
    },
    {
     "cell_type": "code",
     "collapsed": false,
     "input": [
      "print ilist[2:5]"
     ],
     "language": "python",
     "metadata": {},
     "outputs": [
      {
       "output_type": "stream",
       "stream": "stdout",
       "text": [
        "[3, 4, 5]\n"
       ]
      }
     ],
     "prompt_number": 13
    },
    {
     "cell_type": "code",
     "collapsed": false,
     "input": [
      "#\n",
      "print ilist + ilist  #Concatonate\n",
      "print ilist*ilist    #doesn't work"
     ],
     "language": "python",
     "metadata": {},
     "outputs": [
      {
       "ename": "TypeError",
       "evalue": "can't multiply sequence by non-int of type 'list'",
       "output_type": "pyerr",
       "traceback": [
        "\u001b[0;31m---------------------------------------------------------------------------\u001b[0m\n\u001b[0;31mTypeError\u001b[0m                                 Traceback (most recent call last)",
        "\u001b[0;32m<ipython-input-15-59d674e7a999>\u001b[0m in \u001b[0;36m<module>\u001b[0;34m()\u001b[0m\n\u001b[1;32m      1\u001b[0m \u001b[0;31m#\u001b[0m\u001b[0;34m\u001b[0m\u001b[0;34m\u001b[0m\u001b[0m\n\u001b[1;32m      2\u001b[0m \u001b[0;32mprint\u001b[0m \u001b[0milist\u001b[0m \u001b[0;34m+\u001b[0m \u001b[0milist\u001b[0m\u001b[0;34m\u001b[0m\u001b[0m\n\u001b[0;32m----> 3\u001b[0;31m \u001b[0;32mprint\u001b[0m \u001b[0milist\u001b[0m\u001b[0;34m*\u001b[0m\u001b[0milist\u001b[0m\u001b[0;34m\u001b[0m\u001b[0m\n\u001b[0m",
        "\u001b[0;31mTypeError\u001b[0m: can't multiply sequence by non-int of type 'list'"
       ]
      },
      {
       "output_type": "stream",
       "stream": "stdout",
       "text": [
        "[1, 2, 3, 4, 5, 6, 1, 2, 3, 4, 5, 6]\n"
       ]
      }
     ],
     "prompt_number": 15
    },
    {
     "cell_type": "markdown",
     "metadata": {},
     "source": [
      "***\n",
      "###Exercise 2.2\n",
      "1. Make a dictionary and experiment using different types as keys. Which containers, if any, can be keys? Why?\n",
      "\n",
      "***"
     ]
    },
    {
     "cell_type": "code",
     "collapsed": false,
     "input": [
      "idict = {'one':[1, 1, 1], 2:['2', '2'], True: [False, False, False, False], (3, 4): 'five'}\n",
      "#Tuples can be keys because they cannot be modified"
     ],
     "language": "python",
     "metadata": {},
     "outputs": [],
     "prompt_number": 19
    },
    {
     "cell_type": "markdown",
     "metadata": {},
     "source": [
      "***\n",
      "###Exercise 2.3: \n",
      "1. Does this apply to tuples? why or why not?\n",
      "    \n",
      "***"
     ]
    },
    {
     "cell_type": "code",
     "collapsed": false,
     "input": [
      "#Tuples cannot be modified, so this does not apply to tuples"
     ],
     "language": "python",
     "metadata": {},
     "outputs": []
    },
    {
     "cell_type": "markdown",
     "metadata": {},
     "source": [
      "***\n",
      "Discussion question:\n",
      "For the two examples given below, discuss whether is would be better to use a dictionary, tuple, or list. There is not necessarily one right answer. Make sure you discuss why you made your choice.\n",
      "\n",
      "1. Lottery numbers\n",
      "2. Student's grades\n",
      "\n",
      "***"
     ]
    },
    {
     "cell_type": "code",
     "collapsed": false,
     "input": [
      "#It makes sense to put lottery numbers in a list or tuple, since there is an order to the numbers and it makes sense to refernce them by index\n",
      "#You may want student grades in a dictionary, using the student's name as a key"
     ],
     "language": "python",
     "metadata": {},
     "outputs": []
    },
    {
     "cell_type": "markdown",
     "metadata": {},
     "source": [
      "***\n",
      "#Exercise 3\n",
      "1. Write an if statement that prints whether x is even or odd (hint: remember the modulus)\n",
      "\n",
      "***"
     ]
    },
    {
     "cell_type": "code",
     "collapsed": false,
     "input": [
      "x = 3\n",
      "if x%2 ==0:\n",
      "    print 'x is even'\n",
      "else:\n",
      "    print 'x is odd'"
     ],
     "language": "python",
     "metadata": {},
     "outputs": [
      {
       "output_type": "stream",
       "stream": "stdout",
       "text": [
        "x is odd\n"
       ]
      }
     ],
     "prompt_number": 21
    },
    {
     "cell_type": "markdown",
     "metadata": {},
     "source": [
      "***\n",
      "#Exercise 4:\n",
      "1. Using a loop, find the mean of [3.0, 4.0, 5.0, 2.0, 8.0, 10.0, 14.0, 16.0, 29.0]\n",
      "\n",
      "***"
     ]
    },
    {
     "cell_type": "code",
     "collapsed": false,
     "input": [
      "ilist = [3.0, 4.0, 5.0, 2.0, 8.0, 10.0, 14.0, 16.0, 29.0]\n",
      "total = 0.0\n",
      "for num in ilist:\n",
      "    total = total + num\n",
      "print total/ len(ilist)"
     ],
     "language": "python",
     "metadata": {},
     "outputs": [
      {
       "output_type": "stream",
       "stream": "stdout",
       "text": [
        "10.1111111111\n"
       ]
      }
     ],
     "prompt_number": 20
    },
    {
     "cell_type": "markdown",
     "metadata": {},
     "source": [
      "***\n",
      "#Exercise 5:\n",
      "1. Using your last exercise, create a function which calculates the mean of an input list of numbers\n",
      "\n",
      "***"
     ]
    },
    {
     "cell_type": "code",
     "collapsed": false,
     "input": [
      "ilist = [3.0, 4.0, 5.0, 2.0, 8.0, 10.0, 14.0, 16.0, 29.0]\n",
      "def find_mean(ilist):\n",
      "    total = 0.0\n",
      "    for num in ilist:\n",
      "        total = total + num\n",
      "    return total/len(ilist)"
     ],
     "language": "python",
     "metadata": {},
     "outputs": [],
     "prompt_number": 22
    },
    {
     "cell_type": "markdown",
     "metadata": {},
     "source": [
      "***\n",
      "# Exercise 6\n",
      "1. Read the file 'big_animals.txt' and print each line on which more than 10 moose were sighted.\n",
      "\n",
      "2. Turn the code for #1 into a function and use it on the files 'merida_animals.txt' and 'fergus_animals.txt'.\n",
      "\n",
      "***"
     ]
    },
    {
     "cell_type": "code",
     "collapsed": false,
     "input": [
      "ofile = open('big_animals.txt', 'r')\n",
      "all_lines = ofile.readlines()\n",
      "for iline in all_lines:\n",
      "    split_line = iline.split()\n",
      "    if split_line[2] == 'Moose':\n",
      "        if int(split_line[-1]) > 10:\n",
      "            print iline\n",
      "ofile.close()"
     ],
     "language": "python",
     "metadata": {},
     "outputs": [
      {
       "output_type": "stream",
       "stream": "stdout",
       "text": [
        "2011-04-22 15:30 Moose 37\n",
        "\n",
        "2011-05-02 03:32 Moose 14\n",
        "\n",
        "2011-05-05 07:00 Moose 20\n",
        "\n",
        "2011-05-06 19:40 Moose 31\n",
        "\n",
        "2011-05-08 01:36 Moose 19\n",
        "\n",
        "2011-05-08 09:39 Moose 35\n",
        "\n",
        "2011-05-08 10:38 Moose 11\n",
        "\n",
        "2011-05-10 11:03 Moose 15\n",
        "\n",
        "2011-05-14 15:41 Moose 12\n",
        "\n",
        "2011-05-22 14:07 Moose 30\n",
        "\n",
        "2011-05-30 12:15 Moose 11\n",
        "\n",
        "2011-05-30 19:20 Moose 25\n",
        "\n"
       ]
      }
     ],
     "prompt_number": 27
    },
    {
     "cell_type": "code",
     "collapsed": false,
     "input": [
      "def count_moose(ifile):\n",
      "    ofile = open(ifile, 'r')\n",
      "    all_lines = ofile.readlines()\n",
      "    for iline in all_lines:\n",
      "        split_line = iline.split()\n",
      "        if split_line[2] == 'Moose':\n",
      "            if int(split_line[-1]) > 10:\n",
      "                print iline"
     ],
     "language": "python",
     "metadata": {},
     "outputs": [],
     "prompt_number": 28
    },
    {
     "cell_type": "code",
     "collapsed": false,
     "input": [
      "ifile = 'big_animals.txt'\n",
      "count_moose(ifile)"
     ],
     "language": "python",
     "metadata": {},
     "outputs": [
      {
       "output_type": "stream",
       "stream": "stdout",
       "text": [
        "2011-04-22 15:30 Moose 37\n",
        "\n",
        "2011-05-02 03:32 Moose 14\n",
        "\n",
        "2011-05-05 07:00 Moose 20\n",
        "\n",
        "2011-05-06 19:40 Moose 31\n",
        "\n",
        "2011-05-08 01:36 Moose 19\n",
        "\n",
        "2011-05-08 09:39 Moose 35\n",
        "\n",
        "2011-05-08 10:38 Moose 11\n",
        "\n",
        "2011-05-10 11:03 Moose 15\n",
        "\n",
        "2011-05-14 15:41 Moose 12\n",
        "\n",
        "2011-05-22 14:07 Moose 30\n",
        "\n",
        "2011-05-30 12:15 Moose 11\n",
        "\n",
        "2011-05-30 19:20 Moose 25\n",
        "\n"
       ]
      }
     ],
     "prompt_number": 30
    },
    {
     "cell_type": "code",
     "collapsed": false,
     "input": [
      "ifile = 'fergus_animals.txt'\n",
      "count_moose(ifile)"
     ],
     "language": "python",
     "metadata": {},
     "outputs": [
      {
       "output_type": "stream",
       "stream": "stdout",
       "text": [
        "2011-05-03 13:39 Moose 16\n",
        "\n",
        "2011-05-06 15:18 Moose 29\n",
        "\n",
        "2011-05-06 13:32 Moose 20\n",
        "\n",
        "2011-05-10 18:28 Moose 28\n",
        "\n",
        "2011-05-21 10:16 Moose 32\n",
        "\n",
        "2011-05-29 01:20 Moose 29\n",
        "\n",
        "2011-06-01 21:17 Moose 27\n",
        "\n",
        "2011-06-01 14:04 Moose 17\n",
        "\n",
        "2011-06-03 14:57 Moose 33\n",
        "\n",
        "2011-06-04 17:48 Moose 11\n",
        "\n",
        "2011-06-06 09:57 Moose 12\n",
        "\n",
        "2011-06-07 09:33 Moose 40\n",
        "\n",
        "2011-06-15 08:11 Moose 19\n",
        "\n",
        "2011-06-17 05:30 Moose 21\n",
        "\n",
        "2011-06-17 20:37 Moose 42\n",
        "\n"
       ]
      }
     ],
     "prompt_number": 29
    },
    {
     "cell_type": "markdown",
     "metadata": {},
     "source": [
      "***\n",
      "#Exercise 7:\n",
      "\n",
      "1. Add a function to your count_animals module which counts the number wolverine. Don't forget you function best practices: add a doc string, use descriptive function and variable names\n",
      "\n",
      "***"
     ]
    },
    {
     "cell_type": "code",
     "collapsed": false,
     "input": [
      "def count_wolverine(ifile):\n",
      "    total = 0.0\n",
      "    ofile = open(ifile, 'r')\n",
      "    all_lines = ofile.readlines()\n",
      "    for iline in all_lines:\n",
      "        split_line = iline.split()\n",
      "        if split_line[2] == 'Wolverine':\n",
      "            total = total+int(split_line[-1])\n",
      "    return total\n",
      "            "
     ],
     "language": "python",
     "metadata": {},
     "outputs": [],
     "prompt_number": 33
    },
    {
     "cell_type": "code",
     "collapsed": false,
     "input": [
      "ifile = 'big_animals.txt'\n",
      "print count_wolverine(ifile)"
     ],
     "language": "python",
     "metadata": {},
     "outputs": [
      {
       "output_type": "stream",
       "stream": "stdout",
       "text": [
        "117.0\n"
       ]
      }
     ],
     "prompt_number": 34
    },
    {
     "cell_type": "markdown",
     "metadata": {},
     "source": [
      "***\n",
      "#Exercise 8\n",
      "\n",
      "1. Use the documentation for os to figure out how to create a directory called exercise_8\n",
      "\n",
      "***"
     ]
    },
    {
     "cell_type": "code",
     "collapsed": false,
     "input": [
      "import os\n",
      "os.mkdir('exercise_8')"
     ],
     "language": "python",
     "metadata": {},
     "outputs": [],
     "prompt_number": 35
    },
    {
     "cell_type": "code",
     "collapsed": false,
     "input": [],
     "language": "python",
     "metadata": {},
     "outputs": []
    }
   ],
   "metadata": {}
  }
 ]
}