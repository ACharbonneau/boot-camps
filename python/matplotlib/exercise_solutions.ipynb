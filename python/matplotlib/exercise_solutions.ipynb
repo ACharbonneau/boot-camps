{
 "metadata": {
  "name": "exercise_solutions"
 },
 "nbformat": 3,
 "nbformat_minor": 0,
 "worksheets": [
  {
   "cells": [
    {
     "cell_type": "markdown",
     "metadata": {},
     "source": [
      "***\n",
      "#Exercise 1\n",
      "\n",
      "1. read in cubic_data.dat\n",
      "2. fit the data with a 3rd degree polynomial\n",
      "3. plot the data as magenta circles and the fit as a dashed green line. Label you axes and title your plot\n",
      "4. (optional) add a legend\n",
      "\n",
      "***"
     ]
    },
    {
     "cell_type": "code",
     "collapsed": false,
     "input": [
      "import numpy as np\n",
      "from matplotlib import pyplot\n",
      "x, y, err = np.genfromtxt('cubic_data.dat', unpack = True)"
     ],
     "language": "python",
     "metadata": {},
     "outputs": [],
     "prompt_number": 1
    },
    {
     "cell_type": "code",
     "collapsed": false,
     "input": [
      "coeff = np.polyfit(x, y, 3)\n",
      "fit = np.polyval(coeff, x)"
     ],
     "language": "python",
     "metadata": {},
     "outputs": [],
     "prompt_number": 2
    },
    {
     "cell_type": "code",
     "collapsed": false,
     "input": [
      "pyplot.plot(x, y, 'mo')\n",
      "pyplot.plot(x, fit, 'g--')\n",
      "pyplot.xlabel('x-axis')\n",
      "pyplot.ylabel('y-axis')\n",
      "pyplot.title('Plotting example')"
     ],
     "language": "python",
     "metadata": {},
     "outputs": [
      {
       "output_type": "pyout",
       "prompt_number": 3,
       "text": [
        "<matplotlib.text.Text at 0x10508fe10>"
       ]
      }
     ],
     "prompt_number": 3
    },
    {
     "cell_type": "code",
     "collapsed": false,
     "input": [
      "pyplot.legend(['data', 'fit'], loc = 'best')"
     ],
     "language": "python",
     "metadata": {},
     "outputs": [],
     "prompt_number": 5
    },
    {
     "cell_type": "markdown",
     "metadata": {},
     "source": [
      "***\n",
      "#Exercise 2:\n",
      "\n",
      "1. Repeat Exercise 1 using a figure object and an axis object\n",
      "\n",
      "***"
     ]
    },
    {
     "cell_type": "code",
     "collapsed": false,
     "input": [
      "import numpy as np\n",
      "from matplotlib import pyplot\n",
      "x, y, err = np.genfromtxt('cubic_data.dat', unpack = True)"
     ],
     "language": "python",
     "metadata": {},
     "outputs": []
    },
    {
     "cell_type": "code",
     "collapsed": false,
     "input": [
      "coeff = np.polyfit(x, y, 3)\n",
      "fit = np.polyval(coeff, x)"
     ],
     "language": "python",
     "metadata": {},
     "outputs": []
    },
    {
     "cell_type": "code",
     "collapsed": false,
     "input": [
      "fig = pyplot.figure(1)\n",
      "ax = fig.add_subplot(1, 1, 1)\n",
      "ax.plot(x, y, 'mo')\n",
      "ax.plot(x, fit, 'g--')\n",
      "ax.set_xlabel('x-axis')\n",
      "ax.set_ylabel('y-axis')\n",
      "ax.set_title('Plotting example')"
     ],
     "language": "python",
     "metadata": {},
     "outputs": []
    },
    {
     "cell_type": "code",
     "collapsed": false,
     "input": [
      "ax.legend(['data', 'fit'], loc = 'best')"
     ],
     "language": "python",
     "metadata": {},
     "outputs": []
    },
    {
     "cell_type": "markdown",
     "metadata": {},
     "source": [
      "***\n",
      "#Exercise 3:\n",
      "1. Use your data from the previous 2 exercises to create a plot with error bars. Make your symbols black squares.\n",
      "2. Plot the fit over the data with a red dot-dashed line\n",
      "3. label your axes and title your plot\n",
      "\n",
      "***"
     ]
    },
    {
     "cell_type": "code",
     "collapsed": false,
     "input": [
      "pyplot.errorbar(x, y, err, fmt = 'ks')"
     ],
     "language": "python",
     "metadata": {},
     "outputs": []
    },
    {
     "cell_type": "code",
     "collapsed": false,
     "input": [
      "pyplot.plot(x, fit, 'r:-')"
     ],
     "language": "python",
     "metadata": {},
     "outputs": []
    },
    {
     "cell_type": "code",
     "collapsed": false,
     "input": [
      "pyplot.xlabel('x-axis')\n",
      "pyplot.ylabel('y-axis')\n",
      "pyplot.title('Plotting example')"
     ],
     "language": "python",
     "metadata": {},
     "outputs": []
    }
   ],
   "metadata": {}
  }
 ]
}