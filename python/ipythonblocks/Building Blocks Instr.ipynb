{
 "metadata": {
  "name": "Building Blocks"
 },
 "nbformat": 3,
 "nbformat_minor": 0,
 "worksheets": [
  {
   "cells": [
    {
     "cell_type": "markdown",
     "metadata": {},
     "source": [
      "After going through this set of exercises you will know how to read text files with Python, do some common operations on strings, and encapsulate code for reuse in functions."
     ]
    },
    {
     "cell_type": "code",
     "collapsed": false,
     "input": [
      "from ipythonblocks import BlockGrid"
     ],
     "language": "python",
     "metadata": {},
     "outputs": [],
     "prompt_number": 1
    },
    {
     "cell_type": "code",
     "collapsed": false,
     "input": [
      "!ls"
     ],
     "language": "python",
     "metadata": {},
     "outputs": [
      {
       "output_type": "stream",
       "stream": "stdout",
       "text": [
        "Building Blocks.ipynb            grid2.txt\r\n",
        "Colors.ipynb                     grid3.txt\r\n",
        "Playing with Blocks.ipynb        instructor_notes.md\r\n",
        "README.md                        ipythonblocks.py\r\n",
        "\u001b[34manimation\u001b[m\u001b[m                        ipythonblocks.pyc\r\n",
        "building_blocks_exercises.md     playing_with_blocks_exercises.md\r\n",
        "grid1.txt\r\n"
       ]
      }
     ],
     "prompt_number": 2
    },
    {
     "cell_type": "code",
     "collapsed": false,
     "input": [
      "!cat grid1.txt"
     ],
     "language": "python",
     "metadata": {},
     "outputs": [
      {
       "output_type": "stream",
       "stream": "stdout",
       "text": [
        "# width height\r\n",
        "3 3\r\n",
        "# block size\r\n",
        "20\r\n",
        "# initial color\r\n",
        "0 0 0\r\n",
        "# row column red green blue\r\n",
        "1 1 255 255 255\r\n"
       ]
      }
     ],
     "prompt_number": 5
    },
    {
     "cell_type": "code",
     "collapsed": false,
     "input": [
      "f = open('grid1.txt')\n",
      "lines = f.readlines()\n",
      "f.close()"
     ],
     "language": "python",
     "metadata": {},
     "outputs": [],
     "prompt_number": 6
    },
    {
     "cell_type": "code",
     "collapsed": false,
     "input": [
      "lines"
     ],
     "language": "python",
     "metadata": {},
     "outputs": [
      {
       "output_type": "pyout",
       "prompt_number": 7,
       "text": [
        "['# width height\\n',\n",
        " '3 3\\n',\n",
        " '# block size\\n',\n",
        " '20\\n',\n",
        " '# initial color\\n',\n",
        " '0 0 0\\n',\n",
        " '# row column red green blue\\n',\n",
        " '1 1 255 255 255\\n']"
       ]
      }
     ],
     "prompt_number": 7
    },
    {
     "cell_type": "code",
     "collapsed": false,
     "input": [
      "lines[1]"
     ],
     "language": "python",
     "metadata": {},
     "outputs": [
      {
       "output_type": "pyout",
       "prompt_number": 9,
       "text": [
        "'3 3\\n'"
       ]
      }
     ],
     "prompt_number": 9
    },
    {
     "cell_type": "code",
     "collapsed": false,
     "input": [
      "lines1 = lines[1].split()"
     ],
     "language": "python",
     "metadata": {},
     "outputs": [],
     "prompt_number": 11
    },
    {
     "cell_type": "code",
     "collapsed": false,
     "input": [
      "lines1"
     ],
     "language": "python",
     "metadata": {},
     "outputs": [
      {
       "output_type": "pyout",
       "prompt_number": 20,
       "text": [
        "['3', '3']"
       ]
      }
     ],
     "prompt_number": 20
    },
    {
     "cell_type": "code",
     "collapsed": false,
     "input": [
      "width = int(lines1[0])\n",
      "height = int(lines1[1])"
     ],
     "language": "python",
     "metadata": {},
     "outputs": [],
     "prompt_number": 22
    },
    {
     "cell_type": "code",
     "collapsed": false,
     "input": [
      "width, height"
     ],
     "language": "python",
     "metadata": {},
     "outputs": [
      {
       "output_type": "pyout",
       "prompt_number": 23,
       "text": [
        "(3, 3)"
       ]
      }
     ],
     "prompt_number": 23
    },
    {
     "cell_type": "code",
     "collapsed": false,
     "input": [
      "block_size = int(lines[3])"
     ],
     "language": "python",
     "metadata": {},
     "outputs": [],
     "prompt_number": 27
    },
    {
     "cell_type": "code",
     "collapsed": false,
     "input": [
      "lines5 = lines[5].split()\n",
      "red = int(lines5[0])\n",
      "green = int(lines5[1])\n",
      "blue = int(lines5[2])\n",
      "red, green, blue"
     ],
     "language": "python",
     "metadata": {},
     "outputs": [
      {
       "output_type": "pyout",
       "prompt_number": 29,
       "text": [
        "(0, 0, 0)"
       ]
      }
     ],
     "prompt_number": 29
    },
    {
     "cell_type": "code",
     "collapsed": false,
     "input": [
      "BlockGrid(width, height, fill=(red, green, blue),\n",
      "          block_size=block_size)"
     ],
     "language": "python",
     "metadata": {},
     "outputs": [
      {
       "html": [
        "<style type=\"text/css\">table.blockgrid {border: none;} .blockgrid tr {border: none;} .blockgrid td {padding: 0px;} #blocks37a38981-92af-4845-8c54-82eeba5341e8 td {border: 1px solid white;}</style><table id=\"blocks37a38981-92af-4845-8c54-82eeba5341e8\" class=\"blockgrid\"><tbody><tr><td title=\"Index: [0, 0]&#10;Color: (0, 0, 0)\" style=\"width: 20px; height: 20px;background-color: rgb(0, 0, 0);\"></td><td title=\"Index: [0, 1]&#10;Color: (0, 0, 0)\" style=\"width: 20px; height: 20px;background-color: rgb(0, 0, 0);\"></td><td title=\"Index: [0, 2]&#10;Color: (0, 0, 0)\" style=\"width: 20px; height: 20px;background-color: rgb(0, 0, 0);\"></td></tr><tr><td title=\"Index: [1, 0]&#10;Color: (0, 0, 0)\" style=\"width: 20px; height: 20px;background-color: rgb(0, 0, 0);\"></td><td title=\"Index: [1, 1]&#10;Color: (0, 0, 0)\" style=\"width: 20px; height: 20px;background-color: rgb(0, 0, 0);\"></td><td title=\"Index: [1, 2]&#10;Color: (0, 0, 0)\" style=\"width: 20px; height: 20px;background-color: rgb(0, 0, 0);\"></td></tr><tr><td title=\"Index: [2, 0]&#10;Color: (0, 0, 0)\" style=\"width: 20px; height: 20px;background-color: rgb(0, 0, 0);\"></td><td title=\"Index: [2, 1]&#10;Color: (0, 0, 0)\" style=\"width: 20px; height: 20px;background-color: rgb(0, 0, 0);\"></td><td title=\"Index: [2, 2]&#10;Color: (0, 0, 0)\" style=\"width: 20px; height: 20px;background-color: rgb(0, 0, 0);\"></td></tr></tbody></table>"
       ],
       "output_type": "pyout",
       "prompt_number": 30,
       "text": [
        "<ipythonblocks.BlockGrid at 0x11097aa10>"
       ]
      }
     ],
     "prompt_number": 30
    },
    {
     "cell_type": "code",
     "collapsed": false,
     "input": [
      "'a,s,d,f'.split(',')"
     ],
     "language": "python",
     "metadata": {},
     "outputs": [
      {
       "output_type": "pyout",
       "prompt_number": 32,
       "text": [
        "['a', 's', 'd', 'f']"
       ]
      }
     ],
     "prompt_number": 32
    },
    {
     "cell_type": "code",
     "collapsed": false,
     "input": [
      "'asdf'[1:3]"
     ],
     "language": "python",
     "metadata": {},
     "outputs": [
      {
       "output_type": "pyout",
       "prompt_number": 38,
       "text": [
        "'sd'"
       ]
      }
     ],
     "prompt_number": 38
    },
    {
     "cell_type": "code",
     "collapsed": false,
     "input": [
      "for c in 'asdf':\n",
      "    print c"
     ],
     "language": "python",
     "metadata": {},
     "outputs": [
      {
       "output_type": "stream",
       "stream": "stdout",
       "text": [
        "a\n",
        "s\n",
        "d\n",
        "f\n"
       ]
      }
     ],
     "prompt_number": 39
    },
    {
     "cell_type": "code",
     "collapsed": false,
     "input": [
      "!wc -l grid3.txt"
     ],
     "language": "python",
     "metadata": {},
     "outputs": [
      {
       "output_type": "stream",
       "stream": "stdout",
       "text": [
        "   12507 grid3.txt\r\n"
       ]
      }
     ],
     "prompt_number": 40
    },
    {
     "cell_type": "code",
     "collapsed": false,
     "input": [
      "with open('grid3.txt') as f:\n",
      "    # toss the comment line\n",
      "    f.readline()\n",
      "    \n",
      "    # width and height\n",
      "    wh = f.readline().split()\n",
      "    width = int(wh[0])\n",
      "    height = int(wh[1])\n",
      "    \n",
      "    # comment\n",
      "    f.readline()\n",
      "    \n",
      "    # block size\n",
      "    block_size = int(f.readline())\n",
      "    \n",
      "    # comment\n",
      "    f.readline()\n",
      "    \n",
      "    # initial colors\n",
      "    rgb = f.readline().split()\n",
      "    red = int(rgb[0])\n",
      "    blue = int(rgb[1])\n",
      "    green = int(rgb[2])\n",
      "    \n",
      "    # make the grid\n",
      "    grid = BlockGrid(width, height, fill=(red, green, blue), block_size=block_size)\n",
      "    \n",
      "    # comment\n",
      "    f.readline()\n",
      "    \n",
      "    # loop over the rest of the file and apply the block colors\n",
      "    for line in f:\n",
      "        bspec = line.split()\n",
      "        row = int(bspec[0])\n",
      "        col = int(bspec[1])\n",
      "        red = int(bspec[2])\n",
      "        green = int(bspec[3])\n",
      "        blue = int(bspec[4])\n",
      "        \n",
      "        grid[row, col] = (red, green, blue)\n",
      "\n",
      "# turns grid lines off\n",
      "grid.lines_on = False"
     ],
     "language": "python",
     "metadata": {},
     "outputs": [],
     "prompt_number": 43
    },
    {
     "cell_type": "code",
     "collapsed": false,
     "input": [],
     "language": "python",
     "metadata": {},
     "outputs": []
    }
   ],
   "metadata": {}
  }
 ]
}