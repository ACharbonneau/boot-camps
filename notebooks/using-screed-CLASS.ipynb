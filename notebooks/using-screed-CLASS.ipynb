{
 "metadata": {
  "name": "using-screed-CLASS"
 },
 "nbformat": 3,
 "nbformat_minor": 0,
 "worksheets": [
  {
   "cells": [
    {
     "cell_type": "code",
     "collapsed": false,
     "input": [
      "import screed"
     ],
     "language": "python",
     "metadata": {},
     "outputs": [],
     "prompt_number": 1
    },
    {
     "cell_type": "code",
     "collapsed": false,
     "input": [
      "for record in screed.open('../data/25k.fq.gz'):\n",
      "    print record.name, record.sequence, record.accuracy\n",
      "    break"
     ],
     "language": "python",
     "metadata": {},
     "outputs": [
      {
       "output_type": "stream",
       "stream": "stdout",
       "text": [
        "895:1:1:1246:14654/1 CAGGCGCCCACCACCGTGCCCTCCAACCTGATGGT ][aaX__aa[`ZUZ[NONNFNNNNNO_____^RQ_\n"
       ]
      }
     ],
     "prompt_number": 7
    },
    {
     "cell_type": "code",
     "collapsed": false,
     "input": [
      "lens = []\n",
      "for record in screed.open('../data/25k.fq.gz'):\n",
      "    length = len(record.sequence)\n",
      "    lens.append(length)"
     ],
     "language": "python",
     "metadata": {},
     "outputs": [],
     "prompt_number": 6
    },
    {
     "cell_type": "code",
     "collapsed": false,
     "input": [
      "hist(lens)"
     ],
     "language": "python",
     "metadata": {},
     "outputs": [
      {
       "output_type": "pyout",
       "prompt_number": 9,
       "text": [
        "(array([2295, 2547, 3178, 3240, 3005, 3198, 2511, 2163, 1283, 1580]),\n",
        " array([  31. ,   39.3,   47.6,   55.9,   64.2,   72.5,   80.8,   89.1,\n",
        "         97.4,  105.7,  114. ]),\n",
        " <a list of 10 Patch objects>)"
       ]
      },
      {
       "output_type": "display_data",
       "png": "[encoded data removed]",
       "text": [
        "<matplotlib.figure.Figure at 0x108266450>"
       ]
      }
     ],
     "prompt_number": 9
    },
    {
     "cell_type": "code",
     "collapsed": false,
     "input": [
      "help(hist)"
     ],
     "language": "python",
     "metadata": {},
     "outputs": [
      {
       "output_type": "stream",
       "stream": "stdout",
       "text": [
        "Help on function hist in module matplotlib.pyplot:\n",
        "\n",
        "hist(x, bins=10, range=None, normed=False, weights=None, cumulative=False, bottom=None, histtype='bar', align='mid', orientation='vertical', rwidth=None, log=False, color=None, label=None, hold=None, **kwargs)\n",
        "    call signature::\n",
        "    \n",
        "      def hist(x, bins=10, range=None, normed=False, weights=None,\n",
        "             cumulative=False, bottom=None, histtype='bar', align='mid',\n",
        "             orientation='vertical', rwidth=None, log=False,\n",
        "             color=None, label=None,\n",
        "             **kwargs):\n",
        "    \n",
        "    Compute and draw the histogram of *x*. The return value is a\n",
        "    tuple (*n*, *bins*, *patches*) or ([*n0*, *n1*, ...], *bins*,\n",
        "    [*patches0*, *patches1*,...]) if the input contains multiple\n",
        "    data.\n",
        "    \n",
        "    Multiple data can be provided via *x* as a list of datasets\n",
        "    of potentially different length ([*x0*, *x1*, ...]), or as\n",
        "    a 2-D ndarray in which each column is a dataset.  Note that\n",
        "    the ndarray form is transposed relative to the list form.\n",
        "    \n",
        "    Masked arrays are not supported at present.\n",
        "    \n",
        "    Keyword arguments:\n",
        "    \n",
        "      *bins*:\n",
        "        Either an integer number of bins or a sequence giving the\n",
        "        bins.  If *bins* is an integer, *bins* + 1 bin edges\n",
        "        will be returned, consistent with :func:`numpy.histogram`\n",
        "        for numpy version >= 1.3, and with the *new* = True argument\n",
        "        in earlier versions.\n",
        "        Unequally spaced bins are supported if *bins* is a sequence.\n",
        "    \n",
        "      *range*:\n",
        "        The lower and upper range of the bins. Lower and upper outliers\n",
        "        are ignored. If not provided, *range* is (x.min(), x.max()).\n",
        "        Range has no effect if *bins* is a sequence.\n",
        "    \n",
        "        If *bins* is a sequence or *range* is specified, autoscaling\n",
        "        is based on the specified bin range instead of the\n",
        "        range of x.\n",
        "    \n",
        "      *normed*:\n",
        "        If *True*, the first element of the return tuple will\n",
        "        be the counts normalized to form a probability density, i.e.,\n",
        "        ``n/(len(x)*dbin)``.  In a probability density, the integral of\n",
        "        the histogram should be 1; you can verify that with a\n",
        "        trapezoidal integration of the probability density function::\n",
        "    \n",
        "          pdf, bins, patches = ax.hist(...)\n",
        "          print np.sum(pdf * np.diff(bins))\n",
        "    \n",
        "        .. Note:: Until numpy release 1.5, the underlying numpy\n",
        "                  histogram function was incorrect with *normed*=*True*\n",
        "                  if bin sizes were unequal.  MPL inherited that\n",
        "                  error.  It is now corrected within MPL when using\n",
        "                  earlier numpy versions\n",
        "    \n",
        "      *weights*\n",
        "        An array of weights, of the same shape as *x*.  Each value in\n",
        "        *x* only contributes its associated weight towards the bin\n",
        "        count (instead of 1).  If *normed* is True, the weights are\n",
        "        normalized, so that the integral of the density over the range\n",
        "        remains 1.\n",
        "    \n",
        "      *cumulative*:\n",
        "        If *True*, then a histogram is computed where each bin\n",
        "        gives the counts in that bin plus all bins for smaller values.\n",
        "        The last bin gives the total number of datapoints.  If *normed*\n",
        "        is also *True* then the histogram is normalized such that the\n",
        "        last bin equals 1. If *cumulative* evaluates to less than 0\n",
        "        (e.g. -1), the direction of accumulation is reversed.  In this\n",
        "        case, if *normed* is also *True*, then the histogram is normalized\n",
        "        such that the first bin equals 1.\n",
        "    \n",
        "      *histtype*: [ 'bar' | 'barstacked' | 'step' | 'stepfilled' ]\n",
        "        The type of histogram to draw.\n",
        "    \n",
        "          - 'bar' is a traditional bar-type histogram.  If multiple data\n",
        "            are given the bars are aranged side by side.\n",
        "    \n",
        "          - 'barstacked' is a bar-type histogram where multiple\n",
        "            data are stacked on top of each other.\n",
        "    \n",
        "          - 'step' generates a lineplot that is by default\n",
        "            unfilled.\n",
        "    \n",
        "          - 'stepfilled' generates a lineplot that is by default\n",
        "            filled.\n",
        "    \n",
        "      *align*: ['left' | 'mid' | 'right' ]\n",
        "        Controls how the histogram is plotted.\n",
        "    \n",
        "          - 'left': bars are centered on the left bin edges.\n",
        "    \n",
        "          - 'mid': bars are centered between the bin edges.\n",
        "    \n",
        "          - 'right': bars are centered on the right bin edges.\n",
        "    \n",
        "      *orientation*: [ 'horizontal' | 'vertical' ]\n",
        "        If 'horizontal', :func:`~matplotlib.pyplot.barh` will be\n",
        "        used for bar-type histograms and the *bottom* kwarg will be\n",
        "        the left edges.\n",
        "    \n",
        "      *rwidth*:\n",
        "        The relative width of the bars as a fraction of the bin\n",
        "        width.  If *None*, automatically compute the width. Ignored\n",
        "        if *histtype* = 'step' or 'stepfilled'.\n",
        "    \n",
        "      *log*:\n",
        "        If *True*, the histogram axis will be set to a log scale.\n",
        "        If *log* is *True* and *x* is a 1D array, empty bins will\n",
        "        be filtered out and only the non-empty (*n*, *bins*,\n",
        "        *patches*) will be returned.\n",
        "    \n",
        "      *color*:\n",
        "        Color spec or sequence of color specs, one per\n",
        "        dataset.  Default (*None*) uses the standard line\n",
        "        color sequence.\n",
        "    \n",
        "      *label*:\n",
        "        String, or sequence of strings to match multiple\n",
        "        datasets.  Bar charts yield multiple patches per\n",
        "        dataset, but only the first gets the label, so\n",
        "        that the legend command will work as expected::\n",
        "    \n",
        "            ax.hist(10+2*np.random.randn(1000), label='men')\n",
        "            ax.hist(12+3*np.random.randn(1000), label='women', alpha=0.5)\n",
        "            ax.legend()\n",
        "    \n",
        "    kwargs are used to update the properties of the\n",
        "    :class:`~matplotlib.patches.Patch` instances returned by *hist*:\n",
        "    \n",
        "      agg_filter: unknown\n",
        "      alpha: float or None         \n",
        "      animated: [True | False]         \n",
        "      antialiased or aa: [True | False]  or None for default         \n",
        "      axes: an :class:`~matplotlib.axes.Axes` instance         \n",
        "      clip_box: a :class:`matplotlib.transforms.Bbox` instance         \n",
        "      clip_on: [True | False]         \n",
        "      clip_path: [ (:class:`~matplotlib.path.Path`,         :class:`~matplotlib.transforms.Transform`) |         :class:`~matplotlib.patches.Patch` | None ]         \n",
        "      color: matplotlib color spec\n",
        "      contains: a callable function         \n",
        "      edgecolor or ec: mpl color spec, or None for default, or 'none' for no color         \n",
        "      facecolor or fc: mpl color spec, or None for default, or 'none' for no color         \n",
        "      figure: a :class:`matplotlib.figure.Figure` instance         \n",
        "      fill: [True | False]         \n",
        "      gid: an id string         \n",
        "      hatch: [ '/' | '\\\\' | '|' | '-' | '+' | 'x' | 'o' | 'O' | '.' | '*' ]         \n",
        "      label: any string         \n",
        "      linestyle or ls: ['solid' | 'dashed' | 'dashdot' | 'dotted']         \n",
        "      linewidth or lw: float or None for default         \n",
        "      lod: [True | False]         \n",
        "      path_effects: unknown\n",
        "      picker: [None|float|boolean|callable]         \n",
        "      rasterized: [True | False | None]         \n",
        "      snap: unknown\n",
        "      transform: :class:`~matplotlib.transforms.Transform` instance         \n",
        "      url: a url string         \n",
        "      visible: [True | False]         \n",
        "      zorder: any number         \n",
        "    \n",
        "    **Example:**\n",
        "    \n",
        "    .. plot:: mpl_examples/pylab_examples/histogram_demo.py\n",
        "    \n",
        "    Additional kwargs: hold = [True|False] overrides default hold state\n",
        "\n"
       ]
      }
     ],
     "prompt_number": 10
    },
    {
     "cell_type": "code",
     "collapsed": false,
     "input": [
      "hist(lens, bins=30)"
     ],
     "language": "python",
     "metadata": {},
     "outputs": [
      {
       "output_type": "pyout",
       "prompt_number": 11,
       "text": [
        "(array([ 517, 1017,  761,  923,  607, 1017, 1307,  782, 1089,  822, 1348,\n",
        "       1070,  890,  989, 1126, 1426,  798,  974,  737, 1007,  767,  621,\n",
        "        778,  764,  677,  159,  447,  183,  232, 1165]),\n",
        " array([  31.        ,   33.76666667,   36.53333333,   39.3       ,\n",
        "         42.06666667,   44.83333333,   47.6       ,   50.36666667,\n",
        "         53.13333333,   55.9       ,   58.66666667,   61.43333333,\n",
        "         64.2       ,   66.96666667,   69.73333333,   72.5       ,\n",
        "         75.26666667,   78.03333333,   80.8       ,   83.56666667,\n",
        "         86.33333333,   89.1       ,   91.86666667,   94.63333333,\n",
        "         97.4       ,  100.16666667,  102.93333333,  105.7       ,\n",
        "        108.46666667,  111.23333333,  114.        ]),\n",
        " <a list of 30 Patch objects>)"
       ]
      },
      {
       "output_type": "display_data",
       "png": "[encoded data removed]",
       "text": [
        "<matplotlib.figure.Figure at 0x108266050>"
       ]
      }
     ],
     "prompt_number": 11
    },
    {
     "cell_type": "code",
     "collapsed": false,
     "input": [
      "help(screed.open)"
     ],
     "language": "python",
     "metadata": {},
     "outputs": [
      {
       "output_type": "stream",
       "stream": "stdout",
       "text": [
        "Help on function open_reader in module screed.openscreed:\n",
        "\n",
        "open_reader(filename, *args, **kwargs)\n",
        "    Make a best-effort guess as to how to open/parse the given sequence file.\n",
        "    \n",
        "    Deals with .gz, FASTA, and FASTQ records.\n",
        "\n"
       ]
      }
     ],
     "prompt_number": 12
    },
    {
     "cell_type": "markdown",
     "metadata": {},
     "source": [
      "We want to do two things --\n",
      "\n",
      "we want to eliminate sequences shorter than 70 bases altogether;\n",
      "we want to trim sequences longer than 70 bases down to 70 bases."
     ]
    },
    {
     "cell_type": "code",
     "collapsed": false,
     "input": [
      "seqs70 = []\n",
      "for record in screed.open('../data/25k.fq.gz'):\n",
      "    length = len(record.sequence)\n",
      "    if length >= 70:\n",
      "        new_sequence = record.sequence[:70]\n",
      "        seqs70.append((record.name, new_sequence))\n"
     ],
     "language": "python",
     "metadata": {},
     "outputs": [],
     "prompt_number": 18
    },
    {
     "cell_type": "code",
     "collapsed": false,
     "input": [
      "print len(seqs70)"
     ],
     "language": "python",
     "metadata": {},
     "outputs": [
      {
       "output_type": "stream",
       "stream": "stdout",
       "text": [
        "11861\n"
       ]
      }
     ],
     "prompt_number": 19
    },
    {
     "cell_type": "code",
     "collapsed": false,
     "input": [
      "seqs70[:10]"
     ],
     "language": "python",
     "metadata": {},
     "outputs": [
      {
       "output_type": "pyout",
       "prompt_number": 17,
       "text": [
        "[('895:1:1:1274:18571/1',\n",
        "  'AGCAGGCGAACAGCACGCCGAACAATACTGTCTTCATGCCAAACTGCTGAAAGCCGAGCACAGCAGAAAT'),\n",
        " ('895:1:1:1287:13756/1',\n",
        "  'AGGGGAAATCCATTTCAAAGCGTTCGTGATCACGATAGACCGTCACTAAGCCACTGACTGTATGGAAGCA'),\n",
        " ('895:1:1:1295:6189/1',\n",
        "  'GTCTAATCTTCGAGCAACTCCACGCTGTAGTATCATCAAGGTTCAAGATGTTAATGAATAACAATTGCGC'),\n",
        " ('895:1:1:1296:6541/1',\n",
        "  'AAACAGCTCTTCGGATTTAAAGATTACGCAGGACATCCGGCAGGCACTAGCGAAAGACAGGGAGCTGTCC'),\n",
        " ('895:1:1:1314:10430/2',\n",
        "  'CCTGACTCTCGGCCTGGCGCTTACTTTCGCGCCTGGAAGCCTCACGACACAGCAGAAGTCTGCCTGGCGC'),\n",
        " ('895:1:1:1318:10532/1',\n",
        "  'TACGCTATCAACGGGTTCGGTCGTATCGGGCGCAACGTGCTTCGCGCCATGACGCAAAAACAAGTCGAGC'),\n",
        " ('895:1:1:1327:13028/2',\n",
        "  'ACTAAGTGGCGTATACCCTTCCATTTCAACTCGCAGTTGATGGTTACCCTGAGCGAGAGACTCCAGCCGA'),\n",
        " ('895:1:1:1330:9540/2',\n",
        "  'TCCTCCATAGAGTGTTCCGAAGTAAGGTGCCAACGGGTCTTCCTTCGGGAGACTTGCCTGGTATTTTGCC'),\n",
        " ('895:1:1:1335:19932/1',\n",
        "  'GACTCACCTCACAGTCTTCCAGGCCCGCGAAAGCAATGATAGGGCAATCGAGAGGCTCTTCAGTCGCATA'),\n",
        " ('895:1:1:1338:6614/2',\n",
        "  'CACAGGTCACTCAGCGGCTTATACAGCTTGCTCCGCCTTTCGCTCGGTCGAGAACACGATCTTTCCGTCA')]"
       ]
      }
     ],
     "prompt_number": 17
    },
    {
     "cell_type": "code",
     "collapsed": false,
     "input": [],
     "language": "python",
     "metadata": {},
     "outputs": []
    }
   ],
   "metadata": {}
  }
 ]
}