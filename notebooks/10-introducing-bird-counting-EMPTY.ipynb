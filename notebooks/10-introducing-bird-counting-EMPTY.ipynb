{
 "metadata": {
  "name": "10-introducing-bird-counting-EMPTY"
 },
 "nbformat": 3,
 "nbformat_minor": 0,
 "worksheets": [
  {
   "cells": [
    {
     "cell_type": "markdown",
     "metadata": {},
     "source": [
      "# Bird counting\n",
      "\n",
      "...as a simple introduction to Python and automating analyses."
     ]
    },
    {
     "cell_type": "markdown",
     "metadata": {},
     "source": [
      "Suppose we have a spreadsheet of bird sightings by day and location, and we want to analyze and summarize the data."
     ]
    },
    {
     "cell_type": "markdown",
     "metadata": {},
     "source": [
      "Let's start by making up some data of the form we want to analyze.  In a real situation, this data would generally be taken from the real data -- but, since this is an entirely fictional example, here we're going to just construct some test data.\n",
      "\n",
      "The most important thing about this test data is that it should be *small* but *realistic*.  We'll talk about \"realistic\" later -- for now, *small* is the key thing, because it lets you think about what your code *should* be doing."
     ]
    },
    {
     "cell_type": "code",
     "collapsed": false,
     "input": [
      "%%file birds.txt\n",
      "robin,kentucky,may 23\n",
      "robin,west virginia,may 24\n",
      "seagull,maine,may 24\n",
      "chickadee,kentucky,june 1\n",
      "seagull,maine,june 1"
     ],
     "language": "python",
     "metadata": {},
     "outputs": []
    },
    {
     "cell_type": "markdown",
     "metadata": {},
     "source": [
      "Let's start by parsing the file 'birds.txt' that we created above.\n",
      "\n",
      "\"Parsing\" means \"reading in data that's in some format\".  Here, we're looking at a file that is in a spreadsheet format, with each record separated by commas -- a \"comma separated value\" format file.  Python has a built-in library, 'csv', that can read a wide variety of columnar formats.\n",
      "\n",
      "@@docs for csv"
     ]
    },
    {
     "cell_type": "markdown",
     "metadata": {},
     "source": [
      "Note that each line has an extra carriage return or newline after it, because 'print' adds it.  You can disable that by putting a ',' after 'line' in the print statement, which tells 'print' not to do that.  (Try it out!)"
     ]
    },
    {
     "cell_type": "markdown",
     "metadata": {},
     "source": [
      "There are a variety of ways to load this file into Python so that we can work with it.  One way would be to use Python string functions to break each line up by commas, but this will not always work on complicated csv files.  So instead let's use the csv\n",
      "module."
     ]
    },
    {
     "cell_type": "markdown",
     "metadata": {},
     "source": [
      "The next problem here is that we are not actually doing anything with this data other than printing it out!\n"
     ]
    },
    {
     "cell_type": "markdown",
     "metadata": {},
     "source": [
      "## Storing things in lists and asking questions of the lists"
     ]
    },
    {
     "cell_type": "markdown",
     "metadata": {},
     "source": [
      "Let's suppose we want to ask some questions -- like, \"how many chickadees did we see\"?  That's pretty easy to do with the above code --"
     ]
    },
    {
     "cell_type": "code",
     "collapsed": false,
     "input": [],
     "language": "python",
     "metadata": {},
     "outputs": []
    },
    {
     "cell_type": "markdown",
     "metadata": {},
     "source": [
      "There are two different problems with this approach, though.\n",
      "\n",
      "First, every time you want to count the number of times you see a particular bird, you have to do all the file parsing and for loop stuff enough.  While inefficient, the inefficiency isn't that bad -- the real problem is that you're virtually guaranteed to screw up if you copy and paste the code multiple times.  (The computing principle underlying all of this is \"Don't Repeat Yourself\", or \"DRY\".)  So what we really want to do is *store* the results of reading in the file *once*, and then use those results again and again.\n",
      "\n",
      "The second problem is that every time we want to count a new bird, we need to replace 'chickadee' in multiple places.  We'll fix that in a moment."
     ]
    },
    {
     "cell_type": "code",
     "collapsed": false,
     "input": [],
     "language": "python",
     "metadata": {},
     "outputs": []
    },
    {
     "cell_type": "markdown",
     "metadata": {},
     "source": [
      "OK, so here we're using a list to keep track of all of the birds and then we're just using a feature of lists in Python to ask for the counts of whatever bird we're interested in.  Good stuff.\n",
      "\n",
      "What next?  Let's solve the next problem, which is that we kind of want to wrap all of this up nicely so that we can reuse the code generically -- without specifying either the specific filename in advance, or which bird we want to count."
     ]
    },
    {
     "cell_type": "code",
     "collapsed": false,
     "input": [],
     "language": "python",
     "metadata": {},
     "outputs": []
    },
    {
     "cell_type": "markdown",
     "metadata": {},
     "source": [
      "A few things to note -- the functions are basically copy-paste from working code, just substituting variables in where we want to be generic.  Also, we're naming the functions in nice understandable ways.  And once you have them written, you can just leave 'em alone and use them again and again."
     ]
    },
    {
     "cell_type": "markdown",
     "metadata": {},
     "source": [
      "## Making life more difficult for ourselves - expanding \"birdlist\".\n"
     ]
    },
    {
     "cell_type": "markdown",
     "metadata": {},
     "source": [
      "Notice that 'birdlist', above, doesn't contain all of the information in the 'birds.txt' file -- it just has the first column.  Let's fix that."
     ]
    },
    {
     "cell_type": "code",
     "collapsed": false,
     "input": [],
     "language": "python",
     "metadata": {},
     "outputs": []
    },
    {
     "cell_type": "code",
     "collapsed": false,
     "input": [],
     "language": "python",
     "metadata": {},
     "outputs": []
    },
    {
     "cell_type": "markdown",
     "metadata": {},
     "source": [
      "Here what we are doing is storing multiple values in something called a 'tuple', which is basically just a comma-seperated set of values, in a list.  This list is essentially identical to what we're reading out of the file; you can iterate over it like so:"
     ]
    },
    {
     "cell_type": "code",
     "collapsed": false,
     "input": [],
     "language": "python",
     "metadata": {},
     "outputs": []
    },
    {
     "cell_type": "markdown",
     "metadata": {},
     "source": [
      "Our new problem, however, is that we cannot just use 'birdlist2.count(bird)' any more, because birdlist2 contains far more than birds -- it also contains the other information.  So what do we do?\n",
      "\n",
      "We rewrite print_birdcount appropriately, is what!"
     ]
    },
    {
     "cell_type": "code",
     "collapsed": false,
     "input": [],
     "language": "python",
     "metadata": {},
     "outputs": []
    },
    {
     "cell_type": "markdown",
     "metadata": {},
     "source": [
      "We can also write generic functions to sort things out by state, etc, by filtering the list on various rules.  Let's grab all the birds seen in kentucky:"
     ]
    },
    {
     "cell_type": "code",
     "collapsed": false,
     "input": [],
     "language": "python",
     "metadata": {},
     "outputs": []
    },
    {
     "cell_type": "markdown",
     "metadata": {},
     "source": [
      "...and, since we're getting the birds out in the same form as we're loading them in -- as lists of 3-tuples (bird, state, day), we can now apply 'print_birdcount2' as we wish:"
     ]
    },
    {
     "cell_type": "code",
     "collapsed": false,
     "input": [],
     "language": "python",
     "metadata": {},
     "outputs": []
    },
    {
     "cell_type": "markdown",
     "metadata": {},
     "source": [
      "You might well ask yourself, why on earth are we doing all of this to count a list of six bird entries!?  Because now we can count *much* bigger lists, entirely automatically!"
     ]
    },
    {
     "cell_type": "markdown",
     "metadata": {},
     "source": [
      "## A bigger data set\n",
      "\n"
     ]
    },
    {
     "cell_type": "code",
     "collapsed": false,
     "input": [],
     "language": "python",
     "metadata": {},
     "outputs": []
    },
    {
     "cell_type": "markdown",
     "metadata": {},
     "source": [
      "...and all of the functions etc above will work on this."
     ]
    },
    {
     "cell_type": "markdown",
     "metadata": {},
     "source": [
      "## Using sets and dictionaries\n"
     ]
    },
    {
     "cell_type": "markdown",
     "metadata": {},
     "source": [
      "So far we've been counting specific birds.  What if we just want to get the count for *all* birds rather than just one at a time??\n",
      "\n",
      "We can do this easily like so:"
     ]
    },
    {
     "cell_type": "code",
     "collapsed": false,
     "input": [],
     "language": "python",
     "metadata": {},
     "outputs": []
    },
    {
     "cell_type": "markdown",
     "metadata": {},
     "source": [
      "But you probably see the hitch -- each bird count is printed as many times as it's in the list!  So, now what?\n",
      "\n",
      "We can get a *unique* list of birds by using a set, a type of Python data structure that collapses lists down into sets that contain at most one of anything:"
     ]
    },
    {
     "cell_type": "code",
     "collapsed": false,
     "input": [],
     "language": "python",
     "metadata": {},
     "outputs": []
    },
    {
     "cell_type": "code",
     "collapsed": false,
     "input": [],
     "language": "python",
     "metadata": {},
     "outputs": []
    },
    {
     "cell_type": "markdown",
     "metadata": {},
     "source": [
      "This all does get a little unwieldy, though, when we're talking about thousands, hundreds of thousands, or millions of records.  In that case we might just want to count *all* of the birds once, and then save the results.  Is there a way to do that?\n",
      "\n",
      "The standard way in Python to store this kind of association -- really, *any* kind of association -- is to use a dictonary, which is just a way of looking up *values* by looking at their *keys*.  To see this in action, here's a simple example:"
     ]
    },
    {
     "cell_type": "code",
     "collapsed": false,
     "input": [],
     "language": "python",
     "metadata": {},
     "outputs": []
    },
    {
     "cell_type": "markdown",
     "metadata": {},
     "source": [
      "This now gives us the ability to retrieve the number of birds from 'd' by asking for the value associated with that birdname:"
     ]
    },
    {
     "cell_type": "code",
     "collapsed": false,
     "input": [],
     "language": "python",
     "metadata": {},
     "outputs": []
    },
    {
     "cell_type": "markdown",
     "metadata": {},
     "source": [
      "But how do we *construct* such a dictionary?  The simplest way (not necessarily the most efficient, but that's ok) is to just use our bits and bobs of code above, and copy paste."
     ]
    },
    {
     "cell_type": "code",
     "collapsed": false,
     "input": [],
     "language": "python",
     "metadata": {},
     "outputs": []
    },
    {
     "cell_type": "code",
     "collapsed": false,
     "input": [],
     "language": "python",
     "metadata": {},
     "outputs": []
    },
    {
     "cell_type": "markdown",
     "metadata": {},
     "source": [
      "The above code is *really* inefficient, though.  You may notice that it reads through all of the entries in birdlist2 once for each bird_type.  Is there a better way to do it?\n",
      "\n",
      "Yes -- you can *update* the values in the dictionary as you go."
     ]
    },
    {
     "cell_type": "code",
     "collapsed": false,
     "input": [],
     "language": "python",
     "metadata": {},
     "outputs": []
    },
    {
     "cell_type": "markdown",
     "metadata": {},
     "source": [
      "A good rule of thumb in Python is that any time you have nested loops, you might be able to use a dictionary to do the same thing, but more efficiently."
     ]
    },
    {
     "cell_type": "markdown",
     "metadata": {},
     "source": [
      "## Parsing dates\n",
      "\n",
      "It's all well and good to look at strings like we are, but what if we want to graph things by day collected?  We can't just use the dates as they are, because they're not numbers that you can graph by.  What we have to do is convert them into a format that Python can compare.  How?\n",
      "\n",
      "We can use the function datetime.strptime, docs here: http://docs.python.org/3.3/library/datetime.html?highlight=strptime#strftime-and-strptime-behavior"
     ]
    },
    {
     "cell_type": "code",
     "collapsed": false,
     "input": [],
     "language": "python",
     "metadata": {},
     "outputs": []
    },
    {
     "cell_type": "code",
     "collapsed": false,
     "input": [],
     "language": "python",
     "metadata": {},
     "outputs": []
    },
    {
     "cell_type": "code",
     "collapsed": false,
     "input": [],
     "language": "python",
     "metadata": {},
     "outputs": []
    },
    {
     "cell_type": "code",
     "collapsed": false,
     "input": [],
     "language": "python",
     "metadata": {},
     "outputs": []
    },
    {
     "cell_type": "markdown",
     "metadata": {},
     "source": [
      "Hey, that looks OK -- let's transform the list into something we want to plot, birds by day:"
     ]
    },
    {
     "cell_type": "code",
     "collapsed": false,
     "input": [],
     "language": "python",
     "metadata": {},
     "outputs": []
    },
    {
     "cell_type": "code",
     "collapsed": false,
     "input": [],
     "language": "python",
     "metadata": {},
     "outputs": []
    },
    {
     "cell_type": "markdown",
     "metadata": {},
     "source": [
      "## Doing some minimal graphing"
     ]
    },
    {
     "cell_type": "code",
     "collapsed": false,
     "input": [],
     "language": "python",
     "metadata": {},
     "outputs": []
    },
    {
     "cell_type": "code",
     "collapsed": false,
     "input": [],
     "language": "python",
     "metadata": {},
     "outputs": []
    },
    {
     "cell_type": "code",
     "collapsed": false,
     "input": [],
     "language": "python",
     "metadata": {},
     "outputs": []
    },
    {
     "cell_type": "code",
     "collapsed": false,
     "input": [],
     "language": "python",
     "metadata": {},
     "outputs": []
    },
    {
     "cell_type": "code",
     "collapsed": false,
     "input": [],
     "language": "python",
     "metadata": {},
     "outputs": []
    },
    {
     "cell_type": "markdown",
     "metadata": {},
     "source": [
      "Let's do this for a BIG bird list next."
     ]
    },
    {
     "cell_type": "code",
     "collapsed": false,
     "input": [],
     "language": "python",
     "metadata": {},
     "outputs": []
    },
    {
     "cell_type": "code",
     "collapsed": false,
     "input": [],
     "language": "python",
     "metadata": {},
     "outputs": []
    },
    {
     "cell_type": "code",
     "collapsed": false,
     "input": [],
     "language": "python",
     "metadata": {},
     "outputs": []
    },
    {
     "cell_type": "code",
     "collapsed": false,
     "input": [],
     "language": "python",
     "metadata": {},
     "outputs": []
    },
    {
     "cell_type": "markdown",
     "metadata": {},
     "source": [
      "## Outputting csv"
     ]
    },
    {
     "cell_type": "markdown",
     "metadata": {},
     "source": [
      "This is all fine and well, you say, but your advisor wants a spreadsheet.  Or you want one.  Let's say, you want to take all your big bird list and just print out the ones that are from kentucky into a spreadsheet.  How would you do that?\n",
      "\n",
      "Basically, you want to create a 'csv' file, and, conveniently, the 'csv' module contains routines to help do that!  Instead of 'csv.reader', you use 'csv.writer'."
     ]
    },
    {
     "cell_type": "code",
     "collapsed": false,
     "input": [],
     "language": "python",
     "metadata": {},
     "outputs": []
    },
    {
     "cell_type": "code",
     "collapsed": false,
     "input": [],
     "language": "python",
     "metadata": {},
     "outputs": []
    },
    {
     "cell_type": "code",
     "collapsed": false,
     "input": [],
     "language": "python",
     "metadata": {},
     "outputs": []
    },
    {
     "cell_type": "code",
     "collapsed": false,
     "input": [],
     "language": "python",
     "metadata": {},
     "outputs": []
    },
    {
     "cell_type": "markdown",
     "metadata": {},
     "source": [
      "yep!"
     ]
    },
    {
     "cell_type": "markdown",
     "metadata": {},
     "source": [
      "## Correlating across multiple files"
     ]
    },
    {
     "cell_type": "markdown",
     "metadata": {},
     "source": [
      "You might be thinking to yourself, sure, I know how to do all of that in Excel.  And heck, maybe you do.\n",
      "\n",
      "But there are three reasons you might not *want* to do it in Excel.\n",
      "\n",
      "First, by doing everything manually, your work increases in direct proportion to the number of things you want to do to the data.\n",
      "\n",
      "Second, by doing everything manually, you cause errors that give you the wrong results.\n",
      "\n",
      "And third, the trickier the analysis, the more likely it is that you introduce errors.\n",
      "\n",
      "Well, and fourth, Excel has an upper limit of 2 million rows of data."
     ]
    },
    {
     "cell_type": "markdown",
     "metadata": {},
     "source": [
      "One thing that I would never want to do with Excel is integrate two different files.  (I *have* done it, which is why I never want to do it again!)"
     ]
    },
    {
     "cell_type": "code",
     "collapsed": false,
     "input": [
      "%%file bird-weights.txt\n",
      "robin,5\n",
      "seagull,12\n",
      "chickadee,4"
     ],
     "language": "python",
     "metadata": {},
     "outputs": []
    },
    {
     "cell_type": "markdown",
     "metadata": {},
     "source": [
      "Now suppose we want to create a combined list of birds, states, weights, and dates?\n",
      "\n",
      "This kind of merge can be done by using a dictionary to associate the birds with their weights, and then output everything to another file."
     ]
    },
    {
     "cell_type": "code",
     "collapsed": false,
     "input": [],
     "language": "python",
     "metadata": {},
     "outputs": []
    },
    {
     "cell_type": "code",
     "collapsed": false,
     "input": [],
     "language": "python",
     "metadata": {},
     "outputs": []
    },
    {
     "cell_type": "code",
     "collapsed": false,
     "input": [],
     "language": "python",
     "metadata": {},
     "outputs": []
    },
    {
     "cell_type": "code",
     "collapsed": false,
     "input": [],
     "language": "python",
     "metadata": {},
     "outputs": []
    },
    {
     "cell_type": "code",
     "collapsed": false,
     "input": [],
     "language": "python",
     "metadata": {},
     "outputs": []
    },
    {
     "cell_type": "markdown",
     "metadata": {},
     "source": [
      "## Some basic principles of this kind of computing\n",
      "\n",
      "Try to make your code easy to read.  Rather than commenting everything to death, make your function and variable names descriptive.\n",
      "\n",
      "Test out your functions on small data sets where you know the answer.\n",
      "\n",
      "The third time you find yourself performing the same query or merge, write a function to do it instead.  Corrollary: don't overplan in advance! Only do this the third time!"
     ]
    }
   ],
   "metadata": {}
  }
 ]
}