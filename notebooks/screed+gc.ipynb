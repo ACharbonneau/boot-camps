{
 "metadata": {
  "name": "screed+gc"
 },
 "nbformat": 3,
 "nbformat_minor": 0,
 "worksheets": [
  {
   "cells": [
    {
     "cell_type": "code",
     "collapsed": false,
     "input": [
      "import calc_seq"
     ],
     "language": "python",
     "metadata": {},
     "outputs": [],
     "prompt_number": 1
    },
    {
     "cell_type": "code",
     "collapsed": false,
     "input": [
      "dir(calc_seq)"
     ],
     "language": "python",
     "metadata": {},
     "outputs": [
      {
       "output_type": "pyout",
       "prompt_number": 2,
       "text": [
        "['__builtins__',\n",
        " '__doc__',\n",
        " '__file__',\n",
        " '__name__',\n",
        " '__package__',\n",
        " 'calc_at',\n",
        " 'calc_gc']"
       ]
      }
     ],
     "prompt_number": 2
    },
    {
     "cell_type": "code",
     "collapsed": false,
     "input": [
      "help(calc_seq.calc_gc)"
     ],
     "language": "python",
     "metadata": {},
     "outputs": [
      {
       "output_type": "stream",
       "stream": "stdout",
       "text": [
        "Help on function calc_gc in module calc_seq:\n",
        "\n",
        "calc_gc(sequence)\n",
        "    Calculates the GC content of the given sequence\n",
        "\n"
       ]
      }
     ],
     "prompt_number": 3
    },
    {
     "cell_type": "code",
     "collapsed": false,
     "input": [
      "help(calc_seq)"
     ],
     "language": "python",
     "metadata": {},
     "outputs": [
      {
       "output_type": "stream",
       "stream": "stdout",
       "text": [
        "Help on module calc_seq:\n",
        "\n",
        "NAME\n",
        "    calc_seq - This module contains useful summary functions on sequence composition\n",
        "\n",
        "FILE\n",
        "    /Users/t/dev/2013-swc-uw/notebooks/calc_seq.py\n",
        "\n",
        "FUNCTIONS\n",
        "    calc_at(sequence)\n",
        "        Calculates the AT content of the given sequence\n",
        "    \n",
        "    calc_gc(sequence)\n",
        "        Calculates the GC content of the given sequence\n",
        "\n",
        "\n"
       ]
      }
     ],
     "prompt_number": 4
    },
    {
     "cell_type": "code",
     "collapsed": false,
     "input": [
      "import screed\n"
     ],
     "language": "python",
     "metadata": {},
     "outputs": [],
     "prompt_number": 5
    },
    {
     "cell_type": "code",
     "collapsed": false,
     "input": [
      "gc_list = []\n",
      "for record in screed.open('../data/25k.fq.gz'):\n",
      "    gc = calc_seq.calc_gc(record.sequence)\n",
      "    gc_list.append(gc)"
     ],
     "language": "python",
     "metadata": {},
     "outputs": [],
     "prompt_number": 6
    },
    {
     "cell_type": "code",
     "collapsed": false,
     "input": [
      "print len(gc_list)\n",
      "gc_list[:2]"
     ],
     "language": "python",
     "metadata": {},
     "outputs": [
      {
       "output_type": "stream",
       "stream": "stdout",
       "text": [
        "25000\n"
       ]
      },
      {
       "output_type": "pyout",
       "prompt_number": 11,
       "text": [
        "[0.6857142857142857, 0.6470588235294118]"
       ]
      }
     ],
     "prompt_number": 11
    },
    {
     "cell_type": "code",
     "collapsed": false,
     "input": [
      "arrays = hist(gc_list, bins=100)\n"
     ],
     "language": "python",
     "metadata": {},
     "outputs": [
      {
       "output_type": "display_data",
       "png": "[encoded data removed]",
       "text": [
        "<matplotlib.figure.Figure at 0x10b9edc50>"
       ]
      }
     ],
     "prompt_number": 17
    },
    {
     "cell_type": "code",
     "collapsed": false,
     "input": [
      "len(arrays)\n",
      "arrays[2][0]"
     ],
     "language": "python",
     "metadata": {},
     "outputs": [
      {
       "output_type": "pyout",
       "prompt_number": 25,
       "text": [
        "<matplotlib.patches.Rectangle at 0x109c98d90>"
       ]
      }
     ],
     "prompt_number": 25
    },
    {
     "cell_type": "markdown",
     "metadata": {},
     "source": [
      "## Tricky and mildly annoying but usually convenient ipynb things"
     ]
    },
    {
     "cell_type": "code",
     "collapsed": false,
     "input": [
      "# the rule: the return value of the last statement in the cell is printed out\n",
      "a = 5\n"
     ],
     "language": "python",
     "metadata": {},
     "outputs": [],
     "prompt_number": 15
    },
    {
     "cell_type": "code",
     "collapsed": false,
     "input": [
      "a"
     ],
     "language": "python",
     "metadata": {},
     "outputs": [
      {
       "output_type": "pyout",
       "prompt_number": 16,
       "text": [
        "5"
       ]
      }
     ],
     "prompt_number": 16
    },
    {
     "cell_type": "code",
     "collapsed": false,
     "input": [
      "%loadpy http://matplotlib.org/mpl_examples/api/demo_affine_image.py"
     ],
     "language": "python",
     "metadata": {},
     "outputs": [],
     "prompt_number": 28
    },
    {
     "cell_type": "code",
     "collapsed": false,
     "input": [
      "#!/usr/bin/env python\n",
      "\n",
      "\n",
      "\"\"\"\n",
      "For the backends that supports draw_image with optional affine\n",
      "transform (e.g., agg, ps backend), the image of the output should\n",
      "have its boundary matches the red rectangles.\n",
      "\"\"\"\n",
      "\n",
      "import numpy as np\n",
      "import matplotlib.cm as cm\n",
      "import matplotlib.mlab as mlab\n",
      "import matplotlib.pyplot as plt\n",
      "import matplotlib.transforms as mtransforms\n",
      "\n",
      "def get_image():\n",
      "    delta = 0.25\n",
      "    x = y = np.arange(-3.0, 3.0, delta)\n",
      "    X, Y = np.meshgrid(x, y)\n",
      "    Z1 = mlab.bivariate_normal(X, Y, 1.0, 1.0, 0.0, 0.0)\n",
      "    Z2 = mlab.bivariate_normal(X, Y, 1.5, 0.5, 1, 1)\n",
      "    Z = Z2-Z1  # difference of Gaussians\n",
      "    return Z\n",
      "\n",
      "def imshow_affine(ax, z, *kl, **kwargs):\n",
      "    im = ax.imshow(z, *kl, **kwargs)\n",
      "    x1, x2, y1, y2 = im.get_extent()\n",
      "    im._image_skew_coordinate = (x2, y1)\n",
      "    return im\n",
      "\n",
      "\n",
      "if 1:\n",
      "\n",
      "    # image rotation\n",
      "    \n",
      "    ax1 = plt.subplot(121)\n",
      "    Z = get_image()\n",
      "    im1 = imshow_affine(ax1, Z, interpolation='none', cmap=cm.jet,\n",
      "                        origin='lower',\n",
      "                        extent=[-2, 4, -3, 2], clip_on=True)\n",
      "\n",
      "    trans_data2 = mtransforms.Affine2D().rotate_deg(30) + ax1.transData\n",
      "    im1.set_transform(trans_data2)\n",
      "\n",
      "    # display intended extent of the image\n",
      "    x1, x2, y1, y2 = im1.get_extent()\n",
      "    x3, y3 = x2, y1\n",
      "\n",
      "    ax1.plot([x1, x2, x2, x1, x1], [y1, y1, y2, y2, y1], \"r--\", lw=3,\n",
      "             transform=trans_data2)\n",
      "\n",
      "    ax1.set_xlim(-3, 5)\n",
      "    ax1.set_ylim(-4, 4)\n",
      "\n",
      "\n",
      "    # image skew\n",
      "\n",
      "    ax2 = plt.subplot(122)\n",
      "    im2 = ax2.imshow(Z, interpolation='none', cmap=cm.jet,\n",
      "                     origin='lower',\n",
      "                     extent=[-2, 4, -3, 2], clip_on=True)\n",
      "    im2._image_skew_coordinate = (3, -2)\n",
      "\n",
      "\n",
      "    plt.show()\n",
      "    #plt.savefig(\"demo_affine_image\")\n"
     ],
     "language": "python",
     "metadata": {},
     "outputs": [
      {
       "output_type": "display_data",
       "png": "[encoded data removed]",
       "text": [
        "<matplotlib.figure.Figure at 0x10c330610>"
       ]
      }
     ],
     "prompt_number": 29
    },
    {
     "cell_type": "code",
     "collapsed": false,
     "input": [
      "\n",
      "\n",
      "<!DOCTYPE html PUBLIC \"-//W3C//DTD XHTML 1.0 Transitional//EN\"\n",
      "  \"http://www.w3.org/TR/xhtml1/DTD/xhtml1-transitional.dtd\">\n",
      "\n",
      "\n",
      "<html xmlns=\"http://www.w3.org/1999/xhtml\">\n",
      "  <head>\n",
      "    <meta http-equiv=\"Content-Type\" content=\"text/html; charset=utf-8\" />\n",
      "    \n",
      "    <title>api example code: demo_affine_image.py &mdash; Matplotlib 1.2.0 documentation</title>\n",
      "    \n",
      "    <link rel=\"stylesheet\" href=\"../../_static/mpl.css\" type=\"text/css\" />\n",
      "    <link rel=\"stylesheet\" href=\"../../_static/pygments.css\" type=\"text/css\" />\n",
      "    \n",
      "    <script type=\"text/javascript\">\n",
      "      var DOCUMENTATION_OPTIONS = {\n",
      "        URL_ROOT:    '../../',\n",
      "        VERSION:     '1.2.0',\n",
      "        COLLAPSE_INDEX: false,\n",
      "        FILE_SUFFIX: '.html',\n",
      "        HAS_SOURCE:  true\n",
      "      };\n",
      "    </script>\n",
      "    <script type=\"text/javascript\" src=\"../../_static/jquery.js\"></script>\n",
      "    <script type=\"text/javascript\" src=\"../../_static/underscore.js\"></script>\n",
      "    <script type=\"text/javascript\" src=\"../../_static/doctools.js\"></script>\n",
      "    <link rel=\"search\" type=\"application/opensearchdescription+xml\"\n",
      "          title=\"Search within Matplotlib 1.2.0 documentation\"\n",
      "          href=\"../../_static/opensearch.xml\"/>\n",
      "    <link rel=\"top\" title=\"Matplotlib 1.2.0 documentation\" href=\"../../index.html\" /> \n",
      "  </head>\n",
      "  <body>\n",
      "<!-- Piwik -->\n",
      "<script type=\"text/javascript\">\n",
      "if (\"matplotlib.sourceforge.net\" == document.location.hostname ||\n",
      "    \"matplotlib.sf.net\" == document.location.hostname) {\n",
      "  var pkBaseURL = ((\"https:\" == document.location.protocol) ? \"https://apps.sourceforge.net/piwik/matplotlib/\" : \"http://apps.sourceforge.net/piwik/matplotlib/\");\n",
      "  document.write(unescape(\"%3Cscript src='\" + pkBaseURL + \"piwik.js' type='text/javascript'%3E%3C/script%3E\"));\n",
      "}\n",
      "</script>\n",
      "<script type=\"text/javascript\">\n",
      "if (\"matplotlib.sourceforge.net\" == document.location.hostname ||\n",
      "    \"matplotlib.sf.net\" == document.location.hostname) {\n",
      "  piwik_action_name = '';\n",
      "  piwik_idsite = 1;\n",
      "  piwik_url = pkBaseURL + \"piwik.php\";\n",
      "  piwik_log(piwik_action_name, piwik_idsite, piwik_url);\n",
      "  document.write(unescape('%3Cobject%3E%3Cnoscript%3E%3Cp%3E%3Cimg src=\"http://apps.sourceforge.net/piwik/matplotlib/piwik.php?idsite=1\" alt=\"piwik\"/%3E%3C/p%3E%3C/noscript%3E%3C/object%3E'));\n",
      "}\n",
      "</script>\n",
      "<!-- End Piwik Tag -->\n",
      "<link rel=\"shortcut icon\" href=\"_static/favicon.ico\">\n",
      "\n",
      "<!-- The \"Fork me on github\" ribbon -->\n",
      "<img style=\"float: right; margin-bottom: -40px; top: 0; right: 0; border: 0;\" src=\"https://s3.amazonaws.com/github/ribbons/forkme_right_orange_ff7600.png\" usemap=\"#ribbonmap\"/>\n",
      "<map name=\"ribbonmap\">\n",
      "    <area shape=\"poly\" coords=\"15,0,148,-1,148,135\" href=\"https://github.com/matplotlib/matplotlib\" title=\"Fork me on GitHub\" />\n",
      "</map>\n",
      "\n",
      "<div style=\"background-color: white; text-align: left; padding: 10px 10px 15px 15px\">\n",
      "<a href=\"../../index.html\"><img src=\"../../_static/logo2.png\" border=\"0\" alt=\"matplotlib\"/></a>\n",
      "</div>\n",
      "\n",
      "\n",
      "    <div class=\"related\">\n",
      "      <h3>Navigation</h3>\n",
      "      <ul>\n",
      "        <li class=\"right\" style=\"margin-right: 10px\">\n",
      "          <a href=\"../../genindex.html\" title=\"General Index\"\n",
      "             accesskey=\"I\">index</a></li>\n",
      "        <li class=\"right\" >\n",
      "          <a href=\"../../py-modindex.html\" title=\"Python Module Index\"\n",
      "             >modules</a> |</li>\n",
      "        <li><a href=\"../../index.html\">home</a>|&nbsp;</li>\n",
      "        <li><a href=\"http://www.matplotlib.org/downloads.html\">downloads</a>|&nbsp;</li>\n",
      "        <li><a href=\"../../search.html\">search</a>|&nbsp;</li>\n",
      "        <li><a href=\"../index.html\">examples</a>|&nbsp;</li>\n",
      "        <li><a href=\"../../gallery.html\">gallery</a>|&nbsp;</li>\n",
      "        <li><a href=\"../../citing.html\">citation</a>|&nbsp;</li>\n",
      "        <li><a href=\"../../contents.html\">docs</a> &raquo;</li>\n",
      " \n",
      "      </ul>\n",
      "    </div>\n",
      "\n",
      "      <div class=\"sphinxsidebar\">\n",
      "        <div class=\"sphinxsidebarwrapper\">\n",
      "  <h3>This Page</h3>\n",
      "  <ul class=\"this-page-menu\">\n",
      "    <li><a href=\"../../_sources/examples/api/demo_affine_image.txt\"\n",
      "           rel=\"nofollow\">Show Source</a></li>\n",
      "  </ul>\n",
      "<div id=\"searchbox\" style=\"display: none\">\n",
      "  <h3>Quick search</h3>\n",
      "    <form class=\"search\" action=\"../../search.html\" method=\"get\">\n",
      "      <input type=\"text\" name=\"q\" />\n",
      "      <input type=\"submit\" value=\"Go\" />\n",
      "      <input type=\"hidden\" name=\"check_keywords\" value=\"yes\" />\n",
      "      <input type=\"hidden\" name=\"area\" value=\"default\" />\n",
      "    </form>\n",
      "    <p class=\"searchtip\" style=\"font-size: 90%\">\n",
      "    Enter search terms or a module, class or function name.\n",
      "    </p>\n",
      "</div>\n",
      "<script type=\"text/javascript\">$('#searchbox').show(0);</script>\n",
      "        </div>\n",
      "      </div>\n",
      "\n",
      "    <div class=\"document\">\n",
      "      <div class=\"documentwrapper\">\n",
      "        <div class=\"bodywrapper\">\n",
      "          <div class=\"body\">\n",
      "            \n",
      "  <div class=\"section\" id=\"api-example-code-demo-affine-image-py\">\n",
      "<span id=\"api-demo-affine-image\"></span><h1>api example code: demo_affine_image.py<a class=\"headerlink\" href=\"#api-example-code-demo-affine-image-py\" title=\"Permalink to this headline\">\u00b6</a></h1>\n",
      "<p>(<a class=\"reference external\" href=\"../../mpl_examples/api/demo_affine_image.py\">Source code</a>, <a class=\"reference external\" href=\"../../mpl_examples/api/demo_affine_image_00_00.png\">png</a>, <a class=\"reference external\" href=\"../../mpl_examples/api/demo_affine_image_00_00.hires.png\">hires.png</a>, <a class=\"reference external\" href=\"../../mpl_examples/api/demo_affine_image_00_00.pdf\">pdf</a>)</p>\n",
      "<div class=\"figure\">\n",
      "<img alt=\"../../_images/demo_affine_image_00_00.png\" src=\"../../_images/demo_affine_image_00_00.png\" />\n",
      "</div>\n",
      "<p>()</p>\n",
      "<div class=\"highlight-python\"><div class=\"highlight\"><pre><span class=\"c\">#!/usr/bin/env python</span>\n",
      "\n",
      "\n",
      "<span class=\"sd\">&quot;&quot;&quot;</span>\n",
      "<span class=\"sd\">For the backends that supports draw_image with optional affine</span>\n",
      "<span class=\"sd\">transform (e.g., agg, ps backend), the image of the output should</span>\n",
      "<span class=\"sd\">have its boundary matches the red rectangles.</span>\n",
      "<span class=\"sd\">&quot;&quot;&quot;</span>\n",
      "\n",
      "<span class=\"kn\">import</span> <span class=\"nn\">numpy</span> <span class=\"kn\">as</span> <span class=\"nn\">np</span>\n",
      "<span class=\"kn\">import</span> <span class=\"nn\">matplotlib.cm</span> <span class=\"kn\">as</span> <span class=\"nn\">cm</span>\n",
      "<span class=\"kn\">import</span> <span class=\"nn\">matplotlib.mlab</span> <span class=\"kn\">as</span> <span class=\"nn\">mlab</span>\n",
      "<span class=\"kn\">import</span> <span class=\"nn\">matplotlib.pyplot</span> <span class=\"kn\">as</span> <span class=\"nn\">plt</span>\n",
      "<span class=\"kn\">import</span> <span class=\"nn\">matplotlib.transforms</span> <span class=\"kn\">as</span> <span class=\"nn\">mtransforms</span>\n",
      "\n",
      "<span class=\"k\">def</span> <span class=\"nf\">get_image</span><span class=\"p\">():</span>\n",
      "    <span class=\"n\">delta</span> <span class=\"o\">=</span> <span class=\"mf\">0.25</span>\n",
      "    <span class=\"n\">x</span> <span class=\"o\">=</span> <span class=\"n\">y</span> <span class=\"o\">=</span> <span class=\"n\">np</span><span class=\"o\">.</span><span class=\"n\">arange</span><span class=\"p\">(</span><span class=\"o\">-</span><span class=\"mf\">3.0</span><span class=\"p\">,</span> <span class=\"mf\">3.0</span><span class=\"p\">,</span> <span class=\"n\">delta</span><span class=\"p\">)</span>\n",
      "    <span class=\"n\">X</span><span class=\"p\">,</span> <span class=\"n\">Y</span> <span class=\"o\">=</span> <span class=\"n\">np</span><span class=\"o\">.</span><span class=\"n\">meshgrid</span><span class=\"p\">(</span><span class=\"n\">x</span><span class=\"p\">,</span> <span class=\"n\">y</span><span class=\"p\">)</span>\n",
      "    <span class=\"n\">Z1</span> <span class=\"o\">=</span> <span class=\"n\">mlab</span><span class=\"o\">.</span><span class=\"n\">bivariate_normal</span><span class=\"p\">(</span><span class=\"n\">X</span><span class=\"p\">,</span> <span class=\"n\">Y</span><span class=\"p\">,</span> <span class=\"mf\">1.0</span><span class=\"p\">,</span> <span class=\"mf\">1.0</span><span class=\"p\">,</span> <span class=\"mf\">0.0</span><span class=\"p\">,</span> <span class=\"mf\">0.0</span><span class=\"p\">)</span>\n",
      "    <span class=\"n\">Z2</span> <span class=\"o\">=</span> <span class=\"n\">mlab</span><span class=\"o\">.</span><span class=\"n\">bivariate_normal</span><span class=\"p\">(</span><span class=\"n\">X</span><span class=\"p\">,</span> <span class=\"n\">Y</span><span class=\"p\">,</span> <span class=\"mf\">1.5</span><span class=\"p\">,</span> <span class=\"mf\">0.5</span><span class=\"p\">,</span> <span class=\"mi\">1</span><span class=\"p\">,</span> <span class=\"mi\">1</span><span class=\"p\">)</span>\n",
      "    <span class=\"n\">Z</span> <span class=\"o\">=</span> <span class=\"n\">Z2</span><span class=\"o\">-</span><span class=\"n\">Z1</span>  <span class=\"c\"># difference of Gaussians</span>\n",
      "    <span class=\"k\">return</span> <span class=\"n\">Z</span>\n",
      "\n",
      "<span class=\"k\">def</span> <span class=\"nf\">imshow_affine</span><span class=\"p\">(</span><span class=\"n\">ax</span><span class=\"p\">,</span> <span class=\"n\">z</span><span class=\"p\">,</span> <span class=\"o\">*</span><span class=\"n\">kl</span><span class=\"p\">,</span> <span class=\"o\">**</span><span class=\"n\">kwargs</span><span class=\"p\">):</span>\n",
      "    <span class=\"n\">im</span> <span class=\"o\">=</span> <span class=\"n\">ax</span><span class=\"o\">.</span><span class=\"n\">imshow</span><span class=\"p\">(</span><span class=\"n\">z</span><span class=\"p\">,</span> <span class=\"o\">*</span><span class=\"n\">kl</span><span class=\"p\">,</span> <span class=\"o\">**</span><span class=\"n\">kwargs</span><span class=\"p\">)</span>\n",
      "    <span class=\"n\">x1</span><span class=\"p\">,</span> <span class=\"n\">x2</span><span class=\"p\">,</span> <span class=\"n\">y1</span><span class=\"p\">,</span> <span class=\"n\">y2</span> <span class=\"o\">=</span> <span class=\"n\">im</span><span class=\"o\">.</span><span class=\"n\">get_extent</span><span class=\"p\">()</span>\n",
      "    <span class=\"n\">im</span><span class=\"o\">.</span><span class=\"n\">_image_skew_coordinate</span> <span class=\"o\">=</span> <span class=\"p\">(</span><span class=\"n\">x2</span><span class=\"p\">,</span> <span class=\"n\">y1</span><span class=\"p\">)</span>\n",
      "    <span class=\"k\">return</span> <span class=\"n\">im</span>\n",
      "\n",
      "\n",
      "<span class=\"k\">if</span> <span class=\"mi\">1</span><span class=\"p\">:</span>\n",
      "\n",
      "    <span class=\"c\"># image rotation</span>\n",
      "\n",
      "    <span class=\"n\">ax1</span> <span class=\"o\">=</span> <span class=\"n\">plt</span><span class=\"o\">.</span><span class=\"n\">subplot</span><span class=\"p\">(</span><span class=\"mi\">121</span><span class=\"p\">)</span>\n",
      "    <span class=\"n\">Z</span> <span class=\"o\">=</span> <span class=\"n\">get_image</span><span class=\"p\">()</span>\n",
      "    <span class=\"n\">im1</span> <span class=\"o\">=</span> <span class=\"n\">imshow_affine</span><span class=\"p\">(</span><span class=\"n\">ax1</span><span class=\"p\">,</span> <span class=\"n\">Z</span><span class=\"p\">,</span> <span class=\"n\">interpolation</span><span class=\"o\">=</span><span class=\"s\">&#39;none&#39;</span><span class=\"p\">,</span> <span class=\"n\">cmap</span><span class=\"o\">=</span><span class=\"n\">cm</span><span class=\"o\">.</span><span class=\"n\">jet</span><span class=\"p\">,</span>\n",
      "                        <span class=\"n\">origin</span><span class=\"o\">=</span><span class=\"s\">&#39;lower&#39;</span><span class=\"p\">,</span>\n",
      "                        <span class=\"n\">extent</span><span class=\"o\">=</span><span class=\"p\">[</span><span class=\"o\">-</span><span class=\"mi\">2</span><span class=\"p\">,</span> <span class=\"mi\">4</span><span class=\"p\">,</span> <span class=\"o\">-</span><span class=\"mi\">3</span><span class=\"p\">,</span> <span class=\"mi\">2</span><span class=\"p\">],</span> <span class=\"n\">clip_on</span><span class=\"o\">=</span><span class=\"bp\">True</span><span class=\"p\">)</span>\n",
      "\n",
      "    <span class=\"n\">trans_data2</span> <span class=\"o\">=</span> <span class=\"n\">mtransforms</span><span class=\"o\">.</span><span class=\"n\">Affine2D</span><span class=\"p\">()</span><span class=\"o\">.</span><span class=\"n\">rotate_deg</span><span class=\"p\">(</span><span class=\"mi\">30</span><span class=\"p\">)</span> <span class=\"o\">+</span> <span class=\"n\">ax1</span><span class=\"o\">.</span><span class=\"n\">transData</span>\n",
      "    <span class=\"n\">im1</span><span class=\"o\">.</span><span class=\"n\">set_transform</span><span class=\"p\">(</span><span class=\"n\">trans_data2</span><span class=\"p\">)</span>\n",
      "\n",
      "    <span class=\"c\"># display intended extent of the image</span>\n",
      "    <span class=\"n\">x1</span><span class=\"p\">,</span> <span class=\"n\">x2</span><span class=\"p\">,</span> <span class=\"n\">y1</span><span class=\"p\">,</span> <span class=\"n\">y2</span> <span class=\"o\">=</span> <span class=\"n\">im1</span><span class=\"o\">.</span><span class=\"n\">get_extent</span><span class=\"p\">()</span>\n",
      "    <span class=\"n\">x3</span><span class=\"p\">,</span> <span class=\"n\">y3</span> <span class=\"o\">=</span> <span class=\"n\">x2</span><span class=\"p\">,</span> <span class=\"n\">y1</span>\n",
      "\n",
      "    <span class=\"n\">ax1</span><span class=\"o\">.</span><span class=\"n\">plot</span><span class=\"p\">([</span><span class=\"n\">x1</span><span class=\"p\">,</span> <span class=\"n\">x2</span><span class=\"p\">,</span> <span class=\"n\">x2</span><span class=\"p\">,</span> <span class=\"n\">x1</span><span class=\"p\">,</span> <span class=\"n\">x1</span><span class=\"p\">],</span> <span class=\"p\">[</span><span class=\"n\">y1</span><span class=\"p\">,</span> <span class=\"n\">y1</span><span class=\"p\">,</span> <span class=\"n\">y2</span><span class=\"p\">,</span> <span class=\"n\">y2</span><span class=\"p\">,</span> <span class=\"n\">y1</span><span class=\"p\">],</span> <span class=\"s\">&quot;r--&quot;</span><span class=\"p\">,</span> <span class=\"n\">lw</span><span class=\"o\">=</span><span class=\"mi\">3</span><span class=\"p\">,</span>\n",
      "             <span class=\"n\">transform</span><span class=\"o\">=</span><span class=\"n\">trans_data2</span><span class=\"p\">)</span>\n",
      "\n",
      "    <span class=\"n\">ax1</span><span class=\"o\">.</span><span class=\"n\">set_xlim</span><span class=\"p\">(</span><span class=\"o\">-</span><span class=\"mi\">3</span><span class=\"p\">,</span> <span class=\"mi\">5</span><span class=\"p\">)</span>\n",
      "    <span class=\"n\">ax1</span><span class=\"o\">.</span><span class=\"n\">set_ylim</span><span class=\"p\">(</span><span class=\"o\">-</span><span class=\"mi\">4</span><span class=\"p\">,</span> <span class=\"mi\">4</span><span class=\"p\">)</span>\n",
      "\n",
      "\n",
      "    <span class=\"c\"># image skew</span>\n",
      "\n",
      "    <span class=\"n\">ax2</span> <span class=\"o\">=</span> <span class=\"n\">plt</span><span class=\"o\">.</span><span class=\"n\">subplot</span><span class=\"p\">(</span><span class=\"mi\">122</span><span class=\"p\">)</span>\n",
      "    <span class=\"n\">im2</span> <span class=\"o\">=</span> <span class=\"n\">ax2</span><span class=\"o\">.</span><span class=\"n\">imshow</span><span class=\"p\">(</span><span class=\"n\">Z</span><span class=\"p\">,</span> <span class=\"n\">interpolation</span><span class=\"o\">=</span><span class=\"s\">&#39;none&#39;</span><span class=\"p\">,</span> <span class=\"n\">cmap</span><span class=\"o\">=</span><span class=\"n\">cm</span><span class=\"o\">.</span><span class=\"n\">jet</span><span class=\"p\">,</span>\n",
      "                     <span class=\"n\">origin</span><span class=\"o\">=</span><span class=\"s\">&#39;lower&#39;</span><span class=\"p\">,</span>\n",
      "                     <span class=\"n\">extent</span><span class=\"o\">=</span><span class=\"p\">[</span><span class=\"o\">-</span><span class=\"mi\">2</span><span class=\"p\">,</span> <span class=\"mi\">4</span><span class=\"p\">,</span> <span class=\"o\">-</span><span class=\"mi\">3</span><span class=\"p\">,</span> <span class=\"mi\">2</span><span class=\"p\">],</span> <span class=\"n\">clip_on</span><span class=\"o\">=</span><span class=\"bp\">True</span><span class=\"p\">)</span>\n",
      "    <span class=\"n\">im2</span><span class=\"o\">.</span><span class=\"n\">_image_skew_coordinate</span> <span class=\"o\">=</span> <span class=\"p\">(</span><span class=\"mi\">3</span><span class=\"p\">,</span> <span class=\"o\">-</span><span class=\"mi\">2</span><span class=\"p\">)</span>\n",
      "\n",
      "\n",
      "    <span class=\"n\">plt</span><span class=\"o\">.</span><span class=\"n\">show</span><span class=\"p\">()</span>\n",
      "    <span class=\"c\">#plt.savefig(&quot;demo_affine_image&quot;)</span>\n",
      "</pre></div>\n",
      "</div>\n",
      "<p>Keywords: python, matplotlib, pylab, example, codex (see <a class=\"reference internal\" href=\"../../faq/howto_faq.html#how-to-search-examples\"><em>Search examples</em></a>)</p>\n",
      "</div>\n",
      "\n",
      "\n",
      "          </div>\n",
      "        </div>\n",
      "      </div>\n",
      "      <div class=\"clearer\"></div>\n",
      "    </div>\n",
      "    <div class=\"related\">\n",
      "      <h3>Navigation</h3>\n",
      "      <ul>\n",
      "        <li class=\"right\" style=\"margin-right: 10px\">\n",
      "          <a href=\"../../genindex.html\" title=\"General Index\"\n",
      "             >index</a></li>\n",
      "        <li class=\"right\" >\n",
      "          <a href=\"../../py-modindex.html\" title=\"Python Module Index\"\n",
      "             >modules</a> |</li>\n",
      "        <li><a href=\"../../index.html\">home</a>|&nbsp;</li>\n",
      "        <li><a href=\"http://www.matplotlib.org/downloads.html\">downloads</a>|&nbsp;</li>\n",
      "        <li><a href=\"../../search.html\">search</a>|&nbsp;</li>\n",
      "        <li><a href=\"../index.html\">examples</a>|&nbsp;</li>\n",
      "        <li><a href=\"../../gallery.html\">gallery</a>|&nbsp;</li>\n",
      "        <li><a href=\"../../citing.html\">citation</a>|&nbsp;</li>\n",
      "        <li><a href=\"../../contents.html\">docs</a> &raquo;</li>\n",
      " \n",
      "      </ul>\n",
      "    </div>\n",
      "    <div class=\"footer\">\n",
      "        &copy; Copyright 2012 John Hunter, Darren Dale, Eric Firing, Michael Droettboom and the matplotlib development team.\n",
      "      Last updated on Jan 08, 2013.\n",
      "      Created using <a href=\"http://sphinx.pocoo.org/\">Sphinx</a> 1.1.3.\n",
      "    </div>\n",
      "  </body>\n",
      "</html>"
     ],
     "language": "python",
     "metadata": {},
     "outputs": []
    },
    {
     "cell_type": "code",
     "collapsed": false,
     "input": [],
     "language": "python",
     "metadata": {},
     "outputs": []
    }
   ],
   "metadata": {}
  }
 ]
}