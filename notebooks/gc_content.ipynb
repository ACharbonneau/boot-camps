{
 "metadata": {
  "name": "gc_content"
 },
 "nbformat": 3,
 "nbformat_minor": 0,
 "worksheets": [
  {
   "cells": [
    {
     "cell_type": "code",
     "collapsed": false,
     "input": [
      "%%file calc_seq.py\n",
      "\n",
      "def calc_gc(sequence):\n",
      "    if len(sequence) == 0:\n",
      "        return 0\n",
      "    sequence = sequence.upper()\n",
      "    gc_count = sequence.count('G') + sequence.count('C')\n",
      "    return float(gc_count) / len(sequence)"
     ],
     "language": "python",
     "metadata": {},
     "outputs": [
      {
       "output_type": "stream",
       "stream": "stdout",
       "text": [
        "Overwriting calc_seq.py"
       ]
      },
      {
       "output_type": "stream",
       "stream": "stdout",
       "text": [
        "\n"
       ]
      }
     ],
     "prompt_number": 50
    },
    {
     "cell_type": "code",
     "collapsed": false,
     "input": [
      "%%file test_calc_gc.py\n",
      "\n",
      "import calc_seq\n",
      "def test_g():\n",
      "    gc = calc_seq.calc_gc(\"G\")\n",
      "    assert gc == 1, gc\n",
      "    \n",
      "def test_a():\n",
      "    gc = calc_seq.calc_gc(\"A\")\n",
      "    assert gc == 0, gc\n",
      "    \n",
      "def test_empty():\n",
      "    gc = calc_seq.calc_gc(\"\")\n",
      "    assert gc == 0, gc\n",
      "    \n",
      "def test_5050():\n",
      "    gc = calc_seq.calc_gc(\"GA\")\n",
      "    assert gc == 0.5, gc\n",
      "    \n",
      "def test_lowercase():\n",
      "    gc = calc_seq.calc_gc('ga')\n",
      "    assert gc == 0.5, gc\n",
      "    \n",
      "def test_aag():\n",
      "    gc = calc_seq.calc_gc('aag')\n",
      "    assert round(gc, 2)  == round(1./3., 2), gc\n",
      "    assert int(gc*100) == int(100./3), gc\n",
      "    \n",
      "def test_long():\n",
      "    gc = calc_seq.calc_gc(\"agagagagagagagagagagagagag\")\n",
      "    assert gc == 1.0 / 2.0\n",
      "    \n",
      "def test_regression():\n",
      "    seq = \"ACGACGAGAAGCTGATCTACCGCGCCGAGCGCATC\"\n",
      "    gc = calc_seq.calc_gc(seq)\n",
      "    assert round(gc, 5) == round(0.628571428571, 5), gc"
     ],
     "language": "python",
     "metadata": {},
     "outputs": [
      {
       "output_type": "stream",
       "stream": "stdout",
       "text": [
        "Overwriting test_calc_gc.py"
       ]
      },
      {
       "output_type": "stream",
       "stream": "stdout",
       "text": [
        "\n"
       ]
      }
     ],
     "prompt_number": 68
    },
    {
     "cell_type": "code",
     "collapsed": false,
     "input": [
      "!nosetests -v"
     ],
     "language": "python",
     "metadata": {},
     "outputs": [
      {
       "output_type": "stream",
       "stream": "stdout",
       "text": [
        "test_calc_gc.test_g ... ok\r\n",
        "test_calc_gc.test_a ... ok\r\n",
        "test_calc_gc.test_empty ... ok\r\n",
        "test_calc_gc.test_5050 ... ok\r\n",
        "test_calc_gc.test_lowercase ... ok\r\n",
        "test_calc_gc.test_aag ... ok\r\n",
        "test_calc_gc.test_long ... ok\r\n",
        "test_calc_gc.test_regression ... ok\r\n",
        "\r\n",
        "----------------------------------------------------------------------\r\n",
        "Ran 8 tests in 0.005s\r\n",
        "\r\n",
        "OK\r\n"
       ]
      }
     ],
     "prompt_number": 69
    },
    {
     "cell_type": "markdown",
     "metadata": {},
     "source": [
      "## An only slightly sarcastic test nomenclature \n",
      "\n",
      "Unit tests -- small tests that address isolated \"units\" of functionality\n",
      "Test Driven Development - writing tests first, then writing the code to \"fix\" them\n",
      "Regression testing -- making sure that for specific inputs and code, you get the same outputs\n",
      "\n",
      "Stupidity Driven Development -- write code; when it breaks, write a test that breaks it; then fix the code.  aka Test Enhanced Development.\n",
      "\n",
      "Smoke test -- can I even run this code at all?\n"
     ]
    },
    {
     "cell_type": "code",
     "collapsed": false,
     "input": [],
     "language": "python",
     "metadata": {},
     "outputs": []
    }
   ],
   "metadata": {}
  }
 ]
}