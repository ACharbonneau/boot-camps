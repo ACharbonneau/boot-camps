{
 "metadata": {
  "name": "tutorial"
 },
 "nbformat": 3,
 "nbformat_minor": 0,
 "worksheets": [
  {
   "cells": [
    {
     "cell_type": "markdown",
     "metadata": {},
     "source": [
      "Here are some links to tutorials and the reference material.\n",
      "\n",
      "* [Dive into Python](http://www.diveintopython.net/toc/index.html)\n",
      "* [Software Carpentry's Python Lectures](http://software-carpentry.org/4_0/python/)\n",
      "* [IPython: A System for Interactive Scientific Computing](http://dx.doi.org/10.1109/MCSE.2007.53)\n",
      "* [How to Think Like a Computer Scientist](http://www.greenteapress.com/thinkpython/thinkpython.html)\n",
      "* [Google's python class](https://developers.google.com/edu/python/)\n",
      "* [The python documentation](http://docs.python.org/2.7/)"
     ]
    },
    {
     "cell_type": "markdown",
     "metadata": {},
     "source": [
      "### Tutorial : Working with the notebook\n",
      "* Rename your notebook to **tutorial**\n",
      "* Run the Cell below, with **Control+Enter** (VM users L control)\n",
      "* Advance to the next Cell, with **Shift+Enter** (will create new if none)\n",
      "* Note the line of code and a helpful comment using '**#**'"
     ]
    },
    {
     "cell_type": "code",
     "collapsed": false,
     "input": [
      "print(\"If the implementation is hard to explain,\") # Both lines\n",
      "print(\"then it's a bad idea.\") # Have comments at the end\n",
      "print('can also use single quotes but have to escape \\'em using backslash.')\n",
      "print \"can also print like this\", \"and this\"\n",
      "# comments don't show up in the output\n",
      "#Print(\"This wouldn't work because the case is wrong.\")"
     ],
     "language": "python",
     "metadata": {},
     "outputs": []
    },
    {
     "cell_type": "markdown",
     "metadata": {},
     "source": [
      "### Errors and Whitespace\n",
      "* Fix the code below"
     ]
    },
    {
     "cell_type": "code",
     "collapsed": false,
     "input": [
      "print(\"whitespace (spaces and tabs) matter in python!\") # fix me"
     ],
     "language": "python",
     "metadata": {},
     "outputs": []
    },
    {
     "cell_type": "markdown",
     "metadata": {},
     "source": [
      "* Define a variable and assign a value (Note the L-hand R-hand-edness)"
     ]
    },
    {
     "cell_type": "code",
     "collapsed": false,
     "input": [
      "i = 0"
     ],
     "language": "python",
     "metadata": {},
     "outputs": []
    },
    {
     "cell_type": "markdown",
     "metadata": {},
     "source": [
      "What happens when you run the following cell a few times after running the previous one? (Control+Enter)\n",
      "\n",
      "* Run the next cell several times"
     ]
    },
    {
     "cell_type": "code",
     "collapsed": false,
     "input": [
      "i = i + 1\n",
      "print i"
     ],
     "language": "python",
     "metadata": {},
     "outputs": []
    },
    {
     "cell_type": "markdown",
     "metadata": {},
     "source": [
      "### How to get Help\n",
      "* help( )\n",
      "* ?\n",
      "* Try it on the **int** keyword."
     ]
    },
    {
     "cell_type": "code",
     "collapsed": false,
     "input": [
      "str?"
     ],
     "language": "python",
     "metadata": {},
     "outputs": []
    },
    {
     "cell_type": "markdown",
     "metadata": {},
     "source": [
      "Use the **dir** command to find out all the built-in commands available for something.\n",
      "\n",
      "* Try **dir(\"hi there\")**\n",
      "* Try **dir(7)**"
     ]
    },
    {
     "cell_type": "code",
     "collapsed": false,
     "input": [
      "dir(\"hi there\")"
     ],
     "language": "python",
     "metadata": {},
     "outputs": []
    },
    {
     "cell_type": "code",
     "collapsed": false,
     "input": [
      "help(str.swapcase)"
     ],
     "language": "python",
     "metadata": {},
     "outputs": []
    },
    {
     "cell_type": "markdown",
     "metadata": {},
     "source": [
      "* Try title()"
     ]
    },
    {
     "cell_type": "code",
     "collapsed": false,
     "input": [
      "\"hi there\".title()"
     ],
     "language": "python",
     "metadata": {},
     "outputs": []
    },
    {
     "cell_type": "markdown",
     "metadata": {},
     "source": [
      "### Execute external python code\n",
      "* Use the **%run** command to run helloworld.py"
     ]
    },
    {
     "cell_type": "code",
     "collapsed": false,
     "input": [
      "%run hello.py"
     ],
     "language": "python",
     "metadata": {},
     "outputs": []
    },
    {
     "cell_type": "markdown",
     "metadata": {},
     "source": [
      "### But also! Other tools\n",
      "* Use **!**"
     ]
    },
    {
     "cell_type": "code",
     "collapsed": false,
     "input": [
      "!pwd"
     ],
     "language": "python",
     "metadata": {},
     "outputs": []
    },
    {
     "cell_type": "markdown",
     "metadata": {},
     "source": [
      "### Exercise\n",
      "* Change directories up one level, then **pwd** to verify\n",
      "\n",
      "**Hint**: You'll need to use slightly more than basic BASH knowledge!"
     ]
    },
    {
     "cell_type": "code",
     "collapsed": false,
     "input": [
      "!cd ..\n",
      "!pwd"
     ],
     "language": "python",
     "metadata": {},
     "outputs": []
    },
    {
     "cell_type": "markdown",
     "metadata": {},
     "source": [
      "### Variables\n",
      "* Programming languages allow variables"
     ]
    },
    {
     "cell_type": "code",
     "collapsed": false,
     "input": [
      "experiment = \"current vs. voltage\""
     ],
     "language": "python",
     "metadata": {},
     "outputs": []
    },
    {
     "cell_type": "code",
     "collapsed": false,
     "input": [
      "print experiment"
     ],
     "language": "python",
     "metadata": {},
     "outputs": []
    },
    {
     "cell_type": "code",
     "collapsed": false,
     "input": [
      "voltage = 2"
     ],
     "language": "python",
     "metadata": {},
     "outputs": []
    },
    {
     "cell_type": "code",
     "collapsed": false,
     "input": [
      "current = 0.5"
     ],
     "language": "python",
     "metadata": {},
     "outputs": []
    },
    {
     "cell_type": "code",
     "collapsed": false,
     "input": [
      "print voltage, current"
     ],
     "language": "python",
     "metadata": {},
     "outputs": []
    },
    {
     "cell_type": "markdown",
     "metadata": {},
     "source": [
      "### Types and Dynamic Typing\n",
      "* What are the types of the three variables created?\n",
      "* Use **type( )**"
     ]
    },
    {
     "cell_type": "markdown",
     "metadata": {},
     "source": [
      "### Coercion\n",
      "* Use to convert types: **str( )** , **float( )** , and **int( )** and others..."
     ]
    },
    {
     "cell_type": "code",
     "collapsed": false,
     "input": [
      "print type(\"3.14\")\n",
      "print type(float(\"3.14\"))"
     ],
     "language": "python",
     "metadata": {},
     "outputs": []
    },
    {
     "cell_type": "markdown",
     "metadata": {},
     "source": [
      "### Exercise\n",
      "* Using only **str( )** , **float( )** , and **int( )**, convert the data properly before the formula is applied.\n",
      "* Use **print** statements to help you inspect variables at any point in the code"
     ]
    },
    {
     "cell_type": "code",
     "collapsed": false,
     "input": [
      "voltage = \"5\"\n",
      "current = 1/2\n",
      "\n",
      "# power (watts) = voltage * current\n",
      "print \"wattage = \",voltage*current"
     ],
     "language": "python",
     "metadata": {},
     "outputs": []
    },
    {
     "cell_type": "markdown",
     "metadata": {},
     "source": [
      "### Integer and Floating division\n",
      "* **%** (Modulus operator 'remainder')\n",
      "* **/** (Integer division 'quotient')"
     ]
    },
    {
     "cell_type": "code",
     "collapsed": false,
     "input": [
      "print 5/3, 5%3"
     ],
     "language": "python",
     "metadata": {},
     "outputs": []
    },
    {
     "cell_type": "markdown",
     "metadata": {},
     "source": [
      "### Mathematical operations\n",
      "<pre>\n",
      "+,-,*,/    The usual\n",
      "\n",
      "+=         Also compound operators\n",
      "-=\n",
      "*=\n",
      "/=\n",
      "</pre>"
     ]
    },
    {
     "cell_type": "code",
     "collapsed": false,
     "input": [
      "i = 5"
     ],
     "language": "python",
     "metadata": {},
     "outputs": []
    },
    {
     "cell_type": "code",
     "collapsed": false,
     "input": [
      "i = i + 1\n",
      "print i"
     ],
     "language": "python",
     "metadata": {},
     "outputs": []
    },
    {
     "cell_type": "markdown",
     "metadata": {},
     "source": [
      "### Exercise\n",
      "Determine which for which pairs of the set of int, float, and string the + operation gives an error.  \n",
      "\n",
      "> int-int :\n",
      "\n",
      "> int-float : \n",
      "\n",
      "> int-string :\n",
      "\n",
      "> float-float  :\n",
      "\n",
      "> float-string :\n",
      "\n",
      "> string-string : \n",
      "\n",
      "Any surprises?\n",
      "\n",
      "**Hint**: replace with numbers. int-int is, say, 8-3"
     ]
    },
    {
     "cell_type": "code",
     "collapsed": false,
     "input": [
      "print 8+2\n",
      "print 8+2.1"
     ],
     "language": "python",
     "metadata": {},
     "outputs": []
    },
    {
     "cell_type": "markdown",
     "metadata": {},
     "source": [
      "### Math with Text\n",
      "* Which operators also apply to text?"
     ]
    },
    {
     "cell_type": "code",
     "collapsed": false,
     "input": [
      "firstName = \"Pat\"\n",
      "lastName = \"Doe\"\n",
      "fullName = firstName + lastName\n",
      "print fullName"
     ],
     "language": "python",
     "metadata": {},
     "outputs": []
    },
    {
     "cell_type": "code",
     "collapsed": false,
     "input": [
      "fillerText = \"#\"\n",
      "print(fillerText)"
     ],
     "language": "python",
     "metadata": {},
     "outputs": []
    },
    {
     "cell_type": "markdown",
     "metadata": {},
     "source": [
      "### Naming Convention\n",
      "* Practice responsible naming for readability\n",
      "* lowerUpperAfterThat\n",
      "* avgLifeExpectancy"
     ]
    },
    {
     "cell_type": "markdown",
     "metadata": {},
     "source": [
      "### Exercise\n",
      "* Assign your all lowercase first name to an appropriately named variable\n",
      "* Using only methods string methods, do all of the following:\n",
      "* **replace** all the vowels with '#' symbols\n",
      "* **capitalize** all letters except the first letter\n",
      "\n",
      "**Hint**: You can string together methods of the same type \"name\".upper().lower() for shorter code\n",
      "But! Keep readability in mind for when to break it up"
     ]
    },
    {
     "cell_type": "code",
     "collapsed": false,
     "input": [
      "name=\"yournamehere\""
     ],
     "language": "python",
     "metadata": {},
     "outputs": []
    },
    {
     "cell_type": "markdown",
     "metadata": {},
     "source": [
      "### Variables and Memory"
     ]
    },
    {
     "cell_type": "code",
     "collapsed": false,
     "input": [
      "x = 42\n",
      "\n",
      "print(x)"
     ],
     "language": "python",
     "metadata": {},
     "outputs": []
    },
    {
     "cell_type": "markdown",
     "metadata": {},
     "source": [
      "![cap](http://www.cs.hmc.edu/csforall/_images/fivepointone.png)"
     ]
    },
    {
     "cell_type": "markdown",
     "metadata": {},
     "source": [
      "### Value and Reference\n",
      "\n",
      "* Some variable types can **reference** the same address in memory\n",
      "* Let's try a List type  **[ ]**\n",
      "* Access elements with the **[ ]** operator: **primes[indexNumber]**"
     ]
    },
    {
     "cell_type": "code",
     "collapsed": false,
     "input": [
      "primes = [1, 3, 5, 7, 11, 13, 17, 19, 23, 29, 31, 37]\n",
      "print primes # zero-based indexing"
     ],
     "language": "python",
     "metadata": {},
     "outputs": []
    },
    {
     "cell_type": "code",
     "collapsed": false,
     "input": [
      "primes = [1, 3, 5, 7, 11, 13, 17, 19, 23, 29, 31, 37]\n",
      "copy = primes\n",
      "print(primes)"
     ],
     "language": "python",
     "metadata": {},
     "outputs": []
    },
    {
     "cell_type": "markdown",
     "metadata": {},
     "source": [
      "### Mutable and Immutable\n",
      "(Changeable and Unchangeable)\n",
      "\n",
      "* Some types can never be modified, such as the tuple"
     ]
    },
    {
     "cell_type": "code",
     "collapsed": false,
     "input": [
      "primesTuple = tuple(primes)\n",
      "print primesTuple"
     ],
     "language": "python",
     "metadata": {},
     "outputs": []
    },
    {
     "cell_type": "markdown",
     "metadata": {},
     "source": [
      "### Tips and Tricks\n",
      "* copy list by value **copy = primes[:]**\n",
      "* a tuple of one item **aTuple = (8,)**\n",
      "* **len( )** finds the length of text"
     ]
    },
    {
     "cell_type": "markdown",
     "metadata": {},
     "source": [
      "### EOF: End of File\n",
      "We've covered:\n",
      "\n",
      "* IPython\n",
      "* IPython Notebook\n",
      "* Help\n",
      "* Inspect available commands\n",
      "* Execute Shell commands\n",
      "* Execute external python\n",
      "* Types\n",
      "* Type coercion\n",
      "* Variable assignment\n",
      "* Memory addressing\n",
      "* Value vs Reference assignment\n",
      "* Mutable vs Immutable types"
     ]
    }
   ],
   "metadata": {}
  }
 ]
}