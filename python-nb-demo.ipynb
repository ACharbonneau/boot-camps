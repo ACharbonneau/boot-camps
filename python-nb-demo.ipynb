{
 "metadata": {
  "name": "python-full-new"
 }, 
 "nbformat": 2, 
 "worksheets": [
  {
   "cells": [
    {
     "cell_type": "markdown", 
     "source": [
      "# Scientific Python Basics", 
      "", 
      "__Software Carpentry Bootcamp  ", 
      "Columbia University, NYC,  ", 
      "January 2013__  ", 
      "", 
      "Uploaded and Presented by: Adina Howe  ", 
      "Based on material prepared by: Matt Davis, Katy Huff, Justin Kitzes, and Tracy Teal"
     ]
    }, 
    {
     "cell_type": "markdown", 
     "source": [
      "## 1. Individual things", 
      "", 
      "The most basic component of any programming language are \"things\", also called variables or", 
      "(in special cases) objects.", 
      "", 
      "The most common basic \"things\" in Python are integers, floats, strings, booleans, and", 
      "some special objects of various types. We'll meet many of these as we go through the lesson."
     ]
    }, 
    {
     "cell_type": "markdown", 
     "source": [
      "__TIP:__ To run the code in a cell quickly, press Ctrl-Enter."
     ]
    }, 
    {
     "cell_type": "markdown", 
     "source": [
      "__TIP:__ To quickly create a new cell below an existing one, type Ctrl-m then b.", 
      "Other shortcuts for making, deleting, and moving cells are in the menubar on the left of the", 
      "screen. To hide the menubar, click on the vertical gray divider separating it from this", 
      "main page."
     ]
    }, 
    {
     "cell_type": "code", 
     "collapsed": false, 
     "input": [
      "# A thing", 
      "2"
     ], 
     "language": "python", 
     "outputs": [
      {
       "output_type": "pyout", 
       "prompt_number": 452, 
       "text": [
        "2"
       ]
      }
     ], 
     "prompt_number": 452
    }, 
    {
     "cell_type": "code", 
     "collapsed": false, 
     "input": [
      "# Use print to show multiple things in the same cell", 
      "# Note that you can use single or double quotes for strings", 
      "print 2", 
      "print 'hello'"
     ], 
     "language": "python", 
     "outputs": [
      {
       "output_type": "stream", 
       "stream": "stdout", 
       "text": [
        "2", 
        "hello"
       ]
      }
     ], 
     "prompt_number": 453
    }, 
    {
     "cell_type": "code", 
     "collapsed": false, 
     "input": [
      "# Things can be stored as variables", 
      "a = 2", 
      "b = 'hello'", 
      "c = True  # This is case sensitive", 
      "print a, b, c"
     ], 
     "language": "python", 
     "outputs": [
      {
       "output_type": "stream", 
       "stream": "stdout", 
       "text": [
        "2 hello True"
       ]
      }
     ], 
     "prompt_number": 454
    }, 
    {
     "cell_type": "code", 
     "collapsed": false, 
     "input": [
      "# The type function tells us the type of thing we have", 
      "print type(a)", 
      "print type(b)", 
      "print type(c)"
     ], 
     "language": "python", 
     "outputs": [
      {
       "output_type": "stream", 
       "stream": "stdout", 
       "text": [
        "<type 'int'>", 
        "<type 'str'>", 
        "<type 'bool'>"
       ]
      }
     ], 
     "prompt_number": 455
    }, 
    {
     "cell_type": "markdown", 
     "source": [
      "## 2. Commands that operate on things", 
      "", 
      "Just storing data in variables isn't much use to us. Right away, we'd like to start performing", 
      "operations and manipulations on data and variables.", 
      "", 
      "There are three very common means of performing an operation on a thing."
     ]
    }, 
    {
     "cell_type": "markdown", 
     "source": [
      "### 2.1 Use an operator", 
      "", 
      "All of the basic math operators work like you think they should for numbers. They can also", 
      "do some useful operations on other things, like strings. There are also boolean operators that", 
      "compare quantities and give back a `bool` variable as a result."
     ]
    }, 
    {
     "cell_type": "code", 
     "collapsed": false, 
     "input": [
      "# Standard math operators work as expected on numbers", 
      "a = 2", 
      "b = 3", 
      "print a + b", 
      "print a * b", 
      "print a ** b"
     ], 
     "language": "python", 
     "outputs": [
      {
       "output_type": "stream", 
       "stream": "stdout", 
       "text": [
        "5", 
        "6", 
        "8"
       ]
      }
     ], 
     "prompt_number": 3
    }, 
    {
     "cell_type": "code", 
     "collapsed": false, 
     "input": [
      "# Except for division", 
      "print 2 / 3", 
      "print 2 / 3."
     ], 
     "language": "python", 
     "outputs": [
      {
       "output_type": "stream", 
       "stream": "stdout", 
       "text": [
        "0", 
        "0.666666666667"
       ]
      }
     ], 
     "prompt_number": 457
    }, 
    {
     "cell_type": "code", 
     "collapsed": false, 
     "input": [
      "# There are also operators for strings", 
      "print 'hello' + 'world'", 
      "print 'hello' * 3", 
      "# print hello / 3"
     ], 
     "language": "python", 
     "outputs": [
      {
       "output_type": "stream", 
       "stream": "stdout", 
       "text": [
        "helloworld", 
        "hellohellohello"
       ]
      }
     ], 
     "prompt_number": 458
    }, 
    {
     "cell_type": "code", 
     "collapsed": false, 
     "input": [
      "# Boolean operators compare two things", 
      "a = (1 > 3)", 
      "b = (3 == 3)", 
      "print a", 
      "print b", 
      "print a & b"
     ], 
     "language": "python", 
     "outputs": [
      {
       "output_type": "stream", 
       "stream": "stdout", 
       "text": [
        "False", 
        "True", 
        "False"
       ]
      }
     ], 
     "prompt_number": 459
    }, 
    {
     "cell_type": "markdown", 
     "source": [
      "### 2.2 Variables, Print"
     ]
    }, 
    {
     "cell_type": "code", 
     "collapsed": false, 
     "input": [
      "a = 5", 
      "b = 2", 
      "a + b", 
      "#print a + b"
     ], 
     "language": "python", 
     "outputs": [
      {
       "output_type": "pyout", 
       "prompt_number": 4, 
       "text": [
        "7"
       ]
      }
     ], 
     "prompt_number": 4
    }, 
    {
     "cell_type": "code", 
     "collapsed": false, 
     "input": [
      "c = b", 
      "b = 95 # changing b doesn't change c", 
      "a + c"
     ], 
     "language": "python", 
     "outputs": [
      {
       "output_type": "pyout", 
       "prompt_number": 5, 
       "text": [
        "7"
       ]
      }
     ], 
     "prompt_number": 5
    }, 
    {
     "cell_type": "code", 
     "collapsed": true, 
     "input": [
      "d = (a + b) * c # doesn't print anything"
     ], 
     "language": "python", 
     "outputs": [], 
     "prompt_number": 6
    }, 
    {
     "cell_type": "code", 
     "collapsed": false, 
     "input": [
      "print a, b, c", 
      "print d"
     ], 
     "language": "python", 
     "outputs": [
      {
       "output_type": "stream", 
       "stream": "stdout", 
       "text": [
        "5 95 2", 
        "200"
       ]
      }
     ], 
     "prompt_number": 7
    }, 
    {
     "cell_type": "markdown", 
     "source": [
      "# Exercise", 
      "", 
      "1. Calculate the mean of the numbers 2, 3, and 10.", 
      "2. Calculate the hypotenuse of a triangle with sides 6 and 8.  (Bonus:  Print out the answer: \"The hypotenuse of a triangle is...\")"
     ]
    }, 
    {
     "cell_type": "markdown", 
     "source": [
      "### 2.3 Use a function", 
      "", 
      "These will be very familiar to anyone who has programmed in any language, and work like you", 
      "would expect."
     ]
    }, 
    {
     "cell_type": "code", 
     "collapsed": false, 
     "input": [
      "# There are thousands of functions that operate on things", 
      "print type(3)", 
      "print len('hello')", 
      "print round(3.3)"
     ], 
     "language": "python", 
     "outputs": [
      {
       "output_type": "stream", 
       "stream": "stdout", 
       "text": [
        "<type 'int'>", 
        "5", 
        "3.0"
       ]
      }
     ], 
     "prompt_number": 460
    }, 
    {
     "cell_type": "markdown", 
     "source": [
      "__TIP:__ To find out what a function does, you can type it's name and then a question mark to", 
      "get a pop up help window. Or, to see what arguments it takes, you can type its name, an open", 
      "parenthesis, and hit tab."
     ]
    }, 
    {
     "cell_type": "code", 
     "collapsed": false, 
     "input": [
      "#round?", 
      "#round(", 
      "round(3.14159, 2)"
     ], 
     "language": "python", 
     "outputs": [
      {
       "output_type": "pyout", 
       "prompt_number": 461, 
       "text": [
        "3.14"
       ]
      }
     ], 
     "prompt_number": 461
    }, 
    {
     "cell_type": "markdown", 
     "source": [
      "__TIP:__ Many useful functions are not in the Python built in library, but are in external", 
      "scientific packages. These need to be imported into your Python notebook (or program) before", 
      "they can be used. Probably the most important of these are numpy and matplotlib."
     ]
    }, 
    {
     "cell_type": "code", 
     "collapsed": true, 
     "input": [
      "# Many useful functions are in external packages", 
      "# Let's meet numpy", 
      "import numpy as np"
     ], 
     "language": "python", 
     "outputs": [], 
     "prompt_number": 462
    }, 
    {
     "cell_type": "code", 
     "collapsed": true, 
     "input": [
      "# To see what's in a package, type the name, a period, then hit tab", 
      "#np?", 
      "#np."
     ], 
     "language": "python", 
     "outputs": [], 
     "prompt_number": 463
    }, 
    {
     "cell_type": "code", 
     "collapsed": false, 
     "input": [
      "# Some examples of numpy functions and \"things\"", 
      "print np.sqrt(4)", 
      "print np.pi  # Not a function, just a variable", 
      "print np.sin(np.pi)"
     ], 
     "language": "python", 
     "outputs": [
      {
       "output_type": "stream", 
       "stream": "stdout", 
       "text": [
        "2.0", 
        "3.14159265359", 
        "1.22464679915e-16"
       ]
      }
     ], 
     "prompt_number": 464
    }, 
    {
     "cell_type": "markdown", 
     "source": [
      "### 2.3 Use a method", 
      "", 
      "In the simplest terms, you can think of an object as a small bundled \"thing\" that contains within", 
      "itself both data and functions that operate on that data. For example, strings in Python are", 
      "objects that contain a set of characters and also various functions that operate on the set of", 
      "characters. When bundled in an object, these functions are called \"methods\".", 
      "", 
      "A function is a piece of code that is called by name. It takes data as an input to perform operations on (in other words, it is passed data explicitly).", 
      "A method is a piece of code that is called by name that is associated with an object. It is very similar to a function and is passed data implicitly."
     ]
    }, 
    {
     "cell_type": "code", 
     "collapsed": false, 
     "input": [
      "# A string object", 
      "a = 'hello, world'", 
      "print type(a)"
     ], 
     "language": "python", 
     "outputs": [
      {
       "output_type": "stream", 
       "stream": "stdout", 
       "text": [
        "<type 'str'>"
       ]
      }
     ], 
     "prompt_number": 8
    }, 
    {
     "cell_type": "code", 
     "collapsed": false, 
     "input": [
      "# String objects have bundled methods", 
      "#a.", 
      "#a.count?", 
      "print a.capitalize()", 
      "print a.replace('l', 'X')"
     ], 
     "language": "python", 
     "outputs": [
      {
       "output_type": "stream", 
       "stream": "stdout", 
       "text": [
        "Hello, world", 
        "heXXo, worXd"
       ]
      }
     ], 
     "prompt_number": 10
    }, 
    {
     "cell_type": "markdown", 
     "source": [
      "### Challenge - Uncle Clay and his cats", 
      "", 
      "A discrete time equation for logistic population growth is shown below.  For the specific population of study, cats at my uncle's house, the constants are given.", 
      "", 
      ">n(t+1) = n(t) + r n(t) [1 - n(t) / K]", 
      "", 
      "where n(t) is the population size at time t, r is the growth rate, and K is the", 
      "carrying capacity of the home.", 
      "", 
      "Given:  r is 0.6, K is 100, and n at time 0 is 10.", 
      "", 
      "Write Python expressions that do the following:", 
      "", 
      "1. Create variables for `r`, `K`, and `n0`, setting these equal to their given values.", 
      "1. Create the variable `n1` and calculate it's value. Do the same for `n2`.", 
      "1. Check the type of `n2` - what is it?", 
      "1. Test whether `n2` is larger than 20, and print out a line that says \"n2 more than 20: \"", 
      "followed by the answer.", 
      "1. Figure out whether `n2` is an integer, and print out a line that says \"n2 is int: \" followed", 
      "by the answer (HINT: look at the methods of `n2`.)", 
      "1. Modify your calculations for `n1` and `n2` so that these values are rounded to the nearest", 
      "integer."
     ]
    }, 
    {
     "cell_type": "code", 
     "collapsed": false, 
     "input": [
      "r = 0.6", 
      "K = 100", 
      "n0 = 10", 
      "", 
      "n1 = n0 + r*n0*(1 - n0/K)", 
      "n2 = n1 + r*n1*(1 - n1/K)", 
      "", 
      "print n0, n1, n2", 
      "print type(n2)", 
      "print 'n2 more than 20: ', n2 > 20", 
      "print 'n2 is int: ', n2.is_integer()"
     ], 
     "language": "python", 
     "outputs": [
      {
       "output_type": "stream", 
       "stream": "stdout", 
       "text": [
        "10 16.0 24.064", 
        "<type 'float'>", 
        "n2 more than 20:  True", 
        "n2 is int:  False"
       ]
      }
     ], 
     "prompt_number": 11
    }, 
    {
     "cell_type": "markdown", 
     "source": [
      "## 3. Collections of things", 
      "", 
      "Once the number of variables that you are interested in starts getting large, working with them", 
      "all individually starts to get unwieldy. To help stay organized, we can use collections of things.", 
      "", 
      "Probably 99% of your work in scientific Python will use one of four types of collections:", 
      "lists, tuples, dictionaries, and numpy arrays. We'll look quickly at each of these and what", 
      "they can do for you."
     ]
    }, 
    {
     "cell_type": "markdown", 
     "source": [
      "### 3.1 Lists", 
      "", 
      "Lists are probably the handiest and most flexible type of container. Lists are declared with", 
      "square brackets []. Individual elements of a list can be selected using the syntax `a[ind]`."
     ]
    }, 
    {
     "cell_type": "code", 
     "collapsed": false, 
     "input": [
      "# Lists are created with square bracket syntax", 
      "a = ['hi', 'hello', 'yo']", 
      "print a, type(a)"
     ], 
     "language": "python", 
     "outputs": [
      {
       "output_type": "stream", 
       "stream": "stdout", 
       "text": [
        "['hi', 'hello', 'yo'] <type 'list'>"
       ]
      }
     ], 
     "prompt_number": 13
    }, 
    {
     "cell_type": "code", 
     "collapsed": false, 
     "input": [
      "# Lists (and all collections) are also indexed with square brackets", 
      "# NOTE: The first index is zero, not one", 
      "print a[0]", 
      "print a[1]"
     ], 
     "language": "python", 
     "outputs": [
      {
       "output_type": "stream", 
       "stream": "stdout", 
       "text": [
        "hi", 
        "hello"
       ]
      }
     ], 
     "prompt_number": 14
    }, 
    {
     "cell_type": "code", 
     "collapsed": false, 
     "input": [
      "# Lists can be sliced by putting a colon between indexes", 
      "# NOTE: The end value is not inclusive", 
      "print a[0:2]"
     ], 
     "language": "python", 
     "outputs": [
      {
       "output_type": "stream", 
       "stream": "stdout", 
       "text": [
        "['hi', 'hello']"
       ]
      }
     ], 
     "prompt_number": 15
    }, 
    {
     "cell_type": "code", 
     "collapsed": false, 
     "input": [
      "# You can leave off the start or end if desired", 
      "print a[:2]", 
      "print a[2:]", 
      "print a[:]", 
      "print a[:-1]"
     ], 
     "language": "python", 
     "outputs": [
      {
       "output_type": "stream", 
       "stream": "stdout", 
       "text": [
        "['hi', 'hello']", 
        "['yo']", 
        "['hi', 'hello', 'yo']", 
        "['hi', 'hello']"
       ]
      }
     ], 
     "prompt_number": 16
    }, 
    {
     "cell_type": "code", 
     "collapsed": false, 
     "input": [
      "# Lists are objects, like everything else, and have methods such as append", 
      "a.append('hiya')", 
      "print a", 
      "", 
      "a.append([1,2])", 
      "print a", 
      "", 
      "#Functions can also be applied to lists.", 
      "print len(a)"
     ], 
     "language": "python", 
     "outputs": [
      {
       "output_type": "stream", 
       "stream": "stdout", 
       "text": [
        "['hi', 'hello', 'yo', 'hiya', [1, 2], 'hiya']", 
        "['hi', 'hello', 'yo', 'hiya', [1, 2], 'hiya', [1, 2]]", 
        "7"
       ]
      }
     ], 
     "prompt_number": 18
    }, 
    {
     "cell_type": "markdown", 
     "source": [
      "## Exercise", 
      "", 
      "Make a list with 5 things in it.", 
      "Print the 4th thing in the list.", 
      "Print the sublist containing the 3rd, 4th, and 5th things in the list."
     ]
    }, 
    {
     "cell_type": "markdown", 
     "source": [
      "### 3.2 Tuples", 
      "", 
      "We won't say a whole lot about tuples except to mention that they basically work just like lists, with", 
      "two major exceptions:", 
      "", 
      "1. You declare tuples using () instead of []", 
      "1. Once you make a tuple, you can't change what's in it"
     ]
    }, 
    {
     "cell_type": "code", 
     "collapsed": true, 
     "input": [
      "t = ('zero', 1, 2.0)"
     ], 
     "language": "python", 
     "outputs": [], 
     "prompt_number": 19
    }, 
    {
     "cell_type": "code", 
     "collapsed": false, 
     "input": [
      "t"
     ], 
     "language": "python", 
     "outputs": [
      {
       "output_type": "pyout", 
       "prompt_number": 20, 
       "text": [
        "('zero', 1, 2.0)"
       ]
      }
     ], 
     "prompt_number": 20
    }, 
    {
     "cell_type": "code", 
     "collapsed": false, 
     "input": [
      "t[0] = 99"
     ], 
     "language": "python", 
     "outputs": [
      {
       "ename": "TypeError", 
       "evalue": "'tuple' object does not support item assignment", 
       "output_type": "pyerr", 
       "traceback": [
        "\u001b[0;31m---------------------------------------------------------------------------\u001b[0m\n\u001b[0;31mTypeError\u001b[0m                                 Traceback (most recent call last)", 
        "\u001b[0;32m/Users/adina/Documents/swc/boot-camps/1-Python/notebooks/prepared-demos/<ipython-input-21-e77c201e67de>\u001b[0m in \u001b[0;36m<module>\u001b[0;34m()\u001b[0m\n\u001b[0;32m----> 1\u001b[0;31m \u001b[0mt\u001b[0m\u001b[0;34m[\u001b[0m\u001b[0;36m0\u001b[0m\u001b[0;34m]\u001b[0m \u001b[0;34m=\u001b[0m \u001b[0;36m99\u001b[0m\u001b[0;34m\u001b[0m\u001b[0m\n\u001b[0m", 
        "\u001b[0;31mTypeError\u001b[0m: 'tuple' object does not support item assignment"
       ]
      }
     ], 
     "prompt_number": 21
    }, 
    {
     "cell_type": "markdown", 
     "source": [
      "### 3.3 Dictionaries", 
      "", 
      "A dictionary is a unordered collection of key/value pairs.  Dictionary keys are immutable, unique,and not stored in any order. There are no restrictions on values stored in dictionaries. "
     ]
    }, 
    {
     "cell_type": "code", 
     "collapsed": false, 
     "input": [
      "d = {'first': 'alpha', 'two': 2, 2: 'two'}", 
      "print d", 
      "print d['first'], d[2]"
     ], 
     "language": "python", 
     "outputs": [
      {
       "output_type": "stream", 
       "stream": "stdout", 
       "text": [
        "{2: 'two', 'two': 2, 'first': 'alpha'}", 
        "alpha two"
       ]
      }
     ], 
     "prompt_number": 23
    }, 
    {
     "cell_type": "code", 
     "collapsed": false, 
     "input": [
      "d['first'] = 'uno'", 
      "print d['first']"
     ], 
     "language": "python", 
     "outputs": [
      {
       "output_type": "stream", 
       "stream": "stdout", 
       "text": [
        "uno"
       ]
      }
     ], 
     "prompt_number": 24
    }, 
    {
     "cell_type": "code", 
     "collapsed": false, 
     "input": [
      "d['last'] = 'omega'", 
      "print d['last']", 
      "d[3.14159] = 'pi'", 
      "print d[3.14159]"
     ], 
     "language": "python", 
     "outputs": [
      {
       "output_type": "stream", 
       "stream": "stdout", 
       "text": [
        "omega", 
        "pi"
       ]
      }
     ], 
     "prompt_number": 25
    }, 
    {
     "cell_type": "code", 
     "collapsed": false, 
     "input": [
      "print len(d), d"
     ], 
     "language": "python", 
     "outputs": [
      {
       "output_type": "stream", 
       "stream": "stdout", 
       "text": [
        "5 {3.14159: 'pi', 2: 'two', 'last': 'omega', 'two': 2, 'first': 'uno'}"
       ]
      }
     ], 
     "prompt_number": 26
    }, 
    {
     "cell_type": "markdown", 
     "source": [
      "### Exercise", 
      "", 
      "1. Make a dictionary of roman numerals to arabic (\"normal\") numerals from 1-10.  print out the equivalent of III, VI, and IX."
     ]
    }, 
    {
     "cell_type": "markdown", 
     "source": [
      "## If statements", 
      "`< > <= >= == !=`"
     ]
    }, 
    {
     "cell_type": "code", 
     "collapsed": true, 
     "input": [
      "x = 5", 
      "if x < 0:", 
      "    print \"x is negative\""
     ], 
     "language": "python", 
     "outputs": [], 
     "prompt_number": 27
    }, 
    {
     "cell_type": "code", 
     "collapsed": false, 
     "input": [
      "x = -5", 
      "if x < 0:", 
      "    print \"x is negative\""
     ], 
     "language": "python", 
     "outputs": [
      {
       "output_type": "stream", 
       "stream": "stdout", 
       "text": [
        "x is negative"
       ]
      }
     ], 
     "prompt_number": 28
    }, 
    {
     "cell_type": "code", 
     "collapsed": false, 
     "input": [
      "x = 5", 
      "if x < 0:", 
      "    print \"x is negative\"", 
      "else:", 
      "    print \"x in non-negative\""
     ], 
     "language": "python", 
     "outputs": [
      {
       "output_type": "stream", 
       "stream": "stdout", 
       "text": [
        "x in non-negative"
       ]
      }
     ], 
     "prompt_number": 29
    }, 
    {
     "cell_type": "code", 
     "collapsed": false, 
     "input": [
      "x = 5", 
      "if x < 0:", 
      "    print \"x is negative\"", 
      "elif x == 0:", 
      "    print \"x is zero\"", 
      "else:", 
      "    print \"x is positive\""
     ], 
     "language": "python", 
     "outputs": [
      {
       "output_type": "stream", 
       "stream": "stdout", 
       "text": [
        "x is positive"
       ]
      }
     ], 
     "prompt_number": 30
    }, 
    {
     "cell_type": "markdown", 
     "source": [
      "### Exercise", 
      "1. Write an if statement that prints whether x is even or odd"
     ]
    }, 
    {
     "cell_type": "markdown", 
     "source": [
      "## Loops"
     ]
    }, 
    {
     "cell_type": "code", 
     "collapsed": false, 
     "input": [
      "fruits = ['apples', 'oranges', 'pears', 'bananas']", 
      "i = 0", 
      "while i < len(fruits):", 
      "    print fruits[i]", 
      "    i = i + 1"
     ], 
     "language": "python", 
     "outputs": [
      {
       "output_type": "stream", 
       "stream": "stdout", 
       "text": [
        "apples", 
        "oranges", 
        "pears", 
        "bananas"
       ]
      }
     ], 
     "prompt_number": 32
    }, 
    {
     "cell_type": "code", 
     "collapsed": false, 
     "input": [
      "for fruit in fruits:", 
      "    print fruit"
     ], 
     "language": "python", 
     "outputs": [
      {
       "output_type": "stream", 
       "stream": "stdout", 
       "text": [
        "apples", 
        "oranges", 
        "pears", 
        "bananas"
       ]
      }
     ], 
     "prompt_number": 33
    }, 
    {
     "cell_type": "code", 
     "collapsed": false, 
     "input": [
      "# Use range for a range on integers", 
      "for i in range(len(fruits)):", 
      "    print i, fruits[i]"
     ], 
     "language": "python", 
     "outputs": [
      {
       "output_type": "stream", 
       "stream": "stdout", 
       "text": [
        "0 apples", 
        "1 oranges", 
        "2 pears", 
        "3 bananas"
       ]
      }
     ], 
     "prompt_number": 34
    }, 
    {
     "cell_type": "code", 
     "collapsed": false, 
     "input": [
      "# Use zip to iterate over two lists at once", 
      "fruits = ['apples', 'oranges', 'pears', 'bananas']", 
      "prices = [0.49, 0.99, 1.49, 0.32]", 
      "for fruit, price in zip(fruits, prices):", 
      "    print fruit, \"cost\", price, \"each\""
     ], 
     "language": "python", 
     "outputs": [
      {
       "output_type": "stream", 
       "stream": "stdout", 
       "text": [
        "apples cost 0.49 each", 
        "oranges cost 0.99 each", 
        "pears cost 1.49 each", 
        "bananas cost 0.32 each"
       ]
      }
     ], 
     "prompt_number": 35
    }, 
    {
     "cell_type": "code", 
     "collapsed": false, 
     "input": [
      "# Use \"items\" to iterate over a dictionary", 
      "# Note the order is non-deterministic", 
      "prices = {'apples': 0.49, 'oranges': 0.99, 'pears': 1.49, 'bananas': 0.32}", 
      "for fruit, price in prices.items():", 
      "    print fruit, \"cost\", price, \"each\""
     ], 
     "language": "python", 
     "outputs": [
      {
       "output_type": "stream", 
       "stream": "stdout", 
       "text": [
        "pears cost 1.49 each", 
        "apples cost 0.49 each", 
        "oranges cost 0.99 each", 
        "bananas cost 0.32 each"
       ]
      }
     ], 
     "prompt_number": 36
    }, 
    {
     "cell_type": "code", 
     "collapsed": false, 
     "input": [
      "# Calculating a sum", 
      "sum = 0", 
      "values = [1,2,3,4]", 
      "for x in values:", 
      "    sum = sum + x", 
      "sum"
     ], 
     "language": "python", 
     "outputs": [
      {
       "output_type": "pyout", 
       "prompt_number": 38, 
       "text": [
        "10"
       ]
      }
     ], 
     "prompt_number": 38
    }, 
    {
     "cell_type": "markdown", 
     "source": [
      "## Challenge:", 
      "", 
      "1. Using a loop, calculate the factorial of 42 (the product of all integers up to and including 42)."
     ]
    }, 
    {
     "cell_type": "code", 
     "collapsed": false, 
     "input": [
      "product = 1", 
      "for x in range(1, 42 + 1):", 
      "    product = product * x", 
      "print '%.4e' % product"
     ], 
     "language": "python", 
     "outputs": [
      {
       "output_type": "stream", 
       "stream": "stdout", 
       "text": [
        "1.4050e+51"
       ]
      }
     ], 
     "prompt_number": 52
    }, 
    {
     "cell_type": "code", 
     "collapsed": true, 
     "input": [], 
     "language": "python", 
     "outputs": []
    }
   ]
  }
 ]
}