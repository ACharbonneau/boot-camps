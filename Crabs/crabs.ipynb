{
 "metadata": {
  "name": "crabs"
 }, 
 "nbformat": 2, 
 "worksheets": [
  {
   "cells": [
    {
     "cell_type": "markdown", 
     "source": [
      "Load data", 
      "=========", 
      "", 
      "Load in Chesapeake Bay crab harvest data", 
      "", 
      "Each line of the file has two numbers: the year and harvest size (in pounds).", 
      "", 
      "```", 
      "1929\t 2644548", 
      "1930\t 5313016", 
      "1931\t 3910610", 
      "...", 
      "```"
     ]
    }, 
    {
     "cell_type": "code", 
     "collapsed": true, 
     "input": [
      "fd = open(\"blue_crab_chesapeake.txt\")", 
      "lines = fd.readlines()", 
      "", 
      "years = []", 
      "harvests = []", 
      "", 
      "for line in lines:", 
      "    year, pounds = line.split()", 
      "    years.append(int(year))", 
      "    harvests.append(int(pounds))"
     ], 
     "language": "python", 
     "outputs": [], 
     "prompt_number": 1
    }, 
    {
     "cell_type": "markdown", 
     "source": [
      "Plot", 
      "====", 
      "", 
      "This uses matplotlib to plot the data."
     ]
    }, 
    {
     "cell_type": "code", 
     "collapsed": false, 
     "input": [
      "plot(years, harvests)", 
      "xlabel(\"year\")", 
      "ylabel(\"pounds\")", 
      "title(\"Blue Crab harvest\")"
     ], 
     "language": "python", 
     "outputs": [
      {
       "output_type": "pyout", 
       "prompt_number": 2, 
       "text": [
        "<matplotlib.text.Text at 0x22d0390>"
       ]
      }, 
      {
       "output_type": "display_data", 
       "png": "[encoded data removed]"
      }
     ], 
     "prompt_number": 2
    }, 
    {
     "cell_type": "markdown", 
     "source": [
      "Create a function"
     ]
    }, 
    {
     "cell_type": "code", 
     "collapsed": true, 
     "input": [
      "def load_data(filename):", 
      "    fd = open(filename)", 
      "    lines = fd.readlines()", 
      "    ", 
      "    years = []", 
      "    harvests = []", 
      "    ", 
      "    for line in lines:", 
      "        year, pounds = line.split()", 
      "        years.append(int(year))", 
      "        harvests.append(int(pounds))", 
      "        ", 
      "    return years, harvests", 
      "    "
     ], 
     "language": "python", 
     "outputs": [], 
     "prompt_number": 3
    }, 
    {
     "cell_type": "code", 
     "collapsed": true, 
     "input": [
      "years, harvests = load_data(\"blue_crab_chesapeake.txt\")"
     ], 
     "language": "python", 
     "outputs": [], 
     "prompt_number": 4
    }, 
    {
     "cell_type": "markdown", 
     "source": [
      "Use a dictionary"
     ]
    }, 
    {
     "cell_type": "code", 
     "collapsed": true, 
     "input": [
      "def load_data(filename):", 
      "    fd = open(filename)", 
      "    lines = fd.readlines()", 
      "    ", 
      "    data = {}", 
      "    ", 
      "    for line in lines:", 
      "        year, pounds = line.split()", 
      "        data[year] = pounds", 
      "        ", 
      "    return data"
     ], 
     "language": "python", 
     "outputs": [], 
     "prompt_number": 5
    }, 
    {
     "cell_type": "markdown", 
     "source": [
      "Combine the two data sets"
     ]
    }, 
    {
     "cell_type": "code", 
     "collapsed": true, 
     "input": [
      "blue_crabs = load_data(\"blue_crab_chesapeake.txt\")", 
      "soft_crabs = load_data(\"soft_crab_chesapeake.txt\")", 
      "", 
      "totals = {}", 
      "for year in blue_crabs.keys():", 
      "    totals[year] = blue_crabs[year] + soft_crabs[year]"
     ], 
     "language": "python", 
     "outputs": [], 
     "prompt_number": 6
    }, 
    {
     "cell_type": "code", 
     "collapsed": true, 
     "input": [
      "data = totals.items()", 
      "data.sort()", 
      "plot(years, harvests)", 
      "xlabel(\"year\")", 
      "ylabel(\"pounds\")", 
      "title(\"Total Crab harvest\")"
     ], 
     "language": "python", 
     "outputs": [], 
     "prompt_number": 6
    }, 
    {
     "cell_type": "code", 
     "collapsed": true, 
     "input": [], 
     "language": "python", 
     "outputs": []
    }
   ]
  }
 ]
}